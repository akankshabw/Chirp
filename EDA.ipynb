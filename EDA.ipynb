{
  "nbformat": 4,
  "nbformat_minor": 0,
  "metadata": {
    "colab": {
      "provenance": []
    },
    "kernelspec": {
      "name": "python3",
      "display_name": "Python 3"
    },
    "language_info": {
      "name": "python"
    }
  },
  "cells": [
    {
      "cell_type": "code",
      "execution_count": null,
      "metadata": {
        "id": "No5SmnB_1pI-"
      },
      "outputs": [],
      "source": [
        "import pandas as pd\n",
        "import numpy as np\n",
        "import matplotlib.pyplot as plt\n",
        "import seaborn as sns"
      ]
    },
    {
      "cell_type": "code",
      "source": [
        "df = pd.read_csv(\"/content/food_coded.csv\")"
      ],
      "metadata": {
        "id": "xNMexfQk2_4P"
      },
      "execution_count": null,
      "outputs": []
    },
    {
      "cell_type": "markdown",
      "source": [
        "This CSV file looks like this. It seems to be the data about food collected through a survey among people."
      ],
      "metadata": {
        "id": "6DsDhWViCb4n"
      }
    },
    {
      "cell_type": "code",
      "source": [
        "df.head(5)"
      ],
      "metadata": {
        "id": "_2ZBGNJ43RZL"
      },
      "execution_count": null,
      "outputs": []
    },
    {
      "cell_type": "code",
      "source": [
        "df.columns"
      ],
      "metadata": {
        "id": "LV9sZ8Bf3TL9"
      },
      "execution_count": null,
      "outputs": []
    },
    {
      "cell_type": "markdown",
      "source": [
        "All the columns seem to have meaningful names....So, as for now, no need to change their names."
      ],
      "metadata": {
        "id": "JZt5EvCjDqvK"
      }
    },
    {
      "cell_type": "code",
      "source": [
        "df.shape"
      ],
      "metadata": {
        "id": "lqKKs7WE_skb"
      },
      "execution_count": null,
      "outputs": []
    },
    {
      "cell_type": "code",
      "source": [
        "df.info()"
      ],
      "metadata": {
        "id": "D_rGgOFU5JNd"
      },
      "execution_count": null,
      "outputs": []
    },
    {
      "cell_type": "markdown",
      "source": [
        "The nan values in the columns below can be replaced with mode of each column and the datatype can be converted into int. This inference can be drawn looking at the unique values in each of these columns."
      ],
      "metadata": {
        "id": "dhlMZvREat3M"
      }
    },
    {
      "cell_type": "code",
      "source": [
        "df.tortilla_calories.unique() # No. of tortilla calories."
      ],
      "metadata": {
        "id": "3t_Adheqe5OS"
      },
      "execution_count": null,
      "outputs": []
    },
    {
      "cell_type": "code",
      "source": [
        "df.sports.unique() # 2 - They don't play sports, 1- they  play sports"
      ],
      "metadata": {
        "id": "UAdNrBE8euAy"
      },
      "execution_count": null,
      "outputs": []
    },
    {
      "cell_type": "code",
      "source": [
        "df.soup.unique() # 1- they drink soup , 2 - they  don't drink it"
      ],
      "metadata": {
        "id": "x-G8VIvfebyl"
      },
      "execution_count": null,
      "outputs": []
    },
    {
      "cell_type": "code",
      "source": [
        "df.self_perception_weight.unique()"
      ],
      "metadata": {
        "id": "clUoRisBdiYu"
      },
      "execution_count": null,
      "outputs": []
    },
    {
      "cell_type": "code",
      "source": [
        "df.persian_food.unique() #  ratings given for the persian food on the scale of 1-5."
      ],
      "metadata": {
        "id": "tZU6uaEOdTeI"
      },
      "execution_count": null,
      "outputs": []
    },
    {
      "cell_type": "code",
      "source": [
        "df.on_off_campus.unique()  # Each value represents no. of days they are on campus in a week"
      ],
      "metadata": {
        "id": "nOafrmbLc5EH"
      },
      "execution_count": null,
      "outputs": []
    },
    {
      "cell_type": "code",
      "source": [
        "df.mother_education.unique()  #This can be taken as education divided into 5 categories."
      ],
      "metadata": {
        "id": "kwQa-ridcwbS"
      },
      "execution_count": null,
      "outputs": []
    },
    {
      "cell_type": "code",
      "source": [
        "df.marital_status.unique()  # Looks like the marital status is divided into 3 categories....\n",
        "# 1 -  married\n",
        "# 2 - not married\n",
        "# 4 - something else like not interested to tell or don't want to reveal."
      ],
      "metadata": {
        "id": "jS8Wbd6NcWXB"
      },
      "execution_count": null,
      "outputs": []
    },
    {
      "cell_type": "code",
      "source": [
        "df.life_rewarding.unique()   # The ratings that they give to their life rewarding."
      ],
      "metadata": {
        "id": "rhzH2TjMcDh1"
      },
      "execution_count": null,
      "outputs": []
    },
    {
      "cell_type": "code",
      "source": [
        "df.income.unique()  # The values represent no. of weekdays they earn income that is working days."
      ],
      "metadata": {
        "colab": {
          "base_uri": "https://localhost:8080/"
        },
        "id": "qW7vJs-wbnTT",
        "outputId": "66c467dc-d538-49e7-c504-4bbc54368e3b"
      },
      "execution_count": null,
      "outputs": [
        {
          "output_type": "execute_result",
          "data": {
            "text/plain": [
              "array([5, 4, 6, 1, 3, 2])"
            ]
          },
          "metadata": {},
          "execution_count": 17
        }
      ]
    },
    {
      "cell_type": "code",
      "source": [
        "df.fav_food.unique()   #Ratings for the fav food"
      ],
      "metadata": {
        "id": "5fRxhrZsbcjL"
      },
      "execution_count": null,
      "outputs": []
    },
    {
      "cell_type": "code",
      "source": [
        "df.father_education.unique()  # This can be taken as education divided into 5 categories."
      ],
      "metadata": {
        "id": "UVttQU6sbLrc"
      },
      "execution_count": null,
      "outputs": []
    },
    {
      "cell_type": "code",
      "source": [
        "df.employment.unique()   #Seems like there are 3 types of employment."
      ],
      "metadata": {
        "colab": {
          "base_uri": "https://localhost:8080/"
        },
        "id": "QnFyUNgdYI1J",
        "outputId": "ac5cb964-cc86-41fd-caac-2ee69839212d"
      },
      "execution_count": null,
      "outputs": [
        {
          "output_type": "execute_result",
          "data": {
            "text/plain": [
              "array([3, 2, 1])"
            ]
          },
          "metadata": {},
          "execution_count": 355
        }
      ]
    },
    {
      "cell_type": "code",
      "source": [
        "df.exercise.unique() #Seems like there are 3 types of exercises."
      ],
      "metadata": {
        "id": "lhz1G9WaYd1v"
      },
      "execution_count": null,
      "outputs": []
    },
    {
      "cell_type": "code",
      "source": [
        "df.drink.unique()\n",
        "# 1 represents that they drink and 2 that they don't drink"
      ],
      "metadata": {
        "id": "sbroUOuPWLd4"
      },
      "execution_count": null,
      "outputs": []
    },
    {
      "cell_type": "code",
      "source": [
        "df.cuisine.unique()\n",
        "# Each value representing no. of weekdays having some cuisine\n"
      ],
      "metadata": {
        "id": "G5b4KL1bVxvI"
      },
      "execution_count": null,
      "outputs": []
    },
    {
      "cell_type": "code",
      "source": [
        "df.cook.unique()\n",
        "# Each value represent ratings for the cook."
      ],
      "metadata": {
        "id": "48szLmv7Uz-F"
      },
      "execution_count": null,
      "outputs": []
    },
    {
      "cell_type": "code",
      "source": [
        "df.calories_scone.unique()"
      ],
      "metadata": {
        "id": "i_aWBMqqPrN5"
      },
      "execution_count": null,
      "outputs": []
    },
    {
      "cell_type": "code",
      "source": [
        "df.calories_day.unique()"
      ],
      "metadata": {
        "id": "fi_YX-CaOd0p"
      },
      "execution_count": null,
      "outputs": []
    },
    {
      "cell_type": "code",
      "source": [
        "col = ['calories_day','calories_scone','cook','cuisine','drink','exercise','employment','father_education','fav_food','income','life_rewarding','marital_status','mother_education'\n",
        ",'on_off_campus','persian_food','self_perception_weight','soup','sports','tortilla_calories']\n",
        "for i in col:\n",
        "  df[i].fillna(df[i].mode().iloc[0],inplace=True)\n",
        "  df[i] = df[i].astype(int)   #Replacing nan values with mode and changing dtype to int"
      ],
      "metadata": {
        "id": "3KBi85ZCfWSJ"
      },
      "execution_count": null,
      "outputs": []
    },
    {
      "cell_type": "code",
      "source": [
        "df.describe()"
      ],
      "metadata": {
        "id": "gKqHRKJKgvvy"
      },
      "execution_count": null,
      "outputs": []
    },
    {
      "cell_type": "code",
      "source": [
        "df.weight.unique()"
      ],
      "metadata": {
        "id": "WVw8MxA1iTtH"
      },
      "execution_count": null,
      "outputs": []
    },
    {
      "cell_type": "markdown",
      "source": [
        "The weight should be in int or float. So, the next cell converts it into float and nan values with the mean values."
      ],
      "metadata": {
        "id": "l8n4d6rmiXYc"
      }
    },
    {
      "cell_type": "code",
      "source": [
        "# Convert 'weight' column to numeric, coerce errors to handle non-convertible values\n",
        "df['weight'] = pd.to_numeric(df['weight'], errors='coerce').astype('float')\n",
        "\n",
        "# Replace NaN values with the mean of non-null values in the 'weight' column\n",
        "mean_weight = df['weight'].mean()\n",
        "df['weight'].fillna(mean_weight, inplace=True)\n"
      ],
      "metadata": {
        "id": "QwLnDah1nZnM"
      },
      "execution_count": null,
      "outputs": []
    },
    {
      "cell_type": "code",
      "source": [
        "df['GPA'].unique()"
      ],
      "metadata": {
        "id": "dvH4_0A998xy"
      },
      "execution_count": null,
      "outputs": []
    },
    {
      "cell_type": "markdown",
      "source": [
        "GPA usually has a float datatype. So,in the next cell, it is converted to float datatype with NaN values replaced with mean values."
      ],
      "metadata": {
        "id": "z5YLqZMTEHtw"
      }
    },
    {
      "cell_type": "code",
      "source": [
        "# Convert 'GPA' column to string\n",
        "df['GPA'] = df['GPA'].astype(str)\n",
        "\n",
        "# Remove non-numeric characters and convert to numeric values\n",
        "df['GPA'] = pd.to_numeric(df['GPA'].str.replace('[^0-9.]', '', regex=True), errors='coerce')\n",
        "\n",
        "# Replace invalid GPA values with mean of remaining values(e.g., negative values)\n",
        "mean = df['GPA'].mean()\n",
        "df.GPA.fillna(mean,inplace=True)\n",
        "\n",
        "df['GPA'].unique()\n"
      ],
      "metadata": {
        "id": "5ZQlmL_6Bcit"
      },
      "execution_count": null,
      "outputs": []
    },
    {
      "cell_type": "code",
      "source": [
        "df[\"comfort_food_reasons_coded.1\"].unique()"
      ],
      "metadata": {
        "id": "rqs0POenFFE8"
      },
      "execution_count": null,
      "outputs": []
    },
    {
      "cell_type": "code",
      "source": [
        "df.comfort_food_reasons_coded.unique()"
      ],
      "metadata": {
        "id": "JvTwSzgiGadT"
      },
      "execution_count": null,
      "outputs": []
    },
    {
      "cell_type": "code",
      "source": [
        "diff = df[(df[\"comfort_food_reasons_coded.1\"]-df[\"comfort_food_reasons_coded\"])!=0]\n",
        "new_df = {\"comfort_food_reasons_coded.1\": diff[\"comfort_food_reasons_coded.1\"],\"comfort_food_reasons_coded\":  diff[\"comfort_food_reasons_coded\"]}\n",
        "pd.DataFrame(new_df)\n"
      ],
      "metadata": {
        "id": "bDC2SliqGoPg"
      },
      "execution_count": null,
      "outputs": []
    },
    {
      "cell_type": "markdown",
      "source": [
        "The above cell shows the rows that differ from each other in \"comfort_food_reasons_coded.1\" and \"comfort_food_reasons_coded\" column. As they differ in only one row except for the row where the latter has NaN values. Also, the \"comfort_food_reasons_coded.1\" column has datatype int which is more suitable and more accurate so, we can just delete the latter column from our dataframe.\n"
      ],
      "metadata": {
        "id": "29PIp5AsFPxq"
      }
    },
    {
      "cell_type": "code",
      "source": [
        "df.drop(['comfort_food_reasons_coded'], axis=1, inplace=True)\n",
        "df.rename(columns={'comfort_food_reasons_coded.1': 'comfort_food_reasons_coded'},inplace=True)"
      ],
      "metadata": {
        "id": "aJ2VSeMcEJUk"
      },
      "execution_count": null,
      "outputs": []
    },
    {
      "cell_type": "markdown",
      "source": [
        "The nan values in the columns with dtype object can be replaced with \"Not Known\"....This is done in the next cell."
      ],
      "metadata": {
        "id": "Z0ZS_BWO6rc0"
      }
    },
    {
      "cell_type": "code",
      "source": [
        "object_columns = df.select_dtypes(include=['object'])\n",
        "\n",
        "# Replace null values with \"Not Known\" in the selected columns\n",
        "df[object_columns.columns] = object_columns.apply(lambda col: col.fillna(\"Not Known\"))"
      ],
      "metadata": {
        "id": "c2ze6oZNp66K"
      },
      "execution_count": null,
      "outputs": []
    },
    {
      "cell_type": "markdown",
      "source": [
        "Now, the data is almost cleaned with all possible values converted into int. All the null values are now taken care of. All the necessary columns with dtype object are coded. They can be removed from data but I have kept it just for the sake of more understanding of these parameters."
      ],
      "metadata": {
        "id": "UFjNJ-vWpiYG"
      }
    },
    {
      "cell_type": "code",
      "source": [
        "df.info()"
      ],
      "metadata": {
        "id": "YOGRcPS_pVE3"
      },
      "execution_count": null,
      "outputs": []
    },
    {
      "cell_type": "code",
      "source": [
        "x1 = [df.calories_chicken.mean(), df.calories_scone.mean(), df.tortilla_calories.mean(), df.turkey_calories.mean(), df.waffle_calories.mean()]\n",
        "data= {'Values': x1,'Items':['calories\\nchicken', 'calories\\nscone', 'tortilla\\ncalories', 'turkey\\ncalories', 'waffle\\ncalories']}\n",
        "df_new = pd.DataFrame(data)\n",
        "\n",
        "plt.title('Average Calory intake of various food items')\n",
        "sns.barplot(x='Items', y='Values', data = df_new, order=df_new.sort_values('Values',ascending=False).Items)\n",
        "plt.show()"
      ],
      "metadata": {
        "id": "_kXj-g_dNHIk"
      },
      "execution_count": null,
      "outputs": []
    },
    {
      "cell_type": "markdown",
      "source": [
        "From the above graph, it is seen that the **waffle's** and **tortilla's** calories intake is much more than other calories.\n",
        "\n",
        "\n"
      ],
      "metadata": {
        "id": "slub-dlY5JNr"
      }
    },
    {
      "cell_type": "code",
      "source": [
        "x1 = [df.ethnic_food.mean(), df.greek_food.mean(), df.indian_food.mean(), df.italian_food.mean(), df.persian_food.mean(), df.thai_food.mean()]\n",
        "data= {'x': x1,'y':['ethnic\\nfood', 'greek\\nfood', 'indian\\nfood', 'italian\\nfood', 'persian\\nfood','thai\\nfood']}\n",
        "dfn=pd.DataFrame(data)\n",
        "\n",
        "plt.title('Average Ratings of different food types')\n",
        "sns.barplot(x='y', y='x', data = dfn,order=dfn.sort_values('x',ascending=False).y)\n",
        "plt.xlabel(\"Food types\")\n",
        "plt.ylabel(\"Ratings\")\n",
        "plt.yticks([0, 1, 2, 3, 4,5])\n",
        "plt.show()"
      ],
      "metadata": {
        "id": "crxvTxdLQO7B"
      },
      "execution_count": null,
      "outputs": []
    },
    {
      "cell_type": "markdown",
      "source": [
        "The **Italian food** is most popular among the people and the **Persian food** being least popular."
      ],
      "metadata": {
        "id": "eKt-kzev5iUJ"
      }
    },
    {
      "cell_type": "code",
      "source": [
        "sns.lineplot(data=df, x=df.index, y='healthy_feeling', label='Healthy Feeling')\n",
        "sns.lineplot(data=df, x=df.index, y='life_rewarding', label='Life Rewarding')\n",
        "\n",
        "\n",
        "# Adding labels and title\n",
        "plt.xlabel('Index')\n",
        "plt.ylabel('Values')\n",
        "plt.title('Line Plot of Multiple Columns')\n",
        "\n",
        "# Display the legend\n",
        "plt.legend()\n",
        "\n",
        "# Show the plot\n",
        "plt.show()"
      ],
      "metadata": {
        "id": "pNnwSpAEmp2X"
      },
      "execution_count": null,
      "outputs": []
    },
    {
      "cell_type": "markdown",
      "source": [
        "We can see for a large no. of people the life rewarding is high even though they have less healthy feeling."
      ],
      "metadata": {
        "id": "HkHZlufKG4O_"
      }
    },
    {
      "cell_type": "code",
      "source": [
        "df.fav_cuisine.unique()\n",
        "# We can plot a pie chart showing the favourite cuisine based on count of various food items but I am unable to do it as some these strings are not fit for this. Same goes for type_sports."
      ],
      "metadata": {
        "id": "I2O9R5IYrbgC"
      },
      "execution_count": null,
      "outputs": []
    },
    {
      "cell_type": "code",
      "source": [
        "sns.scatterplot(x=\"breakfast\",y=\"GPA\",data=df)\n",
        "plt.show()"
      ],
      "metadata": {
        "id": "qnHX41cvYwlr"
      },
      "execution_count": null,
      "outputs": []
    },
    {
      "cell_type": "markdown",
      "source": [
        "Here 1 represents that the person having breakfast and 2 represents that they don't have breakfast. So, we can see that people who have breakfast have good GPA."
      ],
      "metadata": {
        "id": "Srkef5HBZIWn"
      }
    },
    {
      "cell_type": "code",
      "source": [
        "sns.lineplot(data=df, x='veggies_day', y='nutritional_check', label='Veggies per day',errorbar=None)\n",
        "sns.lineplot(data=df, x='fruit_day', y='nutritional_check', label='Fruits per day',errorbar=None)\n",
        "sns.lineplot(data=df, x='eating_out', y='nutritional_check', label='Eating out',errorbar=None)\n",
        "\n",
        "# Adding labels and title\n",
        "plt.xlabel(\"Values\")\n",
        "plt.ylabel('Nutritional Values')\n",
        "\n",
        "\n",
        "# Display the legend\n",
        "plt.legend(loc = 'lower right')\n",
        "\n",
        "# Show the plot\n",
        "plt.show()"
      ],
      "metadata": {
        "id": "8P5-SAOe1OWd"
      },
      "execution_count": null,
      "outputs": []
    },
    {
      "cell_type": "markdown",
      "source": [
        "It can be inferred that with the increasing veggies and fruits per day, the nutrirional content increases.\n",
        "Also, with increasing value of eating out, nutritional value decreases."
      ],
      "metadata": {
        "id": "c5niNvrv8d4i"
      }
    },
    {
      "cell_type": "code",
      "source": [
        "sns.lineplot(data=df, x='diet_current_coded',y='ideal_diet_coded')\n",
        "plt.xlabel('Current Diet (Coded value)')\n",
        "plt.ylabel('Ideal Diet (Coded value)')\n",
        "plt.show()"
      ],
      "metadata": {
        "id": "IYweDK4l6XiE"
      },
      "execution_count": null,
      "outputs": []
    },
    {
      "cell_type": "markdown",
      "source": [
        "It seems like the current diet followed by the people is not that ideal for them. The current diet with value around 4 seems to be having highest ideal diet value."
      ],
      "metadata": {
        "id": "jAh94L089JgE"
      }
    },
    {
      "cell_type": "code",
      "source": [
        "sns.lineplot(data=df, x='weight',y='self_perception_weight')\n",
        "plt.xlabel('Actual Weight')\n",
        "plt.ylabel('Self Perception Weight')\n",
        "plt.show()"
      ],
      "metadata": {
        "id": "E0svLwEgAfll"
      },
      "execution_count": null,
      "outputs": []
    },
    {
      "cell_type": "code",
      "source": [
        "sns.lineplot(data=df, x='exercise', y='GPA')\n",
        "plt.xticks([1,2,3])\n",
        "plt.show()"
      ],
      "metadata": {
        "id": "aBjXrlajAuVv"
      },
      "execution_count": null,
      "outputs": []
    },
    {
      "cell_type": "markdown",
      "source": [
        "The people who do the third type of exercise are observed to have less GPA."
      ],
      "metadata": {
        "id": "wF5E1-ooEnDM"
      }
    },
    {
      "cell_type": "code",
      "source": [
        "sns.lineplot(data=df, x='on_off_campus', y='GPA')\n",
        "plt.xticks([1,2,3,4])\n",
        "plt.xlabel(\"No. of days they stay on campus\")\n",
        "plt.show()"
      ],
      "metadata": {
        "id": "_E13kNmPVAaM"
      },
      "execution_count": null,
      "outputs": []
    },
    {
      "cell_type": "markdown",
      "source": [
        "As expected, the higher no. of days people stay on campus, the higher is their GPA with a thin errorbar."
      ],
      "metadata": {
        "id": "48OlPW4nVWgo"
      }
    },
    {
      "cell_type": "code",
      "source": [
        "sns.countplot(x='employment',  data = df)\n",
        "plt.show()"
      ],
      "metadata": {
        "id": "yaIZ6k74aNkF"
      },
      "execution_count": null,
      "outputs": []
    },
    {
      "cell_type": "markdown",
      "source": [
        "The numbers are encoded values for the following:\n",
        "\n",
        "\n",
        "1.   Not employed\n",
        "2.   Part time employment\n",
        "3.   Full time employment\n",
        "\n",
        "We can see that most of the people are having **part time employment**.\n",
        "\n"
      ],
      "metadata": {
        "id": "2BQqHoRsbKTI"
      }
    },
    {
      "cell_type": "code",
      "source": [
        "sns.lineplot(x=\"employment\",y=\"GPA\",data=df)\n",
        "plt.xticks([1,2,3])\n",
        "plt.show()"
      ],
      "metadata": {
        "id": "PyETvo0xa6s2"
      },
      "execution_count": null,
      "outputs": []
    },
    {
      "cell_type": "markdown",
      "source": [
        "As represented above, the people are not employed at all are having higher GPA and the people with full time employment have lesser GPA."
      ],
      "metadata": {
        "id": "jLjGde4lcUd4"
      }
    },
    {
      "cell_type": "code",
      "source": [
        "sns.countplot(x='ideal_diet_coded',  data = df, hue=\"Gender\")\n",
        "plt.show()"
      ],
      "metadata": {
        "id": "_-Iqa33pCE50"
      },
      "execution_count": null,
      "outputs": []
    },
    {
      "cell_type": "markdown",
      "source": [
        "The no. of people with smaller ideal diet values are more."
      ],
      "metadata": {
        "id": "YrLXNvH4_rRk"
      }
    },
    {
      "cell_type": "code",
      "source": [
        "sns.scatterplot(x='Gender', y=\"GPA\", data = df)\n",
        "plt.show()"
      ],
      "metadata": {
        "id": "tfssT25mWkOv"
      },
      "execution_count": null,
      "outputs": []
    },
    {
      "cell_type": "markdown",
      "source": [
        "Here 1 represents Male and 2 represents Female. We can see that the GPA of males is scattered around 3.75 while for the females it is not that scattered there moreover is spread out."
      ],
      "metadata": {
        "id": "yxL3VFh4XCKU"
      }
    },
    {
      "cell_type": "code",
      "source": [
        "correlation = df.corr()\n",
        "plt.figure(figsize=(12,10))\n",
        "sns.heatmap(correlation, vmax = 1, vmin =-1)\n",
        "plt.show()"
      ],
      "metadata": {
        "id": "CgWbLhsdWtxj"
      },
      "execution_count": null,
      "outputs": []
    },
    {
      "cell_type": "markdown",
      "source": [
        "The whittish spots on the above heat map show that the various food types are related to each other. There are no as such dark spots in the heat map which may represent inverse relation between any two parameters."
      ],
      "metadata": {
        "id": "0_Ys_Dncd6Ek"
      }
    }
  ]
}