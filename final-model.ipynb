{
 "cells": [
  {
   "cell_type": "code",
   "execution_count": 1,
   "id": "6265b314",
   "metadata": {
    "_cell_guid": "b1076dfc-b9ad-4769-8c92-a6c4dae69d19",
    "_uuid": "8f2839f25d086af736a60e9eeb907d3b93b6e0e5",
    "execution": {
     "iopub.execute_input": "2024-01-11T14:01:45.693912Z",
     "iopub.status.busy": "2024-01-11T14:01:45.693579Z",
     "iopub.status.idle": "2024-01-11T14:01:52.283694Z",
     "shell.execute_reply": "2024-01-11T14:01:52.282159Z"
    },
    "papermill": {
     "duration": 6.599412,
     "end_time": "2024-01-11T14:01:52.286461",
     "exception": false,
     "start_time": "2024-01-11T14:01:45.687049",
     "status": "completed"
    },
    "tags": []
   },
   "outputs": [],
   "source": [
    "# This Python 3 environment comes with many helpful analytics libraries installed\n",
    "# It is defined by the kaggle/python Docker image: https://github.com/kaggle/docker-python\n",
    "# For example, here's several helpful packages to load\n",
    "import cv2\n",
    "import audioread\n",
    "import logging\n",
    "import os\n",
    "import random\n",
    "import time\n",
    "import warnings\n",
    "\n",
    "import librosa\n",
    "import numpy as np # linear algebra\n",
    "import pandas as pd # data processing, CSV file I/O (e.g. pd.read_csv)\n",
    "import soundfile as sf\n",
    "import torch\n",
    "import torch.nn as nn\n",
    "import torch.nn.functional as F\n",
    "import torch.utils.data as data\n",
    "\n",
    "from contextlib import contextmanager\n",
    "from pathlib import Path\n",
    "from typing import Optional\n",
    "\n",
    "from fastprogress import progress_bar\n",
    "from sklearn.metrics import f1_score\n",
    "from torchvision import models\n",
    "\n",
    "# import os\n",
    "# for dirname, _, filenames in os.walk('/kaggle/input'):\n",
    "#     for filename in filenames:\n",
    "#         print(os.path.join(dirname, filename))\n",
    "\n",
    "# You can write up to 20GB to the current directory (/kaggle/working/) that gets preserved as output when you create a version using \"Save & Run All\" \n",
    "# You can also write temporary files to /kaggle/temp/, but they won't be saved outside of the current session"
   ]
  },
  {
   "cell_type": "code",
   "execution_count": 2,
   "id": "087fc539",
   "metadata": {
    "execution": {
     "iopub.execute_input": "2024-01-11T14:01:52.300053Z",
     "iopub.status.busy": "2024-01-11T14:01:52.299443Z",
     "iopub.status.idle": "2024-01-11T14:01:52.312072Z",
     "shell.execute_reply": "2024-01-11T14:01:52.310292Z"
    },
    "papermill": {
     "duration": 0.02199,
     "end_time": "2024-01-11T14:01:52.314996",
     "exception": false,
     "start_time": "2024-01-11T14:01:52.293006",
     "status": "completed"
    },
    "tags": []
   },
   "outputs": [],
   "source": [
    "def set_seed(seed: int = 42):\n",
    "    random.seed(seed)\n",
    "    np.random.seed(seed)\n",
    "    os.environ[\"PYTHONHASHSEED\"] = str(seed)\n",
    "    torch.manual_seed(seed)\n",
    "    torch.cuda.manual_seed(seed)\n",
    "    torch.backends.cudnn.deterministic = True\n",
    "    torch.backends.cudnn.benchmark = True\n",
    "\n",
    "def get_logger(out_file=None):\n",
    "    logger= logging.getLogger()\n",
    "    formatter = logging.Formatter(\"%(asctime)s - %(levelname)s - %(message)s\")\n",
    "    logger.handlers=[]\n",
    "    logger.setLevel(logging.INFO)\n",
    "    \n",
    "    handler = logging.StreamHandler()\n",
    "    handler.setFormatter(formatter)\n",
    "    handler.setLevel(logging.INFO)\n",
    "    logger.addHandler(handler)\n",
    "    \n",
    "    if out_file is not None:\n",
    "        fh = logging.FileHandler(out_file)\n",
    "        fh.setFormatter(formatter)\n",
    "        fh.setLevel(logging.INFO)\n",
    "        logger.addHandler(fh)\n",
    "    logger.info(\"logger set up\")\n",
    "    return logger\n",
    "\n",
    "@contextmanager\n",
    "def timer(name: str, logger: Optional[logging.Logger] = None):\n",
    "    t0 = time.time()\n",
    "    msg = f\"[{name}] start\"\n",
    "    if logger is None:\n",
    "        print(msg)\n",
    "    else:\n",
    "        logger.info(msg)\n",
    "    yield\n",
    "    \n",
    "    msg = f\"[{name}] done in {time.time() - t0:.2f} s\"\n",
    "    if logger is None:\n",
    "        print(msg)\n",
    "    else:\n",
    "        logger.info(msg)  "
   ]
  },
  {
   "cell_type": "code",
   "execution_count": 3,
   "id": "3db7fdeb",
   "metadata": {
    "execution": {
     "iopub.execute_input": "2024-01-11T14:01:52.326639Z",
     "iopub.status.busy": "2024-01-11T14:01:52.326266Z",
     "iopub.status.idle": "2024-01-11T14:01:52.339821Z",
     "shell.execute_reply": "2024-01-11T14:01:52.338557Z"
    },
    "papermill": {
     "duration": 0.022045,
     "end_time": "2024-01-11T14:01:52.342284",
     "exception": false,
     "start_time": "2024-01-11T14:01:52.320239",
     "status": "completed"
    },
    "tags": []
   },
   "outputs": [
    {
     "name": "stderr",
     "output_type": "stream",
     "text": [
      "2024-01-11 14:01:52,328 - INFO - logger set up\n"
     ]
    }
   ],
   "source": [
    "logger = get_logger('main.log')\n",
    "set_seed(1213)"
   ]
  },
  {
   "cell_type": "code",
   "execution_count": 4,
   "id": "b12ec5f3",
   "metadata": {
    "execution": {
     "iopub.execute_input": "2024-01-11T14:01:52.353622Z",
     "iopub.status.busy": "2024-01-11T14:01:52.353236Z",
     "iopub.status.idle": "2024-01-11T14:01:52.358835Z",
     "shell.execute_reply": "2024-01-11T14:01:52.357468Z"
    },
    "papermill": {
     "duration": 0.013825,
     "end_time": "2024-01-11T14:01:52.361073",
     "exception": false,
     "start_time": "2024-01-11T14:01:52.347248",
     "status": "completed"
    },
    "tags": []
   },
   "outputs": [],
   "source": [
    "TARGET_SR = 32000"
   ]
  },
  {
   "cell_type": "code",
   "execution_count": 5,
   "id": "e8281e5d",
   "metadata": {
    "execution": {
     "iopub.execute_input": "2024-01-11T14:01:52.372438Z",
     "iopub.status.busy": "2024-01-11T14:01:52.372016Z",
     "iopub.status.idle": "2024-01-11T14:01:52.410361Z",
     "shell.execute_reply": "2024-01-11T14:01:52.409513Z"
    },
    "papermill": {
     "duration": 0.046225,
     "end_time": "2024-01-11T14:01:52.412190",
     "exception": false,
     "start_time": "2024-01-11T14:01:52.365965",
     "status": "completed"
    },
    "tags": []
   },
   "outputs": [
    {
     "data": {
      "text/html": [
       "<div>\n",
       "<style scoped>\n",
       "    .dataframe tbody tr th:only-of-type {\n",
       "        vertical-align: middle;\n",
       "    }\n",
       "\n",
       "    .dataframe tbody tr th {\n",
       "        vertical-align: top;\n",
       "    }\n",
       "\n",
       "    .dataframe thead th {\n",
       "        text-align: right;\n",
       "    }\n",
       "</style>\n",
       "<table border=\"1\" class=\"dataframe\">\n",
       "  <thead>\n",
       "    <tr style=\"text-align: right;\">\n",
       "      <th></th>\n",
       "      <th>site</th>\n",
       "      <th>row_id</th>\n",
       "      <th>seconds</th>\n",
       "      <th>audio_id</th>\n",
       "    </tr>\n",
       "  </thead>\n",
       "  <tbody>\n",
       "    <tr>\n",
       "      <th>0</th>\n",
       "      <td>site_1</td>\n",
       "      <td>site_1_41e6fe6504a34bf6846938ba78d13df1_5</td>\n",
       "      <td>5.0</td>\n",
       "      <td>41e6fe6504a34bf6846938ba78d13df1</td>\n",
       "    </tr>\n",
       "    <tr>\n",
       "      <th>1</th>\n",
       "      <td>site_1</td>\n",
       "      <td>site_1_41e6fe6504a34bf6846938ba78d13df1_10</td>\n",
       "      <td>10.0</td>\n",
       "      <td>41e6fe6504a34bf6846938ba78d13df1</td>\n",
       "    </tr>\n",
       "    <tr>\n",
       "      <th>2</th>\n",
       "      <td>site_1</td>\n",
       "      <td>site_1_41e6fe6504a34bf6846938ba78d13df1_15</td>\n",
       "      <td>15.0</td>\n",
       "      <td>41e6fe6504a34bf6846938ba78d13df1</td>\n",
       "    </tr>\n",
       "    <tr>\n",
       "      <th>3</th>\n",
       "      <td>site_1</td>\n",
       "      <td>site_1_41e6fe6504a34bf6846938ba78d13df1_20</td>\n",
       "      <td>20.0</td>\n",
       "      <td>41e6fe6504a34bf6846938ba78d13df1</td>\n",
       "    </tr>\n",
       "    <tr>\n",
       "      <th>4</th>\n",
       "      <td>site_1</td>\n",
       "      <td>site_1_41e6fe6504a34bf6846938ba78d13df1_25</td>\n",
       "      <td>25.0</td>\n",
       "      <td>41e6fe6504a34bf6846938ba78d13df1</td>\n",
       "    </tr>\n",
       "  </tbody>\n",
       "</table>\n",
       "</div>"
      ],
      "text/plain": [
       "     site                                      row_id  seconds  \\\n",
       "0  site_1   site_1_41e6fe6504a34bf6846938ba78d13df1_5      5.0   \n",
       "1  site_1  site_1_41e6fe6504a34bf6846938ba78d13df1_10     10.0   \n",
       "2  site_1  site_1_41e6fe6504a34bf6846938ba78d13df1_15     15.0   \n",
       "3  site_1  site_1_41e6fe6504a34bf6846938ba78d13df1_20     20.0   \n",
       "4  site_1  site_1_41e6fe6504a34bf6846938ba78d13df1_25     25.0   \n",
       "\n",
       "                           audio_id  \n",
       "0  41e6fe6504a34bf6846938ba78d13df1  \n",
       "1  41e6fe6504a34bf6846938ba78d13df1  \n",
       "2  41e6fe6504a34bf6846938ba78d13df1  \n",
       "3  41e6fe6504a34bf6846938ba78d13df1  \n",
       "4  41e6fe6504a34bf6846938ba78d13df1  "
      ]
     },
     "execution_count": 5,
     "metadata": {},
     "output_type": "execute_result"
    }
   ],
   "source": [
    "test = pd.read_csv('/kaggle/input/birdcall-check/test.csv')\n",
    "test_audio = \"/kaggle/input/birdcall-check/test_audio\"\n",
    "test.head(5)"
   ]
  },
  {
   "cell_type": "code",
   "execution_count": 6,
   "id": "757bd220",
   "metadata": {
    "execution": {
     "iopub.execute_input": "2024-01-11T14:01:52.423264Z",
     "iopub.status.busy": "2024-01-11T14:01:52.422913Z",
     "iopub.status.idle": "2024-01-11T14:01:52.431655Z",
     "shell.execute_reply": "2024-01-11T14:01:52.430210Z"
    },
    "papermill": {
     "duration": 0.016701,
     "end_time": "2024-01-11T14:01:52.433740",
     "exception": false,
     "start_time": "2024-01-11T14:01:52.417039",
     "status": "completed"
    },
    "tags": []
   },
   "outputs": [],
   "source": [
    "class ResNet(nn.Module):\n",
    "    def __init__(self, base_model_name: str,pretrained = False,num_classes = 264):\n",
    "        super().__init__()\n",
    "        base_model = models.__getattribute__(base_model_name)(pretrained = pretrained)\n",
    "        layers = list(base_model.children())[:-2]\n",
    "        layers.append(nn.AdaptiveMaxPool2d(1))\n",
    "        self.encoder = nn.Sequential(*layers)\n",
    "        \n",
    "        in_features = base_model.fc.in_features\n",
    "        \n",
    "        self.classifier = nn.Sequential(\n",
    "        nn.Linear(in_features,1024), nn.ReLU(), nn.Dropout(p=0.2),\n",
    "        nn.Linear(1024,1024), nn.ReLU(), nn.Dropout(p=0.2),\n",
    "        nn.Linear(1024, num_classes))\n",
    "        \n",
    "    def forward(self, x):\n",
    "        batch_size = x.size(0)\n",
    "        x = self.encoder(x).view(batch_size,-1)\n",
    "        x = self.classifier(x)\n",
    "        multiclass_proba = F.softmax(x,dim=1)\n",
    "        multilabel_proba = F.sigmoid(x)\n",
    "        return{\n",
    "            \"logits\" : x,\n",
    "            \"multiclass_proba\": multiclass_proba,\n",
    "            \"multilabel_proba\": multilabel_proba\n",
    "        }"
   ]
  },
  {
   "cell_type": "code",
   "execution_count": 7,
   "id": "ba552aa6",
   "metadata": {
    "execution": {
     "iopub.execute_input": "2024-01-11T14:01:52.444514Z",
     "iopub.status.busy": "2024-01-11T14:01:52.444082Z",
     "iopub.status.idle": "2024-01-11T14:01:52.449273Z",
     "shell.execute_reply": "2024-01-11T14:01:52.448312Z"
    },
    "papermill": {
     "duration": 0.012897,
     "end_time": "2024-01-11T14:01:52.451393",
     "exception": false,
     "start_time": "2024-01-11T14:01:52.438496",
     "status": "completed"
    },
    "tags": []
   },
   "outputs": [],
   "source": [
    "model_config ={\n",
    "    \"base_model_name\": \"resnet50\",\n",
    "    \"pretrained\": False,\n",
    "    \"num_classes\": 264\n",
    "}\n",
    "\n",
    "melspectrogram_parameters = {\n",
    "    \"n_mels\": 128,\n",
    "    \"fmin\": 20,\n",
    "    \"fmax\": 16000\n",
    "}\n",
    "\n",
    "weights_path = \"/kaggle/input/birdcall-resnet50-init-weights/best.pth\""
   ]
  },
  {
   "cell_type": "code",
   "execution_count": 8,
   "id": "d201b4d4",
   "metadata": {
    "execution": {
     "iopub.execute_input": "2024-01-11T14:01:52.463559Z",
     "iopub.status.busy": "2024-01-11T14:01:52.462828Z",
     "iopub.status.idle": "2024-01-11T14:01:52.884408Z",
     "shell.execute_reply": "2024-01-11T14:01:52.883058Z"
    },
    "papermill": {
     "duration": 0.430421,
     "end_time": "2024-01-11T14:01:52.886865",
     "exception": false,
     "start_time": "2024-01-11T14:01:52.456444",
     "status": "completed"
    },
    "tags": []
   },
   "outputs": [],
   "source": [
    "from sklearn.preprocessing import LabelEncoder\n",
    "df = pd.read_csv(\"/kaggle/input/birdsong-recognition/train.csv\")\n",
    "\n",
    "unique_bird_names = df[\"ebird_code\"].unique()\n",
    "label_encoder = LabelEncoder()\n",
    "encoded_labels = label_encoder.fit_transform(unique_bird_names)\n",
    "BIRD_CODE = dict(zip(unique_bird_names,encoded_labels))\n",
    "INV_BIRD_CODE = {v: k for k, v in BIRD_CODE.items()}"
   ]
  },
  {
   "cell_type": "code",
   "execution_count": 9,
   "id": "424c2bfb",
   "metadata": {
    "execution": {
     "iopub.execute_input": "2024-01-11T14:01:52.898988Z",
     "iopub.status.busy": "2024-01-11T14:01:52.898326Z",
     "iopub.status.idle": "2024-01-11T14:01:52.913792Z",
     "shell.execute_reply": "2024-01-11T14:01:52.912796Z"
    },
    "papermill": {
     "duration": 0.024308,
     "end_time": "2024-01-11T14:01:52.916196",
     "exception": false,
     "start_time": "2024-01-11T14:01:52.891888",
     "status": "completed"
    },
    "tags": []
   },
   "outputs": [],
   "source": [
    "def mono_to_color(X: np.ndarray,\n",
    "                  mean=None,\n",
    "                  std=None,\n",
    "                  norm_max=None,\n",
    "                  norm_min=None,\n",
    "                  eps=1e-6):\n",
    "    \n",
    "    X = np.stack([X, X, X], axis=-1)\n",
    "\n",
    " \n",
    "    mean = mean or X.mean()\n",
    "    X = X - mean\n",
    "    std = std or X.std()\n",
    "    Xstd = X / (std + eps)\n",
    "    _min, _max = Xstd.min(), Xstd.max()\n",
    "    norm_max = norm_max or _max\n",
    "    norm_min = norm_min or _min\n",
    "    if (_max - _min) > eps:\n",
    "        # Normalize to [0, 255]\n",
    "        V = Xstd\n",
    "        V[V < norm_min] = norm_min\n",
    "        V[V > norm_max] = norm_max\n",
    "        V = 255 * (V - norm_min) / (norm_max - norm_min)\n",
    "        V = V.astype(np.uint8)\n",
    "    else:\n",
    "        # Just zero\n",
    "        V = np.zeros_like(Xstd, dtype=np.uint8)\n",
    "    return V\n",
    "\n",
    "\n",
    "class TestDataset(data.Dataset):\n",
    "    def __init__(self, df: pd.DataFrame, clip: np.ndarray,\n",
    "                 img_size=224, melspectrogram_parameters={}):\n",
    "        self.df = df\n",
    "        self.clip = clip\n",
    "        self.img_size = img_size\n",
    "        self.melspectrogram_parameters = melspectrogram_parameters\n",
    "        \n",
    "    def __len__(self):\n",
    "        return len(self.df)\n",
    "    \n",
    "    def __getitem__(self, idx: int):\n",
    "        SR = 32000\n",
    "        sample = self.df.loc[idx, :]\n",
    "        site = sample.site\n",
    "        row_id = sample.row_id\n",
    "        \n",
    "        if site == \"site_3\":\n",
    "            y = self.clip.astype(np.float32)\n",
    "            len_y = len(y)\n",
    "            start = 0\n",
    "            end = SR * 5\n",
    "            images = []\n",
    "            while len_y > start:\n",
    "                y_batch = y[start:end].astype(np.float32)\n",
    "                if len(y_batch) != (SR * 5):\n",
    "                    break\n",
    "                start = end\n",
    "                end = end + SR * 5\n",
    "                \n",
    "                melspec = librosa.feature.melspectrogram(y=y_batch,\n",
    "                                                         sr=SR,\n",
    "                                                         **self.melspectrogram_parameters)\n",
    "                melspec = librosa.power_to_db(melspec).astype(np.float32)\n",
    "                image = mono_to_color(melspec)\n",
    "                height, width, _ = image.shape\n",
    "                image = cv2.resize(image, (int(width * self.img_size / height), self.img_size))\n",
    "                image = np.moveaxis(image, 2, 0)\n",
    "                image = (image / 255.0).astype(np.float32)\n",
    "                images.append(image)\n",
    "            images = np.asarray(images)\n",
    "            return images, row_id, site\n",
    "        else:\n",
    "            end_seconds = int(sample.seconds)\n",
    "            start_seconds = int(end_seconds - 5)\n",
    "            \n",
    "            start_index = SR * start_seconds\n",
    "            end_index = SR * end_seconds\n",
    "            \n",
    "            y = self.clip[start_index:end_index].astype(np.float32)\n",
    "\n",
    "            melspec = librosa.feature.melspectrogram(y=y, sr=SR, **self.melspectrogram_parameters)\n",
    "            melspec = librosa.power_to_db(melspec).astype(np.float32)\n",
    "\n",
    "            image = mono_to_color(melspec)\n",
    "            height, width, _ = image.shape\n",
    "            image = cv2.resize(image, (int(width * self.img_size / height), self.img_size))\n",
    "            image = np.moveaxis(image, 2, 0)\n",
    "            image = (image / 255.0).astype(np.float32)\n",
    "\n",
    "            return image, row_id, site"
   ]
  },
  {
   "cell_type": "code",
   "execution_count": 10,
   "id": "eb713440",
   "metadata": {
    "execution": {
     "iopub.execute_input": "2024-01-11T14:01:52.927901Z",
     "iopub.status.busy": "2024-01-11T14:01:52.927529Z",
     "iopub.status.idle": "2024-01-11T14:01:52.933967Z",
     "shell.execute_reply": "2024-01-11T14:01:52.932513Z"
    },
    "papermill": {
     "duration": 0.015265,
     "end_time": "2024-01-11T14:01:52.936689",
     "exception": false,
     "start_time": "2024-01-11T14:01:52.921424",
     "status": "completed"
    },
    "tags": []
   },
   "outputs": [],
   "source": [
    "def get_model(config: dict, weights_path: str):\n",
    "    model = ResNet(**config)\n",
    "    checkpoint = torch.load(weights_path, map_location=torch.device('cpu'))\n",
    "    model.load_state_dict(checkpoint[\"model_state_dict\"])\n",
    "    device = torch.device(\"cuda\" if torch.cuda.is_available() else \"cpu\")\n",
    "    model.to(device)\n",
    "    model.eval()\n",
    "    return model"
   ]
  },
  {
   "cell_type": "code",
   "execution_count": 11,
   "id": "e23c153b",
   "metadata": {
    "execution": {
     "iopub.execute_input": "2024-01-11T14:01:52.948726Z",
     "iopub.status.busy": "2024-01-11T14:01:52.948287Z",
     "iopub.status.idle": "2024-01-11T14:01:52.961742Z",
     "shell.execute_reply": "2024-01-11T14:01:52.960461Z"
    },
    "papermill": {
     "duration": 0.022621,
     "end_time": "2024-01-11T14:01:52.964562",
     "exception": false,
     "start_time": "2024-01-11T14:01:52.941941",
     "status": "completed"
    },
    "tags": []
   },
   "outputs": [],
   "source": [
    "def prediction_for_clip(test_df: pd.DataFrame, \n",
    "                        clip: np.ndarray, \n",
    "                        model: ResNet, \n",
    "                        mel_params: dict, \n",
    "                        threshold=0.5):\n",
    "\n",
    "    dataset = TestDataset(df=test_df, \n",
    "                          clip=clip,\n",
    "                          img_size=224,\n",
    "                          melspectrogram_parameters=mel_params)\n",
    "    loader = data.DataLoader(dataset, batch_size=1, shuffle=False)\n",
    "    device = torch.device(\"cuda\" if torch.cuda.is_available() else \"cpu\")\n",
    "    \n",
    "    model.eval()\n",
    "    prediction_dict = {}\n",
    "    for image, row_id, site in progress_bar(loader):\n",
    "        site = site[0]\n",
    "        row_id = row_id[0]\n",
    "        if site in {\"site_1\", \"site_2\"}:\n",
    "            image = image.to(device)\n",
    "\n",
    "            with torch.no_grad():\n",
    "                prediction = model(image)\n",
    "                proba = prediction[\"multilabel_proba\"].detach().cpu().numpy().reshape(-1)\n",
    "\n",
    "            events = proba >= threshold\n",
    "            labels = np.argwhere(events).reshape(-1).tolist()\n",
    "\n",
    "        else:\n",
    "            # to avoid prediction on large batch\n",
    "            image = image.squeeze(0)\n",
    "            batch_size = 16\n",
    "            whole_size = image.size(0)\n",
    "            if whole_size % batch_size == 0:\n",
    "                n_iter = whole_size // batch_size\n",
    "            else:\n",
    "                n_iter = whole_size // batch_size + 1\n",
    "                \n",
    "            all_events = set()\n",
    "            for batch_i in range(n_iter):\n",
    "                batch = image[batch_i * batch_size:(batch_i + 1) * batch_size]\n",
    "                if batch.ndim == 3:\n",
    "                    batch = batch.unsqueeze(0)\n",
    "\n",
    "                batch = batch.to(device)\n",
    "                with torch.no_grad():\n",
    "                    prediction = model(batch)\n",
    "                    proba = prediction[\"multilabel_proba\"].detach().cpu().numpy()\n",
    "                    \n",
    "                events = proba >= threshold\n",
    "                for i in range(len(events)):\n",
    "                    event = events[i, :]\n",
    "                    labels = np.argwhere(event).reshape(-1).tolist()\n",
    "                    for label in labels:\n",
    "                        all_events.add(label)\n",
    "                        \n",
    "            labels = list(all_events)\n",
    "        if len(labels) == 0:\n",
    "            prediction_dict[row_id] = \"nocall\"\n",
    "        else:\n",
    "            labels_str_list = list(map(lambda x: INV_BIRD_CODE[x], labels))\n",
    "            label_string = \" \".join(labels_str_list)\n",
    "            prediction_dict[row_id] = label_string\n",
    "    return prediction_dict"
   ]
  },
  {
   "cell_type": "code",
   "execution_count": 12,
   "id": "e0b6c20b",
   "metadata": {
    "execution": {
     "iopub.execute_input": "2024-01-11T14:01:52.976492Z",
     "iopub.status.busy": "2024-01-11T14:01:52.976087Z",
     "iopub.status.idle": "2024-01-11T14:01:52.985473Z",
     "shell.execute_reply": "2024-01-11T14:01:52.984142Z"
    },
    "papermill": {
     "duration": 0.018402,
     "end_time": "2024-01-11T14:01:52.988051",
     "exception": false,
     "start_time": "2024-01-11T14:01:52.969649",
     "status": "completed"
    },
    "tags": []
   },
   "outputs": [],
   "source": [
    "import os\n",
    "\n",
    "\n",
    "def prediction(test_df: pd.DataFrame,\n",
    "               test_audio: Path,\n",
    "               model_config: dict,\n",
    "               mel_params: dict,\n",
    "               weights_path: str,\n",
    "               threshold=0.5):\n",
    "    model = get_model(model_config, weights_path)\n",
    "    unique_audio_id = test_df.audio_id.unique()\n",
    "\n",
    "    warnings.filterwarnings(\"ignore\")\n",
    "    prediction_dfs = []\n",
    "    for audio_id in unique_audio_id:\n",
    "        with timer(f\"Loading {audio_id}\", logger):\n",
    "            clip, _ = librosa.load(test_audio+\"/\"+(audio_id+\".mp3\"),\n",
    "                                  sr=TARGET_SR,\n",
    "                                  mono=True,\n",
    "                                  res_type=\"kaiser_fast\")\n",
    "            test_df_for_audio_id = test_df.query(\n",
    "            f\"audio_id == '{audio_id}'\").reset_index(drop=True)\n",
    "        with timer(f\"Prediction on {audio_id}\", logger):\n",
    "            prediction_dict = prediction_for_clip(test_df_for_audio_id,\n",
    "                                                  clip=clip,\n",
    "                                                  model=model,\n",
    "                                                  mel_params=mel_params,\n",
    "                                                  threshold=threshold)\n",
    "        row_id = list(prediction_dict.keys())\n",
    "        birds = list(prediction_dict.values())\n",
    "        prediction_df = pd.DataFrame({\n",
    "            \"row_id\": row_id,\n",
    "            \"birds\": birds\n",
    "        })\n",
    "        prediction_dfs.append(prediction_df)\n",
    "    \n",
    "    prediction_df = pd.concat(prediction_dfs, axis=0, sort=False).reset_index(drop=True)\n",
    "    return prediction_df"
   ]
  },
  {
   "cell_type": "code",
   "execution_count": 13,
   "id": "63f9577a",
   "metadata": {
    "execution": {
     "iopub.execute_input": "2024-01-11T14:01:52.999777Z",
     "iopub.status.busy": "2024-01-11T14:01:52.999401Z",
     "iopub.status.idle": "2024-01-11T14:02:04.943430Z",
     "shell.execute_reply": "2024-01-11T14:02:04.941996Z"
    },
    "papermill": {
     "duration": 11.952474,
     "end_time": "2024-01-11T14:02:04.945554",
     "exception": false,
     "start_time": "2024-01-11T14:01:52.993080",
     "status": "completed"
    },
    "tags": []
   },
   "outputs": [
    {
     "name": "stdout",
     "output_type": "stream",
     "text": [
      "Collecting resampy\r\n",
      "  Downloading resampy-0.4.2-py3-none-any.whl (3.1 MB)\r\n",
      "\u001b[2K     \u001b[90m━━━━━━━━━━━━━━━━━━━━━━━━━━━━━━━━━━━━━━━━\u001b[0m \u001b[32m3.1/3.1 MB\u001b[0m \u001b[31m32.9 MB/s\u001b[0m eta \u001b[36m0:00:00\u001b[0m\r\n",
      "\u001b[?25hRequirement already satisfied: numpy>=1.17 in /opt/conda/lib/python3.10/site-packages (from resampy) (1.24.3)\r\n",
      "Requirement already satisfied: numba>=0.53 in /opt/conda/lib/python3.10/site-packages (from resampy) (0.57.1)\r\n",
      "Requirement already satisfied: llvmlite<0.41,>=0.40.0dev0 in /opt/conda/lib/python3.10/site-packages (from numba>=0.53->resampy) (0.40.1)\r\n",
      "Installing collected packages: resampy\r\n",
      "Successfully installed resampy-0.4.2\r\n",
      "Note: you may need to restart the kernel to use updated packages.\n"
     ]
    }
   ],
   "source": [
    "pip install resampy"
   ]
  },
  {
   "cell_type": "code",
   "execution_count": 14,
   "id": "44379a92",
   "metadata": {
    "execution": {
     "iopub.execute_input": "2024-01-11T14:02:04.957864Z",
     "iopub.status.busy": "2024-01-11T14:02:04.957537Z",
     "iopub.status.idle": "2024-01-11T14:02:58.529694Z",
     "shell.execute_reply": "2024-01-11T14:02:58.528880Z"
    },
    "papermill": {
     "duration": 53.581267,
     "end_time": "2024-01-11T14:02:58.532180",
     "exception": false,
     "start_time": "2024-01-11T14:02:04.950913",
     "status": "completed"
    },
    "tags": []
   },
   "outputs": [
    {
     "name": "stderr",
     "output_type": "stream",
     "text": [
      "/opt/conda/lib/python3.10/site-packages/torchvision/models/_utils.py:208: UserWarning: The parameter 'pretrained' is deprecated since 0.13 and may be removed in the future, please use 'weights' instead.\n",
      "  warnings.warn(\n",
      "/opt/conda/lib/python3.10/site-packages/torchvision/models/_utils.py:223: UserWarning: Arguments other than a weight enum or `None` for 'weights' are deprecated since 0.13 and may be removed in the future. The current behavior is equivalent to passing `weights=None`.\n",
      "  warnings.warn(msg)\n",
      "2024-01-11 14:02:06,328 - INFO - [Loading 41e6fe6504a34bf6846938ba78d13df1] start\n",
      "2024-01-11 14:02:16,357 - INFO - [Loading 41e6fe6504a34bf6846938ba78d13df1] done in 10.03 s\n",
      "2024-01-11 14:02:16,359 - INFO - [Prediction on 41e6fe6504a34bf6846938ba78d13df1] start\n"
     ]
    },
    {
     "data": {
      "text/html": [
       "\n",
       "<style>\n",
       "    /* Turns off some styling */\n",
       "    progress {\n",
       "        /* gets rid of default border in Firefox and Opera. */\n",
       "        border: none;\n",
       "        /* Needs to be in here for Safari polyfill so background images work as expected. */\n",
       "        background-size: auto;\n",
       "    }\n",
       "    progress:not([value]), progress:not([value])::-webkit-progress-bar {\n",
       "        background: repeating-linear-gradient(45deg, #7e7e7e, #7e7e7e 10px, #5c5c5c 10px, #5c5c5c 20px);\n",
       "    }\n",
       "    .progress-bar-interrupted, .progress-bar-interrupted::-webkit-progress-bar {\n",
       "        background: #F44336;\n",
       "    }\n",
       "</style>\n"
      ],
      "text/plain": [
       "<IPython.core.display.HTML object>"
      ]
     },
     "metadata": {},
     "output_type": "display_data"
    },
    {
     "data": {
      "text/html": [
       "\n",
       "    <div>\n",
       "      <progress value='5' class='' max='5' style='width:300px; height:20px; vertical-align: middle;'></progress>\n",
       "      100.00% [5/5 00:02&lt;00:00]\n",
       "    </div>\n",
       "    "
      ],
      "text/plain": [
       "<IPython.core.display.HTML object>"
      ]
     },
     "metadata": {},
     "output_type": "display_data"
    },
    {
     "name": "stderr",
     "output_type": "stream",
     "text": [
      "2024-01-11 14:02:18,886 - INFO - [Prediction on 41e6fe6504a34bf6846938ba78d13df1] done in 2.53 s\n",
      "2024-01-11 14:02:18,889 - INFO - [Loading cce64fffafed40f2b2f3d3413ec1c4c2] start\n",
      "2024-01-11 14:02:19,198 - INFO - [Loading cce64fffafed40f2b2f3d3413ec1c4c2] done in 0.31 s\n",
      "2024-01-11 14:02:19,199 - INFO - [Prediction on cce64fffafed40f2b2f3d3413ec1c4c2] start\n"
     ]
    },
    {
     "data": {
      "text/html": [
       "\n",
       "<style>\n",
       "    /* Turns off some styling */\n",
       "    progress {\n",
       "        /* gets rid of default border in Firefox and Opera. */\n",
       "        border: none;\n",
       "        /* Needs to be in here for Safari polyfill so background images work as expected. */\n",
       "        background-size: auto;\n",
       "    }\n",
       "    progress:not([value]), progress:not([value])::-webkit-progress-bar {\n",
       "        background: repeating-linear-gradient(45deg, #7e7e7e, #7e7e7e 10px, #5c5c5c 10px, #5c5c5c 20px);\n",
       "    }\n",
       "    .progress-bar-interrupted, .progress-bar-interrupted::-webkit-progress-bar {\n",
       "        background: #F44336;\n",
       "    }\n",
       "</style>\n"
      ],
      "text/plain": [
       "<IPython.core.display.HTML object>"
      ]
     },
     "metadata": {},
     "output_type": "display_data"
    },
    {
     "data": {
      "text/html": [
       "\n",
       "    <div>\n",
       "      <progress value='7' class='' max='7' style='width:300px; height:20px; vertical-align: middle;'></progress>\n",
       "      100.00% [7/7 00:02&lt;00:00]\n",
       "    </div>\n",
       "    "
      ],
      "text/plain": [
       "<IPython.core.display.HTML object>"
      ]
     },
     "metadata": {},
     "output_type": "display_data"
    },
    {
     "name": "stderr",
     "output_type": "stream",
     "text": [
      "2024-01-11 14:02:21,315 - INFO - [Prediction on cce64fffafed40f2b2f3d3413ec1c4c2] done in 2.12 s\n",
      "2024-01-11 14:02:21,318 - INFO - [Loading 99af324c881246949408c0b1ae54271f] start\n",
      "2024-01-11 14:02:21,657 - INFO - [Loading 99af324c881246949408c0b1ae54271f] done in 0.34 s\n",
      "2024-01-11 14:02:21,658 - INFO - [Prediction on 99af324c881246949408c0b1ae54271f] start\n"
     ]
    },
    {
     "data": {
      "text/html": [
       "\n",
       "<style>\n",
       "    /* Turns off some styling */\n",
       "    progress {\n",
       "        /* gets rid of default border in Firefox and Opera. */\n",
       "        border: none;\n",
       "        /* Needs to be in here for Safari polyfill so background images work as expected. */\n",
       "        background-size: auto;\n",
       "    }\n",
       "    progress:not([value]), progress:not([value])::-webkit-progress-bar {\n",
       "        background: repeating-linear-gradient(45deg, #7e7e7e, #7e7e7e 10px, #5c5c5c 10px, #5c5c5c 20px);\n",
       "    }\n",
       "    .progress-bar-interrupted, .progress-bar-interrupted::-webkit-progress-bar {\n",
       "        background: #F44336;\n",
       "    }\n",
       "</style>\n"
      ],
      "text/plain": [
       "<IPython.core.display.HTML object>"
      ]
     },
     "metadata": {},
     "output_type": "display_data"
    },
    {
     "data": {
      "text/html": [
       "\n",
       "    <div>\n",
       "      <progress value='7' class='' max='7' style='width:300px; height:20px; vertical-align: middle;'></progress>\n",
       "      100.00% [7/7 00:01&lt;00:00]\n",
       "    </div>\n",
       "    "
      ],
      "text/plain": [
       "<IPython.core.display.HTML object>"
      ]
     },
     "metadata": {},
     "output_type": "display_data"
    },
    {
     "name": "stderr",
     "output_type": "stream",
     "text": [
      "2024-01-11 14:02:23,445 - INFO - [Prediction on 99af324c881246949408c0b1ae54271f] done in 1.79 s\n",
      "2024-01-11 14:02:23,448 - INFO - [Loading 6ab74e177aa149468a39ca10beed6222] start\n",
      "2024-01-11 14:02:23,732 - INFO - [Loading 6ab74e177aa149468a39ca10beed6222] done in 0.28 s\n",
      "2024-01-11 14:02:23,734 - INFO - [Prediction on 6ab74e177aa149468a39ca10beed6222] start\n"
     ]
    },
    {
     "data": {
      "text/html": [
       "\n",
       "<style>\n",
       "    /* Turns off some styling */\n",
       "    progress {\n",
       "        /* gets rid of default border in Firefox and Opera. */\n",
       "        border: none;\n",
       "        /* Needs to be in here for Safari polyfill so background images work as expected. */\n",
       "        background-size: auto;\n",
       "    }\n",
       "    progress:not([value]), progress:not([value])::-webkit-progress-bar {\n",
       "        background: repeating-linear-gradient(45deg, #7e7e7e, #7e7e7e 10px, #5c5c5c 10px, #5c5c5c 20px);\n",
       "    }\n",
       "    .progress-bar-interrupted, .progress-bar-interrupted::-webkit-progress-bar {\n",
       "        background: #F44336;\n",
       "    }\n",
       "</style>\n"
      ],
      "text/plain": [
       "<IPython.core.display.HTML object>"
      ]
     },
     "metadata": {},
     "output_type": "display_data"
    },
    {
     "data": {
      "text/html": [
       "\n",
       "    <div>\n",
       "      <progress value='6' class='' max='6' style='width:300px; height:20px; vertical-align: middle;'></progress>\n",
       "      100.00% [6/6 00:01&lt;00:00]\n",
       "    </div>\n",
       "    "
      ],
      "text/plain": [
       "<IPython.core.display.HTML object>"
      ]
     },
     "metadata": {},
     "output_type": "display_data"
    },
    {
     "name": "stderr",
     "output_type": "stream",
     "text": [
      "2024-01-11 14:02:25,220 - INFO - [Prediction on 6ab74e177aa149468a39ca10beed6222] done in 1.49 s\n",
      "2024-01-11 14:02:25,221 - INFO - [Loading b2fd3f01e9284293a1e33f9c811a2ed6] start\n",
      "2024-01-11 14:02:25,530 - INFO - [Loading b2fd3f01e9284293a1e33f9c811a2ed6] done in 0.31 s\n",
      "2024-01-11 14:02:25,531 - INFO - [Prediction on b2fd3f01e9284293a1e33f9c811a2ed6] start\n"
     ]
    },
    {
     "data": {
      "text/html": [
       "\n",
       "<style>\n",
       "    /* Turns off some styling */\n",
       "    progress {\n",
       "        /* gets rid of default border in Firefox and Opera. */\n",
       "        border: none;\n",
       "        /* Needs to be in here for Safari polyfill so background images work as expected. */\n",
       "        background-size: auto;\n",
       "    }\n",
       "    progress:not([value]), progress:not([value])::-webkit-progress-bar {\n",
       "        background: repeating-linear-gradient(45deg, #7e7e7e, #7e7e7e 10px, #5c5c5c 10px, #5c5c5c 20px);\n",
       "    }\n",
       "    .progress-bar-interrupted, .progress-bar-interrupted::-webkit-progress-bar {\n",
       "        background: #F44336;\n",
       "    }\n",
       "</style>\n"
      ],
      "text/plain": [
       "<IPython.core.display.HTML object>"
      ]
     },
     "metadata": {},
     "output_type": "display_data"
    },
    {
     "data": {
      "text/html": [
       "\n",
       "    <div>\n",
       "      <progress value='7' class='' max='7' style='width:300px; height:20px; vertical-align: middle;'></progress>\n",
       "      100.00% [7/7 00:01&lt;00:00]\n",
       "    </div>\n",
       "    "
      ],
      "text/plain": [
       "<IPython.core.display.HTML object>"
      ]
     },
     "metadata": {},
     "output_type": "display_data"
    },
    {
     "name": "stderr",
     "output_type": "stream",
     "text": [
      "2024-01-11 14:02:27,291 - INFO - [Prediction on b2fd3f01e9284293a1e33f9c811a2ed6] done in 1.76 s\n",
      "2024-01-11 14:02:27,293 - INFO - [Loading de62b37ebba749d2abf29d4a493ea5d4] start\n",
      "2024-01-11 14:02:27,370 - INFO - [Loading de62b37ebba749d2abf29d4a493ea5d4] done in 0.08 s\n",
      "2024-01-11 14:02:27,371 - INFO - [Prediction on de62b37ebba749d2abf29d4a493ea5d4] start\n"
     ]
    },
    {
     "data": {
      "text/html": [
       "\n",
       "<style>\n",
       "    /* Turns off some styling */\n",
       "    progress {\n",
       "        /* gets rid of default border in Firefox and Opera. */\n",
       "        border: none;\n",
       "        /* Needs to be in here for Safari polyfill so background images work as expected. */\n",
       "        background-size: auto;\n",
       "    }\n",
       "    progress:not([value]), progress:not([value])::-webkit-progress-bar {\n",
       "        background: repeating-linear-gradient(45deg, #7e7e7e, #7e7e7e 10px, #5c5c5c 10px, #5c5c5c 20px);\n",
       "    }\n",
       "    .progress-bar-interrupted, .progress-bar-interrupted::-webkit-progress-bar {\n",
       "        background: #F44336;\n",
       "    }\n",
       "</style>\n"
      ],
      "text/plain": [
       "<IPython.core.display.HTML object>"
      ]
     },
     "metadata": {},
     "output_type": "display_data"
    },
    {
     "data": {
      "text/html": [
       "\n",
       "    <div>\n",
       "      <progress value='1' class='' max='1' style='width:300px; height:20px; vertical-align: middle;'></progress>\n",
       "      100.00% [1/1 00:00&lt;00:00]\n",
       "    </div>\n",
       "    "
      ],
      "text/plain": [
       "<IPython.core.display.HTML object>"
      ]
     },
     "metadata": {},
     "output_type": "display_data"
    },
    {
     "name": "stderr",
     "output_type": "stream",
     "text": [
      "2024-01-11 14:02:27,681 - INFO - [Prediction on de62b37ebba749d2abf29d4a493ea5d4] done in 0.31 s\n",
      "2024-01-11 14:02:27,682 - INFO - [Loading 8680a8dd845d40f296246dbed0d37394] start\n",
      "2024-01-11 14:02:28,061 - INFO - [Loading 8680a8dd845d40f296246dbed0d37394] done in 0.38 s\n",
      "2024-01-11 14:02:28,062 - INFO - [Prediction on 8680a8dd845d40f296246dbed0d37394] start\n"
     ]
    },
    {
     "data": {
      "text/html": [
       "\n",
       "<style>\n",
       "    /* Turns off some styling */\n",
       "    progress {\n",
       "        /* gets rid of default border in Firefox and Opera. */\n",
       "        border: none;\n",
       "        /* Needs to be in here for Safari polyfill so background images work as expected. */\n",
       "        background-size: auto;\n",
       "    }\n",
       "    progress:not([value]), progress:not([value])::-webkit-progress-bar {\n",
       "        background: repeating-linear-gradient(45deg, #7e7e7e, #7e7e7e 10px, #5c5c5c 10px, #5c5c5c 20px);\n",
       "    }\n",
       "    .progress-bar-interrupted, .progress-bar-interrupted::-webkit-progress-bar {\n",
       "        background: #F44336;\n",
       "    }\n",
       "</style>\n"
      ],
      "text/plain": [
       "<IPython.core.display.HTML object>"
      ]
     },
     "metadata": {},
     "output_type": "display_data"
    },
    {
     "data": {
      "text/html": [
       "\n",
       "    <div>\n",
       "      <progress value='9' class='' max='9' style='width:300px; height:20px; vertical-align: middle;'></progress>\n",
       "      100.00% [9/9 00:02&lt;00:00]\n",
       "    </div>\n",
       "    "
      ],
      "text/plain": [
       "<IPython.core.display.HTML object>"
      ]
     },
     "metadata": {},
     "output_type": "display_data"
    },
    {
     "name": "stderr",
     "output_type": "stream",
     "text": [
      "2024-01-11 14:02:30,549 - INFO - [Prediction on 8680a8dd845d40f296246dbed0d37394] done in 2.49 s\n",
      "2024-01-11 14:02:30,552 - INFO - [Loading 940d546e5eb745c9a74bce3f35efa1f9] start\n",
      "2024-01-11 14:02:31,173 - INFO - [Loading 940d546e5eb745c9a74bce3f35efa1f9] done in 0.62 s\n",
      "2024-01-11 14:02:31,175 - INFO - [Prediction on 940d546e5eb745c9a74bce3f35efa1f9] start\n"
     ]
    },
    {
     "data": {
      "text/html": [
       "\n",
       "<style>\n",
       "    /* Turns off some styling */\n",
       "    progress {\n",
       "        /* gets rid of default border in Firefox and Opera. */\n",
       "        border: none;\n",
       "        /* Needs to be in here for Safari polyfill so background images work as expected. */\n",
       "        background-size: auto;\n",
       "    }\n",
       "    progress:not([value]), progress:not([value])::-webkit-progress-bar {\n",
       "        background: repeating-linear-gradient(45deg, #7e7e7e, #7e7e7e 10px, #5c5c5c 10px, #5c5c5c 20px);\n",
       "    }\n",
       "    .progress-bar-interrupted, .progress-bar-interrupted::-webkit-progress-bar {\n",
       "        background: #F44336;\n",
       "    }\n",
       "</style>\n"
      ],
      "text/plain": [
       "<IPython.core.display.HTML object>"
      ]
     },
     "metadata": {},
     "output_type": "display_data"
    },
    {
     "data": {
      "text/html": [
       "\n",
       "    <div>\n",
       "      <progress value='14' class='' max='14' style='width:300px; height:20px; vertical-align: middle;'></progress>\n",
       "      100.00% [14/14 00:03&lt;00:00]\n",
       "    </div>\n",
       "    "
      ],
      "text/plain": [
       "<IPython.core.display.HTML object>"
      ]
     },
     "metadata": {},
     "output_type": "display_data"
    },
    {
     "name": "stderr",
     "output_type": "stream",
     "text": [
      "2024-01-11 14:02:35,177 - INFO - [Prediction on 940d546e5eb745c9a74bce3f35efa1f9] done in 4.00 s\n",
      "2024-01-11 14:02:35,178 - INFO - [Loading 07ab324c602e4afab65ddbcc746c31b5] start\n",
      "2024-01-11 14:02:35,407 - INFO - [Loading 07ab324c602e4afab65ddbcc746c31b5] done in 0.23 s\n",
      "2024-01-11 14:02:35,408 - INFO - [Prediction on 07ab324c602e4afab65ddbcc746c31b5] start\n"
     ]
    },
    {
     "data": {
      "text/html": [
       "\n",
       "<style>\n",
       "    /* Turns off some styling */\n",
       "    progress {\n",
       "        /* gets rid of default border in Firefox and Opera. */\n",
       "        border: none;\n",
       "        /* Needs to be in here for Safari polyfill so background images work as expected. */\n",
       "        background-size: auto;\n",
       "    }\n",
       "    progress:not([value]), progress:not([value])::-webkit-progress-bar {\n",
       "        background: repeating-linear-gradient(45deg, #7e7e7e, #7e7e7e 10px, #5c5c5c 10px, #5c5c5c 20px);\n",
       "    }\n",
       "    .progress-bar-interrupted, .progress-bar-interrupted::-webkit-progress-bar {\n",
       "        background: #F44336;\n",
       "    }\n",
       "</style>\n"
      ],
      "text/plain": [
       "<IPython.core.display.HTML object>"
      ]
     },
     "metadata": {},
     "output_type": "display_data"
    },
    {
     "data": {
      "text/html": [
       "\n",
       "    <div>\n",
       "      <progress value='5' class='' max='5' style='width:300px; height:20px; vertical-align: middle;'></progress>\n",
       "      100.00% [5/5 00:01&lt;00:00]\n",
       "    </div>\n",
       "    "
      ],
      "text/plain": [
       "<IPython.core.display.HTML object>"
      ]
     },
     "metadata": {},
     "output_type": "display_data"
    },
    {
     "name": "stderr",
     "output_type": "stream",
     "text": [
      "2024-01-11 14:02:36,786 - INFO - [Prediction on 07ab324c602e4afab65ddbcc746c31b5] done in 1.38 s\n",
      "2024-01-11 14:02:36,787 - INFO - [Loading 899616723a32409c996f6f3441646c2a] start\n",
      "2024-01-11 14:02:37,215 - INFO - [Loading 899616723a32409c996f6f3441646c2a] done in 0.43 s\n",
      "2024-01-11 14:02:37,216 - INFO - [Prediction on 899616723a32409c996f6f3441646c2a] start\n"
     ]
    },
    {
     "data": {
      "text/html": [
       "\n",
       "<style>\n",
       "    /* Turns off some styling */\n",
       "    progress {\n",
       "        /* gets rid of default border in Firefox and Opera. */\n",
       "        border: none;\n",
       "        /* Needs to be in here for Safari polyfill so background images work as expected. */\n",
       "        background-size: auto;\n",
       "    }\n",
       "    progress:not([value]), progress:not([value])::-webkit-progress-bar {\n",
       "        background: repeating-linear-gradient(45deg, #7e7e7e, #7e7e7e 10px, #5c5c5c 10px, #5c5c5c 20px);\n",
       "    }\n",
       "    .progress-bar-interrupted, .progress-bar-interrupted::-webkit-progress-bar {\n",
       "        background: #F44336;\n",
       "    }\n",
       "</style>\n"
      ],
      "text/plain": [
       "<IPython.core.display.HTML object>"
      ]
     },
     "metadata": {},
     "output_type": "display_data"
    },
    {
     "data": {
      "text/html": [
       "\n",
       "    <div>\n",
       "      <progress value='10' class='' max='10' style='width:300px; height:20px; vertical-align: middle;'></progress>\n",
       "      100.00% [10/10 00:02&lt;00:00]\n",
       "    </div>\n",
       "    "
      ],
      "text/plain": [
       "<IPython.core.display.HTML object>"
      ]
     },
     "metadata": {},
     "output_type": "display_data"
    },
    {
     "name": "stderr",
     "output_type": "stream",
     "text": [
      "2024-01-11 14:02:39,735 - INFO - [Prediction on 899616723a32409c996f6f3441646c2a] done in 2.52 s\n",
      "2024-01-11 14:02:39,737 - INFO - [Loading 9cc5d9646f344f1bbb52640a988fe902] start\n",
      "2024-01-11 14:02:41,948 - INFO - [Loading 9cc5d9646f344f1bbb52640a988fe902] done in 2.21 s\n",
      "2024-01-11 14:02:41,949 - INFO - [Prediction on 9cc5d9646f344f1bbb52640a988fe902] start\n"
     ]
    },
    {
     "data": {
      "text/html": [
       "\n",
       "<style>\n",
       "    /* Turns off some styling */\n",
       "    progress {\n",
       "        /* gets rid of default border in Firefox and Opera. */\n",
       "        border: none;\n",
       "        /* Needs to be in here for Safari polyfill so background images work as expected. */\n",
       "        background-size: auto;\n",
       "    }\n",
       "    progress:not([value]), progress:not([value])::-webkit-progress-bar {\n",
       "        background: repeating-linear-gradient(45deg, #7e7e7e, #7e7e7e 10px, #5c5c5c 10px, #5c5c5c 20px);\n",
       "    }\n",
       "    .progress-bar-interrupted, .progress-bar-interrupted::-webkit-progress-bar {\n",
       "        background: #F44336;\n",
       "    }\n",
       "</style>\n"
      ],
      "text/plain": [
       "<IPython.core.display.HTML object>"
      ]
     },
     "metadata": {},
     "output_type": "display_data"
    },
    {
     "data": {
      "text/html": [
       "\n",
       "    <div>\n",
       "      <progress value='1' class='' max='1' style='width:300px; height:20px; vertical-align: middle;'></progress>\n",
       "      100.00% [1/1 00:12&lt;00:00]\n",
       "    </div>\n",
       "    "
      ],
      "text/plain": [
       "<IPython.core.display.HTML object>"
      ]
     },
     "metadata": {},
     "output_type": "display_data"
    },
    {
     "name": "stderr",
     "output_type": "stream",
     "text": [
      "2024-01-11 14:02:54,360 - INFO - [Prediction on 9cc5d9646f344f1bbb52640a988fe902] done in 12.41 s\n",
      "2024-01-11 14:02:54,361 - INFO - [Loading a56e20a518684688a9952add8a9d5213] start\n",
      "2024-01-11 14:02:54,636 - INFO - [Loading a56e20a518684688a9952add8a9d5213] done in 0.27 s\n",
      "2024-01-11 14:02:54,637 - INFO - [Prediction on a56e20a518684688a9952add8a9d5213] start\n"
     ]
    },
    {
     "data": {
      "text/html": [
       "\n",
       "<style>\n",
       "    /* Turns off some styling */\n",
       "    progress {\n",
       "        /* gets rid of default border in Firefox and Opera. */\n",
       "        border: none;\n",
       "        /* Needs to be in here for Safari polyfill so background images work as expected. */\n",
       "        background-size: auto;\n",
       "    }\n",
       "    progress:not([value]), progress:not([value])::-webkit-progress-bar {\n",
       "        background: repeating-linear-gradient(45deg, #7e7e7e, #7e7e7e 10px, #5c5c5c 10px, #5c5c5c 20px);\n",
       "    }\n",
       "    .progress-bar-interrupted, .progress-bar-interrupted::-webkit-progress-bar {\n",
       "        background: #F44336;\n",
       "    }\n",
       "</style>\n"
      ],
      "text/plain": [
       "<IPython.core.display.HTML object>"
      ]
     },
     "metadata": {},
     "output_type": "display_data"
    },
    {
     "data": {
      "text/html": [
       "\n",
       "    <div>\n",
       "      <progress value='1' class='' max='1' style='width:300px; height:20px; vertical-align: middle;'></progress>\n",
       "      100.00% [1/1 00:01&lt;00:00]\n",
       "    </div>\n",
       "    "
      ],
      "text/plain": [
       "<IPython.core.display.HTML object>"
      ]
     },
     "metadata": {},
     "output_type": "display_data"
    },
    {
     "name": "stderr",
     "output_type": "stream",
     "text": [
      "2024-01-11 14:02:56,005 - INFO - [Prediction on a56e20a518684688a9952add8a9d5213] done in 1.37 s\n",
      "2024-01-11 14:02:56,007 - INFO - [Loading 96779836288745728306903d54e264dd] start\n",
      "2024-01-11 14:02:56,181 - INFO - [Loading 96779836288745728306903d54e264dd] done in 0.17 s\n",
      "2024-01-11 14:02:56,182 - INFO - [Prediction on 96779836288745728306903d54e264dd] start\n"
     ]
    },
    {
     "data": {
      "text/html": [
       "\n",
       "<style>\n",
       "    /* Turns off some styling */\n",
       "    progress {\n",
       "        /* gets rid of default border in Firefox and Opera. */\n",
       "        border: none;\n",
       "        /* Needs to be in here for Safari polyfill so background images work as expected. */\n",
       "        background-size: auto;\n",
       "    }\n",
       "    progress:not([value]), progress:not([value])::-webkit-progress-bar {\n",
       "        background: repeating-linear-gradient(45deg, #7e7e7e, #7e7e7e 10px, #5c5c5c 10px, #5c5c5c 20px);\n",
       "    }\n",
       "    .progress-bar-interrupted, .progress-bar-interrupted::-webkit-progress-bar {\n",
       "        background: #F44336;\n",
       "    }\n",
       "</style>\n"
      ],
      "text/plain": [
       "<IPython.core.display.HTML object>"
      ]
     },
     "metadata": {},
     "output_type": "display_data"
    },
    {
     "data": {
      "text/html": [
       "\n",
       "    <div>\n",
       "      <progress value='1' class='' max='1' style='width:300px; height:20px; vertical-align: middle;'></progress>\n",
       "      100.00% [1/1 00:00&lt;00:00]\n",
       "    </div>\n",
       "    "
      ],
      "text/plain": [
       "<IPython.core.display.HTML object>"
      ]
     },
     "metadata": {},
     "output_type": "display_data"
    },
    {
     "name": "stderr",
     "output_type": "stream",
     "text": [
      "2024-01-11 14:02:56,787 - INFO - [Prediction on 96779836288745728306903d54e264dd] done in 0.60 s\n",
      "2024-01-11 14:02:56,788 - INFO - [Loading f77783ba4c6641bc918b034a18c23e53] start\n",
      "2024-01-11 14:02:56,889 - INFO - [Loading f77783ba4c6641bc918b034a18c23e53] done in 0.10 s\n",
      "2024-01-11 14:02:56,890 - INFO - [Prediction on f77783ba4c6641bc918b034a18c23e53] start\n"
     ]
    },
    {
     "data": {
      "text/html": [
       "\n",
       "<style>\n",
       "    /* Turns off some styling */\n",
       "    progress {\n",
       "        /* gets rid of default border in Firefox and Opera. */\n",
       "        border: none;\n",
       "        /* Needs to be in here for Safari polyfill so background images work as expected. */\n",
       "        background-size: auto;\n",
       "    }\n",
       "    progress:not([value]), progress:not([value])::-webkit-progress-bar {\n",
       "        background: repeating-linear-gradient(45deg, #7e7e7e, #7e7e7e 10px, #5c5c5c 10px, #5c5c5c 20px);\n",
       "    }\n",
       "    .progress-bar-interrupted, .progress-bar-interrupted::-webkit-progress-bar {\n",
       "        background: #F44336;\n",
       "    }\n",
       "</style>\n"
      ],
      "text/plain": [
       "<IPython.core.display.HTML object>"
      ]
     },
     "metadata": {},
     "output_type": "display_data"
    },
    {
     "data": {
      "text/html": [
       "\n",
       "    <div>\n",
       "      <progress value='1' class='' max='1' style='width:300px; height:20px; vertical-align: middle;'></progress>\n",
       "      100.00% [1/1 00:00&lt;00:00]\n",
       "    </div>\n",
       "    "
      ],
      "text/plain": [
       "<IPython.core.display.HTML object>"
      ]
     },
     "metadata": {},
     "output_type": "display_data"
    },
    {
     "name": "stderr",
     "output_type": "stream",
     "text": [
      "2024-01-11 14:02:57,173 - INFO - [Prediction on f77783ba4c6641bc918b034a18c23e53] done in 0.28 s\n",
      "2024-01-11 14:02:57,175 - INFO - [Loading 856b194b097441958697c2bcd1f63982] start\n",
      "2024-01-11 14:02:57,424 - INFO - [Loading 856b194b097441958697c2bcd1f63982] done in 0.25 s\n",
      "2024-01-11 14:02:57,425 - INFO - [Prediction on 856b194b097441958697c2bcd1f63982] start\n"
     ]
    },
    {
     "data": {
      "text/html": [
       "\n",
       "<style>\n",
       "    /* Turns off some styling */\n",
       "    progress {\n",
       "        /* gets rid of default border in Firefox and Opera. */\n",
       "        border: none;\n",
       "        /* Needs to be in here for Safari polyfill so background images work as expected. */\n",
       "        background-size: auto;\n",
       "    }\n",
       "    progress:not([value]), progress:not([value])::-webkit-progress-bar {\n",
       "        background: repeating-linear-gradient(45deg, #7e7e7e, #7e7e7e 10px, #5c5c5c 10px, #5c5c5c 20px);\n",
       "    }\n",
       "    .progress-bar-interrupted, .progress-bar-interrupted::-webkit-progress-bar {\n",
       "        background: #F44336;\n",
       "    }\n",
       "</style>\n"
      ],
      "text/plain": [
       "<IPython.core.display.HTML object>"
      ]
     },
     "metadata": {},
     "output_type": "display_data"
    },
    {
     "data": {
      "text/html": [
       "\n",
       "    <div>\n",
       "      <progress value='1' class='' max='1' style='width:300px; height:20px; vertical-align: middle;'></progress>\n",
       "      100.00% [1/1 00:01&lt;00:00]\n",
       "    </div>\n",
       "    "
      ],
      "text/plain": [
       "<IPython.core.display.HTML object>"
      ]
     },
     "metadata": {},
     "output_type": "display_data"
    },
    {
     "name": "stderr",
     "output_type": "stream",
     "text": [
      "2024-01-11 14:02:58,517 - INFO - [Prediction on 856b194b097441958697c2bcd1f63982] done in 1.09 s\n"
     ]
    }
   ],
   "source": [
    "submission = prediction(test_df=test,\n",
    "                        test_audio=test_audio,\n",
    "                        model_config=model_config,\n",
    "                        mel_params=melspectrogram_parameters,\n",
    "                        weights_path=weights_path,\n",
    "                        threshold=0.8)\n",
    "submission.to_csv(\"submission.csv\", index=False)"
   ]
  },
  {
   "cell_type": "code",
   "execution_count": 15,
   "id": "3b29d740",
   "metadata": {
    "execution": {
     "iopub.execute_input": "2024-01-11T14:02:58.558689Z",
     "iopub.status.busy": "2024-01-11T14:02:58.558298Z",
     "iopub.status.idle": "2024-01-11T14:02:58.569627Z",
     "shell.execute_reply": "2024-01-11T14:02:58.568380Z"
    },
    "papermill": {
     "duration": 0.026892,
     "end_time": "2024-01-11T14:02:58.571722",
     "exception": false,
     "start_time": "2024-01-11T14:02:58.544830",
     "status": "completed"
    },
    "tags": []
   },
   "outputs": [
    {
     "data": {
      "text/html": [
       "<div>\n",
       "<style scoped>\n",
       "    .dataframe tbody tr th:only-of-type {\n",
       "        vertical-align: middle;\n",
       "    }\n",
       "\n",
       "    .dataframe tbody tr th {\n",
       "        vertical-align: top;\n",
       "    }\n",
       "\n",
       "    .dataframe thead th {\n",
       "        text-align: right;\n",
       "    }\n",
       "</style>\n",
       "<table border=\"1\" class=\"dataframe\">\n",
       "  <thead>\n",
       "    <tr style=\"text-align: right;\">\n",
       "      <th></th>\n",
       "      <th>row_id</th>\n",
       "      <th>birds</th>\n",
       "    </tr>\n",
       "  </thead>\n",
       "  <tbody>\n",
       "    <tr>\n",
       "      <th>0</th>\n",
       "      <td>site_1_41e6fe6504a34bf6846938ba78d13df1_5</td>\n",
       "      <td>aldfly</td>\n",
       "    </tr>\n",
       "    <tr>\n",
       "      <th>1</th>\n",
       "      <td>site_1_41e6fe6504a34bf6846938ba78d13df1_10</td>\n",
       "      <td>aldfly</td>\n",
       "    </tr>\n",
       "    <tr>\n",
       "      <th>2</th>\n",
       "      <td>site_1_41e6fe6504a34bf6846938ba78d13df1_15</td>\n",
       "      <td>aldfly</td>\n",
       "    </tr>\n",
       "    <tr>\n",
       "      <th>3</th>\n",
       "      <td>site_1_41e6fe6504a34bf6846938ba78d13df1_20</td>\n",
       "      <td>nocall</td>\n",
       "    </tr>\n",
       "    <tr>\n",
       "      <th>4</th>\n",
       "      <td>site_1_41e6fe6504a34bf6846938ba78d13df1_25</td>\n",
       "      <td>aldfly</td>\n",
       "    </tr>\n",
       "    <tr>\n",
       "      <th>...</th>\n",
       "      <td>...</td>\n",
       "      <td>...</td>\n",
       "    </tr>\n",
       "    <tr>\n",
       "      <th>71</th>\n",
       "      <td>site_3_9cc5d9646f344f1bbb52640a988fe902</td>\n",
       "      <td>aldfly</td>\n",
       "    </tr>\n",
       "    <tr>\n",
       "      <th>72</th>\n",
       "      <td>site_3_a56e20a518684688a9952add8a9d5213</td>\n",
       "      <td>aldfly</td>\n",
       "    </tr>\n",
       "    <tr>\n",
       "      <th>73</th>\n",
       "      <td>site_3_96779836288745728306903d54e264dd</td>\n",
       "      <td>aldfly</td>\n",
       "    </tr>\n",
       "    <tr>\n",
       "      <th>74</th>\n",
       "      <td>site_3_f77783ba4c6641bc918b034a18c23e53</td>\n",
       "      <td>aldfly</td>\n",
       "    </tr>\n",
       "    <tr>\n",
       "      <th>75</th>\n",
       "      <td>site_3_856b194b097441958697c2bcd1f63982</td>\n",
       "      <td>aldfly</td>\n",
       "    </tr>\n",
       "  </tbody>\n",
       "</table>\n",
       "<p>76 rows × 2 columns</p>\n",
       "</div>"
      ],
      "text/plain": [
       "                                        row_id   birds\n",
       "0    site_1_41e6fe6504a34bf6846938ba78d13df1_5  aldfly\n",
       "1   site_1_41e6fe6504a34bf6846938ba78d13df1_10  aldfly\n",
       "2   site_1_41e6fe6504a34bf6846938ba78d13df1_15  aldfly\n",
       "3   site_1_41e6fe6504a34bf6846938ba78d13df1_20  nocall\n",
       "4   site_1_41e6fe6504a34bf6846938ba78d13df1_25  aldfly\n",
       "..                                         ...     ...\n",
       "71     site_3_9cc5d9646f344f1bbb52640a988fe902  aldfly\n",
       "72     site_3_a56e20a518684688a9952add8a9d5213  aldfly\n",
       "73     site_3_96779836288745728306903d54e264dd  aldfly\n",
       "74     site_3_f77783ba4c6641bc918b034a18c23e53  aldfly\n",
       "75     site_3_856b194b097441958697c2bcd1f63982  aldfly\n",
       "\n",
       "[76 rows x 2 columns]"
      ]
     },
     "execution_count": 15,
     "metadata": {},
     "output_type": "execute_result"
    }
   ],
   "source": [
    "submission"
   ]
  },
  {
   "cell_type": "code",
   "execution_count": 16,
   "id": "aaf1facd",
   "metadata": {
    "execution": {
     "iopub.execute_input": "2024-01-11T14:02:58.598093Z",
     "iopub.status.busy": "2024-01-11T14:02:58.597760Z",
     "iopub.status.idle": "2024-01-11T14:02:58.610767Z",
     "shell.execute_reply": "2024-01-11T14:02:58.610078Z"
    },
    "papermill": {
     "duration": 0.028271,
     "end_time": "2024-01-11T14:02:58.612467",
     "exception": false,
     "start_time": "2024-01-11T14:02:58.584196",
     "status": "completed"
    },
    "tags": []
   },
   "outputs": [
    {
     "data": {
      "text/html": [
       "<div>\n",
       "<style scoped>\n",
       "    .dataframe tbody tr th:only-of-type {\n",
       "        vertical-align: middle;\n",
       "    }\n",
       "\n",
       "    .dataframe tbody tr th {\n",
       "        vertical-align: top;\n",
       "    }\n",
       "\n",
       "    .dataframe thead th {\n",
       "        text-align: right;\n",
       "    }\n",
       "</style>\n",
       "<table border=\"1\" class=\"dataframe\">\n",
       "  <thead>\n",
       "    <tr style=\"text-align: right;\">\n",
       "      <th></th>\n",
       "      <th>row_id</th>\n",
       "      <th>birds</th>\n",
       "      <th>short_row_id</th>\n",
       "    </tr>\n",
       "  </thead>\n",
       "  <tbody>\n",
       "    <tr>\n",
       "      <th>0</th>\n",
       "      <td>site_1_41e6fe6504a34bf6846938ba78d13df1_5</td>\n",
       "      <td>aldfly</td>\n",
       "      <td>site_1_41e6fe6504a34bf6846938ba78d13df1</td>\n",
       "    </tr>\n",
       "    <tr>\n",
       "      <th>1</th>\n",
       "      <td>site_1_41e6fe6504a34bf6846938ba78d13df1_10</td>\n",
       "      <td>aldfly</td>\n",
       "      <td>site_1_41e6fe6504a34bf6846938ba78d13df1</td>\n",
       "    </tr>\n",
       "    <tr>\n",
       "      <th>2</th>\n",
       "      <td>site_1_41e6fe6504a34bf6846938ba78d13df1_15</td>\n",
       "      <td>aldfly</td>\n",
       "      <td>site_1_41e6fe6504a34bf6846938ba78d13df1</td>\n",
       "    </tr>\n",
       "    <tr>\n",
       "      <th>3</th>\n",
       "      <td>site_1_41e6fe6504a34bf6846938ba78d13df1_20</td>\n",
       "      <td>nocall</td>\n",
       "      <td>site_1_41e6fe6504a34bf6846938ba78d13df1</td>\n",
       "    </tr>\n",
       "    <tr>\n",
       "      <th>4</th>\n",
       "      <td>site_1_41e6fe6504a34bf6846938ba78d13df1_25</td>\n",
       "      <td>aldfly</td>\n",
       "      <td>site_1_41e6fe6504a34bf6846938ba78d13df1</td>\n",
       "    </tr>\n",
       "    <tr>\n",
       "      <th>...</th>\n",
       "      <td>...</td>\n",
       "      <td>...</td>\n",
       "      <td>...</td>\n",
       "    </tr>\n",
       "    <tr>\n",
       "      <th>71</th>\n",
       "      <td>site_3_9cc5d9646f344f1bbb52640a988fe902</td>\n",
       "      <td>aldfly</td>\n",
       "      <td>site_3_9cc5d9646f344f1bbb52640a988fe902</td>\n",
       "    </tr>\n",
       "    <tr>\n",
       "      <th>72</th>\n",
       "      <td>site_3_a56e20a518684688a9952add8a9d5213</td>\n",
       "      <td>aldfly</td>\n",
       "      <td>site_3_a56e20a518684688a9952add8a9d5213</td>\n",
       "    </tr>\n",
       "    <tr>\n",
       "      <th>73</th>\n",
       "      <td>site_3_96779836288745728306903d54e264dd</td>\n",
       "      <td>aldfly</td>\n",
       "      <td>site_3_96779836288745728306903d54e264dd</td>\n",
       "    </tr>\n",
       "    <tr>\n",
       "      <th>74</th>\n",
       "      <td>site_3_f77783ba4c6641bc918b034a18c23e53</td>\n",
       "      <td>aldfly</td>\n",
       "      <td>site_3_f77783ba4c6641bc918b034a18c23e53</td>\n",
       "    </tr>\n",
       "    <tr>\n",
       "      <th>75</th>\n",
       "      <td>site_3_856b194b097441958697c2bcd1f63982</td>\n",
       "      <td>aldfly</td>\n",
       "      <td>site_3_856b194b097441958697c2bcd1f63982</td>\n",
       "    </tr>\n",
       "  </tbody>\n",
       "</table>\n",
       "<p>76 rows × 3 columns</p>\n",
       "</div>"
      ],
      "text/plain": [
       "                                        row_id   birds  \\\n",
       "0    site_1_41e6fe6504a34bf6846938ba78d13df1_5  aldfly   \n",
       "1   site_1_41e6fe6504a34bf6846938ba78d13df1_10  aldfly   \n",
       "2   site_1_41e6fe6504a34bf6846938ba78d13df1_15  aldfly   \n",
       "3   site_1_41e6fe6504a34bf6846938ba78d13df1_20  nocall   \n",
       "4   site_1_41e6fe6504a34bf6846938ba78d13df1_25  aldfly   \n",
       "..                                         ...     ...   \n",
       "71     site_3_9cc5d9646f344f1bbb52640a988fe902  aldfly   \n",
       "72     site_3_a56e20a518684688a9952add8a9d5213  aldfly   \n",
       "73     site_3_96779836288745728306903d54e264dd  aldfly   \n",
       "74     site_3_f77783ba4c6641bc918b034a18c23e53  aldfly   \n",
       "75     site_3_856b194b097441958697c2bcd1f63982  aldfly   \n",
       "\n",
       "                               short_row_id  \n",
       "0   site_1_41e6fe6504a34bf6846938ba78d13df1  \n",
       "1   site_1_41e6fe6504a34bf6846938ba78d13df1  \n",
       "2   site_1_41e6fe6504a34bf6846938ba78d13df1  \n",
       "3   site_1_41e6fe6504a34bf6846938ba78d13df1  \n",
       "4   site_1_41e6fe6504a34bf6846938ba78d13df1  \n",
       "..                                      ...  \n",
       "71  site_3_9cc5d9646f344f1bbb52640a988fe902  \n",
       "72  site_3_a56e20a518684688a9952add8a9d5213  \n",
       "73  site_3_96779836288745728306903d54e264dd  \n",
       "74  site_3_f77783ba4c6641bc918b034a18c23e53  \n",
       "75  site_3_856b194b097441958697c2bcd1f63982  \n",
       "\n",
       "[76 rows x 3 columns]"
      ]
     },
     "execution_count": 16,
     "metadata": {},
     "output_type": "execute_result"
    }
   ],
   "source": [
    "submission['short_row_id'] = submission['row_id'].str[:39]\n",
    "submission"
   ]
  },
  {
   "cell_type": "code",
   "execution_count": 17,
   "id": "bfccb7fb",
   "metadata": {
    "execution": {
     "iopub.execute_input": "2024-01-11T14:02:58.639851Z",
     "iopub.status.busy": "2024-01-11T14:02:58.639018Z",
     "iopub.status.idle": "2024-01-11T14:02:58.645048Z",
     "shell.execute_reply": "2024-01-11T14:02:58.644421Z"
    },
    "papermill": {
     "duration": 0.022081,
     "end_time": "2024-01-11T14:02:58.647137",
     "exception": false,
     "start_time": "2024-01-11T14:02:58.625056",
     "status": "completed"
    },
    "tags": []
   },
   "outputs": [],
   "source": [
    "submission.drop_duplicates(subset=\"short_row_id\", \n",
    "                     keep=\"first\", inplace=True) \n",
    "submission['row_id'] = submission['short_row_id']\n",
    "submission.drop('short_row_id',axis=1,inplace=True)\n",
    "  "
   ]
  },
  {
   "cell_type": "code",
   "execution_count": 18,
   "id": "0c1309db",
   "metadata": {
    "execution": {
     "iopub.execute_input": "2024-01-11T14:02:58.675418Z",
     "iopub.status.busy": "2024-01-11T14:02:58.675035Z",
     "iopub.status.idle": "2024-01-11T14:02:58.684364Z",
     "shell.execute_reply": "2024-01-11T14:02:58.683015Z"
    },
    "papermill": {
     "duration": 0.02523,
     "end_time": "2024-01-11T14:02:58.686203",
     "exception": false,
     "start_time": "2024-01-11T14:02:58.660973",
     "status": "completed"
    },
    "tags": []
   },
   "outputs": [
    {
     "data": {
      "text/html": [
       "<div>\n",
       "<style scoped>\n",
       "    .dataframe tbody tr th:only-of-type {\n",
       "        vertical-align: middle;\n",
       "    }\n",
       "\n",
       "    .dataframe tbody tr th {\n",
       "        vertical-align: top;\n",
       "    }\n",
       "\n",
       "    .dataframe thead th {\n",
       "        text-align: right;\n",
       "    }\n",
       "</style>\n",
       "<table border=\"1\" class=\"dataframe\">\n",
       "  <thead>\n",
       "    <tr style=\"text-align: right;\">\n",
       "      <th></th>\n",
       "      <th>row_id</th>\n",
       "      <th>birds</th>\n",
       "    </tr>\n",
       "  </thead>\n",
       "  <tbody>\n",
       "    <tr>\n",
       "      <th>0</th>\n",
       "      <td>site_1_41e6fe6504a34bf6846938ba78d13df1</td>\n",
       "      <td>aldfly</td>\n",
       "    </tr>\n",
       "    <tr>\n",
       "      <th>5</th>\n",
       "      <td>site_1_cce64fffafed40f2b2f3d3413ec1c4c2</td>\n",
       "      <td>aldfly</td>\n",
       "    </tr>\n",
       "    <tr>\n",
       "      <th>12</th>\n",
       "      <td>site_1_99af324c881246949408c0b1ae54271f</td>\n",
       "      <td>aldfly</td>\n",
       "    </tr>\n",
       "    <tr>\n",
       "      <th>19</th>\n",
       "      <td>site_1_6ab74e177aa149468a39ca10beed6222</td>\n",
       "      <td>aldfly</td>\n",
       "    </tr>\n",
       "    <tr>\n",
       "      <th>25</th>\n",
       "      <td>site_1_b2fd3f01e9284293a1e33f9c811a2ed6</td>\n",
       "      <td>aldfly</td>\n",
       "    </tr>\n",
       "    <tr>\n",
       "      <th>32</th>\n",
       "      <td>site_2_de62b37ebba749d2abf29d4a493ea5d4</td>\n",
       "      <td>aldfly</td>\n",
       "    </tr>\n",
       "    <tr>\n",
       "      <th>33</th>\n",
       "      <td>site_2_8680a8dd845d40f296246dbed0d37394</td>\n",
       "      <td>aldfly</td>\n",
       "    </tr>\n",
       "    <tr>\n",
       "      <th>42</th>\n",
       "      <td>site_2_940d546e5eb745c9a74bce3f35efa1f9</td>\n",
       "      <td>nocall</td>\n",
       "    </tr>\n",
       "    <tr>\n",
       "      <th>56</th>\n",
       "      <td>site_2_07ab324c602e4afab65ddbcc746c31b5</td>\n",
       "      <td>aldfly</td>\n",
       "    </tr>\n",
       "    <tr>\n",
       "      <th>61</th>\n",
       "      <td>site_2_899616723a32409c996f6f3441646c2a</td>\n",
       "      <td>nocall</td>\n",
       "    </tr>\n",
       "    <tr>\n",
       "      <th>71</th>\n",
       "      <td>site_3_9cc5d9646f344f1bbb52640a988fe902</td>\n",
       "      <td>aldfly</td>\n",
       "    </tr>\n",
       "    <tr>\n",
       "      <th>72</th>\n",
       "      <td>site_3_a56e20a518684688a9952add8a9d5213</td>\n",
       "      <td>aldfly</td>\n",
       "    </tr>\n",
       "    <tr>\n",
       "      <th>73</th>\n",
       "      <td>site_3_96779836288745728306903d54e264dd</td>\n",
       "      <td>aldfly</td>\n",
       "    </tr>\n",
       "    <tr>\n",
       "      <th>74</th>\n",
       "      <td>site_3_f77783ba4c6641bc918b034a18c23e53</td>\n",
       "      <td>aldfly</td>\n",
       "    </tr>\n",
       "    <tr>\n",
       "      <th>75</th>\n",
       "      <td>site_3_856b194b097441958697c2bcd1f63982</td>\n",
       "      <td>aldfly</td>\n",
       "    </tr>\n",
       "  </tbody>\n",
       "</table>\n",
       "</div>"
      ],
      "text/plain": [
       "                                     row_id   birds\n",
       "0   site_1_41e6fe6504a34bf6846938ba78d13df1  aldfly\n",
       "5   site_1_cce64fffafed40f2b2f3d3413ec1c4c2  aldfly\n",
       "12  site_1_99af324c881246949408c0b1ae54271f  aldfly\n",
       "19  site_1_6ab74e177aa149468a39ca10beed6222  aldfly\n",
       "25  site_1_b2fd3f01e9284293a1e33f9c811a2ed6  aldfly\n",
       "32  site_2_de62b37ebba749d2abf29d4a493ea5d4  aldfly\n",
       "33  site_2_8680a8dd845d40f296246dbed0d37394  aldfly\n",
       "42  site_2_940d546e5eb745c9a74bce3f35efa1f9  nocall\n",
       "56  site_2_07ab324c602e4afab65ddbcc746c31b5  aldfly\n",
       "61  site_2_899616723a32409c996f6f3441646c2a  nocall\n",
       "71  site_3_9cc5d9646f344f1bbb52640a988fe902  aldfly\n",
       "72  site_3_a56e20a518684688a9952add8a9d5213  aldfly\n",
       "73  site_3_96779836288745728306903d54e264dd  aldfly\n",
       "74  site_3_f77783ba4c6641bc918b034a18c23e53  aldfly\n",
       "75  site_3_856b194b097441958697c2bcd1f63982  aldfly"
      ]
     },
     "execution_count": 18,
     "metadata": {},
     "output_type": "execute_result"
    }
   ],
   "source": [
    "submission"
   ]
  },
  {
   "cell_type": "code",
   "execution_count": null,
   "id": "2c267583",
   "metadata": {
    "papermill": {
     "duration": 0.01334,
     "end_time": "2024-01-11T14:02:58.713053",
     "exception": false,
     "start_time": "2024-01-11T14:02:58.699713",
     "status": "completed"
    },
    "tags": []
   },
   "outputs": [],
   "source": []
  }
 ],
 "metadata": {
  "kaggle": {
   "accelerator": "none",
   "dataSources": [
    {
     "databundleVersionId": 1292430,
     "sourceId": 19596,
     "sourceType": "competition"
    },
    {
     "datasetId": 725893,
     "sourceId": 1264575,
     "sourceType": "datasetVersion"
    },
    {
     "datasetId": 726424,
     "sourceId": 1262046,
     "sourceType": "datasetVersion"
    }
   ],
   "dockerImageVersionId": 30626,
   "isGpuEnabled": false,
   "isInternetEnabled": true,
   "language": "python",
   "sourceType": "notebook"
  },
  "kernelspec": {
   "display_name": "Python 3",
   "language": "python",
   "name": "python3"
  },
  "language_info": {
   "codemirror_mode": {
    "name": "ipython",
    "version": 3
   },
   "file_extension": ".py",
   "mimetype": "text/x-python",
   "name": "python",
   "nbconvert_exporter": "python",
   "pygments_lexer": "ipython3",
   "version": "3.10.12"
  },
  "papermill": {
   "default_parameters": {},
   "duration": 77.703878,
   "end_time": "2024-01-11T14:03:00.350041",
   "environment_variables": {},
   "exception": null,
   "input_path": "__notebook__.ipynb",
   "output_path": "__notebook__.ipynb",
   "parameters": {},
   "start_time": "2024-01-11T14:01:42.646163",
   "version": "2.4.0"
  }
 },
 "nbformat": 4,
 "nbformat_minor": 5
}
