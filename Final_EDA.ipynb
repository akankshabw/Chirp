{
  "nbformat": 4,
  "nbformat_minor": 0,
  "metadata": {
    "colab": {
      "provenance": [],
      "authorship_tag": "ABX9TyPd3aDY8P90S6GRHI4dLg/b",
      "include_colab_link": true
    },
    "kernelspec": {
      "name": "python3",
      "display_name": "Python 3"
    },
    "language_info": {
      "name": "python"
    }
  },
  "cells": [
    {
      "cell_type": "markdown",
      "metadata": {
        "id": "view-in-github",
        "colab_type": "text"
      },
      "source": [
        "<a href=\"https://colab.research.google.com/github/akankshabw/Chirp/blob/master/Final_EDA.ipynb\" target=\"_parent\"><img src=\"https://colab.research.google.com/assets/colab-badge.svg\" alt=\"Open In Colab\"/></a>"
      ]
    },
    {
      "cell_type": "code",
      "execution_count": null,
      "metadata": {
        "id": "UBIs9J3y1d2f"
      },
      "outputs": [],
      "source": [
        "import numpy as np\n",
        "import pandas as pd\n",
        "import matplotlib.pyplot as plt\n",
        "import seaborn as sns\n",
        "from sklearn.model_selection import train_test_split\n",
        "from sklearn.preprocessing import LabelEncoder"
      ]
    },
    {
      "cell_type": "code",
      "source": [
        "df = pd.read_csv('/content/train.csv')"
      ],
      "metadata": {
        "id": "1luSK-AK8IVr"
      },
      "execution_count": null,
      "outputs": []
    },
    {
      "cell_type": "code",
      "source": [
        "df.head()"
      ],
      "metadata": {
        "id": "q6dxVQd78QDP",
        "colab": {
          "base_uri": "https://localhost:8080/",
          "height": 642
        },
        "outputId": "1795389e-d251-4b18-d7e5-b06ce5f8c261"
      },
      "execution_count": null,
      "outputs": [
        {
          "output_type": "execute_result",
          "data": {
            "text/plain": [
              "   rating playback_used ebird_code    channels        date          pitch  duration      filename          speed           species number_of_notes                                          title                                   secondary_labels bird_seen           sci_name                                           location latitude sampling_rate        type elevation                                        description bitrate_of_mp3 file_type         volume                                         background   xc_id                                url        country            author                       primary_label longitude         length   time         recordist                                            license\n",
              "0     3.5            no     aldfly    1 (mono)  2013-05-25  Not specified        25  XC134874.mp3  Not specified  Alder Flycatcher   Not specified  XC134874 Alder Flycatcher (Empidonax alnorum)  ['Empidonax minimus_Least Flycatcher', 'Leioth...       yes  Empidonax alnorum        Grey Cloud Dunes SNA, Washington, Minnesota   44.793    48000 (Hz)        call     220 m  Two short segments of fairly quiet *pip* calls...   192000 (bps)       mp3  Not specified  American Yellow Warbler (Setophaga aestiva); L...  134874  https://www.xeno-canto.org/134874  United States  Jonathon Jongsma  Empidonax alnorum_Alder Flycatcher   -92.962  Not specified   8:00  Jonathon Jongsma        Creative Commons Attribution-ShareAlike 3.0\n",
              "1     4.0            no     aldfly  2 (stereo)  2013-05-27           both        36  XC135454.mp3           both  Alder Flycatcher             1-3  XC135454 Alder Flycatcher (Empidonax alnorum)                                                 []       yes  Empidonax alnorum   Carver's Gap Parking area, Roan Mountain Stat...  36.1065    44100 (Hz)  call, song    1700 m  At least three birds seen here moving around s...   128000 (bps)       mp3          level                                                NaN  135454  https://www.xeno-canto.org/135454  United States       Mike Nelson  Empidonax alnorum_Alder Flycatcher  -82.1106         0-3(s)  08:30       Mike Nelson  Creative Commons Attribution-NonCommercial-Sha...\n",
              "2     4.0            no     aldfly  2 (stereo)  2013-05-27           both        39  XC135455.mp3           both  Alder Flycatcher             1-3  XC135455 Alder Flycatcher (Empidonax alnorum)                                                 []       yes  Empidonax alnorum   Carver's Gap Parking area, Roan Mountain Stat...  36.1065    44100 (Hz)  call, song    1700 m  At least three birds seen chasing each other a...   128000 (bps)       mp3          level                                                NaN  135455  https://www.xeno-canto.org/135455  United States       Mike Nelson  Empidonax alnorum_Alder Flycatcher  -82.1106         0-3(s)  08:30       Mike Nelson  Creative Commons Attribution-NonCommercial-Sha...\n",
              "3     3.5            no     aldfly  2 (stereo)  2013-05-27           both        33  XC135456.mp3           both  Alder Flycatcher             1-3  XC135456 Alder Flycatcher (Empidonax alnorum)  ['Dumetella carolinensis_Gray Catbird', 'Bomby...       yes  Empidonax alnorum   Carver's Gap Parking area, Roan Mountain Stat...  36.1065    44100 (Hz)  call, song    1700 m  img:http://www.flickr.com/photos/madbirder/888...   128000 (bps)       mp3          level  Grey Catbird (Dumetella carolinensis); Cedar W...  135456  https://www.xeno-canto.org/135456  United States       Mike Nelson  Empidonax alnorum_Alder Flycatcher  -82.1106         0-3(s)  08:30       Mike Nelson  Creative Commons Attribution-NonCommercial-Sha...\n",
              "4     4.0            no     aldfly  2 (stereo)  2013-05-27           both        36  XC135457.mp3          level  Alder Flycatcher             1-3  XC135457 Alder Flycatcher (Empidonax alnorum)                                                 []       yes  Empidonax alnorum   Carver's Gap Parking area, Roan Mountain Stat...  36.1065    44100 (Hz)  call, song    1700 m  img:http://www.flickr.com/photos/madbirder/888...   128000 (bps)       mp3          level                                                NaN  135457  https://www.xeno-canto.org/135457  United States       Mike Nelson  Empidonax alnorum_Alder Flycatcher  -82.1106         0-3(s)  08:30       Mike Nelson  Creative Commons Attribution-NonCommercial-Sha..."
            ],
            "text/html": [
              "\n",
              "  <div id=\"df-3931f930-b11d-44cd-b3ab-ef8e23b459b1\" class=\"colab-df-container\">\n",
              "    <div>\n",
              "<style scoped>\n",
              "    .dataframe tbody tr th:only-of-type {\n",
              "        vertical-align: middle;\n",
              "    }\n",
              "\n",
              "    .dataframe tbody tr th {\n",
              "        vertical-align: top;\n",
              "    }\n",
              "\n",
              "    .dataframe thead th {\n",
              "        text-align: right;\n",
              "    }\n",
              "</style>\n",
              "<table border=\"1\" class=\"dataframe\">\n",
              "  <thead>\n",
              "    <tr style=\"text-align: right;\">\n",
              "      <th></th>\n",
              "      <th>rating</th>\n",
              "      <th>playback_used</th>\n",
              "      <th>ebird_code</th>\n",
              "      <th>channels</th>\n",
              "      <th>date</th>\n",
              "      <th>pitch</th>\n",
              "      <th>duration</th>\n",
              "      <th>filename</th>\n",
              "      <th>speed</th>\n",
              "      <th>species</th>\n",
              "      <th>number_of_notes</th>\n",
              "      <th>title</th>\n",
              "      <th>secondary_labels</th>\n",
              "      <th>bird_seen</th>\n",
              "      <th>sci_name</th>\n",
              "      <th>location</th>\n",
              "      <th>latitude</th>\n",
              "      <th>sampling_rate</th>\n",
              "      <th>type</th>\n",
              "      <th>elevation</th>\n",
              "      <th>description</th>\n",
              "      <th>bitrate_of_mp3</th>\n",
              "      <th>file_type</th>\n",
              "      <th>volume</th>\n",
              "      <th>background</th>\n",
              "      <th>xc_id</th>\n",
              "      <th>url</th>\n",
              "      <th>country</th>\n",
              "      <th>author</th>\n",
              "      <th>primary_label</th>\n",
              "      <th>longitude</th>\n",
              "      <th>length</th>\n",
              "      <th>time</th>\n",
              "      <th>recordist</th>\n",
              "      <th>license</th>\n",
              "    </tr>\n",
              "  </thead>\n",
              "  <tbody>\n",
              "    <tr>\n",
              "      <th>0</th>\n",
              "      <td>3.5</td>\n",
              "      <td>no</td>\n",
              "      <td>aldfly</td>\n",
              "      <td>1 (mono)</td>\n",
              "      <td>2013-05-25</td>\n",
              "      <td>Not specified</td>\n",
              "      <td>25</td>\n",
              "      <td>XC134874.mp3</td>\n",
              "      <td>Not specified</td>\n",
              "      <td>Alder Flycatcher</td>\n",
              "      <td>Not specified</td>\n",
              "      <td>XC134874 Alder Flycatcher (Empidonax alnorum)</td>\n",
              "      <td>['Empidonax minimus_Least Flycatcher', 'Leioth...</td>\n",
              "      <td>yes</td>\n",
              "      <td>Empidonax alnorum</td>\n",
              "      <td>Grey Cloud Dunes SNA, Washington, Minnesota</td>\n",
              "      <td>44.793</td>\n",
              "      <td>48000 (Hz)</td>\n",
              "      <td>call</td>\n",
              "      <td>220 m</td>\n",
              "      <td>Two short segments of fairly quiet *pip* calls...</td>\n",
              "      <td>192000 (bps)</td>\n",
              "      <td>mp3</td>\n",
              "      <td>Not specified</td>\n",
              "      <td>American Yellow Warbler (Setophaga aestiva); L...</td>\n",
              "      <td>134874</td>\n",
              "      <td>https://www.xeno-canto.org/134874</td>\n",
              "      <td>United States</td>\n",
              "      <td>Jonathon Jongsma</td>\n",
              "      <td>Empidonax alnorum_Alder Flycatcher</td>\n",
              "      <td>-92.962</td>\n",
              "      <td>Not specified</td>\n",
              "      <td>8:00</td>\n",
              "      <td>Jonathon Jongsma</td>\n",
              "      <td>Creative Commons Attribution-ShareAlike 3.0</td>\n",
              "    </tr>\n",
              "    <tr>\n",
              "      <th>1</th>\n",
              "      <td>4.0</td>\n",
              "      <td>no</td>\n",
              "      <td>aldfly</td>\n",
              "      <td>2 (stereo)</td>\n",
              "      <td>2013-05-27</td>\n",
              "      <td>both</td>\n",
              "      <td>36</td>\n",
              "      <td>XC135454.mp3</td>\n",
              "      <td>both</td>\n",
              "      <td>Alder Flycatcher</td>\n",
              "      <td>1-3</td>\n",
              "      <td>XC135454 Alder Flycatcher (Empidonax alnorum)</td>\n",
              "      <td>[]</td>\n",
              "      <td>yes</td>\n",
              "      <td>Empidonax alnorum</td>\n",
              "      <td>Carver's Gap Parking area, Roan Mountain Stat...</td>\n",
              "      <td>36.1065</td>\n",
              "      <td>44100 (Hz)</td>\n",
              "      <td>call, song</td>\n",
              "      <td>1700 m</td>\n",
              "      <td>At least three birds seen here moving around s...</td>\n",
              "      <td>128000 (bps)</td>\n",
              "      <td>mp3</td>\n",
              "      <td>level</td>\n",
              "      <td>NaN</td>\n",
              "      <td>135454</td>\n",
              "      <td>https://www.xeno-canto.org/135454</td>\n",
              "      <td>United States</td>\n",
              "      <td>Mike Nelson</td>\n",
              "      <td>Empidonax alnorum_Alder Flycatcher</td>\n",
              "      <td>-82.1106</td>\n",
              "      <td>0-3(s)</td>\n",
              "      <td>08:30</td>\n",
              "      <td>Mike Nelson</td>\n",
              "      <td>Creative Commons Attribution-NonCommercial-Sha...</td>\n",
              "    </tr>\n",
              "    <tr>\n",
              "      <th>2</th>\n",
              "      <td>4.0</td>\n",
              "      <td>no</td>\n",
              "      <td>aldfly</td>\n",
              "      <td>2 (stereo)</td>\n",
              "      <td>2013-05-27</td>\n",
              "      <td>both</td>\n",
              "      <td>39</td>\n",
              "      <td>XC135455.mp3</td>\n",
              "      <td>both</td>\n",
              "      <td>Alder Flycatcher</td>\n",
              "      <td>1-3</td>\n",
              "      <td>XC135455 Alder Flycatcher (Empidonax alnorum)</td>\n",
              "      <td>[]</td>\n",
              "      <td>yes</td>\n",
              "      <td>Empidonax alnorum</td>\n",
              "      <td>Carver's Gap Parking area, Roan Mountain Stat...</td>\n",
              "      <td>36.1065</td>\n",
              "      <td>44100 (Hz)</td>\n",
              "      <td>call, song</td>\n",
              "      <td>1700 m</td>\n",
              "      <td>At least three birds seen chasing each other a...</td>\n",
              "      <td>128000 (bps)</td>\n",
              "      <td>mp3</td>\n",
              "      <td>level</td>\n",
              "      <td>NaN</td>\n",
              "      <td>135455</td>\n",
              "      <td>https://www.xeno-canto.org/135455</td>\n",
              "      <td>United States</td>\n",
              "      <td>Mike Nelson</td>\n",
              "      <td>Empidonax alnorum_Alder Flycatcher</td>\n",
              "      <td>-82.1106</td>\n",
              "      <td>0-3(s)</td>\n",
              "      <td>08:30</td>\n",
              "      <td>Mike Nelson</td>\n",
              "      <td>Creative Commons Attribution-NonCommercial-Sha...</td>\n",
              "    </tr>\n",
              "    <tr>\n",
              "      <th>3</th>\n",
              "      <td>3.5</td>\n",
              "      <td>no</td>\n",
              "      <td>aldfly</td>\n",
              "      <td>2 (stereo)</td>\n",
              "      <td>2013-05-27</td>\n",
              "      <td>both</td>\n",
              "      <td>33</td>\n",
              "      <td>XC135456.mp3</td>\n",
              "      <td>both</td>\n",
              "      <td>Alder Flycatcher</td>\n",
              "      <td>1-3</td>\n",
              "      <td>XC135456 Alder Flycatcher (Empidonax alnorum)</td>\n",
              "      <td>['Dumetella carolinensis_Gray Catbird', 'Bomby...</td>\n",
              "      <td>yes</td>\n",
              "      <td>Empidonax alnorum</td>\n",
              "      <td>Carver's Gap Parking area, Roan Mountain Stat...</td>\n",
              "      <td>36.1065</td>\n",
              "      <td>44100 (Hz)</td>\n",
              "      <td>call, song</td>\n",
              "      <td>1700 m</td>\n",
              "      <td>img:http://www.flickr.com/photos/madbirder/888...</td>\n",
              "      <td>128000 (bps)</td>\n",
              "      <td>mp3</td>\n",
              "      <td>level</td>\n",
              "      <td>Grey Catbird (Dumetella carolinensis); Cedar W...</td>\n",
              "      <td>135456</td>\n",
              "      <td>https://www.xeno-canto.org/135456</td>\n",
              "      <td>United States</td>\n",
              "      <td>Mike Nelson</td>\n",
              "      <td>Empidonax alnorum_Alder Flycatcher</td>\n",
              "      <td>-82.1106</td>\n",
              "      <td>0-3(s)</td>\n",
              "      <td>08:30</td>\n",
              "      <td>Mike Nelson</td>\n",
              "      <td>Creative Commons Attribution-NonCommercial-Sha...</td>\n",
              "    </tr>\n",
              "    <tr>\n",
              "      <th>4</th>\n",
              "      <td>4.0</td>\n",
              "      <td>no</td>\n",
              "      <td>aldfly</td>\n",
              "      <td>2 (stereo)</td>\n",
              "      <td>2013-05-27</td>\n",
              "      <td>both</td>\n",
              "      <td>36</td>\n",
              "      <td>XC135457.mp3</td>\n",
              "      <td>level</td>\n",
              "      <td>Alder Flycatcher</td>\n",
              "      <td>1-3</td>\n",
              "      <td>XC135457 Alder Flycatcher (Empidonax alnorum)</td>\n",
              "      <td>[]</td>\n",
              "      <td>yes</td>\n",
              "      <td>Empidonax alnorum</td>\n",
              "      <td>Carver's Gap Parking area, Roan Mountain Stat...</td>\n",
              "      <td>36.1065</td>\n",
              "      <td>44100 (Hz)</td>\n",
              "      <td>call, song</td>\n",
              "      <td>1700 m</td>\n",
              "      <td>img:http://www.flickr.com/photos/madbirder/888...</td>\n",
              "      <td>128000 (bps)</td>\n",
              "      <td>mp3</td>\n",
              "      <td>level</td>\n",
              "      <td>NaN</td>\n",
              "      <td>135457</td>\n",
              "      <td>https://www.xeno-canto.org/135457</td>\n",
              "      <td>United States</td>\n",
              "      <td>Mike Nelson</td>\n",
              "      <td>Empidonax alnorum_Alder Flycatcher</td>\n",
              "      <td>-82.1106</td>\n",
              "      <td>0-3(s)</td>\n",
              "      <td>08:30</td>\n",
              "      <td>Mike Nelson</td>\n",
              "      <td>Creative Commons Attribution-NonCommercial-Sha...</td>\n",
              "    </tr>\n",
              "  </tbody>\n",
              "</table>\n",
              "</div>\n",
              "    <div class=\"colab-df-buttons\">\n",
              "\n",
              "  <div class=\"colab-df-container\">\n",
              "    <button class=\"colab-df-convert\" onclick=\"convertToInteractive('df-3931f930-b11d-44cd-b3ab-ef8e23b459b1')\"\n",
              "            title=\"Convert this dataframe to an interactive table.\"\n",
              "            style=\"display:none;\">\n",
              "\n",
              "  <svg xmlns=\"http://www.w3.org/2000/svg\" height=\"24px\" viewBox=\"0 -960 960 960\">\n",
              "    <path d=\"M120-120v-720h720v720H120Zm60-500h600v-160H180v160Zm220 220h160v-160H400v160Zm0 220h160v-160H400v160ZM180-400h160v-160H180v160Zm440 0h160v-160H620v160ZM180-180h160v-160H180v160Zm440 0h160v-160H620v160Z\"/>\n",
              "  </svg>\n",
              "    </button>\n",
              "\n",
              "  <style>\n",
              "    .colab-df-container {\n",
              "      display:flex;\n",
              "      gap: 12px;\n",
              "    }\n",
              "\n",
              "    .colab-df-convert {\n",
              "      background-color: #E8F0FE;\n",
              "      border: none;\n",
              "      border-radius: 50%;\n",
              "      cursor: pointer;\n",
              "      display: none;\n",
              "      fill: #1967D2;\n",
              "      height: 32px;\n",
              "      padding: 0 0 0 0;\n",
              "      width: 32px;\n",
              "    }\n",
              "\n",
              "    .colab-df-convert:hover {\n",
              "      background-color: #E2EBFA;\n",
              "      box-shadow: 0px 1px 2px rgba(60, 64, 67, 0.3), 0px 1px 3px 1px rgba(60, 64, 67, 0.15);\n",
              "      fill: #174EA6;\n",
              "    }\n",
              "\n",
              "    .colab-df-buttons div {\n",
              "      margin-bottom: 4px;\n",
              "    }\n",
              "\n",
              "    [theme=dark] .colab-df-convert {\n",
              "      background-color: #3B4455;\n",
              "      fill: #D2E3FC;\n",
              "    }\n",
              "\n",
              "    [theme=dark] .colab-df-convert:hover {\n",
              "      background-color: #434B5C;\n",
              "      box-shadow: 0px 1px 3px 1px rgba(0, 0, 0, 0.15);\n",
              "      filter: drop-shadow(0px 1px 2px rgba(0, 0, 0, 0.3));\n",
              "      fill: #FFFFFF;\n",
              "    }\n",
              "  </style>\n",
              "\n",
              "    <script>\n",
              "      const buttonEl =\n",
              "        document.querySelector('#df-3931f930-b11d-44cd-b3ab-ef8e23b459b1 button.colab-df-convert');\n",
              "      buttonEl.style.display =\n",
              "        google.colab.kernel.accessAllowed ? 'block' : 'none';\n",
              "\n",
              "      async function convertToInteractive(key) {\n",
              "        const element = document.querySelector('#df-3931f930-b11d-44cd-b3ab-ef8e23b459b1');\n",
              "        const dataTable =\n",
              "          await google.colab.kernel.invokeFunction('convertToInteractive',\n",
              "                                                    [key], {});\n",
              "        if (!dataTable) return;\n",
              "\n",
              "        const docLinkHtml = 'Like what you see? Visit the ' +\n",
              "          '<a target=\"_blank\" href=https://colab.research.google.com/notebooks/data_table.ipynb>data table notebook</a>'\n",
              "          + ' to learn more about interactive tables.';\n",
              "        element.innerHTML = '';\n",
              "        dataTable['output_type'] = 'display_data';\n",
              "        await google.colab.output.renderOutput(dataTable, element);\n",
              "        const docLink = document.createElement('div');\n",
              "        docLink.innerHTML = docLinkHtml;\n",
              "        element.appendChild(docLink);\n",
              "      }\n",
              "    </script>\n",
              "  </div>\n",
              "\n",
              "\n",
              "<div id=\"df-3fd6d40a-ce86-41a3-bfa6-1d36d1f1d64f\">\n",
              "  <button class=\"colab-df-quickchart\" onclick=\"quickchart('df-3fd6d40a-ce86-41a3-bfa6-1d36d1f1d64f')\"\n",
              "            title=\"Suggest charts\"\n",
              "            style=\"display:none;\">\n",
              "\n",
              "<svg xmlns=\"http://www.w3.org/2000/svg\" height=\"24px\"viewBox=\"0 0 24 24\"\n",
              "     width=\"24px\">\n",
              "    <g>\n",
              "        <path d=\"M19 3H5c-1.1 0-2 .9-2 2v14c0 1.1.9 2 2 2h14c1.1 0 2-.9 2-2V5c0-1.1-.9-2-2-2zM9 17H7v-7h2v7zm4 0h-2V7h2v10zm4 0h-2v-4h2v4z\"/>\n",
              "    </g>\n",
              "</svg>\n",
              "  </button>\n",
              "\n",
              "<style>\n",
              "  .colab-df-quickchart {\n",
              "      --bg-color: #E8F0FE;\n",
              "      --fill-color: #1967D2;\n",
              "      --hover-bg-color: #E2EBFA;\n",
              "      --hover-fill-color: #174EA6;\n",
              "      --disabled-fill-color: #AAA;\n",
              "      --disabled-bg-color: #DDD;\n",
              "  }\n",
              "\n",
              "  [theme=dark] .colab-df-quickchart {\n",
              "      --bg-color: #3B4455;\n",
              "      --fill-color: #D2E3FC;\n",
              "      --hover-bg-color: #434B5C;\n",
              "      --hover-fill-color: #FFFFFF;\n",
              "      --disabled-bg-color: #3B4455;\n",
              "      --disabled-fill-color: #666;\n",
              "  }\n",
              "\n",
              "  .colab-df-quickchart {\n",
              "    background-color: var(--bg-color);\n",
              "    border: none;\n",
              "    border-radius: 50%;\n",
              "    cursor: pointer;\n",
              "    display: none;\n",
              "    fill: var(--fill-color);\n",
              "    height: 32px;\n",
              "    padding: 0;\n",
              "    width: 32px;\n",
              "  }\n",
              "\n",
              "  .colab-df-quickchart:hover {\n",
              "    background-color: var(--hover-bg-color);\n",
              "    box-shadow: 0 1px 2px rgba(60, 64, 67, 0.3), 0 1px 3px 1px rgba(60, 64, 67, 0.15);\n",
              "    fill: var(--button-hover-fill-color);\n",
              "  }\n",
              "\n",
              "  .colab-df-quickchart-complete:disabled,\n",
              "  .colab-df-quickchart-complete:disabled:hover {\n",
              "    background-color: var(--disabled-bg-color);\n",
              "    fill: var(--disabled-fill-color);\n",
              "    box-shadow: none;\n",
              "  }\n",
              "\n",
              "  .colab-df-spinner {\n",
              "    border: 2px solid var(--fill-color);\n",
              "    border-color: transparent;\n",
              "    border-bottom-color: var(--fill-color);\n",
              "    animation:\n",
              "      spin 1s steps(1) infinite;\n",
              "  }\n",
              "\n",
              "  @keyframes spin {\n",
              "    0% {\n",
              "      border-color: transparent;\n",
              "      border-bottom-color: var(--fill-color);\n",
              "      border-left-color: var(--fill-color);\n",
              "    }\n",
              "    20% {\n",
              "      border-color: transparent;\n",
              "      border-left-color: var(--fill-color);\n",
              "      border-top-color: var(--fill-color);\n",
              "    }\n",
              "    30% {\n",
              "      border-color: transparent;\n",
              "      border-left-color: var(--fill-color);\n",
              "      border-top-color: var(--fill-color);\n",
              "      border-right-color: var(--fill-color);\n",
              "    }\n",
              "    40% {\n",
              "      border-color: transparent;\n",
              "      border-right-color: var(--fill-color);\n",
              "      border-top-color: var(--fill-color);\n",
              "    }\n",
              "    60% {\n",
              "      border-color: transparent;\n",
              "      border-right-color: var(--fill-color);\n",
              "    }\n",
              "    80% {\n",
              "      border-color: transparent;\n",
              "      border-right-color: var(--fill-color);\n",
              "      border-bottom-color: var(--fill-color);\n",
              "    }\n",
              "    90% {\n",
              "      border-color: transparent;\n",
              "      border-bottom-color: var(--fill-color);\n",
              "    }\n",
              "  }\n",
              "</style>\n",
              "\n",
              "  <script>\n",
              "    async function quickchart(key) {\n",
              "      const quickchartButtonEl =\n",
              "        document.querySelector('#' + key + ' button');\n",
              "      quickchartButtonEl.disabled = true;  // To prevent multiple clicks.\n",
              "      quickchartButtonEl.classList.add('colab-df-spinner');\n",
              "      try {\n",
              "        const charts = await google.colab.kernel.invokeFunction(\n",
              "            'suggestCharts', [key], {});\n",
              "      } catch (error) {\n",
              "        console.error('Error during call to suggestCharts:', error);\n",
              "      }\n",
              "      quickchartButtonEl.classList.remove('colab-df-spinner');\n",
              "      quickchartButtonEl.classList.add('colab-df-quickchart-complete');\n",
              "    }\n",
              "    (() => {\n",
              "      let quickchartButtonEl =\n",
              "        document.querySelector('#df-3fd6d40a-ce86-41a3-bfa6-1d36d1f1d64f button');\n",
              "      quickchartButtonEl.style.display =\n",
              "        google.colab.kernel.accessAllowed ? 'block' : 'none';\n",
              "    })();\n",
              "  </script>\n",
              "</div>\n",
              "\n",
              "    </div>\n",
              "  </div>\n"
            ]
          },
          "metadata": {},
          "execution_count": 78
        }
      ]
    },
    {
      "cell_type": "code",
      "source": [
        "pd.set_option('display.max_columns',None)\n",
        "pd.set_option('display.expand_frame_repr',False)"
      ],
      "metadata": {
        "id": "1QrQ-Kuk8Ro1"
      },
      "execution_count": null,
      "outputs": []
    },
    {
      "cell_type": "code",
      "source": [
        "df.head()"
      ],
      "metadata": {
        "colab": {
          "base_uri": "https://localhost:8080/",
          "height": 642
        },
        "id": "7R9jF4LX-HjU",
        "outputId": "b0412b65-283f-49f7-a979-1d81a751bd95"
      },
      "execution_count": null,
      "outputs": [
        {
          "output_type": "execute_result",
          "data": {
            "text/plain": [
              "   rating playback_used ebird_code    channels        date          pitch  duration      filename          speed           species number_of_notes                                          title                                   secondary_labels bird_seen           sci_name                                           location latitude sampling_rate        type elevation                                        description bitrate_of_mp3 file_type         volume                                         background   xc_id                                url        country            author                       primary_label longitude         length   time         recordist                                            license\n",
              "0     3.5            no     aldfly    1 (mono)  2013-05-25  Not specified        25  XC134874.mp3  Not specified  Alder Flycatcher   Not specified  XC134874 Alder Flycatcher (Empidonax alnorum)  ['Empidonax minimus_Least Flycatcher', 'Leioth...       yes  Empidonax alnorum        Grey Cloud Dunes SNA, Washington, Minnesota   44.793    48000 (Hz)        call     220 m  Two short segments of fairly quiet *pip* calls...   192000 (bps)       mp3  Not specified  American Yellow Warbler (Setophaga aestiva); L...  134874  https://www.xeno-canto.org/134874  United States  Jonathon Jongsma  Empidonax alnorum_Alder Flycatcher   -92.962  Not specified   8:00  Jonathon Jongsma        Creative Commons Attribution-ShareAlike 3.0\n",
              "1     4.0            no     aldfly  2 (stereo)  2013-05-27           both        36  XC135454.mp3           both  Alder Flycatcher             1-3  XC135454 Alder Flycatcher (Empidonax alnorum)                                                 []       yes  Empidonax alnorum   Carver's Gap Parking area, Roan Mountain Stat...  36.1065    44100 (Hz)  call, song    1700 m  At least three birds seen here moving around s...   128000 (bps)       mp3          level                                                NaN  135454  https://www.xeno-canto.org/135454  United States       Mike Nelson  Empidonax alnorum_Alder Flycatcher  -82.1106         0-3(s)  08:30       Mike Nelson  Creative Commons Attribution-NonCommercial-Sha...\n",
              "2     4.0            no     aldfly  2 (stereo)  2013-05-27           both        39  XC135455.mp3           both  Alder Flycatcher             1-3  XC135455 Alder Flycatcher (Empidonax alnorum)                                                 []       yes  Empidonax alnorum   Carver's Gap Parking area, Roan Mountain Stat...  36.1065    44100 (Hz)  call, song    1700 m  At least three birds seen chasing each other a...   128000 (bps)       mp3          level                                                NaN  135455  https://www.xeno-canto.org/135455  United States       Mike Nelson  Empidonax alnorum_Alder Flycatcher  -82.1106         0-3(s)  08:30       Mike Nelson  Creative Commons Attribution-NonCommercial-Sha...\n",
              "3     3.5            no     aldfly  2 (stereo)  2013-05-27           both        33  XC135456.mp3           both  Alder Flycatcher             1-3  XC135456 Alder Flycatcher (Empidonax alnorum)  ['Dumetella carolinensis_Gray Catbird', 'Bomby...       yes  Empidonax alnorum   Carver's Gap Parking area, Roan Mountain Stat...  36.1065    44100 (Hz)  call, song    1700 m  img:http://www.flickr.com/photos/madbirder/888...   128000 (bps)       mp3          level  Grey Catbird (Dumetella carolinensis); Cedar W...  135456  https://www.xeno-canto.org/135456  United States       Mike Nelson  Empidonax alnorum_Alder Flycatcher  -82.1106         0-3(s)  08:30       Mike Nelson  Creative Commons Attribution-NonCommercial-Sha...\n",
              "4     4.0            no     aldfly  2 (stereo)  2013-05-27           both        36  XC135457.mp3          level  Alder Flycatcher             1-3  XC135457 Alder Flycatcher (Empidonax alnorum)                                                 []       yes  Empidonax alnorum   Carver's Gap Parking area, Roan Mountain Stat...  36.1065    44100 (Hz)  call, song    1700 m  img:http://www.flickr.com/photos/madbirder/888...   128000 (bps)       mp3          level                                                NaN  135457  https://www.xeno-canto.org/135457  United States       Mike Nelson  Empidonax alnorum_Alder Flycatcher  -82.1106         0-3(s)  08:30       Mike Nelson  Creative Commons Attribution-NonCommercial-Sha..."
            ],
            "text/html": [
              "\n",
              "  <div id=\"df-e2e71b01-a7b2-441c-b0ce-43bf8a9d2a79\" class=\"colab-df-container\">\n",
              "    <div>\n",
              "<style scoped>\n",
              "    .dataframe tbody tr th:only-of-type {\n",
              "        vertical-align: middle;\n",
              "    }\n",
              "\n",
              "    .dataframe tbody tr th {\n",
              "        vertical-align: top;\n",
              "    }\n",
              "\n",
              "    .dataframe thead th {\n",
              "        text-align: right;\n",
              "    }\n",
              "</style>\n",
              "<table border=\"1\" class=\"dataframe\">\n",
              "  <thead>\n",
              "    <tr style=\"text-align: right;\">\n",
              "      <th></th>\n",
              "      <th>rating</th>\n",
              "      <th>playback_used</th>\n",
              "      <th>ebird_code</th>\n",
              "      <th>channels</th>\n",
              "      <th>date</th>\n",
              "      <th>pitch</th>\n",
              "      <th>duration</th>\n",
              "      <th>filename</th>\n",
              "      <th>speed</th>\n",
              "      <th>species</th>\n",
              "      <th>number_of_notes</th>\n",
              "      <th>title</th>\n",
              "      <th>secondary_labels</th>\n",
              "      <th>bird_seen</th>\n",
              "      <th>sci_name</th>\n",
              "      <th>location</th>\n",
              "      <th>latitude</th>\n",
              "      <th>sampling_rate</th>\n",
              "      <th>type</th>\n",
              "      <th>elevation</th>\n",
              "      <th>description</th>\n",
              "      <th>bitrate_of_mp3</th>\n",
              "      <th>file_type</th>\n",
              "      <th>volume</th>\n",
              "      <th>background</th>\n",
              "      <th>xc_id</th>\n",
              "      <th>url</th>\n",
              "      <th>country</th>\n",
              "      <th>author</th>\n",
              "      <th>primary_label</th>\n",
              "      <th>longitude</th>\n",
              "      <th>length</th>\n",
              "      <th>time</th>\n",
              "      <th>recordist</th>\n",
              "      <th>license</th>\n",
              "    </tr>\n",
              "  </thead>\n",
              "  <tbody>\n",
              "    <tr>\n",
              "      <th>0</th>\n",
              "      <td>3.5</td>\n",
              "      <td>no</td>\n",
              "      <td>aldfly</td>\n",
              "      <td>1 (mono)</td>\n",
              "      <td>2013-05-25</td>\n",
              "      <td>Not specified</td>\n",
              "      <td>25</td>\n",
              "      <td>XC134874.mp3</td>\n",
              "      <td>Not specified</td>\n",
              "      <td>Alder Flycatcher</td>\n",
              "      <td>Not specified</td>\n",
              "      <td>XC134874 Alder Flycatcher (Empidonax alnorum)</td>\n",
              "      <td>['Empidonax minimus_Least Flycatcher', 'Leioth...</td>\n",
              "      <td>yes</td>\n",
              "      <td>Empidonax alnorum</td>\n",
              "      <td>Grey Cloud Dunes SNA, Washington, Minnesota</td>\n",
              "      <td>44.793</td>\n",
              "      <td>48000 (Hz)</td>\n",
              "      <td>call</td>\n",
              "      <td>220 m</td>\n",
              "      <td>Two short segments of fairly quiet *pip* calls...</td>\n",
              "      <td>192000 (bps)</td>\n",
              "      <td>mp3</td>\n",
              "      <td>Not specified</td>\n",
              "      <td>American Yellow Warbler (Setophaga aestiva); L...</td>\n",
              "      <td>134874</td>\n",
              "      <td>https://www.xeno-canto.org/134874</td>\n",
              "      <td>United States</td>\n",
              "      <td>Jonathon Jongsma</td>\n",
              "      <td>Empidonax alnorum_Alder Flycatcher</td>\n",
              "      <td>-92.962</td>\n",
              "      <td>Not specified</td>\n",
              "      <td>8:00</td>\n",
              "      <td>Jonathon Jongsma</td>\n",
              "      <td>Creative Commons Attribution-ShareAlike 3.0</td>\n",
              "    </tr>\n",
              "    <tr>\n",
              "      <th>1</th>\n",
              "      <td>4.0</td>\n",
              "      <td>no</td>\n",
              "      <td>aldfly</td>\n",
              "      <td>2 (stereo)</td>\n",
              "      <td>2013-05-27</td>\n",
              "      <td>both</td>\n",
              "      <td>36</td>\n",
              "      <td>XC135454.mp3</td>\n",
              "      <td>both</td>\n",
              "      <td>Alder Flycatcher</td>\n",
              "      <td>1-3</td>\n",
              "      <td>XC135454 Alder Flycatcher (Empidonax alnorum)</td>\n",
              "      <td>[]</td>\n",
              "      <td>yes</td>\n",
              "      <td>Empidonax alnorum</td>\n",
              "      <td>Carver's Gap Parking area, Roan Mountain Stat...</td>\n",
              "      <td>36.1065</td>\n",
              "      <td>44100 (Hz)</td>\n",
              "      <td>call, song</td>\n",
              "      <td>1700 m</td>\n",
              "      <td>At least three birds seen here moving around s...</td>\n",
              "      <td>128000 (bps)</td>\n",
              "      <td>mp3</td>\n",
              "      <td>level</td>\n",
              "      <td>NaN</td>\n",
              "      <td>135454</td>\n",
              "      <td>https://www.xeno-canto.org/135454</td>\n",
              "      <td>United States</td>\n",
              "      <td>Mike Nelson</td>\n",
              "      <td>Empidonax alnorum_Alder Flycatcher</td>\n",
              "      <td>-82.1106</td>\n",
              "      <td>0-3(s)</td>\n",
              "      <td>08:30</td>\n",
              "      <td>Mike Nelson</td>\n",
              "      <td>Creative Commons Attribution-NonCommercial-Sha...</td>\n",
              "    </tr>\n",
              "    <tr>\n",
              "      <th>2</th>\n",
              "      <td>4.0</td>\n",
              "      <td>no</td>\n",
              "      <td>aldfly</td>\n",
              "      <td>2 (stereo)</td>\n",
              "      <td>2013-05-27</td>\n",
              "      <td>both</td>\n",
              "      <td>39</td>\n",
              "      <td>XC135455.mp3</td>\n",
              "      <td>both</td>\n",
              "      <td>Alder Flycatcher</td>\n",
              "      <td>1-3</td>\n",
              "      <td>XC135455 Alder Flycatcher (Empidonax alnorum)</td>\n",
              "      <td>[]</td>\n",
              "      <td>yes</td>\n",
              "      <td>Empidonax alnorum</td>\n",
              "      <td>Carver's Gap Parking area, Roan Mountain Stat...</td>\n",
              "      <td>36.1065</td>\n",
              "      <td>44100 (Hz)</td>\n",
              "      <td>call, song</td>\n",
              "      <td>1700 m</td>\n",
              "      <td>At least three birds seen chasing each other a...</td>\n",
              "      <td>128000 (bps)</td>\n",
              "      <td>mp3</td>\n",
              "      <td>level</td>\n",
              "      <td>NaN</td>\n",
              "      <td>135455</td>\n",
              "      <td>https://www.xeno-canto.org/135455</td>\n",
              "      <td>United States</td>\n",
              "      <td>Mike Nelson</td>\n",
              "      <td>Empidonax alnorum_Alder Flycatcher</td>\n",
              "      <td>-82.1106</td>\n",
              "      <td>0-3(s)</td>\n",
              "      <td>08:30</td>\n",
              "      <td>Mike Nelson</td>\n",
              "      <td>Creative Commons Attribution-NonCommercial-Sha...</td>\n",
              "    </tr>\n",
              "    <tr>\n",
              "      <th>3</th>\n",
              "      <td>3.5</td>\n",
              "      <td>no</td>\n",
              "      <td>aldfly</td>\n",
              "      <td>2 (stereo)</td>\n",
              "      <td>2013-05-27</td>\n",
              "      <td>both</td>\n",
              "      <td>33</td>\n",
              "      <td>XC135456.mp3</td>\n",
              "      <td>both</td>\n",
              "      <td>Alder Flycatcher</td>\n",
              "      <td>1-3</td>\n",
              "      <td>XC135456 Alder Flycatcher (Empidonax alnorum)</td>\n",
              "      <td>['Dumetella carolinensis_Gray Catbird', 'Bomby...</td>\n",
              "      <td>yes</td>\n",
              "      <td>Empidonax alnorum</td>\n",
              "      <td>Carver's Gap Parking area, Roan Mountain Stat...</td>\n",
              "      <td>36.1065</td>\n",
              "      <td>44100 (Hz)</td>\n",
              "      <td>call, song</td>\n",
              "      <td>1700 m</td>\n",
              "      <td>img:http://www.flickr.com/photos/madbirder/888...</td>\n",
              "      <td>128000 (bps)</td>\n",
              "      <td>mp3</td>\n",
              "      <td>level</td>\n",
              "      <td>Grey Catbird (Dumetella carolinensis); Cedar W...</td>\n",
              "      <td>135456</td>\n",
              "      <td>https://www.xeno-canto.org/135456</td>\n",
              "      <td>United States</td>\n",
              "      <td>Mike Nelson</td>\n",
              "      <td>Empidonax alnorum_Alder Flycatcher</td>\n",
              "      <td>-82.1106</td>\n",
              "      <td>0-3(s)</td>\n",
              "      <td>08:30</td>\n",
              "      <td>Mike Nelson</td>\n",
              "      <td>Creative Commons Attribution-NonCommercial-Sha...</td>\n",
              "    </tr>\n",
              "    <tr>\n",
              "      <th>4</th>\n",
              "      <td>4.0</td>\n",
              "      <td>no</td>\n",
              "      <td>aldfly</td>\n",
              "      <td>2 (stereo)</td>\n",
              "      <td>2013-05-27</td>\n",
              "      <td>both</td>\n",
              "      <td>36</td>\n",
              "      <td>XC135457.mp3</td>\n",
              "      <td>level</td>\n",
              "      <td>Alder Flycatcher</td>\n",
              "      <td>1-3</td>\n",
              "      <td>XC135457 Alder Flycatcher (Empidonax alnorum)</td>\n",
              "      <td>[]</td>\n",
              "      <td>yes</td>\n",
              "      <td>Empidonax alnorum</td>\n",
              "      <td>Carver's Gap Parking area, Roan Mountain Stat...</td>\n",
              "      <td>36.1065</td>\n",
              "      <td>44100 (Hz)</td>\n",
              "      <td>call, song</td>\n",
              "      <td>1700 m</td>\n",
              "      <td>img:http://www.flickr.com/photos/madbirder/888...</td>\n",
              "      <td>128000 (bps)</td>\n",
              "      <td>mp3</td>\n",
              "      <td>level</td>\n",
              "      <td>NaN</td>\n",
              "      <td>135457</td>\n",
              "      <td>https://www.xeno-canto.org/135457</td>\n",
              "      <td>United States</td>\n",
              "      <td>Mike Nelson</td>\n",
              "      <td>Empidonax alnorum_Alder Flycatcher</td>\n",
              "      <td>-82.1106</td>\n",
              "      <td>0-3(s)</td>\n",
              "      <td>08:30</td>\n",
              "      <td>Mike Nelson</td>\n",
              "      <td>Creative Commons Attribution-NonCommercial-Sha...</td>\n",
              "    </tr>\n",
              "  </tbody>\n",
              "</table>\n",
              "</div>\n",
              "    <div class=\"colab-df-buttons\">\n",
              "\n",
              "  <div class=\"colab-df-container\">\n",
              "    <button class=\"colab-df-convert\" onclick=\"convertToInteractive('df-e2e71b01-a7b2-441c-b0ce-43bf8a9d2a79')\"\n",
              "            title=\"Convert this dataframe to an interactive table.\"\n",
              "            style=\"display:none;\">\n",
              "\n",
              "  <svg xmlns=\"http://www.w3.org/2000/svg\" height=\"24px\" viewBox=\"0 -960 960 960\">\n",
              "    <path d=\"M120-120v-720h720v720H120Zm60-500h600v-160H180v160Zm220 220h160v-160H400v160Zm0 220h160v-160H400v160ZM180-400h160v-160H180v160Zm440 0h160v-160H620v160ZM180-180h160v-160H180v160Zm440 0h160v-160H620v160Z\"/>\n",
              "  </svg>\n",
              "    </button>\n",
              "\n",
              "  <style>\n",
              "    .colab-df-container {\n",
              "      display:flex;\n",
              "      gap: 12px;\n",
              "    }\n",
              "\n",
              "    .colab-df-convert {\n",
              "      background-color: #E8F0FE;\n",
              "      border: none;\n",
              "      border-radius: 50%;\n",
              "      cursor: pointer;\n",
              "      display: none;\n",
              "      fill: #1967D2;\n",
              "      height: 32px;\n",
              "      padding: 0 0 0 0;\n",
              "      width: 32px;\n",
              "    }\n",
              "\n",
              "    .colab-df-convert:hover {\n",
              "      background-color: #E2EBFA;\n",
              "      box-shadow: 0px 1px 2px rgba(60, 64, 67, 0.3), 0px 1px 3px 1px rgba(60, 64, 67, 0.15);\n",
              "      fill: #174EA6;\n",
              "    }\n",
              "\n",
              "    .colab-df-buttons div {\n",
              "      margin-bottom: 4px;\n",
              "    }\n",
              "\n",
              "    [theme=dark] .colab-df-convert {\n",
              "      background-color: #3B4455;\n",
              "      fill: #D2E3FC;\n",
              "    }\n",
              "\n",
              "    [theme=dark] .colab-df-convert:hover {\n",
              "      background-color: #434B5C;\n",
              "      box-shadow: 0px 1px 3px 1px rgba(0, 0, 0, 0.15);\n",
              "      filter: drop-shadow(0px 1px 2px rgba(0, 0, 0, 0.3));\n",
              "      fill: #FFFFFF;\n",
              "    }\n",
              "  </style>\n",
              "\n",
              "    <script>\n",
              "      const buttonEl =\n",
              "        document.querySelector('#df-e2e71b01-a7b2-441c-b0ce-43bf8a9d2a79 button.colab-df-convert');\n",
              "      buttonEl.style.display =\n",
              "        google.colab.kernel.accessAllowed ? 'block' : 'none';\n",
              "\n",
              "      async function convertToInteractive(key) {\n",
              "        const element = document.querySelector('#df-e2e71b01-a7b2-441c-b0ce-43bf8a9d2a79');\n",
              "        const dataTable =\n",
              "          await google.colab.kernel.invokeFunction('convertToInteractive',\n",
              "                                                    [key], {});\n",
              "        if (!dataTable) return;\n",
              "\n",
              "        const docLinkHtml = 'Like what you see? Visit the ' +\n",
              "          '<a target=\"_blank\" href=https://colab.research.google.com/notebooks/data_table.ipynb>data table notebook</a>'\n",
              "          + ' to learn more about interactive tables.';\n",
              "        element.innerHTML = '';\n",
              "        dataTable['output_type'] = 'display_data';\n",
              "        await google.colab.output.renderOutput(dataTable, element);\n",
              "        const docLink = document.createElement('div');\n",
              "        docLink.innerHTML = docLinkHtml;\n",
              "        element.appendChild(docLink);\n",
              "      }\n",
              "    </script>\n",
              "  </div>\n",
              "\n",
              "\n",
              "<div id=\"df-82b396f4-c2d2-425a-8547-db24b3d296bc\">\n",
              "  <button class=\"colab-df-quickchart\" onclick=\"quickchart('df-82b396f4-c2d2-425a-8547-db24b3d296bc')\"\n",
              "            title=\"Suggest charts\"\n",
              "            style=\"display:none;\">\n",
              "\n",
              "<svg xmlns=\"http://www.w3.org/2000/svg\" height=\"24px\"viewBox=\"0 0 24 24\"\n",
              "     width=\"24px\">\n",
              "    <g>\n",
              "        <path d=\"M19 3H5c-1.1 0-2 .9-2 2v14c0 1.1.9 2 2 2h14c1.1 0 2-.9 2-2V5c0-1.1-.9-2-2-2zM9 17H7v-7h2v7zm4 0h-2V7h2v10zm4 0h-2v-4h2v4z\"/>\n",
              "    </g>\n",
              "</svg>\n",
              "  </button>\n",
              "\n",
              "<style>\n",
              "  .colab-df-quickchart {\n",
              "      --bg-color: #E8F0FE;\n",
              "      --fill-color: #1967D2;\n",
              "      --hover-bg-color: #E2EBFA;\n",
              "      --hover-fill-color: #174EA6;\n",
              "      --disabled-fill-color: #AAA;\n",
              "      --disabled-bg-color: #DDD;\n",
              "  }\n",
              "\n",
              "  [theme=dark] .colab-df-quickchart {\n",
              "      --bg-color: #3B4455;\n",
              "      --fill-color: #D2E3FC;\n",
              "      --hover-bg-color: #434B5C;\n",
              "      --hover-fill-color: #FFFFFF;\n",
              "      --disabled-bg-color: #3B4455;\n",
              "      --disabled-fill-color: #666;\n",
              "  }\n",
              "\n",
              "  .colab-df-quickchart {\n",
              "    background-color: var(--bg-color);\n",
              "    border: none;\n",
              "    border-radius: 50%;\n",
              "    cursor: pointer;\n",
              "    display: none;\n",
              "    fill: var(--fill-color);\n",
              "    height: 32px;\n",
              "    padding: 0;\n",
              "    width: 32px;\n",
              "  }\n",
              "\n",
              "  .colab-df-quickchart:hover {\n",
              "    background-color: var(--hover-bg-color);\n",
              "    box-shadow: 0 1px 2px rgba(60, 64, 67, 0.3), 0 1px 3px 1px rgba(60, 64, 67, 0.15);\n",
              "    fill: var(--button-hover-fill-color);\n",
              "  }\n",
              "\n",
              "  .colab-df-quickchart-complete:disabled,\n",
              "  .colab-df-quickchart-complete:disabled:hover {\n",
              "    background-color: var(--disabled-bg-color);\n",
              "    fill: var(--disabled-fill-color);\n",
              "    box-shadow: none;\n",
              "  }\n",
              "\n",
              "  .colab-df-spinner {\n",
              "    border: 2px solid var(--fill-color);\n",
              "    border-color: transparent;\n",
              "    border-bottom-color: var(--fill-color);\n",
              "    animation:\n",
              "      spin 1s steps(1) infinite;\n",
              "  }\n",
              "\n",
              "  @keyframes spin {\n",
              "    0% {\n",
              "      border-color: transparent;\n",
              "      border-bottom-color: var(--fill-color);\n",
              "      border-left-color: var(--fill-color);\n",
              "    }\n",
              "    20% {\n",
              "      border-color: transparent;\n",
              "      border-left-color: var(--fill-color);\n",
              "      border-top-color: var(--fill-color);\n",
              "    }\n",
              "    30% {\n",
              "      border-color: transparent;\n",
              "      border-left-color: var(--fill-color);\n",
              "      border-top-color: var(--fill-color);\n",
              "      border-right-color: var(--fill-color);\n",
              "    }\n",
              "    40% {\n",
              "      border-color: transparent;\n",
              "      border-right-color: var(--fill-color);\n",
              "      border-top-color: var(--fill-color);\n",
              "    }\n",
              "    60% {\n",
              "      border-color: transparent;\n",
              "      border-right-color: var(--fill-color);\n",
              "    }\n",
              "    80% {\n",
              "      border-color: transparent;\n",
              "      border-right-color: var(--fill-color);\n",
              "      border-bottom-color: var(--fill-color);\n",
              "    }\n",
              "    90% {\n",
              "      border-color: transparent;\n",
              "      border-bottom-color: var(--fill-color);\n",
              "    }\n",
              "  }\n",
              "</style>\n",
              "\n",
              "  <script>\n",
              "    async function quickchart(key) {\n",
              "      const quickchartButtonEl =\n",
              "        document.querySelector('#' + key + ' button');\n",
              "      quickchartButtonEl.disabled = true;  // To prevent multiple clicks.\n",
              "      quickchartButtonEl.classList.add('colab-df-spinner');\n",
              "      try {\n",
              "        const charts = await google.colab.kernel.invokeFunction(\n",
              "            'suggestCharts', [key], {});\n",
              "      } catch (error) {\n",
              "        console.error('Error during call to suggestCharts:', error);\n",
              "      }\n",
              "      quickchartButtonEl.classList.remove('colab-df-spinner');\n",
              "      quickchartButtonEl.classList.add('colab-df-quickchart-complete');\n",
              "    }\n",
              "    (() => {\n",
              "      let quickchartButtonEl =\n",
              "        document.querySelector('#df-82b396f4-c2d2-425a-8547-db24b3d296bc button');\n",
              "      quickchartButtonEl.style.display =\n",
              "        google.colab.kernel.accessAllowed ? 'block' : 'none';\n",
              "    })();\n",
              "  </script>\n",
              "</div>\n",
              "\n",
              "    </div>\n",
              "  </div>\n"
            ]
          },
          "metadata": {},
          "execution_count": 4
        }
      ]
    },
    {
      "cell_type": "code",
      "source": [
        "df.shape"
      ],
      "metadata": {
        "id": "Qv7OrPBA-JKP"
      },
      "execution_count": null,
      "outputs": []
    },
    {
      "cell_type": "code",
      "source": [
        "df.info()"
      ],
      "metadata": {
        "id": "1mElMWYk-ZVi"
      },
      "execution_count": null,
      "outputs": []
    },
    {
      "cell_type": "markdown",
      "source": [
        "We can see that most of the columns are of dtype object. So, lets try to make them of int or float if possible."
      ],
      "metadata": {
        "id": "xZ_RoR7T7Dtz"
      }
    },
    {
      "cell_type": "code",
      "source": [
        "df.describe()"
      ],
      "metadata": {
        "id": "le1oikhF-tjx"
      },
      "execution_count": null,
      "outputs": []
    },
    {
      "cell_type": "code",
      "source": [
        "df['rating'].unique()"
      ],
      "metadata": {
        "id": "W5CG5yN4-dCC",
        "colab": {
          "base_uri": "https://localhost:8080/"
        },
        "outputId": "592aa495-09a0-4387-e75e-156898300b14"
      },
      "execution_count": null,
      "outputs": [
        {
          "output_type": "execute_result",
          "data": {
            "text/plain": [
              "array([3.5, 4. , 4.5, 5. , 3. , 2.5, 1.5, 1. , 2. , 0.5, 0. ])"
            ]
          },
          "metadata": {},
          "execution_count": 79
        }
      ]
    },
    {
      "cell_type": "markdown",
      "source": [
        "The ratings column looks fine."
      ],
      "metadata": {
        "id": "lRStB9Ek7R87"
      }
    },
    {
      "cell_type": "code",
      "source": [
        "df.playback_used.unique()"
      ],
      "metadata": {
        "id": "3am_-Moa_fdC",
        "colab": {
          "base_uri": "https://localhost:8080/"
        },
        "outputId": "a3429052-12df-48bb-a620-9af3325bc1be"
      },
      "execution_count": null,
      "outputs": [
        {
          "output_type": "execute_result",
          "data": {
            "text/plain": [
              "array(['no', nan, 'yes'], dtype=object)"
            ]
          },
          "metadata": {},
          "execution_count": 80
        }
      ]
    },
    {
      "cell_type": "code",
      "source": [
        "df['playback_used'].value_counts()"
      ],
      "metadata": {
        "id": "2IHicf4G_oqK",
        "colab": {
          "base_uri": "https://localhost:8080/"
        },
        "outputId": "f26443f0-03e1-44f1-9897-66c2cf07fb33"
      },
      "execution_count": null,
      "outputs": [
        {
          "output_type": "execute_result",
          "data": {
            "text/plain": [
              "no     18964\n",
              "yes      611\n",
              "Name: playback_used, dtype: int64"
            ]
          },
          "metadata": {},
          "execution_count": 81
        }
      ]
    },
    {
      "cell_type": "markdown",
      "source": [
        "In this column, we need to fill the nan values with no as it is the mode and then encode yes and no into binary which will be great for analysis. We can then drop this column."
      ],
      "metadata": {
        "id": "YcqV6c2x7Zwo"
      }
    },
    {
      "cell_type": "code",
      "source": [
        "df['playback_used'].fillna('no',inplace=True)"
      ],
      "metadata": {
        "id": "mwcDTYrnAH3A"
      },
      "execution_count": null,
      "outputs": []
    },
    {
      "cell_type": "code",
      "source": [
        "le = LabelEncoder()\n",
        "df['playback_used_encoded'] = le.fit_transform(df['playback_used'])\n",
        "print(\"Label Mapping:\", df[['playback_used','playback_used_encoded']])\n"
      ],
      "metadata": {
        "id": "HROtkztlB4X8",
        "colab": {
          "base_uri": "https://localhost:8080/"
        },
        "outputId": "9507fd0e-d7cf-4392-957d-f3229d058e60"
      },
      "execution_count": null,
      "outputs": [
        {
          "output_type": "stream",
          "name": "stdout",
          "text": [
            "Label Mapping:       playback_used  playback_used_encoded\n",
            "0                no                      0\n",
            "1                no                      0\n",
            "2                no                      0\n",
            "3                no                      0\n",
            "4                no                      0\n",
            "...             ...                    ...\n",
            "21370            no                      0\n",
            "21371            no                      0\n",
            "21372            no                      0\n",
            "21373            no                      0\n",
            "21374            no                      0\n",
            "\n",
            "[21375 rows x 2 columns]\n"
          ]
        }
      ]
    },
    {
      "cell_type": "code",
      "source": [
        "df.drop('playback_used',axis=1,inplace = True)"
      ],
      "metadata": {
        "id": "p8lHHzsV5iMa"
      },
      "execution_count": null,
      "outputs": []
    },
    {
      "cell_type": "code",
      "source": [
        "df['ebird_code'].unique()"
      ],
      "metadata": {
        "id": "l31rhMvk5nnv",
        "colab": {
          "base_uri": "https://localhost:8080/"
        },
        "outputId": "ada818d6-c6d1-4ca6-c653-0dc1bea1033c"
      },
      "execution_count": null,
      "outputs": [
        {
          "output_type": "execute_result",
          "data": {
            "text/plain": [
              "array(['aldfly', 'ameavo', 'amebit', 'amecro', 'amegfi', 'amekes',\n",
              "       'amepip', 'amered', 'amerob', 'amewig', 'amewoo', 'amtspa',\n",
              "       'annhum', 'astfly', 'baisan', 'baleag', 'balori', 'banswa',\n",
              "       'barswa', 'bawwar', 'belkin1', 'belspa2', 'bewwre', 'bkbcuc',\n",
              "       'bkbmag1', 'bkbwar', 'bkcchi', 'bkchum', 'bkhgro', 'bkpwar',\n",
              "       'bktspa', 'blkpho', 'blugrb1', 'blujay', 'bnhcow', 'boboli',\n",
              "       'bongul', 'brdowl', 'brebla', 'brespa', 'brncre', 'brnthr',\n",
              "       'brthum', 'brwhaw', 'btbwar', 'btnwar', 'btywar', 'buffle',\n",
              "       'buggna', 'buhvir', 'bulori', 'bushti', 'buwtea', 'buwwar',\n",
              "       'cacwre', 'calgul', 'calqua', 'camwar', 'cangoo', 'canwar',\n",
              "       'canwre', 'carwre', 'casfin', 'caster1', 'casvir', 'cedwax',\n",
              "       'chispa', 'chiswi', 'chswar', 'chukar', 'clanut', 'cliswa',\n",
              "       'comgol', 'comgra', 'comloo', 'commer', 'comnig', 'comrav',\n",
              "       'comred', 'comter', 'comyel', 'coohaw', 'coshum', 'cowscj1',\n",
              "       'daejun', 'doccor', 'dowwoo', 'dusfly', 'eargre', 'easblu',\n",
              "       'easkin', 'easmea', 'easpho', 'eastow', 'eawpew', 'eucdov',\n",
              "       'eursta', 'evegro', 'fiespa', 'fiscro', 'foxspa', 'gadwal',\n",
              "       'gcrfin', 'gnttow', 'gnwtea', 'gockin', 'gocspa', 'goleag',\n",
              "       'grbher3', 'grcfly', 'greegr', 'greroa', 'greyel', 'grhowl',\n",
              "       'grnher', 'grtgra', 'grycat', 'gryfly', 'haiwoo', 'hamfly',\n",
              "       'hergul', 'herthr', 'hoomer', 'hoowar', 'horgre', 'horlar',\n",
              "       'houfin', 'houspa', 'houwre', 'indbun', 'juntit1', 'killde',\n",
              "       'labwoo', 'larspa', 'lazbun', 'leabit', 'leafly', 'leasan',\n",
              "       'lecthr', 'lesgol', 'lesnig', 'lesyel', 'lewwoo', 'linspa',\n",
              "       'lobcur', 'lobdow', 'logshr', 'lotduc', 'louwat', 'macwar',\n",
              "       'magwar', 'mallar3', 'marwre', 'merlin', 'moublu', 'mouchi',\n",
              "       'moudov', 'norcar', 'norfli', 'norhar2', 'normoc', 'norpar',\n",
              "       'norpin', 'norsho', 'norwat', 'nrwswa', 'nutwoo', 'olsfly',\n",
              "       'orcwar', 'osprey', 'ovenbi1', 'palwar', 'pasfly', 'pecsan',\n",
              "       'perfal', 'phaino', 'pibgre', 'pilwoo', 'pingro', 'pinjay',\n",
              "       'pinsis', 'pinwar', 'plsvir', 'prawar', 'purfin', 'pygnut',\n",
              "       'rebmer', 'rebnut', 'rebsap', 'rebwoo', 'redcro', 'redhea',\n",
              "       'reevir1', 'renpha', 'reshaw', 'rethaw', 'rewbla', 'ribgul',\n",
              "       'rinduc', 'robgro', 'rocpig', 'rocwre', 'rthhum', 'ruckin',\n",
              "       'rudduc', 'rufgro', 'rufhum', 'rusbla', 'sagspa1', 'sagthr',\n",
              "       'savspa', 'saypho', 'scatan', 'scoori', 'semplo', 'semsan',\n",
              "       'sheowl', 'shshaw', 'snobun', 'snogoo', 'solsan', 'sonspa', 'sora',\n",
              "       'sposan', 'spotow', 'stejay', 'swahaw', 'swaspa', 'swathr',\n",
              "       'treswa', 'truswa', 'tuftit', 'tunswa', 'veery', 'vesspa',\n",
              "       'vigswa', 'warvir', 'wesblu', 'wesgre', 'weskin', 'wesmea',\n",
              "       'wessan', 'westan', 'wewpew', 'whbnut', 'whcspa', 'whfibi',\n",
              "       'whtspa', 'whtswi', 'wilfly', 'wilsni1', 'wiltur', 'winwre3',\n",
              "       'wlswar', 'wooduc', 'wooscj2', 'woothr', 'y00475', 'yebfly',\n",
              "       'yebsap', 'yehbla', 'yelwar', 'yerwar', 'yetvir'], dtype=object)"
            ]
          },
          "metadata": {},
          "execution_count": 200
        }
      ]
    },
    {
      "cell_type": "code",
      "source": [
        "df.ebird_code.isnull().sum()"
      ],
      "metadata": {
        "id": "Wmp5OWmu6E1D"
      },
      "execution_count": null,
      "outputs": []
    },
    {
      "cell_type": "markdown",
      "source": [
        "No changes can be made in this column as these look like codes for birds and might be needed in data analysis further. Also there are no null values to be replaced."
      ],
      "metadata": {
        "id": "ullY9wOC8YpJ"
      }
    },
    {
      "cell_type": "code",
      "source": [
        "df['channels'].unique()"
      ],
      "metadata": {
        "id": "r3wq_tgJ8G_V"
      },
      "execution_count": null,
      "outputs": []
    },
    {
      "cell_type": "markdown",
      "source": [
        "The 'mono' and 'stereo' part of the data can be removed."
      ],
      "metadata": {
        "id": "vOkuh14b9HZ9"
      }
    },
    {
      "cell_type": "code",
      "source": [
        "df['channels'] = df['channels'].astype(str).str[0].astype(int)"
      ],
      "metadata": {
        "id": "nfFrjecD8_-n"
      },
      "execution_count": null,
      "outputs": []
    },
    {
      "cell_type": "code",
      "source": [
        "df.date.unique()"
      ],
      "metadata": {
        "id": "aWWJMWAF-AXh"
      },
      "execution_count": null,
      "outputs": []
    },
    {
      "cell_type": "markdown",
      "source": [
        "We can create 3 different columns each of day, month and year it would be of int dtype and then drop this column."
      ],
      "metadata": {
        "id": "4mCKtJN_-PXM"
      }
    },
    {
      "cell_type": "code",
      "source": [
        "df['day'] = df['date'].apply(lambda x: x.split('-')[2]).astype(int)\n",
        "df['month'] = df['date'].apply(lambda x: x.split('-')[1]).astype(int)\n",
        "df['year'] = df['date'].apply(lambda x: x.split('-')[0]).astype(int)\n",
        "df.drop('date', axis=1,inplace=True)"
      ],
      "metadata": {
        "id": "kzVdYkNf-EnY"
      },
      "execution_count": null,
      "outputs": []
    },
    {
      "cell_type": "code",
      "source": [
        "df.head()"
      ],
      "metadata": {
        "colab": {
          "base_uri": "https://localhost:8080/",
          "height": 642
        },
        "id": "_04HiZhFh1Rb",
        "outputId": "493f1fed-06bf-4a49-dcd2-27a0176a919c"
      },
      "execution_count": null,
      "outputs": [
        {
          "output_type": "execute_result",
          "data": {
            "text/plain": [
              "   rating playback_used ebird_code    channels          pitch  duration      filename          speed           species number_of_notes                                          title                                   secondary_labels bird_seen           sci_name                                           location latitude sampling_rate        type elevation                                        description bitrate_of_mp3 file_type         volume                                         background   xc_id                                url        country            author                       primary_label longitude         length   time         recordist                                            license  day  month  year\n",
              "0     3.5            no     aldfly    1 (mono)  Not specified        25  XC134874.mp3  Not specified  Alder Flycatcher   Not specified  XC134874 Alder Flycatcher (Empidonax alnorum)  ['Empidonax minimus_Least Flycatcher', 'Leioth...       yes  Empidonax alnorum        Grey Cloud Dunes SNA, Washington, Minnesota   44.793    48000 (Hz)        call     220 m  Two short segments of fairly quiet *pip* calls...   192000 (bps)       mp3  Not specified  American Yellow Warbler (Setophaga aestiva); L...  134874  https://www.xeno-canto.org/134874  United States  Jonathon Jongsma  Empidonax alnorum_Alder Flycatcher   -92.962  Not specified   8:00  Jonathon Jongsma        Creative Commons Attribution-ShareAlike 3.0   25      5  2013\n",
              "1     4.0            no     aldfly  2 (stereo)           both        36  XC135454.mp3           both  Alder Flycatcher             1-3  XC135454 Alder Flycatcher (Empidonax alnorum)                                                 []       yes  Empidonax alnorum   Carver's Gap Parking area, Roan Mountain Stat...  36.1065    44100 (Hz)  call, song    1700 m  At least three birds seen here moving around s...   128000 (bps)       mp3          level                                                NaN  135454  https://www.xeno-canto.org/135454  United States       Mike Nelson  Empidonax alnorum_Alder Flycatcher  -82.1106         0-3(s)  08:30       Mike Nelson  Creative Commons Attribution-NonCommercial-Sha...   27      5  2013\n",
              "2     4.0            no     aldfly  2 (stereo)           both        39  XC135455.mp3           both  Alder Flycatcher             1-3  XC135455 Alder Flycatcher (Empidonax alnorum)                                                 []       yes  Empidonax alnorum   Carver's Gap Parking area, Roan Mountain Stat...  36.1065    44100 (Hz)  call, song    1700 m  At least three birds seen chasing each other a...   128000 (bps)       mp3          level                                                NaN  135455  https://www.xeno-canto.org/135455  United States       Mike Nelson  Empidonax alnorum_Alder Flycatcher  -82.1106         0-3(s)  08:30       Mike Nelson  Creative Commons Attribution-NonCommercial-Sha...   27      5  2013\n",
              "3     3.5            no     aldfly  2 (stereo)           both        33  XC135456.mp3           both  Alder Flycatcher             1-3  XC135456 Alder Flycatcher (Empidonax alnorum)  ['Dumetella carolinensis_Gray Catbird', 'Bomby...       yes  Empidonax alnorum   Carver's Gap Parking area, Roan Mountain Stat...  36.1065    44100 (Hz)  call, song    1700 m  img:http://www.flickr.com/photos/madbirder/888...   128000 (bps)       mp3          level  Grey Catbird (Dumetella carolinensis); Cedar W...  135456  https://www.xeno-canto.org/135456  United States       Mike Nelson  Empidonax alnorum_Alder Flycatcher  -82.1106         0-3(s)  08:30       Mike Nelson  Creative Commons Attribution-NonCommercial-Sha...   27      5  2013\n",
              "4     4.0            no     aldfly  2 (stereo)           both        36  XC135457.mp3          level  Alder Flycatcher             1-3  XC135457 Alder Flycatcher (Empidonax alnorum)                                                 []       yes  Empidonax alnorum   Carver's Gap Parking area, Roan Mountain Stat...  36.1065    44100 (Hz)  call, song    1700 m  img:http://www.flickr.com/photos/madbirder/888...   128000 (bps)       mp3          level                                                NaN  135457  https://www.xeno-canto.org/135457  United States       Mike Nelson  Empidonax alnorum_Alder Flycatcher  -82.1106         0-3(s)  08:30       Mike Nelson  Creative Commons Attribution-NonCommercial-Sha...   27      5  2013"
            ],
            "text/html": [
              "\n",
              "  <div id=\"df-bd45b53e-58d7-4e8f-82af-716a5423f725\" class=\"colab-df-container\">\n",
              "    <div>\n",
              "<style scoped>\n",
              "    .dataframe tbody tr th:only-of-type {\n",
              "        vertical-align: middle;\n",
              "    }\n",
              "\n",
              "    .dataframe tbody tr th {\n",
              "        vertical-align: top;\n",
              "    }\n",
              "\n",
              "    .dataframe thead th {\n",
              "        text-align: right;\n",
              "    }\n",
              "</style>\n",
              "<table border=\"1\" class=\"dataframe\">\n",
              "  <thead>\n",
              "    <tr style=\"text-align: right;\">\n",
              "      <th></th>\n",
              "      <th>rating</th>\n",
              "      <th>playback_used</th>\n",
              "      <th>ebird_code</th>\n",
              "      <th>channels</th>\n",
              "      <th>pitch</th>\n",
              "      <th>duration</th>\n",
              "      <th>filename</th>\n",
              "      <th>speed</th>\n",
              "      <th>species</th>\n",
              "      <th>number_of_notes</th>\n",
              "      <th>title</th>\n",
              "      <th>secondary_labels</th>\n",
              "      <th>bird_seen</th>\n",
              "      <th>sci_name</th>\n",
              "      <th>location</th>\n",
              "      <th>latitude</th>\n",
              "      <th>sampling_rate</th>\n",
              "      <th>type</th>\n",
              "      <th>elevation</th>\n",
              "      <th>description</th>\n",
              "      <th>bitrate_of_mp3</th>\n",
              "      <th>file_type</th>\n",
              "      <th>volume</th>\n",
              "      <th>background</th>\n",
              "      <th>xc_id</th>\n",
              "      <th>url</th>\n",
              "      <th>country</th>\n",
              "      <th>author</th>\n",
              "      <th>primary_label</th>\n",
              "      <th>longitude</th>\n",
              "      <th>length</th>\n",
              "      <th>time</th>\n",
              "      <th>recordist</th>\n",
              "      <th>license</th>\n",
              "      <th>day</th>\n",
              "      <th>month</th>\n",
              "      <th>year</th>\n",
              "    </tr>\n",
              "  </thead>\n",
              "  <tbody>\n",
              "    <tr>\n",
              "      <th>0</th>\n",
              "      <td>3.5</td>\n",
              "      <td>no</td>\n",
              "      <td>aldfly</td>\n",
              "      <td>1 (mono)</td>\n",
              "      <td>Not specified</td>\n",
              "      <td>25</td>\n",
              "      <td>XC134874.mp3</td>\n",
              "      <td>Not specified</td>\n",
              "      <td>Alder Flycatcher</td>\n",
              "      <td>Not specified</td>\n",
              "      <td>XC134874 Alder Flycatcher (Empidonax alnorum)</td>\n",
              "      <td>['Empidonax minimus_Least Flycatcher', 'Leioth...</td>\n",
              "      <td>yes</td>\n",
              "      <td>Empidonax alnorum</td>\n",
              "      <td>Grey Cloud Dunes SNA, Washington, Minnesota</td>\n",
              "      <td>44.793</td>\n",
              "      <td>48000 (Hz)</td>\n",
              "      <td>call</td>\n",
              "      <td>220 m</td>\n",
              "      <td>Two short segments of fairly quiet *pip* calls...</td>\n",
              "      <td>192000 (bps)</td>\n",
              "      <td>mp3</td>\n",
              "      <td>Not specified</td>\n",
              "      <td>American Yellow Warbler (Setophaga aestiva); L...</td>\n",
              "      <td>134874</td>\n",
              "      <td>https://www.xeno-canto.org/134874</td>\n",
              "      <td>United States</td>\n",
              "      <td>Jonathon Jongsma</td>\n",
              "      <td>Empidonax alnorum_Alder Flycatcher</td>\n",
              "      <td>-92.962</td>\n",
              "      <td>Not specified</td>\n",
              "      <td>8:00</td>\n",
              "      <td>Jonathon Jongsma</td>\n",
              "      <td>Creative Commons Attribution-ShareAlike 3.0</td>\n",
              "      <td>25</td>\n",
              "      <td>5</td>\n",
              "      <td>2013</td>\n",
              "    </tr>\n",
              "    <tr>\n",
              "      <th>1</th>\n",
              "      <td>4.0</td>\n",
              "      <td>no</td>\n",
              "      <td>aldfly</td>\n",
              "      <td>2 (stereo)</td>\n",
              "      <td>both</td>\n",
              "      <td>36</td>\n",
              "      <td>XC135454.mp3</td>\n",
              "      <td>both</td>\n",
              "      <td>Alder Flycatcher</td>\n",
              "      <td>1-3</td>\n",
              "      <td>XC135454 Alder Flycatcher (Empidonax alnorum)</td>\n",
              "      <td>[]</td>\n",
              "      <td>yes</td>\n",
              "      <td>Empidonax alnorum</td>\n",
              "      <td>Carver's Gap Parking area, Roan Mountain Stat...</td>\n",
              "      <td>36.1065</td>\n",
              "      <td>44100 (Hz)</td>\n",
              "      <td>call, song</td>\n",
              "      <td>1700 m</td>\n",
              "      <td>At least three birds seen here moving around s...</td>\n",
              "      <td>128000 (bps)</td>\n",
              "      <td>mp3</td>\n",
              "      <td>level</td>\n",
              "      <td>NaN</td>\n",
              "      <td>135454</td>\n",
              "      <td>https://www.xeno-canto.org/135454</td>\n",
              "      <td>United States</td>\n",
              "      <td>Mike Nelson</td>\n",
              "      <td>Empidonax alnorum_Alder Flycatcher</td>\n",
              "      <td>-82.1106</td>\n",
              "      <td>0-3(s)</td>\n",
              "      <td>08:30</td>\n",
              "      <td>Mike Nelson</td>\n",
              "      <td>Creative Commons Attribution-NonCommercial-Sha...</td>\n",
              "      <td>27</td>\n",
              "      <td>5</td>\n",
              "      <td>2013</td>\n",
              "    </tr>\n",
              "    <tr>\n",
              "      <th>2</th>\n",
              "      <td>4.0</td>\n",
              "      <td>no</td>\n",
              "      <td>aldfly</td>\n",
              "      <td>2 (stereo)</td>\n",
              "      <td>both</td>\n",
              "      <td>39</td>\n",
              "      <td>XC135455.mp3</td>\n",
              "      <td>both</td>\n",
              "      <td>Alder Flycatcher</td>\n",
              "      <td>1-3</td>\n",
              "      <td>XC135455 Alder Flycatcher (Empidonax alnorum)</td>\n",
              "      <td>[]</td>\n",
              "      <td>yes</td>\n",
              "      <td>Empidonax alnorum</td>\n",
              "      <td>Carver's Gap Parking area, Roan Mountain Stat...</td>\n",
              "      <td>36.1065</td>\n",
              "      <td>44100 (Hz)</td>\n",
              "      <td>call, song</td>\n",
              "      <td>1700 m</td>\n",
              "      <td>At least three birds seen chasing each other a...</td>\n",
              "      <td>128000 (bps)</td>\n",
              "      <td>mp3</td>\n",
              "      <td>level</td>\n",
              "      <td>NaN</td>\n",
              "      <td>135455</td>\n",
              "      <td>https://www.xeno-canto.org/135455</td>\n",
              "      <td>United States</td>\n",
              "      <td>Mike Nelson</td>\n",
              "      <td>Empidonax alnorum_Alder Flycatcher</td>\n",
              "      <td>-82.1106</td>\n",
              "      <td>0-3(s)</td>\n",
              "      <td>08:30</td>\n",
              "      <td>Mike Nelson</td>\n",
              "      <td>Creative Commons Attribution-NonCommercial-Sha...</td>\n",
              "      <td>27</td>\n",
              "      <td>5</td>\n",
              "      <td>2013</td>\n",
              "    </tr>\n",
              "    <tr>\n",
              "      <th>3</th>\n",
              "      <td>3.5</td>\n",
              "      <td>no</td>\n",
              "      <td>aldfly</td>\n",
              "      <td>2 (stereo)</td>\n",
              "      <td>both</td>\n",
              "      <td>33</td>\n",
              "      <td>XC135456.mp3</td>\n",
              "      <td>both</td>\n",
              "      <td>Alder Flycatcher</td>\n",
              "      <td>1-3</td>\n",
              "      <td>XC135456 Alder Flycatcher (Empidonax alnorum)</td>\n",
              "      <td>['Dumetella carolinensis_Gray Catbird', 'Bomby...</td>\n",
              "      <td>yes</td>\n",
              "      <td>Empidonax alnorum</td>\n",
              "      <td>Carver's Gap Parking area, Roan Mountain Stat...</td>\n",
              "      <td>36.1065</td>\n",
              "      <td>44100 (Hz)</td>\n",
              "      <td>call, song</td>\n",
              "      <td>1700 m</td>\n",
              "      <td>img:http://www.flickr.com/photos/madbirder/888...</td>\n",
              "      <td>128000 (bps)</td>\n",
              "      <td>mp3</td>\n",
              "      <td>level</td>\n",
              "      <td>Grey Catbird (Dumetella carolinensis); Cedar W...</td>\n",
              "      <td>135456</td>\n",
              "      <td>https://www.xeno-canto.org/135456</td>\n",
              "      <td>United States</td>\n",
              "      <td>Mike Nelson</td>\n",
              "      <td>Empidonax alnorum_Alder Flycatcher</td>\n",
              "      <td>-82.1106</td>\n",
              "      <td>0-3(s)</td>\n",
              "      <td>08:30</td>\n",
              "      <td>Mike Nelson</td>\n",
              "      <td>Creative Commons Attribution-NonCommercial-Sha...</td>\n",
              "      <td>27</td>\n",
              "      <td>5</td>\n",
              "      <td>2013</td>\n",
              "    </tr>\n",
              "    <tr>\n",
              "      <th>4</th>\n",
              "      <td>4.0</td>\n",
              "      <td>no</td>\n",
              "      <td>aldfly</td>\n",
              "      <td>2 (stereo)</td>\n",
              "      <td>both</td>\n",
              "      <td>36</td>\n",
              "      <td>XC135457.mp3</td>\n",
              "      <td>level</td>\n",
              "      <td>Alder Flycatcher</td>\n",
              "      <td>1-3</td>\n",
              "      <td>XC135457 Alder Flycatcher (Empidonax alnorum)</td>\n",
              "      <td>[]</td>\n",
              "      <td>yes</td>\n",
              "      <td>Empidonax alnorum</td>\n",
              "      <td>Carver's Gap Parking area, Roan Mountain Stat...</td>\n",
              "      <td>36.1065</td>\n",
              "      <td>44100 (Hz)</td>\n",
              "      <td>call, song</td>\n",
              "      <td>1700 m</td>\n",
              "      <td>img:http://www.flickr.com/photos/madbirder/888...</td>\n",
              "      <td>128000 (bps)</td>\n",
              "      <td>mp3</td>\n",
              "      <td>level</td>\n",
              "      <td>NaN</td>\n",
              "      <td>135457</td>\n",
              "      <td>https://www.xeno-canto.org/135457</td>\n",
              "      <td>United States</td>\n",
              "      <td>Mike Nelson</td>\n",
              "      <td>Empidonax alnorum_Alder Flycatcher</td>\n",
              "      <td>-82.1106</td>\n",
              "      <td>0-3(s)</td>\n",
              "      <td>08:30</td>\n",
              "      <td>Mike Nelson</td>\n",
              "      <td>Creative Commons Attribution-NonCommercial-Sha...</td>\n",
              "      <td>27</td>\n",
              "      <td>5</td>\n",
              "      <td>2013</td>\n",
              "    </tr>\n",
              "  </tbody>\n",
              "</table>\n",
              "</div>\n",
              "    <div class=\"colab-df-buttons\">\n",
              "\n",
              "  <div class=\"colab-df-container\">\n",
              "    <button class=\"colab-df-convert\" onclick=\"convertToInteractive('df-bd45b53e-58d7-4e8f-82af-716a5423f725')\"\n",
              "            title=\"Convert this dataframe to an interactive table.\"\n",
              "            style=\"display:none;\">\n",
              "\n",
              "  <svg xmlns=\"http://www.w3.org/2000/svg\" height=\"24px\" viewBox=\"0 -960 960 960\">\n",
              "    <path d=\"M120-120v-720h720v720H120Zm60-500h600v-160H180v160Zm220 220h160v-160H400v160Zm0 220h160v-160H400v160ZM180-400h160v-160H180v160Zm440 0h160v-160H620v160ZM180-180h160v-160H180v160Zm440 0h160v-160H620v160Z\"/>\n",
              "  </svg>\n",
              "    </button>\n",
              "\n",
              "  <style>\n",
              "    .colab-df-container {\n",
              "      display:flex;\n",
              "      gap: 12px;\n",
              "    }\n",
              "\n",
              "    .colab-df-convert {\n",
              "      background-color: #E8F0FE;\n",
              "      border: none;\n",
              "      border-radius: 50%;\n",
              "      cursor: pointer;\n",
              "      display: none;\n",
              "      fill: #1967D2;\n",
              "      height: 32px;\n",
              "      padding: 0 0 0 0;\n",
              "      width: 32px;\n",
              "    }\n",
              "\n",
              "    .colab-df-convert:hover {\n",
              "      background-color: #E2EBFA;\n",
              "      box-shadow: 0px 1px 2px rgba(60, 64, 67, 0.3), 0px 1px 3px 1px rgba(60, 64, 67, 0.15);\n",
              "      fill: #174EA6;\n",
              "    }\n",
              "\n",
              "    .colab-df-buttons div {\n",
              "      margin-bottom: 4px;\n",
              "    }\n",
              "\n",
              "    [theme=dark] .colab-df-convert {\n",
              "      background-color: #3B4455;\n",
              "      fill: #D2E3FC;\n",
              "    }\n",
              "\n",
              "    [theme=dark] .colab-df-convert:hover {\n",
              "      background-color: #434B5C;\n",
              "      box-shadow: 0px 1px 3px 1px rgba(0, 0, 0, 0.15);\n",
              "      filter: drop-shadow(0px 1px 2px rgba(0, 0, 0, 0.3));\n",
              "      fill: #FFFFFF;\n",
              "    }\n",
              "  </style>\n",
              "\n",
              "    <script>\n",
              "      const buttonEl =\n",
              "        document.querySelector('#df-bd45b53e-58d7-4e8f-82af-716a5423f725 button.colab-df-convert');\n",
              "      buttonEl.style.display =\n",
              "        google.colab.kernel.accessAllowed ? 'block' : 'none';\n",
              "\n",
              "      async function convertToInteractive(key) {\n",
              "        const element = document.querySelector('#df-bd45b53e-58d7-4e8f-82af-716a5423f725');\n",
              "        const dataTable =\n",
              "          await google.colab.kernel.invokeFunction('convertToInteractive',\n",
              "                                                    [key], {});\n",
              "        if (!dataTable) return;\n",
              "\n",
              "        const docLinkHtml = 'Like what you see? Visit the ' +\n",
              "          '<a target=\"_blank\" href=https://colab.research.google.com/notebooks/data_table.ipynb>data table notebook</a>'\n",
              "          + ' to learn more about interactive tables.';\n",
              "        element.innerHTML = '';\n",
              "        dataTable['output_type'] = 'display_data';\n",
              "        await google.colab.output.renderOutput(dataTable, element);\n",
              "        const docLink = document.createElement('div');\n",
              "        docLink.innerHTML = docLinkHtml;\n",
              "        element.appendChild(docLink);\n",
              "      }\n",
              "    </script>\n",
              "  </div>\n",
              "\n",
              "\n",
              "<div id=\"df-1b197470-9a7a-4b6a-adb0-59b272125db2\">\n",
              "  <button class=\"colab-df-quickchart\" onclick=\"quickchart('df-1b197470-9a7a-4b6a-adb0-59b272125db2')\"\n",
              "            title=\"Suggest charts\"\n",
              "            style=\"display:none;\">\n",
              "\n",
              "<svg xmlns=\"http://www.w3.org/2000/svg\" height=\"24px\"viewBox=\"0 0 24 24\"\n",
              "     width=\"24px\">\n",
              "    <g>\n",
              "        <path d=\"M19 3H5c-1.1 0-2 .9-2 2v14c0 1.1.9 2 2 2h14c1.1 0 2-.9 2-2V5c0-1.1-.9-2-2-2zM9 17H7v-7h2v7zm4 0h-2V7h2v10zm4 0h-2v-4h2v4z\"/>\n",
              "    </g>\n",
              "</svg>\n",
              "  </button>\n",
              "\n",
              "<style>\n",
              "  .colab-df-quickchart {\n",
              "      --bg-color: #E8F0FE;\n",
              "      --fill-color: #1967D2;\n",
              "      --hover-bg-color: #E2EBFA;\n",
              "      --hover-fill-color: #174EA6;\n",
              "      --disabled-fill-color: #AAA;\n",
              "      --disabled-bg-color: #DDD;\n",
              "  }\n",
              "\n",
              "  [theme=dark] .colab-df-quickchart {\n",
              "      --bg-color: #3B4455;\n",
              "      --fill-color: #D2E3FC;\n",
              "      --hover-bg-color: #434B5C;\n",
              "      --hover-fill-color: #FFFFFF;\n",
              "      --disabled-bg-color: #3B4455;\n",
              "      --disabled-fill-color: #666;\n",
              "  }\n",
              "\n",
              "  .colab-df-quickchart {\n",
              "    background-color: var(--bg-color);\n",
              "    border: none;\n",
              "    border-radius: 50%;\n",
              "    cursor: pointer;\n",
              "    display: none;\n",
              "    fill: var(--fill-color);\n",
              "    height: 32px;\n",
              "    padding: 0;\n",
              "    width: 32px;\n",
              "  }\n",
              "\n",
              "  .colab-df-quickchart:hover {\n",
              "    background-color: var(--hover-bg-color);\n",
              "    box-shadow: 0 1px 2px rgba(60, 64, 67, 0.3), 0 1px 3px 1px rgba(60, 64, 67, 0.15);\n",
              "    fill: var(--button-hover-fill-color);\n",
              "  }\n",
              "\n",
              "  .colab-df-quickchart-complete:disabled,\n",
              "  .colab-df-quickchart-complete:disabled:hover {\n",
              "    background-color: var(--disabled-bg-color);\n",
              "    fill: var(--disabled-fill-color);\n",
              "    box-shadow: none;\n",
              "  }\n",
              "\n",
              "  .colab-df-spinner {\n",
              "    border: 2px solid var(--fill-color);\n",
              "    border-color: transparent;\n",
              "    border-bottom-color: var(--fill-color);\n",
              "    animation:\n",
              "      spin 1s steps(1) infinite;\n",
              "  }\n",
              "\n",
              "  @keyframes spin {\n",
              "    0% {\n",
              "      border-color: transparent;\n",
              "      border-bottom-color: var(--fill-color);\n",
              "      border-left-color: var(--fill-color);\n",
              "    }\n",
              "    20% {\n",
              "      border-color: transparent;\n",
              "      border-left-color: var(--fill-color);\n",
              "      border-top-color: var(--fill-color);\n",
              "    }\n",
              "    30% {\n",
              "      border-color: transparent;\n",
              "      border-left-color: var(--fill-color);\n",
              "      border-top-color: var(--fill-color);\n",
              "      border-right-color: var(--fill-color);\n",
              "    }\n",
              "    40% {\n",
              "      border-color: transparent;\n",
              "      border-right-color: var(--fill-color);\n",
              "      border-top-color: var(--fill-color);\n",
              "    }\n",
              "    60% {\n",
              "      border-color: transparent;\n",
              "      border-right-color: var(--fill-color);\n",
              "    }\n",
              "    80% {\n",
              "      border-color: transparent;\n",
              "      border-right-color: var(--fill-color);\n",
              "      border-bottom-color: var(--fill-color);\n",
              "    }\n",
              "    90% {\n",
              "      border-color: transparent;\n",
              "      border-bottom-color: var(--fill-color);\n",
              "    }\n",
              "  }\n",
              "</style>\n",
              "\n",
              "  <script>\n",
              "    async function quickchart(key) {\n",
              "      const quickchartButtonEl =\n",
              "        document.querySelector('#' + key + ' button');\n",
              "      quickchartButtonEl.disabled = true;  // To prevent multiple clicks.\n",
              "      quickchartButtonEl.classList.add('colab-df-spinner');\n",
              "      try {\n",
              "        const charts = await google.colab.kernel.invokeFunction(\n",
              "            'suggestCharts', [key], {});\n",
              "      } catch (error) {\n",
              "        console.error('Error during call to suggestCharts:', error);\n",
              "      }\n",
              "      quickchartButtonEl.classList.remove('colab-df-spinner');\n",
              "      quickchartButtonEl.classList.add('colab-df-quickchart-complete');\n",
              "    }\n",
              "    (() => {\n",
              "      let quickchartButtonEl =\n",
              "        document.querySelector('#df-1b197470-9a7a-4b6a-adb0-59b272125db2 button');\n",
              "      quickchartButtonEl.style.display =\n",
              "        google.colab.kernel.accessAllowed ? 'block' : 'none';\n",
              "    })();\n",
              "  </script>\n",
              "</div>\n",
              "\n",
              "    </div>\n",
              "  </div>\n"
            ]
          },
          "metadata": {},
          "execution_count": 19
        }
      ]
    },
    {
      "cell_type": "code",
      "source": [
        "df.pitch.unique()"
      ],
      "metadata": {
        "id": "LdcZklYKBOSn"
      },
      "execution_count": null,
      "outputs": []
    },
    {
      "cell_type": "code",
      "source": [
        "df.pitch.value_counts()"
      ],
      "metadata": {
        "colab": {
          "base_uri": "https://localhost:8080/"
        },
        "id": "4YNiiiL2Bii6",
        "outputId": "e99ed2e0-12f8-4bdc-ad69-0de2b6176568"
      },
      "execution_count": null,
      "outputs": [
        {
          "output_type": "execute_result",
          "data": {
            "text/plain": [
              "Not specified    15155\n",
              "level             3149\n",
              "both              2077\n",
              "decreasing         528\n",
              "increasing         466\n",
              "Name: pitch, dtype: int64"
            ]
          },
          "metadata": {},
          "execution_count": 42
        }
      ]
    },
    {
      "cell_type": "markdown",
      "source": [
        "As most of the values are not specified, we cannot do anything with this."
      ],
      "metadata": {
        "id": "LIoW0fGAH1pJ"
      }
    },
    {
      "cell_type": "code",
      "source": [
        "df.duration.unique()"
      ],
      "metadata": {
        "colab": {
          "base_uri": "https://localhost:8080/"
        },
        "id": "20IK8gmmBnAZ",
        "outputId": "0c2a6167-be03-48fd-b100-b4eeca940a85"
      },
      "execution_count": null,
      "outputs": [
        {
          "output_type": "execute_result",
          "data": {
            "text/plain": [
              "array([ 25,  36,  39,  33,   7,  45,  71,  26,  54, 269,  31,  19,   9,\n",
              "        29,  13,  16, 315,  46,  84, 136,  22,  58,  56,  23,  17,  38,\n",
              "        72,  86, 103, 127,  41, 120,  21,  42, 130,  69,  60,  78, 141,\n",
              "       188,  59,  20, 386,  82, 149,  75,  70, 116,  66,  83, 105,  50,\n",
              "        62,  15,  11,  73,  35,  51,  64, 245,  30,  14,   6,  96, 178,\n",
              "       177,   5,   1,  10,  48,  27,  43,  98,  18, 145,  28,  53, 165,\n",
              "       122, 137,  24,  55,   2,  12, 150, 146, 164, 217,  65, 288, 419,\n",
              "         0, 374,  34, 214,  49,   4, 111,  61, 126, 135,  57, 152,  47,\n",
              "       200, 229,  93, 262, 142, 187, 113, 264,  80,  89,   8,  74, 228,\n",
              "       300, 220, 157, 132,   3, 100,  99,  40,  52, 112, 158, 427, 162,\n",
              "       119, 153,  32, 441, 179,  88, 212, 131,  77, 144, 101, 143, 307,\n",
              "        97,  95, 129, 313,  37,  76,  85,  81, 108,  63, 104,  67, 286,\n",
              "       402, 238, 138, 251, 160, 109, 233, 194, 140, 234, 172,  44, 102,\n",
              "       114, 128, 207, 199, 209,  68, 202, 133, 193, 216, 232, 110, 171,\n",
              "       124, 260, 304,  90, 328, 161, 265, 554, 592, 106, 219, 547, 175,\n",
              "       176, 125, 604, 186,  92, 159, 180, 337, 107,  79, 147, 118, 213,\n",
              "       201, 211,  87, 173, 163, 155, 208, 268, 357, 227, 290, 192, 305,\n",
              "        94, 298, 121, 166, 600, 203, 230, 349, 169, 246, 117, 407, 151,\n",
              "       123, 292, 205, 372, 247, 241, 452, 243, 240, 182, 183, 354,  91,\n",
              "       557, 195, 170, 168, 362, 235, 206, 197, 408, 148, 154, 593, 590,\n",
              "       244, 252, 420, 156, 248, 276, 273, 266, 496, 390, 239, 255, 271,\n",
              "       356, 210, 281, 115, 231, 396, 306, 253, 190, 174, 198, 426, 410,\n",
              "       430, 296, 196, 215, 295, 400, 242, 365, 272, 425, 204, 346, 389,\n",
              "       423, 596, 283, 401, 481, 302, 551, 309, 417, 267, 503, 261, 134,\n",
              "       250, 289, 225, 571, 364, 294, 763, 368, 221, 254, 222, 218, 181,\n",
              "       403, 480, 421, 516, 594, 223, 595, 457, 370, 394, 373, 191, 185,\n",
              "       891, 224, 517])"
            ]
          },
          "metadata": {},
          "execution_count": 14
        }
      ]
    },
    {
      "cell_type": "code",
      "source": [
        "df.duration.isnull().sum()"
      ],
      "metadata": {
        "id": "xR5c8cv-Icxn"
      },
      "execution_count": null,
      "outputs": []
    },
    {
      "cell_type": "markdown",
      "source": [
        "This column looks fine and thus needs no change."
      ],
      "metadata": {
        "id": "xspxvipVJ-WS"
      }
    },
    {
      "cell_type": "code",
      "source": [
        "df.filename.unique()"
      ],
      "metadata": {
        "id": "pAlbD2PYI66h"
      },
      "execution_count": null,
      "outputs": []
    },
    {
      "cell_type": "code",
      "source": [
        "df.filename.isnull().sum() ##This also looks fine."
      ],
      "metadata": {
        "id": "9iYo9hMbK-WD"
      },
      "execution_count": null,
      "outputs": []
    },
    {
      "cell_type": "code",
      "source": [
        "df.speed.unique()"
      ],
      "metadata": {
        "id": "Cg7MQCdpLXgM"
      },
      "execution_count": null,
      "outputs": []
    },
    {
      "cell_type": "code",
      "source": [
        "df.speed.value_counts()"
      ],
      "metadata": {
        "id": "bCt8HAbSLkpT"
      },
      "execution_count": null,
      "outputs": []
    },
    {
      "cell_type": "markdown",
      "source": [
        "This column is similar as the 'pitch' as very less data is specified."
      ],
      "metadata": {
        "id": "akAFjS2kLyjK"
      }
    },
    {
      "cell_type": "code",
      "source": [
        "df.species.unique()"
      ],
      "metadata": {
        "id": "2fLDoK1MLpvY",
        "colab": {
          "base_uri": "https://localhost:8080/"
        },
        "outputId": "22cd57eb-1a48-4a0f-e687-6a4f8214c01a"
      },
      "execution_count": null,
      "outputs": [
        {
          "output_type": "execute_result",
          "data": {
            "text/plain": [
              "array(['Alder Flycatcher', 'American Avocet', 'American Bittern',\n",
              "       'American Crow', 'American Goldfinch', 'American Kestrel',\n",
              "       'Buff-bellied Pipit', 'American Redstart', 'American Robin',\n",
              "       'American Wigeon', 'American Woodcock', 'American Tree Sparrow',\n",
              "       \"Anna's Hummingbird\", 'Ash-throated Flycatcher',\n",
              "       \"Baird's Sandpiper\", 'Bald Eagle', 'Baltimore Oriole',\n",
              "       'Sand Martin', 'Barn Swallow', 'Black-and-white Warbler',\n",
              "       'Belted Kingfisher', \"Bell's Sparrow\", \"Bewick's Wren\",\n",
              "       'Black-billed Cuckoo', 'Black-billed Magpie',\n",
              "       'Blackburnian Warbler', 'Black-capped Chickadee',\n",
              "       'Black-chinned Hummingbird', 'Black-headed Grosbeak',\n",
              "       'Blackpoll Warbler', 'Black-throated Sparrow', 'Black Phoebe',\n",
              "       'Blue Grosbeak', 'Blue Jay', 'Brown-headed Cowbird', 'Bobolink',\n",
              "       \"Bonaparte's Gull\", 'Barred Owl', \"Brewer's Blackbird\",\n",
              "       \"Brewer's Sparrow\", 'Brown Creeper', 'Brown Thrasher',\n",
              "       'Broad-tailed Hummingbird', 'Broad-winged Hawk',\n",
              "       'Black-throated Blue Warbler', 'Black-throated Green Warbler',\n",
              "       'Black-throated Grey Warbler', 'Bufflehead',\n",
              "       'Blue-grey Gnatcatcher', 'Blue-headed Vireo', \"Bullock's Oriole\",\n",
              "       'American Bushtit', 'Blue-winged Teal', 'Blue-winged Warbler',\n",
              "       'Cactus Wren', 'California Gull', 'California Quail',\n",
              "       'Cape May Warbler', 'Canada Goose', 'Canada Warbler',\n",
              "       'Canyon Wren', 'Carolina Wren', \"Cassin's Finch\", 'Caspian Tern',\n",
              "       \"Cassin's Vireo\", 'Cedar Waxwing', 'Chipping Sparrow',\n",
              "       'Chimney Swift', 'Chestnut-sided Warbler', 'Chukar Partridge',\n",
              "       \"Clark's Nutcracker\", 'American Cliff Swallow', 'Common Goldeneye',\n",
              "       'Common Grackle', 'Common Loon', 'Common Merganser',\n",
              "       'Common Nighthawk', 'Northern Raven', 'Common Redpoll',\n",
              "       'Common Tern', 'Common Yellowthroat', \"Cooper's Hawk\",\n",
              "       \"Costa's Hummingbird\", 'California Scrub Jay', 'Dark-eyed Junco',\n",
              "       'Double-crested Cormorant', 'Downy Woodpecker',\n",
              "       'American Dusky Flycatcher', 'Black-necked Grebe',\n",
              "       'Eastern Bluebird', 'Eastern Kingbird', 'Eastern Meadowlark',\n",
              "       'Eastern Phoebe', 'Eastern Towhee', 'Eastern Wood Pewee',\n",
              "       'Eurasian Collared Dove', 'Common Starling', 'Evening Grosbeak',\n",
              "       'Field Sparrow', 'Fish Crow', 'Red Fox Sparrow', 'Gadwall',\n",
              "       'Grey-crowned Rosy Finch', 'Green-tailed Towhee', 'Eurasian Teal',\n",
              "       'Golden-crowned Kinglet', 'Golden-crowned Sparrow', 'Golden Eagle',\n",
              "       'Great Blue Heron', 'Great Crested Flycatcher', 'Great Egret',\n",
              "       'Greater Roadrunner', 'Greater Yellowlegs', 'Great Horned Owl',\n",
              "       'Green Heron', 'Great-tailed Grackle', 'Grey Catbird',\n",
              "       'American Grey Flycatcher', 'Hairy Woodpecker',\n",
              "       \"Hammond's Flycatcher\", 'European Herring Gull', 'Hermit Thrush',\n",
              "       'Hooded Merganser', 'Hooded Warbler', 'Horned Grebe',\n",
              "       'Horned Lark', 'House Finch', 'House Sparrow', 'House Wren',\n",
              "       'Indigo Bunting', 'Juniper Titmouse', 'Killdeer',\n",
              "       'Ladder-backed Woodpecker', 'Lark Sparrow', 'Lazuli Bunting',\n",
              "       'Least Bittern', 'Least Flycatcher', 'Least Sandpiper',\n",
              "       \"LeConte's Thrasher\", 'Lesser Goldfinch', 'Lesser Nighthawk',\n",
              "       'Lesser Yellowlegs', \"Lewis's Woodpecker\", \"Lincoln's Sparrow\",\n",
              "       'Long-billed Curlew', 'Long-billed Dowitcher', 'Loggerhead Shrike',\n",
              "       'Long-tailed Duck', 'Louisiana Waterthrush',\n",
              "       \"MacGillivray's Warbler\", 'Magnolia Warbler', 'Mallard',\n",
              "       'Marsh Wren', 'Merlin', 'Mountain Bluebird', 'Mountain Chickadee',\n",
              "       'Mourning Dove', 'Northern Cardinal', 'Northern Flicker',\n",
              "       'Northern Harrier', 'Northern Mockingbird', 'Northern Parula',\n",
              "       'Northern Pintail', 'Northern Shoveler', 'Northern Waterthrush',\n",
              "       'Northern Rough-winged Swallow', \"Nuttall's Woodpecker\",\n",
              "       'Olive-sided Flycatcher', 'Orange-crowned Warbler',\n",
              "       'Western Osprey', 'Ovenbird', 'Palm Warbler',\n",
              "       'Pacific-slope Flycatcher', 'Pectoral Sandpiper',\n",
              "       'Peregrine Falcon', 'Phainopepla', 'Pied-billed Grebe',\n",
              "       'Pileated Woodpecker', 'Pine Grosbeak', 'Pinyon Jay',\n",
              "       'Pine Siskin', 'Pine Warbler', 'Plumbeous Vireo',\n",
              "       'Prairie Warbler', 'Purple Finch', 'Pygmy Nuthatch',\n",
              "       'Red-breasted Merganser', 'Red-breasted Nuthatch',\n",
              "       'Red-breasted Sapsucker', 'Red-bellied Woodpecker',\n",
              "       'Red Crossbill', 'Redhead', 'Red-eyed Vireo',\n",
              "       'Red-necked Phalarope', 'Red-shouldered Hawk', 'Red-tailed Hawk',\n",
              "       'Red-winged Blackbird', 'Ring-billed Gull', 'Ring-necked Duck',\n",
              "       'Rose-breasted Grosbeak', 'Rock Dove', 'Rock Wren',\n",
              "       'Ruby-throated Hummingbird', 'Ruby-crowned Kinglet', 'Ruddy Duck',\n",
              "       'Ruffed Grouse', 'Rufous Hummingbird', 'Rusty Blackbird',\n",
              "       'Sagebrush Sparrow', 'Sage Thrasher', 'Savannah Sparrow',\n",
              "       \"Say's Phoebe\", 'Scarlet Tanager', \"Scott's Oriole\",\n",
              "       'Semipalmated Plover', 'Semipalmated Sandpiper', 'Short-eared Owl',\n",
              "       'Sharp-shinned Hawk', 'Snow Bunting', 'Snow Goose',\n",
              "       'Solitary Sandpiper', 'Song Sparrow', 'Sora', 'Spotted Sandpiper',\n",
              "       'Spotted Towhee', \"Steller's Jay\", \"Swainson's Hawk\",\n",
              "       'Swamp Sparrow', \"Swainson's Thrush\", 'Tree Swallow',\n",
              "       'Trumpeter Swan', 'Tufted Titmouse', 'Tundra Swan', 'Veery',\n",
              "       'Vesper Sparrow', 'Violet-green Swallow', 'Warbling Vireo',\n",
              "       'Western Bluebird', 'Western Grebe', 'Western Kingbird',\n",
              "       'Western Meadowlark', 'Western Sandpiper', 'Western Tanager',\n",
              "       'Western Wood Pewee', 'White-breasted Nuthatch',\n",
              "       'White-crowned Sparrow', 'White-faced Ibis',\n",
              "       'White-throated Sparrow', 'White-throated Swift',\n",
              "       'Willow Flycatcher', \"Wilson's Snipe\", 'Wild Turkey',\n",
              "       'Winter Wren', \"Wilson's Warbler\", 'Wood Duck',\n",
              "       \"Woodhouse's Scrub Jay\", 'Wood Thrush', 'American Coot',\n",
              "       'Yellow-bellied Flycatcher', 'Yellow-bellied Sapsucker',\n",
              "       'Yellow-headed Blackbird', 'Mangrove Warbler', 'Myrtle Warbler',\n",
              "       'Yellow-throated Vireo'], dtype=object)"
            ]
          },
          "metadata": {},
          "execution_count": 202
        }
      ]
    },
    {
      "cell_type": "code",
      "source": [
        "df.species.isnull().sum()"
      ],
      "metadata": {
        "id": "3ZkbbwZuN0YP"
      },
      "execution_count": null,
      "outputs": []
    },
    {
      "cell_type": "markdown",
      "source": [
        "Looks fine."
      ],
      "metadata": {
        "id": "ZQPSzCZUOFhn"
      }
    },
    {
      "cell_type": "code",
      "source": [
        "df['number_of_notes'].unique()"
      ],
      "metadata": {
        "colab": {
          "base_uri": "https://localhost:8080/"
        },
        "id": "f37eu2BYOEav",
        "outputId": "b245ad56-eb73-433e-be0f-fdd294525ec0"
      },
      "execution_count": null,
      "outputs": [
        {
          "output_type": "execute_result",
          "data": {
            "text/plain": [
              "array(['Not specified', '1-3', '4-6', '7-20', '>20'], dtype=object)"
            ]
          },
          "metadata": {},
          "execution_count": 45
        }
      ]
    },
    {
      "cell_type": "code",
      "source": [
        "df['number_of_notes'].value_counts()"
      ],
      "metadata": {
        "colab": {
          "base_uri": "https://localhost:8080/"
        },
        "id": "7t6aGd5EOWFK",
        "outputId": "093a4d65-3cbb-427b-8f14-766f0ee4be35"
      },
      "execution_count": null,
      "outputs": [
        {
          "output_type": "execute_result",
          "data": {
            "text/plain": [
              "Not specified    15042\n",
              "1-3               2568\n",
              "7-20              2013\n",
              "4-6               1016\n",
              ">20                736\n",
              "Name: number_of_notes, dtype: int64"
            ]
          },
          "metadata": {},
          "execution_count": 46
        }
      ]
    },
    {
      "cell_type": "markdown",
      "source": [
        "This column also does not have much data specified..but no. of notes may be useful, so I am dropping that."
      ],
      "metadata": {
        "id": "j_bQUB8WO-Ij"
      }
    },
    {
      "cell_type": "code",
      "source": [
        "df.title.unique()"
      ],
      "metadata": {
        "colab": {
          "base_uri": "https://localhost:8080/"
        },
        "id": "J1vJ3CgtO8Wa",
        "outputId": "31ab4754-0848-4b19-f083-c296894178b1"
      },
      "execution_count": null,
      "outputs": [
        {
          "output_type": "execute_result",
          "data": {
            "text/plain": [
              "array(['XC134874 Alder Flycatcher (Empidonax alnorum)',\n",
              "       'XC135454 Alder Flycatcher (Empidonax alnorum)',\n",
              "       'XC135455 Alder Flycatcher (Empidonax alnorum)', ...,\n",
              "       'XC501230 Yellow-throated Vireo (Vireo flavifrons)',\n",
              "       'XC54828 Yellow-throated Vireo (Vireo flavifrons)',\n",
              "       'XC55761 Yellow-throated Vireo (Vireo flavifrons)'], dtype=object)"
            ]
          },
          "metadata": {},
          "execution_count": 47
        }
      ]
    },
    {
      "cell_type": "markdown",
      "source": [
        "The first word looks similar to the filename. Lets check if it is true and then just remove it."
      ],
      "metadata": {
        "id": "KJlWJJ3jP3UW"
      }
    },
    {
      "cell_type": "code",
      "source": [
        "if(df['filename'].apply(lambda x: x.split('.')[0]).all()==df['title'].apply(lambda x: x.split(' ')[0]).all()):\n",
        "  print('Same')"
      ],
      "metadata": {
        "id": "ZbyIkug_Puv8",
        "colab": {
          "base_uri": "https://localhost:8080/"
        },
        "outputId": "8175ceca-024c-4314-a5eb-ed0c1773d015"
      },
      "execution_count": null,
      "outputs": [
        {
          "output_type": "stream",
          "name": "stdout",
          "text": [
            "Same\n"
          ]
        }
      ]
    },
    {
      "cell_type": "markdown",
      "source": [
        "Yes, they are the same. So lets remove it from title."
      ],
      "metadata": {
        "id": "gxTlqOYZRvhG"
      }
    },
    {
      "cell_type": "code",
      "source": [
        "df['title'] = df['title'].str.split(n=1).str[1]"
      ],
      "metadata": {
        "id": "w_GdHBpCQv0h"
      },
      "execution_count": null,
      "outputs": []
    },
    {
      "cell_type": "code",
      "source": [
        "df.title.unique()"
      ],
      "metadata": {
        "id": "MIZBLC-0SAab"
      },
      "execution_count": null,
      "outputs": []
    },
    {
      "cell_type": "code",
      "source": [
        "df.secondary_labels.unique()"
      ],
      "metadata": {
        "id": "QHLzMbwFUYHy"
      },
      "execution_count": null,
      "outputs": []
    },
    {
      "cell_type": "code",
      "source": [
        "df.secondary_labels.nunique()"
      ],
      "metadata": {
        "colab": {
          "base_uri": "https://localhost:8080/"
        },
        "id": "Vzd5x6ccUgQ_",
        "outputId": "da95194d-b424-4f74-c399-dca49aab2aa7"
      },
      "execution_count": null,
      "outputs": [
        {
          "output_type": "execute_result",
          "data": {
            "text/plain": [
              "5385"
            ]
          },
          "metadata": {},
          "execution_count": 66
        }
      ]
    },
    {
      "cell_type": "markdown",
      "source": [
        "As we already have titles column for the labels of birds, we can drop this column."
      ],
      "metadata": {
        "id": "aBxmWPgXUvIa"
      }
    },
    {
      "cell_type": "code",
      "source": [
        "df.drop('secondary_labels',axis=1,inplace=True)"
      ],
      "metadata": {
        "id": "xd0mQBbZUuUL"
      },
      "execution_count": null,
      "outputs": []
    },
    {
      "cell_type": "code",
      "source": [
        "df.bird_seen.unique()"
      ],
      "metadata": {
        "colab": {
          "base_uri": "https://localhost:8080/"
        },
        "id": "aiAJ4btnVIZa",
        "outputId": "ab755695-e7b5-4371-81a2-03d4a3c5fe12"
      },
      "execution_count": null,
      "outputs": [
        {
          "output_type": "execute_result",
          "data": {
            "text/plain": [
              "array(['yes', 'no', nan], dtype=object)"
            ]
          },
          "metadata": {},
          "execution_count": 69
        }
      ]
    },
    {
      "cell_type": "code",
      "source": [
        "df.bird_seen.value_counts()"
      ],
      "metadata": {
        "colab": {
          "base_uri": "https://localhost:8080/"
        },
        "id": "AYgedN-8VNnv",
        "outputId": "4f3bbf0c-c078-4e86-9f7a-d1258081e26a"
      },
      "execution_count": null,
      "outputs": [
        {
          "output_type": "execute_result",
          "data": {
            "text/plain": [
              "yes    16211\n",
              "no      3364\n",
              "Name: bird_seen, dtype: int64"
            ]
          },
          "metadata": {},
          "execution_count": 70
        }
      ]
    },
    {
      "cell_type": "markdown",
      "source": [
        "Lets replace the nan values with 'yes' values as it is the mode. Then we encode it and drop this column, keeping the new one."
      ],
      "metadata": {
        "id": "3L_RBQVeVTaA"
      }
    },
    {
      "cell_type": "code",
      "source": [
        "df.bird_seen.fillna('yes',inplace=True)"
      ],
      "metadata": {
        "id": "ptzmnwlXVReA"
      },
      "execution_count": null,
      "outputs": []
    },
    {
      "cell_type": "code",
      "source": [
        "le = LabelEncoder()\n",
        "df['bird_seen_encoded'] = le.fit_transform(df['bird_seen'])"
      ],
      "metadata": {
        "id": "qebeAJiqVtmD"
      },
      "execution_count": null,
      "outputs": []
    },
    {
      "cell_type": "code",
      "source": [
        "df.sci_name.unique()"
      ],
      "metadata": {
        "id": "hH7yofz2V2DI"
      },
      "execution_count": null,
      "outputs": []
    },
    {
      "cell_type": "markdown",
      "source": [
        "We can observe that the title column has this scientific name in it in brackets..So, we can just split it."
      ],
      "metadata": {
        "id": "yUbGq5x2WJjq"
      }
    },
    {
      "cell_type": "code",
      "source": [
        "df['title'] = df['title'].apply(lambda x: x.split('(')[0])"
      ],
      "metadata": {
        "id": "YeaqUCzMWbwX"
      },
      "execution_count": null,
      "outputs": []
    },
    {
      "cell_type": "code",
      "source": [
        "df['title']"
      ],
      "metadata": {
        "colab": {
          "base_uri": "https://localhost:8080/"
        },
        "id": "7op5mUFkXGOU",
        "outputId": "d826d3f1-3424-4bc2-8842-73d4533c1636"
      },
      "execution_count": null,
      "outputs": [
        {
          "output_type": "execute_result",
          "data": {
            "text/plain": [
              "0       Alder Flycatcher \n",
              "1       Alder Flycatcher \n",
              "2       Alder Flycatcher \n",
              "3       Alder Flycatcher \n",
              "4       Alder Flycatcher \n",
              "              ...        \n",
              "4618         Cactus Wren \n",
              "4619         Cactus Wren \n",
              "4620         Cactus Wren \n",
              "4621         Cactus Wren \n",
              "4622         Cactus Wren \n",
              "Name: title, Length: 4623, dtype: object"
            ]
          },
          "metadata": {},
          "execution_count": 21
        }
      ]
    },
    {
      "cell_type": "code",
      "source": [
        "df.location.unique()"
      ],
      "metadata": {
        "colab": {
          "base_uri": "https://localhost:8080/"
        },
        "id": "_1llLuB8XJqs",
        "outputId": "e345e3bf-49c9-4a4a-9f54-6442cc715acd"
      },
      "execution_count": null,
      "outputs": [
        {
          "output_type": "execute_result",
          "data": {
            "text/plain": [
              "array([' Grey Cloud Dunes SNA, Washington, Minnesota',\n",
              "       \" Carver's Gap Parking area, Roan Mountain State Park, North Carolina\",\n",
              "       ' Scales, near Wilson Creek, Grayson, Virginia', ...,\n",
              "       ' Sprewell Bluff WMA, Pigeon Creek Tract',\n",
              "       ' Mimbres, Grant County, New Mexico',\n",
              "       ' Park Headquarters Rd W, Sugarlands, Great Smoky Mountains National Park, Tennessee'],\n",
              "      dtype=object)"
            ]
          },
          "metadata": {},
          "execution_count": 79
        }
      ]
    },
    {
      "cell_type": "code",
      "source": [
        "df.location.isnull().sum()"
      ],
      "metadata": {
        "colab": {
          "base_uri": "https://localhost:8080/"
        },
        "id": "F9b7VdNtXS7x",
        "outputId": "3c52e011-e96f-4a1d-d405-289ba9140f95"
      },
      "execution_count": null,
      "outputs": [
        {
          "output_type": "execute_result",
          "data": {
            "text/plain": [
              "0"
            ]
          },
          "metadata": {},
          "execution_count": 80
        }
      ]
    },
    {
      "cell_type": "code",
      "source": [
        "df.latitude.unique()"
      ],
      "metadata": {
        "colab": {
          "base_uri": "https://localhost:8080/"
        },
        "id": "ndrRcYbxXYUC",
        "outputId": "e388c4bb-6f74-4955-a070-baae49e6f07d"
      },
      "execution_count": null,
      "outputs": [
        {
          "output_type": "execute_result",
          "data": {
            "text/plain": [
              "array(['44.793', '36.1065', '36.65', ..., '26.5406', '25.6268', '31.7992'],\n",
              "      dtype=object)"
            ]
          },
          "metadata": {},
          "execution_count": 22
        }
      ]
    },
    {
      "cell_type": "code",
      "source": [
        "df.longitude.unique()"
      ],
      "metadata": {
        "colab": {
          "base_uri": "https://localhost:8080/"
        },
        "id": "xZunkNqsneFx",
        "outputId": "94c54b3a-fdb7-4f6e-8b27-10c83d1bb063"
      },
      "execution_count": null,
      "outputs": [
        {
          "output_type": "execute_result",
          "data": {
            "text/plain": [
              "array(['-92.962', '-82.1106', '-81.4814', ..., '-109.0428', '-110.7821',\n",
              "       nan], dtype=object)"
            ]
          },
          "metadata": {},
          "execution_count": 24
        }
      ]
    },
    {
      "cell_type": "markdown",
      "source": [
        "The dtype of this column can be changed to float.\n"
      ],
      "metadata": {
        "id": "cMGcUzCQo_dp"
      }
    },
    {
      "cell_type": "code",
      "source": [
        "df = df[df['latitude']!='Not specified']\n",
        "df = df[df['longitude']!='Not specified']"
      ],
      "metadata": {
        "id": "o58MJhHjniaC"
      },
      "execution_count": null,
      "outputs": []
    },
    {
      "cell_type": "code",
      "source": [
        "df.latitude.astype(float)\n",
        "df.longitude.astype(float)"
      ],
      "metadata": {
        "colab": {
          "base_uri": "https://localhost:8080/"
        },
        "id": "Bh1JmK9nXkIG",
        "outputId": "2f6934bf-3ecb-4874-bbae-ffe581923b81"
      },
      "execution_count": null,
      "outputs": [
        {
          "output_type": "execute_result",
          "data": {
            "text/plain": [
              "0       -92.9620\n",
              "1       -82.1106\n",
              "2       -82.1106\n",
              "3       -82.1106\n",
              "4       -82.1106\n",
              "          ...   \n",
              "21370   -84.0131\n",
              "21371   -77.3422\n",
              "21372   -77.3422\n",
              "21373   -83.9462\n",
              "21374   -83.5409\n",
              "Name: longitude, Length: 21149, dtype: float64"
            ]
          },
          "metadata": {},
          "execution_count": 167
        }
      ]
    },
    {
      "cell_type": "code",
      "source": [
        "df['sampling_rate'].unique()"
      ],
      "metadata": {
        "colab": {
          "base_uri": "https://localhost:8080/"
        },
        "id": "_td1B5pMnVdG",
        "outputId": "c5ec0543-0ae5-48fe-e36f-3d0534b5ab2c"
      },
      "execution_count": null,
      "outputs": [
        {
          "output_type": "execute_result",
          "data": {
            "text/plain": [
              "array(['48000 (Hz)', '44100 (Hz)', '16000 (Hz)', '22050 (Hz)',\n",
              "       '24000 (Hz)', '32000 (Hz)', '8000 (Hz)'], dtype=object)"
            ]
          },
          "metadata": {},
          "execution_count": 30
        }
      ]
    },
    {
      "cell_type": "markdown",
      "source": [
        "The '(Hz)' is common in all the values. So, it can be removed."
      ],
      "metadata": {
        "id": "6Br8lOAUqBWL"
      }
    },
    {
      "cell_type": "code",
      "source": [
        "df['sampling_rate'] = df['sampling_rate'].apply(lambda x: x.split(' ')[0]).astype(int)"
      ],
      "metadata": {
        "id": "BpMfu8ggoUP1"
      },
      "execution_count": null,
      "outputs": []
    },
    {
      "cell_type": "code",
      "source": [
        "df.sampling_rate.unique()"
      ],
      "metadata": {
        "colab": {
          "base_uri": "https://localhost:8080/"
        },
        "id": "gw7SYedlolY1",
        "outputId": "181cb985-c9a2-4e23-c857-19a2ade4a4bd"
      },
      "execution_count": null,
      "outputs": [
        {
          "output_type": "execute_result",
          "data": {
            "text/plain": [
              "array([48000, 44100, 16000, 22050, 24000, 32000,  8000])"
            ]
          },
          "metadata": {},
          "execution_count": 32
        }
      ]
    },
    {
      "cell_type": "code",
      "source": [
        "df.type.unique()"
      ],
      "metadata": {
        "colab": {
          "base_uri": "https://localhost:8080/"
        },
        "id": "n8AKMk2VoqOn",
        "outputId": "d65e2add-ac24-4625-87a7-72360e8bf246"
      },
      "execution_count": null,
      "outputs": [
        {
          "output_type": "execute_result",
          "data": {
            "text/plain": [
              "array(['call', 'call, song', 'song', ...,\n",
              "       'call, song, vocal and mechanical sounds', 'calls, female',\n",
              "       'chimp call, male, song'], dtype=object)"
            ]
          },
          "metadata": {},
          "execution_count": 40
        }
      ]
    },
    {
      "cell_type": "code",
      "source": [
        "df.type.nunique()"
      ],
      "metadata": {
        "colab": {
          "base_uri": "https://localhost:8080/"
        },
        "id": "IKWKfZSLou1g",
        "outputId": "9168fd8e-4717-4400-9cb8-103145a8ca80"
      },
      "execution_count": null,
      "outputs": [
        {
          "output_type": "execute_result",
          "data": {
            "text/plain": [
              "1255"
            ]
          },
          "metadata": {},
          "execution_count": 44
        }
      ]
    },
    {
      "cell_type": "markdown",
      "source": [
        "Not much can be in this column as these are string objects and are unique."
      ],
      "metadata": {
        "id": "JZVF5ftUqrZT"
      }
    },
    {
      "cell_type": "code",
      "source": [
        "df['elevation'].unique()"
      ],
      "metadata": {
        "id": "L34ooNsho6Is",
        "colab": {
          "base_uri": "https://localhost:8080/"
        },
        "outputId": "4540d2cb-a8aa-4575-ed8f-debe232c543e"
      },
      "execution_count": null,
      "outputs": [
        {
          "output_type": "execute_result",
          "data": {
            "text/plain": [
              "array(['220 m', '1700 m', '1400 m', '190 m', '588 m', '10 m', '0 m',\n",
              "       '550 m', '260 m', '20 m', '380 m', '210 m', '1600 m', '90 m',\n",
              "       '300 m', '30 m', '180 m', '1100 m', '750 m', '500 m', '600 m',\n",
              "       '440 m', '1000 m', '60 m', '50 m', '320 m', '70 m', '400 m',\n",
              "       '189 m', '40 m', '250 m', '280 m', '800 m', '100 m', '240 m',\n",
              "       '170 m', '1300 m', '850 m', '1900 m', '460 m', '1800 m', '2200 m',\n",
              "       '120 m', '-70 m', '2 m', '420 m', '599 m', '1500 m', '340 m',\n",
              "       '2500 m', '2700 m', '700 m', '8 m', '480 m', '80 m', '130 m',\n",
              "       '2000 m', '2100 m', '200 m', '5 m', '110 m', '360 m', '140 m',\n",
              "       '2900 m', '1450 m', '1780 m', '2400 m', '900 m', '1200 m', '-50 m',\n",
              "       '2600 m', '160 m', '99999', '75 m', '2885 m', '3400 m', '3500 m',\n",
              "       '-30 m', '3200 m', '3100 m', '3300 m', '1650 m', '-240 m', '-10 m',\n",
              "       '450 m', '285 m', '650 m', '950 m', '350 m', '2800 m', '802 m',\n",
              "       '150 m', '1 m', '607 m', '1072 m', '270 m', '175 m', '185 m',\n",
              "       '888 m', '710 m', '44 m', '3700 m', '4600 m', '3680 m', '3880 m',\n",
              "       '3850 m', '4232 m', '4500 m', '2300 m', '218 m', '15 m', '3 m',\n",
              "       '18 m', '337 m', '2090 m', '1850 m', '2050 m', '2550 m', '310 m',\n",
              "       '4 m', '1267 m', '2330 m', '125 m', '488 m', '2250 m', '1230 m',\n",
              "       '9 m', '12 m', '585 m', '3000 m', '3600 m', '6 m', '06 m', '7 m',\n",
              "       '05 m', '2165 m', '720 m', '570 m', '322 m', '32 m', '1970 m',\n",
              "       '1260 m', '1350 m', '1175 m', '930-990 m', '415 m', '2140 m',\n",
              "       '356 m', '1920 m', '3580 m', '815 m', '1675 m', '25 m', '3004 m',\n",
              "       '425 m', '418 m', '290 m', '313 m', '2375 m', '766 m', '236 m',\n",
              "       '547 m', '-4 m', '172 m', '2170 m', '1340 m', '438 m', '1400m m',\n",
              "       '223 m', '459 m', '1550 m', '1280 m', '57 m', '265 m', '1680 m',\n",
              "       '235 m', '230 m', '1457 m', '?? m', '91 m', '176 m', '-01 m',\n",
              "       '1627 m', '1115 m', '1250 m', '4080 m', '4200 m', '16 m', '801 m',\n",
              "       '186 m', '4000 m', '204 m', '3900 m', '940 m', '4300 m', '430 m',\n",
              "       '-20 m', '2150 m', '2450 m', '1950 m', '960 m', '1650-1900 m',\n",
              "       '1750 m', '1730 m', '696 m', '225 m', '255 m', '295 m', '13 m',\n",
              "       '690 m', '611 m', '213 m', '3765 m', '3940 m', '168 m', '875 m',\n",
              "       '146 m', '384 m', '2030 m', '226 m', '902 m', '560 m', '1840 m',\n",
              "       '968 m', '45 m', '2211 m', '55 m', '35 m', '3150 m', '142 m',\n",
              "       '148 m', '475 m', '760 m', '439 m', '581 m', '715 m', '33 m m',\n",
              "       '31 m', '1930 m', '205 m', '2470 m', '637 m', '01 m', '1275 m',\n",
              "       '89 m', '95 m', '- m', '325 m', '305 m', '330 m', '1380 m',\n",
              "       '835 m', '1435 m', '1050 m', '998 m', '128 m', '499 m', '765 m',\n",
              "       '2350 m', '1830 m', '3020 m', '1900m m', '512 m', '214 m'],\n",
              "      dtype=object)"
            ]
          },
          "metadata": {},
          "execution_count": 36
        }
      ]
    },
    {
      "cell_type": "markdown",
      "source": [
        "Lets convert all the invalid values into valid ones and then into int dtype."
      ],
      "metadata": {
        "id": "-QUNNPi7jOEc"
      }
    },
    {
      "cell_type": "code",
      "source": [
        "df['elevation'] = df['elevation'].replace(['? m','Unknown m', ' m','- m', '?? m','NaN'],'99999')"
      ],
      "metadata": {
        "id": "Cxx_mj3Yth3v"
      },
      "execution_count": null,
      "outputs": []
    },
    {
      "cell_type": "code",
      "source": [
        "df['elevation'] = df['elevation'].str.replace(',','')"
      ],
      "metadata": {
        "id": "YvnDpqPwt02g"
      },
      "execution_count": null,
      "outputs": []
    },
    {
      "cell_type": "code",
      "source": [
        "df['elevation'] = df['elevation'].str.replace('.','')"
      ],
      "metadata": {
        "id": "6jyxBi15i_Dn",
        "colab": {
          "base_uri": "https://localhost:8080/"
        },
        "outputId": "bfce6db2-9d76-4e84-d9aa-ad729ac597f8"
      },
      "execution_count": null,
      "outputs": [
        {
          "output_type": "stream",
          "name": "stderr",
          "text": [
            "<ipython-input-171-3400b03e12be>:1: FutureWarning: The default value of regex will change from True to False in a future version. In addition, single character regular expressions will *not* be treated as literal strings when regex=True.\n",
            "  df['elevation'] = df['elevation'].str.replace('.','')\n"
          ]
        }
      ]
    },
    {
      "cell_type": "code",
      "source": [
        "df['elevation'] = df['elevation'].str.replace('~','')"
      ],
      "metadata": {
        "id": "yquf68M_wynv"
      },
      "execution_count": null,
      "outputs": []
    },
    {
      "cell_type": "code",
      "source": [
        "for index, row in df.iterrows():\n",
        "    elevation = row['elevation']\n",
        "    if '-' in elevation and not elevation.startswith('-'):\n",
        "        # Replace range values with their minimum\n",
        "        range_values = elevation.split('-')\n",
        "        df.at[index, 'elevation'] = min(int(range_values[0].strip(' m')), int(range_values[1].strip(' m')))\n",
        "\n"
      ],
      "metadata": {
        "id": "UliR4axF0DGR"
      },
      "execution_count": null,
      "outputs": []
    },
    {
      "cell_type": "code",
      "source": [
        "df.elevation = df['elevation'].str.replace('m','')"
      ],
      "metadata": {
        "id": "W2ih7hcJlb0K"
      },
      "execution_count": null,
      "outputs": []
    },
    {
      "cell_type": "code",
      "source": [
        "df.elevation.fillna('99999',inplace=True)"
      ],
      "metadata": {
        "id": "TrmkbT_EqVr9"
      },
      "execution_count": null,
      "outputs": []
    },
    {
      "cell_type": "code",
      "source": [
        "df.elevation.unique()"
      ],
      "metadata": {
        "colab": {
          "base_uri": "https://localhost:8080/"
        },
        "id": "9Tc6XeEziZur",
        "outputId": "9251ffcb-312a-4ba3-8ed4-7933ca8c66c1"
      },
      "execution_count": null,
      "outputs": [
        {
          "output_type": "execute_result",
          "data": {
            "text/plain": [
              "array(['220 ', '1700 ', '1400 ', '190 ', '588 ', '10 ', '0 ', '550 ',\n",
              "       '260 ', '20 ', '380 ', '210 ', '1600 ', '90 ', '300 ', '30 ',\n",
              "       '180 ', '1100 ', '750 ', '500 ', '600 ', '440 ', '1000 ', '60 ',\n",
              "       '50 ', '320 ', '70 ', '400 ', '189 ', '40 ', '250 ', '280 ',\n",
              "       '800 ', '100 ', '240 ', '170 ', '1300 ', '850 ', '1900 ', '460 ',\n",
              "       '1800 ', '2200 ', '120 ', '-70 ', '2 ', '420 ', '599 ', '1500 ',\n",
              "       '340 ', '2500 ', '2700 ', '700 ', '8 ', '480 ', '80 ', '130 ',\n",
              "       '2000 ', '2100 ', '200 ', '5 ', '110 ', '360 ', '140 ', '2900 ',\n",
              "       '1450 ', '1780 ', '2400 ', '900 ', '1200 ', '-50 ', '2600 ',\n",
              "       '160 ', '99999', '75 ', '2885 ', '3400 ', '3500 ', '-30 ', '3200 ',\n",
              "       '3100 ', '3300 ', '1650 ', '-240 ', '-10 ', '450 ', '285 ', '650 ',\n",
              "       '950 ', '350 ', '2800 ', '802 ', '150 ', '1 ', '607 ', '1072 ',\n",
              "       '270 ', '175 ', '185 ', '888 ', '710 ', '44 ', '3700 ', '4600 ',\n",
              "       '3680 ', '3880 ', '3850 ', '4232 ', '4500 ', '2300 ', '218 ',\n",
              "       '15 ', '3 ', '18 ', '337 ', '2090 ', '1850 ', '2050 ', '2550 ',\n",
              "       '310 ', '4 ', '1267 ', '2330 ', '125 ', '488 ', '2250 ', '1230 ',\n",
              "       '9 ', '12 ', '585 ', '3000 ', '3600 ', '6 ', '06 ', '7 ', '05 ',\n",
              "       '2165 ', '720 ', '570 ', '322 ', '32 ', '1970 ', '1260 ', '1350 ',\n",
              "       '1175 ', 99999, '415 ', '2140 ', '356 ', '1920 ', '3580 ', '815 ',\n",
              "       '1675 ', '25 ', '3004 ', '425 ', '418 ', '290 ', '313 ', '2375 ',\n",
              "       '766 ', '236 ', '547 ', '-4 ', '172 ', '2170 ', '1340 ', '438 ',\n",
              "       '223 ', '459 ', '1550 ', '1280 ', '57 ', '265 ', '1680 ', '235 ',\n",
              "       '230 ', '1457 ', '91 ', '176 ', '-01 ', '1627 ', '1115 ', '1250 ',\n",
              "       '4080 ', '4200 ', '16 ', '801 ', '186 ', '4000 ', '204 ', '3900 ',\n",
              "       '940 ', '4300 ', '430 ', '-20 ', '2150 ', '2450 ', '1950 ', '960 ',\n",
              "       '1750 ', '1730 ', '696 ', '225 ', '255 ', '295 ', '13 ', '690 ',\n",
              "       '611 ', '213 ', '3765 ', '3940 ', '168 ', '875 ', '146 ', '384 ',\n",
              "       '2030 ', '226 ', '902 ', '560 ', '1840 ', '968 ', '45 ', '2211 ',\n",
              "       '55 ', '35 ', '3150 ', '142 ', '148 ', '475 ', '760 ', '439 ',\n",
              "       '581 ', '715 ', '33  ', '31 ', '1930 ', '205 ', '2470 ', '637 ',\n",
              "       '01 ', '1275 ', '89 ', '95 ', '325 ', '305 ', '330 ', '1380 ',\n",
              "       '835 ', '1435 ', '1050 ', '998 ', '128 ', '499 ', '765 ', '2350 ',\n",
              "       '1830 ', '3020 ', '512 ', '214 '], dtype=object)"
            ]
          },
          "metadata": {},
          "execution_count": 147
        }
      ]
    },
    {
      "cell_type": "code",
      "source": [
        "df['elevation'] = pd.to_numeric(df['elevation'],errors='coerce')\n",
        "sum_elevation =0\n",
        "count_valid_values = 0\n",
        "\n",
        "for index,row in df.iterrows():\n",
        "  if row['elevation'] != 99999 :\n",
        "    sum_elevation += row['elevation']\n",
        "    count_valid_values += 1\n",
        "mean_elevation = sum_elevation/count_valid_values\n",
        "mean_elevation"
      ],
      "metadata": {
        "colab": {
          "base_uri": "https://localhost:8080/"
        },
        "id": "4AazQr8DtXIV",
        "outputId": "c82ee86f-ccd2-4605-d8aa-ce15888a7b41"
      },
      "execution_count": null,
      "outputs": [
        {
          "output_type": "execute_result",
          "data": {
            "text/plain": [
              "666.7952970415332"
            ]
          },
          "metadata": {},
          "execution_count": 176
        }
      ]
    },
    {
      "cell_type": "code",
      "source": [
        "df['elevation'] = df['elevation'].replace(['99999'],mean_elevation)"
      ],
      "metadata": {
        "id": "miLZmEIDmRSp"
      },
      "execution_count": null,
      "outputs": []
    },
    {
      "cell_type": "code",
      "source": [
        "df.elevation.dtype"
      ],
      "metadata": {
        "colab": {
          "base_uri": "https://localhost:8080/"
        },
        "id": "TFn1lqKfx51A",
        "outputId": "03057a2d-d3b5-4a70-f78d-b9298c5c6c06"
      },
      "execution_count": null,
      "outputs": [
        {
          "output_type": "execute_result",
          "data": {
            "text/plain": [
              "dtype('int64')"
            ]
          },
          "metadata": {},
          "execution_count": 178
        }
      ]
    },
    {
      "cell_type": "code",
      "source": [
        "df['description'].unique()"
      ],
      "metadata": {
        "colab": {
          "base_uri": "https://localhost:8080/"
        },
        "id": "Zid85w6FmcMp",
        "outputId": "b12b265d-9076-4712-bf5f-538dc8bec880"
      },
      "execution_count": null,
      "outputs": [
        {
          "output_type": "execute_result",
          "data": {
            "text/plain": [
              "array(['Two short segments of fairly quiet *pip* calls (at 0:01.2, 0:07.5, etc) from a migrant bird foraging in scrub at edge of the prairie.  Also a more emphatic call at the end of the first segment (0:18.6) as it was taking flight.\\r\\n\\r\\nRecorded with homemade parabolic reflector.',\n",
              "       'At least three birds seen here moving around some stunted alders and Fraser Firs. img:http://www.flickr.com/photos/madbirder/8884100252/in/photostream/',\n",
              "       'At least three birds seen chasing each other around stunted alders and Fraser Firs. img:http://www.flickr.com/photos/madbirder/8884100252/in/photostream/',\n",
              "       ..., 'At nightfall. But heard as well in the middle of the night.',\n",
              "       'About 50ft away in deciduous forest.',\n",
              "       'From edge of deciduous forest, about 30ft away. Initially seen at close range from car, perched on a metal post. Insect hum in background.'],\n",
              "      dtype=object)"
            ]
          },
          "metadata": {},
          "execution_count": 29
        }
      ]
    },
    {
      "cell_type": "markdown",
      "source": [
        "Very descriptive texts about each bird audio. Not of that use. So, this column can be dropped."
      ],
      "metadata": {
        "id": "jh5pf3FJnO7A"
      }
    },
    {
      "cell_type": "code",
      "source": [
        "df.drop('description',axis=1,inplace=True)"
      ],
      "metadata": {
        "id": "ZapliubBnMBD"
      },
      "execution_count": null,
      "outputs": []
    },
    {
      "cell_type": "code",
      "source": [
        "df['bitrate_of_mp3'].unique()"
      ],
      "metadata": {
        "id": "bEgX_vW7nd6N"
      },
      "execution_count": null,
      "outputs": []
    },
    {
      "cell_type": "code",
      "source": [
        "df['bitrate_of_mp3'].nunique()"
      ],
      "metadata": {
        "colab": {
          "base_uri": "https://localhost:8080/"
        },
        "id": "6VwaOJBvniJX",
        "outputId": "32b44af4-bca8-4490-a83d-4b182f023cbb"
      },
      "execution_count": null,
      "outputs": [
        {
          "output_type": "execute_result",
          "data": {
            "text/plain": [
              "375"
            ]
          },
          "metadata": {},
          "execution_count": 32
        }
      ]
    },
    {
      "cell_type": "markdown",
      "source": [
        "We can fill the NaN values with mean and then convert the dtype into int."
      ],
      "metadata": {
        "id": "s829ce9qrzlB"
      }
    },
    {
      "cell_type": "code",
      "source": [
        "df[df['bitrate_of_mp3'].isna()]"
      ],
      "metadata": {
        "colab": {
          "base_uri": "https://localhost:8080/",
          "height": 205
        },
        "id": "Bt8lVG_dnsD4",
        "outputId": "5cf75cbd-c1a8-4b10-d924-2c81bbf0c9f9"
      },
      "execution_count": null,
      "outputs": [
        {
          "output_type": "execute_result",
          "data": {
            "text/plain": [
              "     rating playback_used ebird_code    channels        date          pitch  duration      filename          speed         species number_of_notes                                         title secondary_labels bird_seen            sci_name                                           location latitude sampling_rate  type  elevation bitrate_of_mp3 file_type         volume background   xc_id                                url        country                 author                      primary_label longitude         length   time              recordist                                            license\n",
              "711     5.0            no     amerob  2 (stereo)  2017-04-24  Not specified        50  XC367008.mp3  Not specified  American Robin   Not specified  XC367008 American Robin (Turdus migratorius)               []       yes  Turdus migratorius   Fenton River near Lions Field, Mansfield, Tol...  41.7826    44100 (Hz)  song         70            NaN       mp2  Not specified        NaN  367008  https://www.xeno-canto.org/367008  United States  Jorge de Leon Cardozo  Turdus migratorius_American Robin  -72.2027  Not specified  18:30  Jorge de Leon Cardozo  Creative Commons Attribution-NonCommercial-Sha..."
            ],
            "text/html": [
              "\n",
              "  <div id=\"df-f6c35e8f-1b43-4b76-aef5-611c38b96b2c\" class=\"colab-df-container\">\n",
              "    <div>\n",
              "<style scoped>\n",
              "    .dataframe tbody tr th:only-of-type {\n",
              "        vertical-align: middle;\n",
              "    }\n",
              "\n",
              "    .dataframe tbody tr th {\n",
              "        vertical-align: top;\n",
              "    }\n",
              "\n",
              "    .dataframe thead th {\n",
              "        text-align: right;\n",
              "    }\n",
              "</style>\n",
              "<table border=\"1\" class=\"dataframe\">\n",
              "  <thead>\n",
              "    <tr style=\"text-align: right;\">\n",
              "      <th></th>\n",
              "      <th>rating</th>\n",
              "      <th>playback_used</th>\n",
              "      <th>ebird_code</th>\n",
              "      <th>channels</th>\n",
              "      <th>date</th>\n",
              "      <th>pitch</th>\n",
              "      <th>duration</th>\n",
              "      <th>filename</th>\n",
              "      <th>speed</th>\n",
              "      <th>species</th>\n",
              "      <th>number_of_notes</th>\n",
              "      <th>title</th>\n",
              "      <th>secondary_labels</th>\n",
              "      <th>bird_seen</th>\n",
              "      <th>sci_name</th>\n",
              "      <th>location</th>\n",
              "      <th>latitude</th>\n",
              "      <th>sampling_rate</th>\n",
              "      <th>type</th>\n",
              "      <th>elevation</th>\n",
              "      <th>bitrate_of_mp3</th>\n",
              "      <th>file_type</th>\n",
              "      <th>volume</th>\n",
              "      <th>background</th>\n",
              "      <th>xc_id</th>\n",
              "      <th>url</th>\n",
              "      <th>country</th>\n",
              "      <th>author</th>\n",
              "      <th>primary_label</th>\n",
              "      <th>longitude</th>\n",
              "      <th>length</th>\n",
              "      <th>time</th>\n",
              "      <th>recordist</th>\n",
              "      <th>license</th>\n",
              "    </tr>\n",
              "  </thead>\n",
              "  <tbody>\n",
              "    <tr>\n",
              "      <th>711</th>\n",
              "      <td>5.0</td>\n",
              "      <td>no</td>\n",
              "      <td>amerob</td>\n",
              "      <td>2 (stereo)</td>\n",
              "      <td>2017-04-24</td>\n",
              "      <td>Not specified</td>\n",
              "      <td>50</td>\n",
              "      <td>XC367008.mp3</td>\n",
              "      <td>Not specified</td>\n",
              "      <td>American Robin</td>\n",
              "      <td>Not specified</td>\n",
              "      <td>XC367008 American Robin (Turdus migratorius)</td>\n",
              "      <td>[]</td>\n",
              "      <td>yes</td>\n",
              "      <td>Turdus migratorius</td>\n",
              "      <td>Fenton River near Lions Field, Mansfield, Tol...</td>\n",
              "      <td>41.7826</td>\n",
              "      <td>44100 (Hz)</td>\n",
              "      <td>song</td>\n",
              "      <td>70</td>\n",
              "      <td>NaN</td>\n",
              "      <td>mp2</td>\n",
              "      <td>Not specified</td>\n",
              "      <td>NaN</td>\n",
              "      <td>367008</td>\n",
              "      <td>https://www.xeno-canto.org/367008</td>\n",
              "      <td>United States</td>\n",
              "      <td>Jorge de Leon Cardozo</td>\n",
              "      <td>Turdus migratorius_American Robin</td>\n",
              "      <td>-72.2027</td>\n",
              "      <td>Not specified</td>\n",
              "      <td>18:30</td>\n",
              "      <td>Jorge de Leon Cardozo</td>\n",
              "      <td>Creative Commons Attribution-NonCommercial-Sha...</td>\n",
              "    </tr>\n",
              "  </tbody>\n",
              "</table>\n",
              "</div>\n",
              "    <div class=\"colab-df-buttons\">\n",
              "\n",
              "  <div class=\"colab-df-container\">\n",
              "    <button class=\"colab-df-convert\" onclick=\"convertToInteractive('df-f6c35e8f-1b43-4b76-aef5-611c38b96b2c')\"\n",
              "            title=\"Convert this dataframe to an interactive table.\"\n",
              "            style=\"display:none;\">\n",
              "\n",
              "  <svg xmlns=\"http://www.w3.org/2000/svg\" height=\"24px\" viewBox=\"0 -960 960 960\">\n",
              "    <path d=\"M120-120v-720h720v720H120Zm60-500h600v-160H180v160Zm220 220h160v-160H400v160Zm0 220h160v-160H400v160ZM180-400h160v-160H180v160Zm440 0h160v-160H620v160ZM180-180h160v-160H180v160Zm440 0h160v-160H620v160Z\"/>\n",
              "  </svg>\n",
              "    </button>\n",
              "\n",
              "  <style>\n",
              "    .colab-df-container {\n",
              "      display:flex;\n",
              "      gap: 12px;\n",
              "    }\n",
              "\n",
              "    .colab-df-convert {\n",
              "      background-color: #E8F0FE;\n",
              "      border: none;\n",
              "      border-radius: 50%;\n",
              "      cursor: pointer;\n",
              "      display: none;\n",
              "      fill: #1967D2;\n",
              "      height: 32px;\n",
              "      padding: 0 0 0 0;\n",
              "      width: 32px;\n",
              "    }\n",
              "\n",
              "    .colab-df-convert:hover {\n",
              "      background-color: #E2EBFA;\n",
              "      box-shadow: 0px 1px 2px rgba(60, 64, 67, 0.3), 0px 1px 3px 1px rgba(60, 64, 67, 0.15);\n",
              "      fill: #174EA6;\n",
              "    }\n",
              "\n",
              "    .colab-df-buttons div {\n",
              "      margin-bottom: 4px;\n",
              "    }\n",
              "\n",
              "    [theme=dark] .colab-df-convert {\n",
              "      background-color: #3B4455;\n",
              "      fill: #D2E3FC;\n",
              "    }\n",
              "\n",
              "    [theme=dark] .colab-df-convert:hover {\n",
              "      background-color: #434B5C;\n",
              "      box-shadow: 0px 1px 3px 1px rgba(0, 0, 0, 0.15);\n",
              "      filter: drop-shadow(0px 1px 2px rgba(0, 0, 0, 0.3));\n",
              "      fill: #FFFFFF;\n",
              "    }\n",
              "  </style>\n",
              "\n",
              "    <script>\n",
              "      const buttonEl =\n",
              "        document.querySelector('#df-f6c35e8f-1b43-4b76-aef5-611c38b96b2c button.colab-df-convert');\n",
              "      buttonEl.style.display =\n",
              "        google.colab.kernel.accessAllowed ? 'block' : 'none';\n",
              "\n",
              "      async function convertToInteractive(key) {\n",
              "        const element = document.querySelector('#df-f6c35e8f-1b43-4b76-aef5-611c38b96b2c');\n",
              "        const dataTable =\n",
              "          await google.colab.kernel.invokeFunction('convertToInteractive',\n",
              "                                                    [key], {});\n",
              "        if (!dataTable) return;\n",
              "\n",
              "        const docLinkHtml = 'Like what you see? Visit the ' +\n",
              "          '<a target=\"_blank\" href=https://colab.research.google.com/notebooks/data_table.ipynb>data table notebook</a>'\n",
              "          + ' to learn more about interactive tables.';\n",
              "        element.innerHTML = '';\n",
              "        dataTable['output_type'] = 'display_data';\n",
              "        await google.colab.output.renderOutput(dataTable, element);\n",
              "        const docLink = document.createElement('div');\n",
              "        docLink.innerHTML = docLinkHtml;\n",
              "        element.appendChild(docLink);\n",
              "      }\n",
              "    </script>\n",
              "  </div>\n",
              "\n",
              "\n",
              "    </div>\n",
              "  </div>\n"
            ]
          },
          "metadata": {},
          "execution_count": 37
        }
      ]
    },
    {
      "cell_type": "code",
      "source": [
        "df['bitrate_of_mp3'].fillna('0',inplace=True)"
      ],
      "metadata": {
        "id": "ZyMruadroRpU"
      },
      "execution_count": null,
      "outputs": []
    },
    {
      "cell_type": "code",
      "source": [
        "df['bitrate_of_mp3'].unique()"
      ],
      "metadata": {
        "id": "DjONBbmfrLIP"
      },
      "execution_count": null,
      "outputs": []
    },
    {
      "cell_type": "code",
      "source": [
        "df['bitrate_of_mp3'] = df['bitrate_of_mp3'].apply(lambda x:x.split(' ')[0]).astype(int)"
      ],
      "metadata": {
        "id": "hpt3N-GLok8D"
      },
      "execution_count": null,
      "outputs": []
    },
    {
      "cell_type": "code",
      "source": [
        "df['bitrate_of_mp3'] = df['bitrate_of_mp3'].replace(0,df['bitrate_of_mp3'].mean())"
      ],
      "metadata": {
        "id": "S3nSadvmo3W4"
      },
      "execution_count": null,
      "outputs": []
    },
    {
      "cell_type": "code",
      "source": [
        "df['file_type'].unique()"
      ],
      "metadata": {
        "colab": {
          "base_uri": "https://localhost:8080/"
        },
        "id": "S2ptJp2ZrlWr",
        "outputId": "f4e7620a-3990-45c1-86fd-c07722e92b70"
      },
      "execution_count": null,
      "outputs": [
        {
          "output_type": "execute_result",
          "data": {
            "text/plain": [
              "array(['mp3', 'mp2'], dtype=object)"
            ]
          },
          "metadata": {},
          "execution_count": 45
        }
      ]
    },
    {
      "cell_type": "code",
      "source": [
        "df['volume'].unique()"
      ],
      "metadata": {
        "colab": {
          "base_uri": "https://localhost:8080/"
        },
        "id": "E7gUap0Rrs7Z",
        "outputId": "2313d7b2-bfac-429d-da59-ec945e401ab0"
      },
      "execution_count": null,
      "outputs": [
        {
          "output_type": "execute_result",
          "data": {
            "text/plain": [
              "array(['Not specified', 'level', 'increasing', 'both', 'decreasing'],\n",
              "      dtype=object)"
            ]
          },
          "metadata": {},
          "execution_count": 46
        }
      ]
    },
    {
      "cell_type": "code",
      "source": [
        "df['background'].unique()"
      ],
      "metadata": {
        "id": "NjWCmuFusAnr"
      },
      "execution_count": null,
      "outputs": []
    },
    {
      "cell_type": "code",
      "source": [
        "df['xc_id'].unique()"
      ],
      "metadata": {
        "id": "Dt3kFC8Asy2R",
        "colab": {
          "base_uri": "https://localhost:8080/"
        },
        "outputId": "a0b2c339-7433-4c1c-ee44-87219c428739"
      },
      "execution_count": null,
      "outputs": [
        {
          "output_type": "execute_result",
          "data": {
            "text/plain": [
              "array([134874, 135454, 135455, ..., 419947, 425120, 428282])"
            ]
          },
          "metadata": {},
          "execution_count": 48
        }
      ]
    },
    {
      "cell_type": "markdown",
      "source": [
        "This xc_id is alreaqdy mentioned in filename. So, we can drop it."
      ],
      "metadata": {
        "id": "ZRuoVoh6uHRB"
      }
    },
    {
      "cell_type": "code",
      "source": [
        "df.drop('xc_id',axis=1,inplace=True)"
      ],
      "metadata": {
        "id": "sBTX71UeuF_b"
      },
      "execution_count": null,
      "outputs": []
    },
    {
      "cell_type": "code",
      "source": [
        "df['url'].unique()"
      ],
      "metadata": {
        "colab": {
          "base_uri": "https://localhost:8080/"
        },
        "id": "WZujthUhueg5",
        "outputId": "3df2f9f4-1344-4a2d-ca70-425d742abe68"
      },
      "execution_count": null,
      "outputs": [
        {
          "output_type": "execute_result",
          "data": {
            "text/plain": [
              "array(['https://www.xeno-canto.org/134874',\n",
              "       'https://www.xeno-canto.org/135454',\n",
              "       'https://www.xeno-canto.org/135455', ...,\n",
              "       'https://www.xeno-canto.org/419947',\n",
              "       'https://www.xeno-canto.org/425120',\n",
              "       'https://www.xeno-canto.org/428282'], dtype=object)"
            ]
          },
          "metadata": {},
          "execution_count": 50
        }
      ]
    },
    {
      "cell_type": "code",
      "source": [
        "df['url'].isna().sum()"
      ],
      "metadata": {
        "colab": {
          "base_uri": "https://localhost:8080/"
        },
        "id": "s2KJ7z3quhlD",
        "outputId": "e8ecb9e7-2317-4aab-9455-237b3caf6974"
      },
      "execution_count": null,
      "outputs": [
        {
          "output_type": "execute_result",
          "data": {
            "text/plain": [
              "0"
            ]
          },
          "metadata": {},
          "execution_count": 53
        }
      ]
    },
    {
      "cell_type": "code",
      "source": [
        "df.country.unique()"
      ],
      "metadata": {
        "colab": {
          "base_uri": "https://localhost:8080/"
        },
        "id": "dB70eCGZulIM",
        "outputId": "6f31c2c8-2b64-4e67-8c2e-183bcb71925c"
      },
      "execution_count": null,
      "outputs": [
        {
          "output_type": "execute_result",
          "data": {
            "text/plain": [
              "array(['United States', 'Canada', 'Honduras', 'Bolivia', 'Ecuador',\n",
              "       'Colombia', 'Mexico', 'Chile', 'Dominican Republic', 'Brazil',\n",
              "       'Guatemala', 'Argentina', 'Peru', 'Uruguay', 'Russian Federation',\n",
              "       'China', 'Portugal', 'Japan', 'Azerbaijan', 'Georgia',\n",
              "       'South Korea', 'Israel', 'Mongolia', 'Jamaica', 'Cuba',\n",
              "       'Costa Rica', 'Sweden', 'Finland', 'Panama', 'El Salvador',\n",
              "       'Nicaragua', 'Denmark', 'France', 'Uzbekistan', 'Kazakhstan',\n",
              "       'Poland', 'Germany', 'Netherlands', 'Belgium', 'Italy',\n",
              "       'United Kingdom', 'Norway', 'Switzerland', 'Spain', 'South Africa',\n",
              "       'Ireland', 'Croatia', 'India', 'Indonesia', 'Greece', 'Cyprus',\n",
              "       'Kuwait', 'Ukraine', 'Venezuela'], dtype=object)"
            ]
          },
          "metadata": {},
          "execution_count": 54
        }
      ]
    },
    {
      "cell_type": "code",
      "source": [
        "df.author.nunique()"
      ],
      "metadata": {
        "colab": {
          "base_uri": "https://localhost:8080/"
        },
        "id": "CAcBJ3P7vADt",
        "outputId": "c17baf19-9bad-4672-aa69-7865cca672c4"
      },
      "execution_count": null,
      "outputs": [
        {
          "output_type": "execute_result",
          "data": {
            "text/plain": [
              "356"
            ]
          },
          "metadata": {},
          "execution_count": 59
        }
      ]
    },
    {
      "cell_type": "code",
      "source": [
        "df.recordist.nunique()"
      ],
      "metadata": {
        "colab": {
          "base_uri": "https://localhost:8080/"
        },
        "id": "IFhzz6Y5vJzh",
        "outputId": "1fba9ca5-678e-4c5f-8627-2296bfc310ad"
      },
      "execution_count": null,
      "outputs": [
        {
          "output_type": "execute_result",
          "data": {
            "text/plain": [
              "356"
            ]
          },
          "metadata": {},
          "execution_count": 58
        }
      ]
    },
    {
      "cell_type": "code",
      "source": [
        "df[df['author']!=df['recordist']]"
      ],
      "metadata": {
        "colab": {
          "base_uri": "https://localhost:8080/",
          "height": 73
        },
        "id": "E8QXy6Cwvj7T",
        "outputId": "3c9c0064-1491-4f1f-e4d9-e863883b650b"
      },
      "execution_count": null,
      "outputs": [
        {
          "output_type": "execute_result",
          "data": {
            "text/plain": [
              "Empty DataFrame\n",
              "Columns: [rating, playback_used, ebird_code, channels, date, pitch, duration, filename, speed, species, number_of_notes, title, secondary_labels, bird_seen, sci_name, location, latitude, sampling_rate, type, elevation, bitrate_of_mp3, file_type, volume, background, url, country, author, primary_label, longitude, length, time, recordist, license]\n",
              "Index: []"
            ],
            "text/html": [
              "\n",
              "  <div id=\"df-b5e22b62-3e27-467f-a77b-4595ec409e7b\" class=\"colab-df-container\">\n",
              "    <div>\n",
              "<style scoped>\n",
              "    .dataframe tbody tr th:only-of-type {\n",
              "        vertical-align: middle;\n",
              "    }\n",
              "\n",
              "    .dataframe tbody tr th {\n",
              "        vertical-align: top;\n",
              "    }\n",
              "\n",
              "    .dataframe thead th {\n",
              "        text-align: right;\n",
              "    }\n",
              "</style>\n",
              "<table border=\"1\" class=\"dataframe\">\n",
              "  <thead>\n",
              "    <tr style=\"text-align: right;\">\n",
              "      <th></th>\n",
              "      <th>rating</th>\n",
              "      <th>playback_used</th>\n",
              "      <th>ebird_code</th>\n",
              "      <th>channels</th>\n",
              "      <th>date</th>\n",
              "      <th>pitch</th>\n",
              "      <th>duration</th>\n",
              "      <th>filename</th>\n",
              "      <th>speed</th>\n",
              "      <th>species</th>\n",
              "      <th>number_of_notes</th>\n",
              "      <th>title</th>\n",
              "      <th>secondary_labels</th>\n",
              "      <th>bird_seen</th>\n",
              "      <th>sci_name</th>\n",
              "      <th>location</th>\n",
              "      <th>latitude</th>\n",
              "      <th>sampling_rate</th>\n",
              "      <th>type</th>\n",
              "      <th>elevation</th>\n",
              "      <th>bitrate_of_mp3</th>\n",
              "      <th>file_type</th>\n",
              "      <th>volume</th>\n",
              "      <th>background</th>\n",
              "      <th>url</th>\n",
              "      <th>country</th>\n",
              "      <th>author</th>\n",
              "      <th>primary_label</th>\n",
              "      <th>longitude</th>\n",
              "      <th>length</th>\n",
              "      <th>time</th>\n",
              "      <th>recordist</th>\n",
              "      <th>license</th>\n",
              "    </tr>\n",
              "  </thead>\n",
              "  <tbody>\n",
              "  </tbody>\n",
              "</table>\n",
              "</div>\n",
              "    <div class=\"colab-df-buttons\">\n",
              "\n",
              "  <div class=\"colab-df-container\">\n",
              "    <button class=\"colab-df-convert\" onclick=\"convertToInteractive('df-b5e22b62-3e27-467f-a77b-4595ec409e7b')\"\n",
              "            title=\"Convert this dataframe to an interactive table.\"\n",
              "            style=\"display:none;\">\n",
              "\n",
              "  <svg xmlns=\"http://www.w3.org/2000/svg\" height=\"24px\" viewBox=\"0 -960 960 960\">\n",
              "    <path d=\"M120-120v-720h720v720H120Zm60-500h600v-160H180v160Zm220 220h160v-160H400v160Zm0 220h160v-160H400v160ZM180-400h160v-160H180v160Zm440 0h160v-160H620v160ZM180-180h160v-160H180v160Zm440 0h160v-160H620v160Z\"/>\n",
              "  </svg>\n",
              "    </button>\n",
              "\n",
              "  <style>\n",
              "    .colab-df-container {\n",
              "      display:flex;\n",
              "      gap: 12px;\n",
              "    }\n",
              "\n",
              "    .colab-df-convert {\n",
              "      background-color: #E8F0FE;\n",
              "      border: none;\n",
              "      border-radius: 50%;\n",
              "      cursor: pointer;\n",
              "      display: none;\n",
              "      fill: #1967D2;\n",
              "      height: 32px;\n",
              "      padding: 0 0 0 0;\n",
              "      width: 32px;\n",
              "    }\n",
              "\n",
              "    .colab-df-convert:hover {\n",
              "      background-color: #E2EBFA;\n",
              "      box-shadow: 0px 1px 2px rgba(60, 64, 67, 0.3), 0px 1px 3px 1px rgba(60, 64, 67, 0.15);\n",
              "      fill: #174EA6;\n",
              "    }\n",
              "\n",
              "    .colab-df-buttons div {\n",
              "      margin-bottom: 4px;\n",
              "    }\n",
              "\n",
              "    [theme=dark] .colab-df-convert {\n",
              "      background-color: #3B4455;\n",
              "      fill: #D2E3FC;\n",
              "    }\n",
              "\n",
              "    [theme=dark] .colab-df-convert:hover {\n",
              "      background-color: #434B5C;\n",
              "      box-shadow: 0px 1px 3px 1px rgba(0, 0, 0, 0.15);\n",
              "      filter: drop-shadow(0px 1px 2px rgba(0, 0, 0, 0.3));\n",
              "      fill: #FFFFFF;\n",
              "    }\n",
              "  </style>\n",
              "\n",
              "    <script>\n",
              "      const buttonEl =\n",
              "        document.querySelector('#df-b5e22b62-3e27-467f-a77b-4595ec409e7b button.colab-df-convert');\n",
              "      buttonEl.style.display =\n",
              "        google.colab.kernel.accessAllowed ? 'block' : 'none';\n",
              "\n",
              "      async function convertToInteractive(key) {\n",
              "        const element = document.querySelector('#df-b5e22b62-3e27-467f-a77b-4595ec409e7b');\n",
              "        const dataTable =\n",
              "          await google.colab.kernel.invokeFunction('convertToInteractive',\n",
              "                                                    [key], {});\n",
              "        if (!dataTable) return;\n",
              "\n",
              "        const docLinkHtml = 'Like what you see? Visit the ' +\n",
              "          '<a target=\"_blank\" href=https://colab.research.google.com/notebooks/data_table.ipynb>data table notebook</a>'\n",
              "          + ' to learn more about interactive tables.';\n",
              "        element.innerHTML = '';\n",
              "        dataTable['output_type'] = 'display_data';\n",
              "        await google.colab.output.renderOutput(dataTable, element);\n",
              "        const docLink = document.createElement('div');\n",
              "        docLink.innerHTML = docLinkHtml;\n",
              "        element.appendChild(docLink);\n",
              "      }\n",
              "    </script>\n",
              "  </div>\n",
              "\n",
              "\n",
              "    </div>\n",
              "  </div>\n"
            ]
          },
          "metadata": {},
          "execution_count": 60
        }
      ]
    },
    {
      "cell_type": "markdown",
      "source": [
        "So, both the columns are same. Lets drop the authors column."
      ],
      "metadata": {
        "id": "nDl6uEb8vwLB"
      }
    },
    {
      "cell_type": "code",
      "source": [
        "df.drop('author',axis=1,inplace=True)"
      ],
      "metadata": {
        "id": "m_UFD3ZOvurg"
      },
      "execution_count": null,
      "outputs": []
    },
    {
      "cell_type": "code",
      "source": [
        "df.primary_label.unique()"
      ],
      "metadata": {
        "colab": {
          "base_uri": "https://localhost:8080/"
        },
        "id": "Ddg23Josv8-b",
        "outputId": "62b1a1ee-d125-4468-8aa7-1d92f688ae7a"
      },
      "execution_count": null,
      "outputs": [
        {
          "output_type": "execute_result",
          "data": {
            "text/plain": [
              "array(['Empidonax alnorum_Alder Flycatcher',\n",
              "       'Recurvirostra americana_American Avocet',\n",
              "       'Botaurus lentiginosus_American Bittern',\n",
              "       'Corvus brachyrhynchos_American Crow',\n",
              "       'Spinus tristis_American Goldfinch',\n",
              "       'Falco sparverius_American Kestrel',\n",
              "       'Anthus rubescens_American Pipit',\n",
              "       'Setophaga ruticilla_American Redstart',\n",
              "       'Turdus migratorius_American Robin',\n",
              "       'Mareca americana_American Wigeon',\n",
              "       'Scolopax minor_American Woodcock',\n",
              "       'Spizelloides arborea_American Tree Sparrow',\n",
              "       \"Calypte anna_Anna's Hummingbird\",\n",
              "       'Myiarchus cinerascens_Ash-throated Flycatcher',\n",
              "       \"Calidris bairdii_Baird's Sandpiper\",\n",
              "       'Haliaeetus leucocephalus_Bald Eagle',\n",
              "       'Icterus galbula_Baltimore Oriole', 'Riparia riparia_Bank Swallow',\n",
              "       'Hirundo rustica_Barn Swallow',\n",
              "       'Mniotilta varia_Black-and-white Warbler',\n",
              "       'Megaceryle alcyon_Belted Kingfisher',\n",
              "       \"Artemisiospiza belli_Bell's Sparrow\",\n",
              "       \"Thryomanes bewickii_Bewick's Wren\",\n",
              "       'Coccyzus erythropthalmus_Black-billed Cuckoo',\n",
              "       'Pica hudsonia_Black-billed Magpie',\n",
              "       'Setophaga fusca_Blackburnian Warbler',\n",
              "       'Poecile atricapillus_Black-capped Chickadee',\n",
              "       'Archilochus alexandri_Black-chinned Hummingbird',\n",
              "       'Pheucticus melanocephalus_Black-headed Grosbeak',\n",
              "       'Setophaga striata_Blackpoll Warbler',\n",
              "       'Amphispiza bilineata_Black-throated Sparrow',\n",
              "       'Sayornis nigricans_Black Phoebe',\n",
              "       'Passerina caerulea_Blue Grosbeak', 'Cyanocitta cristata_Blue Jay',\n",
              "       'Molothrus ater_Brown-headed Cowbird',\n",
              "       'Dolichonyx oryzivorus_Bobolink',\n",
              "       \"Chroicocephalus philadelphia_Bonaparte's Gull\",\n",
              "       'Strix varia_Barred Owl'], dtype=object)"
            ]
          },
          "metadata": {},
          "execution_count": 62
        }
      ]
    },
    {
      "cell_type": "code",
      "source": [
        "df.length.unique()"
      ],
      "metadata": {
        "colab": {
          "base_uri": "https://localhost:8080/"
        },
        "id": "bIvuMB5HwjEB",
        "outputId": "848be4da-2115-40d8-f80e-532d3bc9c6b2"
      },
      "execution_count": null,
      "outputs": [
        {
          "output_type": "execute_result",
          "data": {
            "text/plain": [
              "array(['Not specified', '0-3(s)', '6-10(s)', '>10(s)', '3-6(s)'],\n",
              "      dtype=object)"
            ]
          },
          "metadata": {},
          "execution_count": 63
        }
      ]
    },
    {
      "cell_type": "code",
      "source": [
        "df['min_value'] = df['length'].str.extract(r'(\\d+)')\n",
        "df['min_value'] = pd.to_numeric(df['min_value'],errors='coerce')"
      ],
      "metadata": {
        "id": "XBZ4hnfUxW-U"
      },
      "execution_count": null,
      "outputs": []
    },
    {
      "cell_type": "code",
      "source": [
        "df['max_value'] = df['length'].str.extract(r'-(\\d+)')\n",
        "df['max_value'] = pd.to_numeric(df['max_value'],errors='coerce')\n",
        "df.head()"
      ],
      "metadata": {
        "colab": {
          "base_uri": "https://localhost:8080/",
          "height": 642
        },
        "id": "7yB9ffURzQ6k",
        "outputId": "112bc5d8-c261-4c91-ed68-908473c43b74"
      },
      "execution_count": null,
      "outputs": [
        {
          "output_type": "execute_result",
          "data": {
            "text/plain": [
              "   rating ebird_code  channels          pitch  duration      filename          speed           species number_of_notes              title bird_seen           sci_name                                           location latitude  sampling_rate        type  elevation  bitrate_of_mp3 file_type         volume                                         background                                url        country                       primary_label longitude         length   time         recordist                                            license  playback_used_encoded  day  month  year  bird_seen_encoded  min_value  max_value\n",
              "0     3.5     aldfly         1  Not specified        25  XC134874.mp3  Not specified  Alder Flycatcher   Not specified  Alder Flycatcher        yes  Empidonax alnorum        Grey Cloud Dunes SNA, Washington, Minnesota   44.793          48000        call        220        192000.0       mp3  Not specified  American Yellow Warbler (Setophaga aestiva); L...  https://www.xeno-canto.org/134874  United States  Empidonax alnorum_Alder Flycatcher   -92.962  Not specified   8:00  Jonathon Jongsma        Creative Commons Attribution-ShareAlike 3.0                      0   25      5  2013                  1        NaN        NaN\n",
              "1     4.0     aldfly         2           both        36  XC135454.mp3           both  Alder Flycatcher             1-3  Alder Flycatcher        yes  Empidonax alnorum   Carver's Gap Parking area, Roan Mountain Stat...  36.1065          44100  call, song       1700        128000.0       mp3          level                                                NaN  https://www.xeno-canto.org/135454  United States  Empidonax alnorum_Alder Flycatcher  -82.1106         0-3(s)  08:30       Mike Nelson  Creative Commons Attribution-NonCommercial-Sha...                      0   27      5  2013                  1        0.0        3.0\n",
              "2     4.0     aldfly         2           both        39  XC135455.mp3           both  Alder Flycatcher             1-3  Alder Flycatcher        yes  Empidonax alnorum   Carver's Gap Parking area, Roan Mountain Stat...  36.1065          44100  call, song       1700        128000.0       mp3          level                                                NaN  https://www.xeno-canto.org/135455  United States  Empidonax alnorum_Alder Flycatcher  -82.1106         0-3(s)  08:30       Mike Nelson  Creative Commons Attribution-NonCommercial-Sha...                      0   27      5  2013                  1        0.0        3.0\n",
              "3     3.5     aldfly         2           both        33  XC135456.mp3           both  Alder Flycatcher             1-3  Alder Flycatcher        yes  Empidonax alnorum   Carver's Gap Parking area, Roan Mountain Stat...  36.1065          44100  call, song       1700        128000.0       mp3          level  Grey Catbird (Dumetella carolinensis); Cedar W...  https://www.xeno-canto.org/135456  United States  Empidonax alnorum_Alder Flycatcher  -82.1106         0-3(s)  08:30       Mike Nelson  Creative Commons Attribution-NonCommercial-Sha...                      0   27      5  2013                  1        0.0        3.0\n",
              "4     4.0     aldfly         2           both        36  XC135457.mp3          level  Alder Flycatcher             1-3  Alder Flycatcher        yes  Empidonax alnorum   Carver's Gap Parking area, Roan Mountain Stat...  36.1065          44100  call, song       1700        128000.0       mp3          level                                                NaN  https://www.xeno-canto.org/135457  United States  Empidonax alnorum_Alder Flycatcher  -82.1106         0-3(s)  08:30       Mike Nelson  Creative Commons Attribution-NonCommercial-Sha...                      0   27      5  2013                  1        0.0        3.0"
            ],
            "text/html": [
              "\n",
              "  <div id=\"df-bb566db8-3767-4a7e-a9cb-6db097ce087e\" class=\"colab-df-container\">\n",
              "    <div>\n",
              "<style scoped>\n",
              "    .dataframe tbody tr th:only-of-type {\n",
              "        vertical-align: middle;\n",
              "    }\n",
              "\n",
              "    .dataframe tbody tr th {\n",
              "        vertical-align: top;\n",
              "    }\n",
              "\n",
              "    .dataframe thead th {\n",
              "        text-align: right;\n",
              "    }\n",
              "</style>\n",
              "<table border=\"1\" class=\"dataframe\">\n",
              "  <thead>\n",
              "    <tr style=\"text-align: right;\">\n",
              "      <th></th>\n",
              "      <th>rating</th>\n",
              "      <th>ebird_code</th>\n",
              "      <th>channels</th>\n",
              "      <th>pitch</th>\n",
              "      <th>duration</th>\n",
              "      <th>filename</th>\n",
              "      <th>speed</th>\n",
              "      <th>species</th>\n",
              "      <th>number_of_notes</th>\n",
              "      <th>title</th>\n",
              "      <th>bird_seen</th>\n",
              "      <th>sci_name</th>\n",
              "      <th>location</th>\n",
              "      <th>latitude</th>\n",
              "      <th>sampling_rate</th>\n",
              "      <th>type</th>\n",
              "      <th>elevation</th>\n",
              "      <th>bitrate_of_mp3</th>\n",
              "      <th>file_type</th>\n",
              "      <th>volume</th>\n",
              "      <th>background</th>\n",
              "      <th>url</th>\n",
              "      <th>country</th>\n",
              "      <th>primary_label</th>\n",
              "      <th>longitude</th>\n",
              "      <th>length</th>\n",
              "      <th>time</th>\n",
              "      <th>recordist</th>\n",
              "      <th>license</th>\n",
              "      <th>playback_used_encoded</th>\n",
              "      <th>day</th>\n",
              "      <th>month</th>\n",
              "      <th>year</th>\n",
              "      <th>bird_seen_encoded</th>\n",
              "      <th>min_value</th>\n",
              "      <th>max_value</th>\n",
              "    </tr>\n",
              "  </thead>\n",
              "  <tbody>\n",
              "    <tr>\n",
              "      <th>0</th>\n",
              "      <td>3.5</td>\n",
              "      <td>aldfly</td>\n",
              "      <td>1</td>\n",
              "      <td>Not specified</td>\n",
              "      <td>25</td>\n",
              "      <td>XC134874.mp3</td>\n",
              "      <td>Not specified</td>\n",
              "      <td>Alder Flycatcher</td>\n",
              "      <td>Not specified</td>\n",
              "      <td>Alder Flycatcher</td>\n",
              "      <td>yes</td>\n",
              "      <td>Empidonax alnorum</td>\n",
              "      <td>Grey Cloud Dunes SNA, Washington, Minnesota</td>\n",
              "      <td>44.793</td>\n",
              "      <td>48000</td>\n",
              "      <td>call</td>\n",
              "      <td>220</td>\n",
              "      <td>192000.0</td>\n",
              "      <td>mp3</td>\n",
              "      <td>Not specified</td>\n",
              "      <td>American Yellow Warbler (Setophaga aestiva); L...</td>\n",
              "      <td>https://www.xeno-canto.org/134874</td>\n",
              "      <td>United States</td>\n",
              "      <td>Empidonax alnorum_Alder Flycatcher</td>\n",
              "      <td>-92.962</td>\n",
              "      <td>Not specified</td>\n",
              "      <td>8:00</td>\n",
              "      <td>Jonathon Jongsma</td>\n",
              "      <td>Creative Commons Attribution-ShareAlike 3.0</td>\n",
              "      <td>0</td>\n",
              "      <td>25</td>\n",
              "      <td>5</td>\n",
              "      <td>2013</td>\n",
              "      <td>1</td>\n",
              "      <td>NaN</td>\n",
              "      <td>NaN</td>\n",
              "    </tr>\n",
              "    <tr>\n",
              "      <th>1</th>\n",
              "      <td>4.0</td>\n",
              "      <td>aldfly</td>\n",
              "      <td>2</td>\n",
              "      <td>both</td>\n",
              "      <td>36</td>\n",
              "      <td>XC135454.mp3</td>\n",
              "      <td>both</td>\n",
              "      <td>Alder Flycatcher</td>\n",
              "      <td>1-3</td>\n",
              "      <td>Alder Flycatcher</td>\n",
              "      <td>yes</td>\n",
              "      <td>Empidonax alnorum</td>\n",
              "      <td>Carver's Gap Parking area, Roan Mountain Stat...</td>\n",
              "      <td>36.1065</td>\n",
              "      <td>44100</td>\n",
              "      <td>call, song</td>\n",
              "      <td>1700</td>\n",
              "      <td>128000.0</td>\n",
              "      <td>mp3</td>\n",
              "      <td>level</td>\n",
              "      <td>NaN</td>\n",
              "      <td>https://www.xeno-canto.org/135454</td>\n",
              "      <td>United States</td>\n",
              "      <td>Empidonax alnorum_Alder Flycatcher</td>\n",
              "      <td>-82.1106</td>\n",
              "      <td>0-3(s)</td>\n",
              "      <td>08:30</td>\n",
              "      <td>Mike Nelson</td>\n",
              "      <td>Creative Commons Attribution-NonCommercial-Sha...</td>\n",
              "      <td>0</td>\n",
              "      <td>27</td>\n",
              "      <td>5</td>\n",
              "      <td>2013</td>\n",
              "      <td>1</td>\n",
              "      <td>0.0</td>\n",
              "      <td>3.0</td>\n",
              "    </tr>\n",
              "    <tr>\n",
              "      <th>2</th>\n",
              "      <td>4.0</td>\n",
              "      <td>aldfly</td>\n",
              "      <td>2</td>\n",
              "      <td>both</td>\n",
              "      <td>39</td>\n",
              "      <td>XC135455.mp3</td>\n",
              "      <td>both</td>\n",
              "      <td>Alder Flycatcher</td>\n",
              "      <td>1-3</td>\n",
              "      <td>Alder Flycatcher</td>\n",
              "      <td>yes</td>\n",
              "      <td>Empidonax alnorum</td>\n",
              "      <td>Carver's Gap Parking area, Roan Mountain Stat...</td>\n",
              "      <td>36.1065</td>\n",
              "      <td>44100</td>\n",
              "      <td>call, song</td>\n",
              "      <td>1700</td>\n",
              "      <td>128000.0</td>\n",
              "      <td>mp3</td>\n",
              "      <td>level</td>\n",
              "      <td>NaN</td>\n",
              "      <td>https://www.xeno-canto.org/135455</td>\n",
              "      <td>United States</td>\n",
              "      <td>Empidonax alnorum_Alder Flycatcher</td>\n",
              "      <td>-82.1106</td>\n",
              "      <td>0-3(s)</td>\n",
              "      <td>08:30</td>\n",
              "      <td>Mike Nelson</td>\n",
              "      <td>Creative Commons Attribution-NonCommercial-Sha...</td>\n",
              "      <td>0</td>\n",
              "      <td>27</td>\n",
              "      <td>5</td>\n",
              "      <td>2013</td>\n",
              "      <td>1</td>\n",
              "      <td>0.0</td>\n",
              "      <td>3.0</td>\n",
              "    </tr>\n",
              "    <tr>\n",
              "      <th>3</th>\n",
              "      <td>3.5</td>\n",
              "      <td>aldfly</td>\n",
              "      <td>2</td>\n",
              "      <td>both</td>\n",
              "      <td>33</td>\n",
              "      <td>XC135456.mp3</td>\n",
              "      <td>both</td>\n",
              "      <td>Alder Flycatcher</td>\n",
              "      <td>1-3</td>\n",
              "      <td>Alder Flycatcher</td>\n",
              "      <td>yes</td>\n",
              "      <td>Empidonax alnorum</td>\n",
              "      <td>Carver's Gap Parking area, Roan Mountain Stat...</td>\n",
              "      <td>36.1065</td>\n",
              "      <td>44100</td>\n",
              "      <td>call, song</td>\n",
              "      <td>1700</td>\n",
              "      <td>128000.0</td>\n",
              "      <td>mp3</td>\n",
              "      <td>level</td>\n",
              "      <td>Grey Catbird (Dumetella carolinensis); Cedar W...</td>\n",
              "      <td>https://www.xeno-canto.org/135456</td>\n",
              "      <td>United States</td>\n",
              "      <td>Empidonax alnorum_Alder Flycatcher</td>\n",
              "      <td>-82.1106</td>\n",
              "      <td>0-3(s)</td>\n",
              "      <td>08:30</td>\n",
              "      <td>Mike Nelson</td>\n",
              "      <td>Creative Commons Attribution-NonCommercial-Sha...</td>\n",
              "      <td>0</td>\n",
              "      <td>27</td>\n",
              "      <td>5</td>\n",
              "      <td>2013</td>\n",
              "      <td>1</td>\n",
              "      <td>0.0</td>\n",
              "      <td>3.0</td>\n",
              "    </tr>\n",
              "    <tr>\n",
              "      <th>4</th>\n",
              "      <td>4.0</td>\n",
              "      <td>aldfly</td>\n",
              "      <td>2</td>\n",
              "      <td>both</td>\n",
              "      <td>36</td>\n",
              "      <td>XC135457.mp3</td>\n",
              "      <td>level</td>\n",
              "      <td>Alder Flycatcher</td>\n",
              "      <td>1-3</td>\n",
              "      <td>Alder Flycatcher</td>\n",
              "      <td>yes</td>\n",
              "      <td>Empidonax alnorum</td>\n",
              "      <td>Carver's Gap Parking area, Roan Mountain Stat...</td>\n",
              "      <td>36.1065</td>\n",
              "      <td>44100</td>\n",
              "      <td>call, song</td>\n",
              "      <td>1700</td>\n",
              "      <td>128000.0</td>\n",
              "      <td>mp3</td>\n",
              "      <td>level</td>\n",
              "      <td>NaN</td>\n",
              "      <td>https://www.xeno-canto.org/135457</td>\n",
              "      <td>United States</td>\n",
              "      <td>Empidonax alnorum_Alder Flycatcher</td>\n",
              "      <td>-82.1106</td>\n",
              "      <td>0-3(s)</td>\n",
              "      <td>08:30</td>\n",
              "      <td>Mike Nelson</td>\n",
              "      <td>Creative Commons Attribution-NonCommercial-Sha...</td>\n",
              "      <td>0</td>\n",
              "      <td>27</td>\n",
              "      <td>5</td>\n",
              "      <td>2013</td>\n",
              "      <td>1</td>\n",
              "      <td>0.0</td>\n",
              "      <td>3.0</td>\n",
              "    </tr>\n",
              "  </tbody>\n",
              "</table>\n",
              "</div>\n",
              "    <div class=\"colab-df-buttons\">\n",
              "\n",
              "  <div class=\"colab-df-container\">\n",
              "    <button class=\"colab-df-convert\" onclick=\"convertToInteractive('df-bb566db8-3767-4a7e-a9cb-6db097ce087e')\"\n",
              "            title=\"Convert this dataframe to an interactive table.\"\n",
              "            style=\"display:none;\">\n",
              "\n",
              "  <svg xmlns=\"http://www.w3.org/2000/svg\" height=\"24px\" viewBox=\"0 -960 960 960\">\n",
              "    <path d=\"M120-120v-720h720v720H120Zm60-500h600v-160H180v160Zm220 220h160v-160H400v160Zm0 220h160v-160H400v160ZM180-400h160v-160H180v160Zm440 0h160v-160H620v160ZM180-180h160v-160H180v160Zm440 0h160v-160H620v160Z\"/>\n",
              "  </svg>\n",
              "    </button>\n",
              "\n",
              "  <style>\n",
              "    .colab-df-container {\n",
              "      display:flex;\n",
              "      gap: 12px;\n",
              "    }\n",
              "\n",
              "    .colab-df-convert {\n",
              "      background-color: #E8F0FE;\n",
              "      border: none;\n",
              "      border-radius: 50%;\n",
              "      cursor: pointer;\n",
              "      display: none;\n",
              "      fill: #1967D2;\n",
              "      height: 32px;\n",
              "      padding: 0 0 0 0;\n",
              "      width: 32px;\n",
              "    }\n",
              "\n",
              "    .colab-df-convert:hover {\n",
              "      background-color: #E2EBFA;\n",
              "      box-shadow: 0px 1px 2px rgba(60, 64, 67, 0.3), 0px 1px 3px 1px rgba(60, 64, 67, 0.15);\n",
              "      fill: #174EA6;\n",
              "    }\n",
              "\n",
              "    .colab-df-buttons div {\n",
              "      margin-bottom: 4px;\n",
              "    }\n",
              "\n",
              "    [theme=dark] .colab-df-convert {\n",
              "      background-color: #3B4455;\n",
              "      fill: #D2E3FC;\n",
              "    }\n",
              "\n",
              "    [theme=dark] .colab-df-convert:hover {\n",
              "      background-color: #434B5C;\n",
              "      box-shadow: 0px 1px 3px 1px rgba(0, 0, 0, 0.15);\n",
              "      filter: drop-shadow(0px 1px 2px rgba(0, 0, 0, 0.3));\n",
              "      fill: #FFFFFF;\n",
              "    }\n",
              "  </style>\n",
              "\n",
              "    <script>\n",
              "      const buttonEl =\n",
              "        document.querySelector('#df-bb566db8-3767-4a7e-a9cb-6db097ce087e button.colab-df-convert');\n",
              "      buttonEl.style.display =\n",
              "        google.colab.kernel.accessAllowed ? 'block' : 'none';\n",
              "\n",
              "      async function convertToInteractive(key) {\n",
              "        const element = document.querySelector('#df-bb566db8-3767-4a7e-a9cb-6db097ce087e');\n",
              "        const dataTable =\n",
              "          await google.colab.kernel.invokeFunction('convertToInteractive',\n",
              "                                                    [key], {});\n",
              "        if (!dataTable) return;\n",
              "\n",
              "        const docLinkHtml = 'Like what you see? Visit the ' +\n",
              "          '<a target=\"_blank\" href=https://colab.research.google.com/notebooks/data_table.ipynb>data table notebook</a>'\n",
              "          + ' to learn more about interactive tables.';\n",
              "        element.innerHTML = '';\n",
              "        dataTable['output_type'] = 'display_data';\n",
              "        await google.colab.output.renderOutput(dataTable, element);\n",
              "        const docLink = document.createElement('div');\n",
              "        docLink.innerHTML = docLinkHtml;\n",
              "        element.appendChild(docLink);\n",
              "      }\n",
              "    </script>\n",
              "  </div>\n",
              "\n",
              "\n",
              "<div id=\"df-5efa3369-25d6-4f28-a2bc-6f119e928ca8\">\n",
              "  <button class=\"colab-df-quickchart\" onclick=\"quickchart('df-5efa3369-25d6-4f28-a2bc-6f119e928ca8')\"\n",
              "            title=\"Suggest charts\"\n",
              "            style=\"display:none;\">\n",
              "\n",
              "<svg xmlns=\"http://www.w3.org/2000/svg\" height=\"24px\"viewBox=\"0 0 24 24\"\n",
              "     width=\"24px\">\n",
              "    <g>\n",
              "        <path d=\"M19 3H5c-1.1 0-2 .9-2 2v14c0 1.1.9 2 2 2h14c1.1 0 2-.9 2-2V5c0-1.1-.9-2-2-2zM9 17H7v-7h2v7zm4 0h-2V7h2v10zm4 0h-2v-4h2v4z\"/>\n",
              "    </g>\n",
              "</svg>\n",
              "  </button>\n",
              "\n",
              "<style>\n",
              "  .colab-df-quickchart {\n",
              "      --bg-color: #E8F0FE;\n",
              "      --fill-color: #1967D2;\n",
              "      --hover-bg-color: #E2EBFA;\n",
              "      --hover-fill-color: #174EA6;\n",
              "      --disabled-fill-color: #AAA;\n",
              "      --disabled-bg-color: #DDD;\n",
              "  }\n",
              "\n",
              "  [theme=dark] .colab-df-quickchart {\n",
              "      --bg-color: #3B4455;\n",
              "      --fill-color: #D2E3FC;\n",
              "      --hover-bg-color: #434B5C;\n",
              "      --hover-fill-color: #FFFFFF;\n",
              "      --disabled-bg-color: #3B4455;\n",
              "      --disabled-fill-color: #666;\n",
              "  }\n",
              "\n",
              "  .colab-df-quickchart {\n",
              "    background-color: var(--bg-color);\n",
              "    border: none;\n",
              "    border-radius: 50%;\n",
              "    cursor: pointer;\n",
              "    display: none;\n",
              "    fill: var(--fill-color);\n",
              "    height: 32px;\n",
              "    padding: 0;\n",
              "    width: 32px;\n",
              "  }\n",
              "\n",
              "  .colab-df-quickchart:hover {\n",
              "    background-color: var(--hover-bg-color);\n",
              "    box-shadow: 0 1px 2px rgba(60, 64, 67, 0.3), 0 1px 3px 1px rgba(60, 64, 67, 0.15);\n",
              "    fill: var(--button-hover-fill-color);\n",
              "  }\n",
              "\n",
              "  .colab-df-quickchart-complete:disabled,\n",
              "  .colab-df-quickchart-complete:disabled:hover {\n",
              "    background-color: var(--disabled-bg-color);\n",
              "    fill: var(--disabled-fill-color);\n",
              "    box-shadow: none;\n",
              "  }\n",
              "\n",
              "  .colab-df-spinner {\n",
              "    border: 2px solid var(--fill-color);\n",
              "    border-color: transparent;\n",
              "    border-bottom-color: var(--fill-color);\n",
              "    animation:\n",
              "      spin 1s steps(1) infinite;\n",
              "  }\n",
              "\n",
              "  @keyframes spin {\n",
              "    0% {\n",
              "      border-color: transparent;\n",
              "      border-bottom-color: var(--fill-color);\n",
              "      border-left-color: var(--fill-color);\n",
              "    }\n",
              "    20% {\n",
              "      border-color: transparent;\n",
              "      border-left-color: var(--fill-color);\n",
              "      border-top-color: var(--fill-color);\n",
              "    }\n",
              "    30% {\n",
              "      border-color: transparent;\n",
              "      border-left-color: var(--fill-color);\n",
              "      border-top-color: var(--fill-color);\n",
              "      border-right-color: var(--fill-color);\n",
              "    }\n",
              "    40% {\n",
              "      border-color: transparent;\n",
              "      border-right-color: var(--fill-color);\n",
              "      border-top-color: var(--fill-color);\n",
              "    }\n",
              "    60% {\n",
              "      border-color: transparent;\n",
              "      border-right-color: var(--fill-color);\n",
              "    }\n",
              "    80% {\n",
              "      border-color: transparent;\n",
              "      border-right-color: var(--fill-color);\n",
              "      border-bottom-color: var(--fill-color);\n",
              "    }\n",
              "    90% {\n",
              "      border-color: transparent;\n",
              "      border-bottom-color: var(--fill-color);\n",
              "    }\n",
              "  }\n",
              "</style>\n",
              "\n",
              "  <script>\n",
              "    async function quickchart(key) {\n",
              "      const quickchartButtonEl =\n",
              "        document.querySelector('#' + key + ' button');\n",
              "      quickchartButtonEl.disabled = true;  // To prevent multiple clicks.\n",
              "      quickchartButtonEl.classList.add('colab-df-spinner');\n",
              "      try {\n",
              "        const charts = await google.colab.kernel.invokeFunction(\n",
              "            'suggestCharts', [key], {});\n",
              "      } catch (error) {\n",
              "        console.error('Error during call to suggestCharts:', error);\n",
              "      }\n",
              "      quickchartButtonEl.classList.remove('colab-df-spinner');\n",
              "      quickchartButtonEl.classList.add('colab-df-quickchart-complete');\n",
              "    }\n",
              "    (() => {\n",
              "      let quickchartButtonEl =\n",
              "        document.querySelector('#df-5efa3369-25d6-4f28-a2bc-6f119e928ca8 button');\n",
              "      quickchartButtonEl.style.display =\n",
              "        google.colab.kernel.accessAllowed ? 'block' : 'none';\n",
              "    })();\n",
              "  </script>\n",
              "</div>\n",
              "\n",
              "    </div>\n",
              "  </div>\n"
            ]
          },
          "metadata": {},
          "execution_count": 186
        }
      ]
    },
    {
      "cell_type": "code",
      "source": [
        "df.time.unique()"
      ],
      "metadata": {
        "colab": {
          "base_uri": "https://localhost:8080/"
        },
        "id": "NxepJseuzey4",
        "outputId": "b8d23a91-c2bc-4ebb-d032-2fda00d0dc84"
      },
      "execution_count": null,
      "outputs": [
        {
          "output_type": "execute_result",
          "data": {
            "text/plain": [
              "array(['8:00', '08:30', '10:00', ..., '6:19', '6:32', '6:40'],\n",
              "      dtype=object)"
            ]
          },
          "metadata": {},
          "execution_count": 187
        }
      ]
    },
    {
      "cell_type": "markdown",
      "source": [
        "I don't think knowing the time when audio is recorded is going to matter much. So, we can safely drop it."
      ],
      "metadata": {
        "id": "sL0GnRe51QUh"
      }
    },
    {
      "cell_type": "code",
      "source": [
        "df.drop('time',axis=1,inplace=True)"
      ],
      "metadata": {
        "id": "Ic_GHZwa1N4A"
      },
      "execution_count": null,
      "outputs": []
    },
    {
      "cell_type": "code",
      "source": [
        "df.license.unique()"
      ],
      "metadata": {
        "colab": {
          "base_uri": "https://localhost:8080/"
        },
        "id": "P0E6ee1e1p0s",
        "outputId": "a5f012c0-5385-45dc-e73e-8fb406467e4f"
      },
      "execution_count": null,
      "outputs": [
        {
          "output_type": "execute_result",
          "data": {
            "text/plain": [
              "array(['Creative Commons Attribution-ShareAlike 3.0',\n",
              "       'Creative Commons Attribution-NonCommercial-ShareAlike 3.0',\n",
              "       'Creative Commons Attribution-NonCommercial-ShareAlike 4.0',\n",
              "       'Creative Commons Attribution-ShareAlike 4.0', 'Creat'],\n",
              "      dtype=object)"
            ]
          },
          "metadata": {},
          "execution_count": 68
        }
      ]
    },
    {
      "cell_type": "markdown",
      "source": [
        "Only 4 unique values. So, we can encode them using label encoder."
      ],
      "metadata": {
        "id": "BdMAe2ig1v2F"
      }
    },
    {
      "cell_type": "code",
      "source": [
        "le = LabelEncoder()\n",
        "df['license_encoded'] = le.fit_transform(df['license'])\n",
        "encoded_unique_values = df['license_encoded'].unique()\n",
        "label_mapping = dict(zip(df['license'],df['license_encoded']))\n",
        "\n",
        "print('Label Encoded Unique Values:', encoded_unique_values)\n",
        "print('Label Mapping:', label_mapping)"
      ],
      "metadata": {
        "colab": {
          "base_uri": "https://localhost:8080/"
        },
        "id": "haEZoE0X1s56",
        "outputId": "ae614fbf-f318-4fbc-fa52-79f2b2ff311b"
      },
      "execution_count": null,
      "outputs": [
        {
          "output_type": "stream",
          "name": "stdout",
          "text": [
            "Label Encoded Unique Values: [2 0 1 3]\n",
            "Label Mapping: {'Creative Commons Attribution-ShareAlike 3.0': 2, 'Creative Commons Attribution-NonCommercial-ShareAlike 3.0': 0, 'Creative Commons Attribution-NonCommercial-ShareAlike 4.0': 1, 'Creative Commons Attribution-ShareAlike 4.0': 3}\n"
          ]
        }
      ]
    },
    {
      "cell_type": "code",
      "source": [
        "df.drop('license',axis=1,inplace=True)"
      ],
      "metadata": {
        "id": "AvdZ6EEE2g6h"
      },
      "execution_count": null,
      "outputs": []
    },
    {
      "cell_type": "code",
      "source": [
        "df.describe()"
      ],
      "metadata": {
        "colab": {
          "base_uri": "https://localhost:8080/",
          "height": 320
        },
        "id": "NawN1hJn2oJt",
        "outputId": "7b0fd1af-8f8d-434d-a7a1-685e0950b1c3"
      },
      "execution_count": null,
      "outputs": [
        {
          "output_type": "execute_result",
          "data": {
            "text/plain": [
              "             rating      channels      duration  sampling_rate     elevation  bitrate_of_mp3  playback_used_encoded           day         month          year  bird_seen_encoded    min_value    max_value  license_encoded\n",
              "count  21149.000000  21149.000000  21149.000000   21149.000000  21149.000000    21149.000000           21149.000000  21149.000000  21149.000000  21149.000000       21149.000000  6718.000000  6175.000000     21149.000000\n",
              "mean       4.072817      1.463048     56.064684   45357.639841   1728.267625   170087.618347               0.028843     15.590666      5.824814   2012.843444           0.843539     1.334326     3.611336         0.815783\n",
              "std        0.985637      0.498644     76.507435    3235.324419  10243.906744    73410.337424               0.167369      8.737988      2.562884     54.338372           0.363301     2.920185     1.597962         0.486740\n",
              "min        0.000000      1.000000      0.000000    8000.000000   -240.000000    16000.000000               0.000000      0.000000      0.000000      0.000000           0.000000     0.000000     3.000000         0.000000\n",
              "25%        3.500000      1.000000     15.000000   44100.000000     40.000000   128000.000000               0.000000      8.000000      4.000000   2013.000000           1.000000     0.000000     3.000000         1.000000\n",
              "50%        4.000000      1.000000     33.000000   44100.000000    280.000000   128000.000000               0.000000     16.000000      6.000000   2015.000000           1.000000     0.000000     3.000000         1.000000\n",
              "75%        5.000000      2.000000     68.000000   48000.000000   1300.000000   192000.000000               0.000000     23.000000      7.000000   2017.000000           1.000000     0.000000     3.000000         1.000000\n",
              "max        5.000000      2.000000   2283.000000   48000.000000  99999.000000   331417.000000               1.000000     31.000000     12.000000   2019.000000           1.000000    10.000000    10.000000         3.000000"
            ],
            "text/html": [
              "\n",
              "  <div id=\"df-4b6f89a2-4e71-4a71-8943-3fa7cadf1937\" class=\"colab-df-container\">\n",
              "    <div>\n",
              "<style scoped>\n",
              "    .dataframe tbody tr th:only-of-type {\n",
              "        vertical-align: middle;\n",
              "    }\n",
              "\n",
              "    .dataframe tbody tr th {\n",
              "        vertical-align: top;\n",
              "    }\n",
              "\n",
              "    .dataframe thead th {\n",
              "        text-align: right;\n",
              "    }\n",
              "</style>\n",
              "<table border=\"1\" class=\"dataframe\">\n",
              "  <thead>\n",
              "    <tr style=\"text-align: right;\">\n",
              "      <th></th>\n",
              "      <th>rating</th>\n",
              "      <th>channels</th>\n",
              "      <th>duration</th>\n",
              "      <th>sampling_rate</th>\n",
              "      <th>elevation</th>\n",
              "      <th>bitrate_of_mp3</th>\n",
              "      <th>playback_used_encoded</th>\n",
              "      <th>day</th>\n",
              "      <th>month</th>\n",
              "      <th>year</th>\n",
              "      <th>bird_seen_encoded</th>\n",
              "      <th>min_value</th>\n",
              "      <th>max_value</th>\n",
              "      <th>license_encoded</th>\n",
              "    </tr>\n",
              "  </thead>\n",
              "  <tbody>\n",
              "    <tr>\n",
              "      <th>count</th>\n",
              "      <td>21149.000000</td>\n",
              "      <td>21149.000000</td>\n",
              "      <td>21149.000000</td>\n",
              "      <td>21149.000000</td>\n",
              "      <td>21149.000000</td>\n",
              "      <td>21149.000000</td>\n",
              "      <td>21149.000000</td>\n",
              "      <td>21149.000000</td>\n",
              "      <td>21149.000000</td>\n",
              "      <td>21149.000000</td>\n",
              "      <td>21149.000000</td>\n",
              "      <td>6718.000000</td>\n",
              "      <td>6175.000000</td>\n",
              "      <td>21149.000000</td>\n",
              "    </tr>\n",
              "    <tr>\n",
              "      <th>mean</th>\n",
              "      <td>4.072817</td>\n",
              "      <td>1.463048</td>\n",
              "      <td>56.064684</td>\n",
              "      <td>45357.639841</td>\n",
              "      <td>1728.267625</td>\n",
              "      <td>170087.618347</td>\n",
              "      <td>0.028843</td>\n",
              "      <td>15.590666</td>\n",
              "      <td>5.824814</td>\n",
              "      <td>2012.843444</td>\n",
              "      <td>0.843539</td>\n",
              "      <td>1.334326</td>\n",
              "      <td>3.611336</td>\n",
              "      <td>0.815783</td>\n",
              "    </tr>\n",
              "    <tr>\n",
              "      <th>std</th>\n",
              "      <td>0.985637</td>\n",
              "      <td>0.498644</td>\n",
              "      <td>76.507435</td>\n",
              "      <td>3235.324419</td>\n",
              "      <td>10243.906744</td>\n",
              "      <td>73410.337424</td>\n",
              "      <td>0.167369</td>\n",
              "      <td>8.737988</td>\n",
              "      <td>2.562884</td>\n",
              "      <td>54.338372</td>\n",
              "      <td>0.363301</td>\n",
              "      <td>2.920185</td>\n",
              "      <td>1.597962</td>\n",
              "      <td>0.486740</td>\n",
              "    </tr>\n",
              "    <tr>\n",
              "      <th>min</th>\n",
              "      <td>0.000000</td>\n",
              "      <td>1.000000</td>\n",
              "      <td>0.000000</td>\n",
              "      <td>8000.000000</td>\n",
              "      <td>-240.000000</td>\n",
              "      <td>16000.000000</td>\n",
              "      <td>0.000000</td>\n",
              "      <td>0.000000</td>\n",
              "      <td>0.000000</td>\n",
              "      <td>0.000000</td>\n",
              "      <td>0.000000</td>\n",
              "      <td>0.000000</td>\n",
              "      <td>3.000000</td>\n",
              "      <td>0.000000</td>\n",
              "    </tr>\n",
              "    <tr>\n",
              "      <th>25%</th>\n",
              "      <td>3.500000</td>\n",
              "      <td>1.000000</td>\n",
              "      <td>15.000000</td>\n",
              "      <td>44100.000000</td>\n",
              "      <td>40.000000</td>\n",
              "      <td>128000.000000</td>\n",
              "      <td>0.000000</td>\n",
              "      <td>8.000000</td>\n",
              "      <td>4.000000</td>\n",
              "      <td>2013.000000</td>\n",
              "      <td>1.000000</td>\n",
              "      <td>0.000000</td>\n",
              "      <td>3.000000</td>\n",
              "      <td>1.000000</td>\n",
              "    </tr>\n",
              "    <tr>\n",
              "      <th>50%</th>\n",
              "      <td>4.000000</td>\n",
              "      <td>1.000000</td>\n",
              "      <td>33.000000</td>\n",
              "      <td>44100.000000</td>\n",
              "      <td>280.000000</td>\n",
              "      <td>128000.000000</td>\n",
              "      <td>0.000000</td>\n",
              "      <td>16.000000</td>\n",
              "      <td>6.000000</td>\n",
              "      <td>2015.000000</td>\n",
              "      <td>1.000000</td>\n",
              "      <td>0.000000</td>\n",
              "      <td>3.000000</td>\n",
              "      <td>1.000000</td>\n",
              "    </tr>\n",
              "    <tr>\n",
              "      <th>75%</th>\n",
              "      <td>5.000000</td>\n",
              "      <td>2.000000</td>\n",
              "      <td>68.000000</td>\n",
              "      <td>48000.000000</td>\n",
              "      <td>1300.000000</td>\n",
              "      <td>192000.000000</td>\n",
              "      <td>0.000000</td>\n",
              "      <td>23.000000</td>\n",
              "      <td>7.000000</td>\n",
              "      <td>2017.000000</td>\n",
              "      <td>1.000000</td>\n",
              "      <td>0.000000</td>\n",
              "      <td>3.000000</td>\n",
              "      <td>1.000000</td>\n",
              "    </tr>\n",
              "    <tr>\n",
              "      <th>max</th>\n",
              "      <td>5.000000</td>\n",
              "      <td>2.000000</td>\n",
              "      <td>2283.000000</td>\n",
              "      <td>48000.000000</td>\n",
              "      <td>99999.000000</td>\n",
              "      <td>331417.000000</td>\n",
              "      <td>1.000000</td>\n",
              "      <td>31.000000</td>\n",
              "      <td>12.000000</td>\n",
              "      <td>2019.000000</td>\n",
              "      <td>1.000000</td>\n",
              "      <td>10.000000</td>\n",
              "      <td>10.000000</td>\n",
              "      <td>3.000000</td>\n",
              "    </tr>\n",
              "  </tbody>\n",
              "</table>\n",
              "</div>\n",
              "    <div class=\"colab-df-buttons\">\n",
              "\n",
              "  <div class=\"colab-df-container\">\n",
              "    <button class=\"colab-df-convert\" onclick=\"convertToInteractive('df-4b6f89a2-4e71-4a71-8943-3fa7cadf1937')\"\n",
              "            title=\"Convert this dataframe to an interactive table.\"\n",
              "            style=\"display:none;\">\n",
              "\n",
              "  <svg xmlns=\"http://www.w3.org/2000/svg\" height=\"24px\" viewBox=\"0 -960 960 960\">\n",
              "    <path d=\"M120-120v-720h720v720H120Zm60-500h600v-160H180v160Zm220 220h160v-160H400v160Zm0 220h160v-160H400v160ZM180-400h160v-160H180v160Zm440 0h160v-160H620v160ZM180-180h160v-160H180v160Zm440 0h160v-160H620v160Z\"/>\n",
              "  </svg>\n",
              "    </button>\n",
              "\n",
              "  <style>\n",
              "    .colab-df-container {\n",
              "      display:flex;\n",
              "      gap: 12px;\n",
              "    }\n",
              "\n",
              "    .colab-df-convert {\n",
              "      background-color: #E8F0FE;\n",
              "      border: none;\n",
              "      border-radius: 50%;\n",
              "      cursor: pointer;\n",
              "      display: none;\n",
              "      fill: #1967D2;\n",
              "      height: 32px;\n",
              "      padding: 0 0 0 0;\n",
              "      width: 32px;\n",
              "    }\n",
              "\n",
              "    .colab-df-convert:hover {\n",
              "      background-color: #E2EBFA;\n",
              "      box-shadow: 0px 1px 2px rgba(60, 64, 67, 0.3), 0px 1px 3px 1px rgba(60, 64, 67, 0.15);\n",
              "      fill: #174EA6;\n",
              "    }\n",
              "\n",
              "    .colab-df-buttons div {\n",
              "      margin-bottom: 4px;\n",
              "    }\n",
              "\n",
              "    [theme=dark] .colab-df-convert {\n",
              "      background-color: #3B4455;\n",
              "      fill: #D2E3FC;\n",
              "    }\n",
              "\n",
              "    [theme=dark] .colab-df-convert:hover {\n",
              "      background-color: #434B5C;\n",
              "      box-shadow: 0px 1px 3px 1px rgba(0, 0, 0, 0.15);\n",
              "      filter: drop-shadow(0px 1px 2px rgba(0, 0, 0, 0.3));\n",
              "      fill: #FFFFFF;\n",
              "    }\n",
              "  </style>\n",
              "\n",
              "    <script>\n",
              "      const buttonEl =\n",
              "        document.querySelector('#df-4b6f89a2-4e71-4a71-8943-3fa7cadf1937 button.colab-df-convert');\n",
              "      buttonEl.style.display =\n",
              "        google.colab.kernel.accessAllowed ? 'block' : 'none';\n",
              "\n",
              "      async function convertToInteractive(key) {\n",
              "        const element = document.querySelector('#df-4b6f89a2-4e71-4a71-8943-3fa7cadf1937');\n",
              "        const dataTable =\n",
              "          await google.colab.kernel.invokeFunction('convertToInteractive',\n",
              "                                                    [key], {});\n",
              "        if (!dataTable) return;\n",
              "\n",
              "        const docLinkHtml = 'Like what you see? Visit the ' +\n",
              "          '<a target=\"_blank\" href=https://colab.research.google.com/notebooks/data_table.ipynb>data table notebook</a>'\n",
              "          + ' to learn more about interactive tables.';\n",
              "        element.innerHTML = '';\n",
              "        dataTable['output_type'] = 'display_data';\n",
              "        await google.colab.output.renderOutput(dataTable, element);\n",
              "        const docLink = document.createElement('div');\n",
              "        docLink.innerHTML = docLinkHtml;\n",
              "        element.appendChild(docLink);\n",
              "      }\n",
              "    </script>\n",
              "  </div>\n",
              "\n",
              "\n",
              "<div id=\"df-e9b8d06e-63ea-4355-bab5-ea16700c0f1e\">\n",
              "  <button class=\"colab-df-quickchart\" onclick=\"quickchart('df-e9b8d06e-63ea-4355-bab5-ea16700c0f1e')\"\n",
              "            title=\"Suggest charts\"\n",
              "            style=\"display:none;\">\n",
              "\n",
              "<svg xmlns=\"http://www.w3.org/2000/svg\" height=\"24px\"viewBox=\"0 0 24 24\"\n",
              "     width=\"24px\">\n",
              "    <g>\n",
              "        <path d=\"M19 3H5c-1.1 0-2 .9-2 2v14c0 1.1.9 2 2 2h14c1.1 0 2-.9 2-2V5c0-1.1-.9-2-2-2zM9 17H7v-7h2v7zm4 0h-2V7h2v10zm4 0h-2v-4h2v4z\"/>\n",
              "    </g>\n",
              "</svg>\n",
              "  </button>\n",
              "\n",
              "<style>\n",
              "  .colab-df-quickchart {\n",
              "      --bg-color: #E8F0FE;\n",
              "      --fill-color: #1967D2;\n",
              "      --hover-bg-color: #E2EBFA;\n",
              "      --hover-fill-color: #174EA6;\n",
              "      --disabled-fill-color: #AAA;\n",
              "      --disabled-bg-color: #DDD;\n",
              "  }\n",
              "\n",
              "  [theme=dark] .colab-df-quickchart {\n",
              "      --bg-color: #3B4455;\n",
              "      --fill-color: #D2E3FC;\n",
              "      --hover-bg-color: #434B5C;\n",
              "      --hover-fill-color: #FFFFFF;\n",
              "      --disabled-bg-color: #3B4455;\n",
              "      --disabled-fill-color: #666;\n",
              "  }\n",
              "\n",
              "  .colab-df-quickchart {\n",
              "    background-color: var(--bg-color);\n",
              "    border: none;\n",
              "    border-radius: 50%;\n",
              "    cursor: pointer;\n",
              "    display: none;\n",
              "    fill: var(--fill-color);\n",
              "    height: 32px;\n",
              "    padding: 0;\n",
              "    width: 32px;\n",
              "  }\n",
              "\n",
              "  .colab-df-quickchart:hover {\n",
              "    background-color: var(--hover-bg-color);\n",
              "    box-shadow: 0 1px 2px rgba(60, 64, 67, 0.3), 0 1px 3px 1px rgba(60, 64, 67, 0.15);\n",
              "    fill: var(--button-hover-fill-color);\n",
              "  }\n",
              "\n",
              "  .colab-df-quickchart-complete:disabled,\n",
              "  .colab-df-quickchart-complete:disabled:hover {\n",
              "    background-color: var(--disabled-bg-color);\n",
              "    fill: var(--disabled-fill-color);\n",
              "    box-shadow: none;\n",
              "  }\n",
              "\n",
              "  .colab-df-spinner {\n",
              "    border: 2px solid var(--fill-color);\n",
              "    border-color: transparent;\n",
              "    border-bottom-color: var(--fill-color);\n",
              "    animation:\n",
              "      spin 1s steps(1) infinite;\n",
              "  }\n",
              "\n",
              "  @keyframes spin {\n",
              "    0% {\n",
              "      border-color: transparent;\n",
              "      border-bottom-color: var(--fill-color);\n",
              "      border-left-color: var(--fill-color);\n",
              "    }\n",
              "    20% {\n",
              "      border-color: transparent;\n",
              "      border-left-color: var(--fill-color);\n",
              "      border-top-color: var(--fill-color);\n",
              "    }\n",
              "    30% {\n",
              "      border-color: transparent;\n",
              "      border-left-color: var(--fill-color);\n",
              "      border-top-color: var(--fill-color);\n",
              "      border-right-color: var(--fill-color);\n",
              "    }\n",
              "    40% {\n",
              "      border-color: transparent;\n",
              "      border-right-color: var(--fill-color);\n",
              "      border-top-color: var(--fill-color);\n",
              "    }\n",
              "    60% {\n",
              "      border-color: transparent;\n",
              "      border-right-color: var(--fill-color);\n",
              "    }\n",
              "    80% {\n",
              "      border-color: transparent;\n",
              "      border-right-color: var(--fill-color);\n",
              "      border-bottom-color: var(--fill-color);\n",
              "    }\n",
              "    90% {\n",
              "      border-color: transparent;\n",
              "      border-bottom-color: var(--fill-color);\n",
              "    }\n",
              "  }\n",
              "</style>\n",
              "\n",
              "  <script>\n",
              "    async function quickchart(key) {\n",
              "      const quickchartButtonEl =\n",
              "        document.querySelector('#' + key + ' button');\n",
              "      quickchartButtonEl.disabled = true;  // To prevent multiple clicks.\n",
              "      quickchartButtonEl.classList.add('colab-df-spinner');\n",
              "      try {\n",
              "        const charts = await google.colab.kernel.invokeFunction(\n",
              "            'suggestCharts', [key], {});\n",
              "      } catch (error) {\n",
              "        console.error('Error during call to suggestCharts:', error);\n",
              "      }\n",
              "      quickchartButtonEl.classList.remove('colab-df-spinner');\n",
              "      quickchartButtonEl.classList.add('colab-df-quickchart-complete');\n",
              "    }\n",
              "    (() => {\n",
              "      let quickchartButtonEl =\n",
              "        document.querySelector('#df-e9b8d06e-63ea-4355-bab5-ea16700c0f1e button');\n",
              "      quickchartButtonEl.style.display =\n",
              "        google.colab.kernel.accessAllowed ? 'block' : 'none';\n",
              "    })();\n",
              "  </script>\n",
              "</div>\n",
              "\n",
              "    </div>\n",
              "  </div>\n"
            ]
          },
          "metadata": {},
          "execution_count": 191
        }
      ]
    },
    {
      "cell_type": "code",
      "source": [
        "df.head()"
      ],
      "metadata": {
        "colab": {
          "base_uri": "https://localhost:8080/",
          "height": 642
        },
        "id": "Lv_OXO500wJK",
        "outputId": "b422d108-4ce1-4434-b92f-1e3ae97f4c4a"
      },
      "execution_count": null,
      "outputs": [
        {
          "output_type": "execute_result",
          "data": {
            "text/plain": [
              "   rating ebird_code  channels          pitch  duration      filename          speed           species number_of_notes              title bird_seen           sci_name                                           location latitude  sampling_rate        type  elevation  bitrate_of_mp3 file_type         volume                                         background                                url        country                       primary_label longitude         length         recordist  playback_used_encoded  day  month  year  bird_seen_encoded  min_value  max_value  license_encoded\n",
              "0     3.5     aldfly         1  Not specified        25  XC134874.mp3  Not specified  Alder Flycatcher   Not specified  Alder Flycatcher        yes  Empidonax alnorum        Grey Cloud Dunes SNA, Washington, Minnesota   44.793          48000        call        220        192000.0       mp3  Not specified  American Yellow Warbler (Setophaga aestiva); L...  https://www.xeno-canto.org/134874  United States  Empidonax alnorum_Alder Flycatcher   -92.962  Not specified  Jonathon Jongsma                      0   25      5  2013                  1        NaN        NaN                2\n",
              "1     4.0     aldfly         2           both        36  XC135454.mp3           both  Alder Flycatcher             1-3  Alder Flycatcher        yes  Empidonax alnorum   Carver's Gap Parking area, Roan Mountain Stat...  36.1065          44100  call, song       1700        128000.0       mp3          level                                                NaN  https://www.xeno-canto.org/135454  United States  Empidonax alnorum_Alder Flycatcher  -82.1106         0-3(s)       Mike Nelson                      0   27      5  2013                  1        0.0        3.0                0\n",
              "2     4.0     aldfly         2           both        39  XC135455.mp3           both  Alder Flycatcher             1-3  Alder Flycatcher        yes  Empidonax alnorum   Carver's Gap Parking area, Roan Mountain Stat...  36.1065          44100  call, song       1700        128000.0       mp3          level                                                NaN  https://www.xeno-canto.org/135455  United States  Empidonax alnorum_Alder Flycatcher  -82.1106         0-3(s)       Mike Nelson                      0   27      5  2013                  1        0.0        3.0                0\n",
              "3     3.5     aldfly         2           both        33  XC135456.mp3           both  Alder Flycatcher             1-3  Alder Flycatcher        yes  Empidonax alnorum   Carver's Gap Parking area, Roan Mountain Stat...  36.1065          44100  call, song       1700        128000.0       mp3          level  Grey Catbird (Dumetella carolinensis); Cedar W...  https://www.xeno-canto.org/135456  United States  Empidonax alnorum_Alder Flycatcher  -82.1106         0-3(s)       Mike Nelson                      0   27      5  2013                  1        0.0        3.0                0\n",
              "4     4.0     aldfly         2           both        36  XC135457.mp3          level  Alder Flycatcher             1-3  Alder Flycatcher        yes  Empidonax alnorum   Carver's Gap Parking area, Roan Mountain Stat...  36.1065          44100  call, song       1700        128000.0       mp3          level                                                NaN  https://www.xeno-canto.org/135457  United States  Empidonax alnorum_Alder Flycatcher  -82.1106         0-3(s)       Mike Nelson                      0   27      5  2013                  1        0.0        3.0                0"
            ],
            "text/html": [
              "\n",
              "  <div id=\"df-ac73f3df-deb2-45e0-8c2d-9a5df5188950\" class=\"colab-df-container\">\n",
              "    <div>\n",
              "<style scoped>\n",
              "    .dataframe tbody tr th:only-of-type {\n",
              "        vertical-align: middle;\n",
              "    }\n",
              "\n",
              "    .dataframe tbody tr th {\n",
              "        vertical-align: top;\n",
              "    }\n",
              "\n",
              "    .dataframe thead th {\n",
              "        text-align: right;\n",
              "    }\n",
              "</style>\n",
              "<table border=\"1\" class=\"dataframe\">\n",
              "  <thead>\n",
              "    <tr style=\"text-align: right;\">\n",
              "      <th></th>\n",
              "      <th>rating</th>\n",
              "      <th>ebird_code</th>\n",
              "      <th>channels</th>\n",
              "      <th>pitch</th>\n",
              "      <th>duration</th>\n",
              "      <th>filename</th>\n",
              "      <th>speed</th>\n",
              "      <th>species</th>\n",
              "      <th>number_of_notes</th>\n",
              "      <th>title</th>\n",
              "      <th>bird_seen</th>\n",
              "      <th>sci_name</th>\n",
              "      <th>location</th>\n",
              "      <th>latitude</th>\n",
              "      <th>sampling_rate</th>\n",
              "      <th>type</th>\n",
              "      <th>elevation</th>\n",
              "      <th>bitrate_of_mp3</th>\n",
              "      <th>file_type</th>\n",
              "      <th>volume</th>\n",
              "      <th>background</th>\n",
              "      <th>url</th>\n",
              "      <th>country</th>\n",
              "      <th>primary_label</th>\n",
              "      <th>longitude</th>\n",
              "      <th>length</th>\n",
              "      <th>recordist</th>\n",
              "      <th>playback_used_encoded</th>\n",
              "      <th>day</th>\n",
              "      <th>month</th>\n",
              "      <th>year</th>\n",
              "      <th>bird_seen_encoded</th>\n",
              "      <th>min_value</th>\n",
              "      <th>max_value</th>\n",
              "      <th>license_encoded</th>\n",
              "    </tr>\n",
              "  </thead>\n",
              "  <tbody>\n",
              "    <tr>\n",
              "      <th>0</th>\n",
              "      <td>3.5</td>\n",
              "      <td>aldfly</td>\n",
              "      <td>1</td>\n",
              "      <td>Not specified</td>\n",
              "      <td>25</td>\n",
              "      <td>XC134874.mp3</td>\n",
              "      <td>Not specified</td>\n",
              "      <td>Alder Flycatcher</td>\n",
              "      <td>Not specified</td>\n",
              "      <td>Alder Flycatcher</td>\n",
              "      <td>yes</td>\n",
              "      <td>Empidonax alnorum</td>\n",
              "      <td>Grey Cloud Dunes SNA, Washington, Minnesota</td>\n",
              "      <td>44.793</td>\n",
              "      <td>48000</td>\n",
              "      <td>call</td>\n",
              "      <td>220</td>\n",
              "      <td>192000.0</td>\n",
              "      <td>mp3</td>\n",
              "      <td>Not specified</td>\n",
              "      <td>American Yellow Warbler (Setophaga aestiva); L...</td>\n",
              "      <td>https://www.xeno-canto.org/134874</td>\n",
              "      <td>United States</td>\n",
              "      <td>Empidonax alnorum_Alder Flycatcher</td>\n",
              "      <td>-92.962</td>\n",
              "      <td>Not specified</td>\n",
              "      <td>Jonathon Jongsma</td>\n",
              "      <td>0</td>\n",
              "      <td>25</td>\n",
              "      <td>5</td>\n",
              "      <td>2013</td>\n",
              "      <td>1</td>\n",
              "      <td>NaN</td>\n",
              "      <td>NaN</td>\n",
              "      <td>2</td>\n",
              "    </tr>\n",
              "    <tr>\n",
              "      <th>1</th>\n",
              "      <td>4.0</td>\n",
              "      <td>aldfly</td>\n",
              "      <td>2</td>\n",
              "      <td>both</td>\n",
              "      <td>36</td>\n",
              "      <td>XC135454.mp3</td>\n",
              "      <td>both</td>\n",
              "      <td>Alder Flycatcher</td>\n",
              "      <td>1-3</td>\n",
              "      <td>Alder Flycatcher</td>\n",
              "      <td>yes</td>\n",
              "      <td>Empidonax alnorum</td>\n",
              "      <td>Carver's Gap Parking area, Roan Mountain Stat...</td>\n",
              "      <td>36.1065</td>\n",
              "      <td>44100</td>\n",
              "      <td>call, song</td>\n",
              "      <td>1700</td>\n",
              "      <td>128000.0</td>\n",
              "      <td>mp3</td>\n",
              "      <td>level</td>\n",
              "      <td>NaN</td>\n",
              "      <td>https://www.xeno-canto.org/135454</td>\n",
              "      <td>United States</td>\n",
              "      <td>Empidonax alnorum_Alder Flycatcher</td>\n",
              "      <td>-82.1106</td>\n",
              "      <td>0-3(s)</td>\n",
              "      <td>Mike Nelson</td>\n",
              "      <td>0</td>\n",
              "      <td>27</td>\n",
              "      <td>5</td>\n",
              "      <td>2013</td>\n",
              "      <td>1</td>\n",
              "      <td>0.0</td>\n",
              "      <td>3.0</td>\n",
              "      <td>0</td>\n",
              "    </tr>\n",
              "    <tr>\n",
              "      <th>2</th>\n",
              "      <td>4.0</td>\n",
              "      <td>aldfly</td>\n",
              "      <td>2</td>\n",
              "      <td>both</td>\n",
              "      <td>39</td>\n",
              "      <td>XC135455.mp3</td>\n",
              "      <td>both</td>\n",
              "      <td>Alder Flycatcher</td>\n",
              "      <td>1-3</td>\n",
              "      <td>Alder Flycatcher</td>\n",
              "      <td>yes</td>\n",
              "      <td>Empidonax alnorum</td>\n",
              "      <td>Carver's Gap Parking area, Roan Mountain Stat...</td>\n",
              "      <td>36.1065</td>\n",
              "      <td>44100</td>\n",
              "      <td>call, song</td>\n",
              "      <td>1700</td>\n",
              "      <td>128000.0</td>\n",
              "      <td>mp3</td>\n",
              "      <td>level</td>\n",
              "      <td>NaN</td>\n",
              "      <td>https://www.xeno-canto.org/135455</td>\n",
              "      <td>United States</td>\n",
              "      <td>Empidonax alnorum_Alder Flycatcher</td>\n",
              "      <td>-82.1106</td>\n",
              "      <td>0-3(s)</td>\n",
              "      <td>Mike Nelson</td>\n",
              "      <td>0</td>\n",
              "      <td>27</td>\n",
              "      <td>5</td>\n",
              "      <td>2013</td>\n",
              "      <td>1</td>\n",
              "      <td>0.0</td>\n",
              "      <td>3.0</td>\n",
              "      <td>0</td>\n",
              "    </tr>\n",
              "    <tr>\n",
              "      <th>3</th>\n",
              "      <td>3.5</td>\n",
              "      <td>aldfly</td>\n",
              "      <td>2</td>\n",
              "      <td>both</td>\n",
              "      <td>33</td>\n",
              "      <td>XC135456.mp3</td>\n",
              "      <td>both</td>\n",
              "      <td>Alder Flycatcher</td>\n",
              "      <td>1-3</td>\n",
              "      <td>Alder Flycatcher</td>\n",
              "      <td>yes</td>\n",
              "      <td>Empidonax alnorum</td>\n",
              "      <td>Carver's Gap Parking area, Roan Mountain Stat...</td>\n",
              "      <td>36.1065</td>\n",
              "      <td>44100</td>\n",
              "      <td>call, song</td>\n",
              "      <td>1700</td>\n",
              "      <td>128000.0</td>\n",
              "      <td>mp3</td>\n",
              "      <td>level</td>\n",
              "      <td>Grey Catbird (Dumetella carolinensis); Cedar W...</td>\n",
              "      <td>https://www.xeno-canto.org/135456</td>\n",
              "      <td>United States</td>\n",
              "      <td>Empidonax alnorum_Alder Flycatcher</td>\n",
              "      <td>-82.1106</td>\n",
              "      <td>0-3(s)</td>\n",
              "      <td>Mike Nelson</td>\n",
              "      <td>0</td>\n",
              "      <td>27</td>\n",
              "      <td>5</td>\n",
              "      <td>2013</td>\n",
              "      <td>1</td>\n",
              "      <td>0.0</td>\n",
              "      <td>3.0</td>\n",
              "      <td>0</td>\n",
              "    </tr>\n",
              "    <tr>\n",
              "      <th>4</th>\n",
              "      <td>4.0</td>\n",
              "      <td>aldfly</td>\n",
              "      <td>2</td>\n",
              "      <td>both</td>\n",
              "      <td>36</td>\n",
              "      <td>XC135457.mp3</td>\n",
              "      <td>level</td>\n",
              "      <td>Alder Flycatcher</td>\n",
              "      <td>1-3</td>\n",
              "      <td>Alder Flycatcher</td>\n",
              "      <td>yes</td>\n",
              "      <td>Empidonax alnorum</td>\n",
              "      <td>Carver's Gap Parking area, Roan Mountain Stat...</td>\n",
              "      <td>36.1065</td>\n",
              "      <td>44100</td>\n",
              "      <td>call, song</td>\n",
              "      <td>1700</td>\n",
              "      <td>128000.0</td>\n",
              "      <td>mp3</td>\n",
              "      <td>level</td>\n",
              "      <td>NaN</td>\n",
              "      <td>https://www.xeno-canto.org/135457</td>\n",
              "      <td>United States</td>\n",
              "      <td>Empidonax alnorum_Alder Flycatcher</td>\n",
              "      <td>-82.1106</td>\n",
              "      <td>0-3(s)</td>\n",
              "      <td>Mike Nelson</td>\n",
              "      <td>0</td>\n",
              "      <td>27</td>\n",
              "      <td>5</td>\n",
              "      <td>2013</td>\n",
              "      <td>1</td>\n",
              "      <td>0.0</td>\n",
              "      <td>3.0</td>\n",
              "      <td>0</td>\n",
              "    </tr>\n",
              "  </tbody>\n",
              "</table>\n",
              "</div>\n",
              "    <div class=\"colab-df-buttons\">\n",
              "\n",
              "  <div class=\"colab-df-container\">\n",
              "    <button class=\"colab-df-convert\" onclick=\"convertToInteractive('df-ac73f3df-deb2-45e0-8c2d-9a5df5188950')\"\n",
              "            title=\"Convert this dataframe to an interactive table.\"\n",
              "            style=\"display:none;\">\n",
              "\n",
              "  <svg xmlns=\"http://www.w3.org/2000/svg\" height=\"24px\" viewBox=\"0 -960 960 960\">\n",
              "    <path d=\"M120-120v-720h720v720H120Zm60-500h600v-160H180v160Zm220 220h160v-160H400v160Zm0 220h160v-160H400v160ZM180-400h160v-160H180v160Zm440 0h160v-160H620v160ZM180-180h160v-160H180v160Zm440 0h160v-160H620v160Z\"/>\n",
              "  </svg>\n",
              "    </button>\n",
              "\n",
              "  <style>\n",
              "    .colab-df-container {\n",
              "      display:flex;\n",
              "      gap: 12px;\n",
              "    }\n",
              "\n",
              "    .colab-df-convert {\n",
              "      background-color: #E8F0FE;\n",
              "      border: none;\n",
              "      border-radius: 50%;\n",
              "      cursor: pointer;\n",
              "      display: none;\n",
              "      fill: #1967D2;\n",
              "      height: 32px;\n",
              "      padding: 0 0 0 0;\n",
              "      width: 32px;\n",
              "    }\n",
              "\n",
              "    .colab-df-convert:hover {\n",
              "      background-color: #E2EBFA;\n",
              "      box-shadow: 0px 1px 2px rgba(60, 64, 67, 0.3), 0px 1px 3px 1px rgba(60, 64, 67, 0.15);\n",
              "      fill: #174EA6;\n",
              "    }\n",
              "\n",
              "    .colab-df-buttons div {\n",
              "      margin-bottom: 4px;\n",
              "    }\n",
              "\n",
              "    [theme=dark] .colab-df-convert {\n",
              "      background-color: #3B4455;\n",
              "      fill: #D2E3FC;\n",
              "    }\n",
              "\n",
              "    [theme=dark] .colab-df-convert:hover {\n",
              "      background-color: #434B5C;\n",
              "      box-shadow: 0px 1px 3px 1px rgba(0, 0, 0, 0.15);\n",
              "      filter: drop-shadow(0px 1px 2px rgba(0, 0, 0, 0.3));\n",
              "      fill: #FFFFFF;\n",
              "    }\n",
              "  </style>\n",
              "\n",
              "    <script>\n",
              "      const buttonEl =\n",
              "        document.querySelector('#df-ac73f3df-deb2-45e0-8c2d-9a5df5188950 button.colab-df-convert');\n",
              "      buttonEl.style.display =\n",
              "        google.colab.kernel.accessAllowed ? 'block' : 'none';\n",
              "\n",
              "      async function convertToInteractive(key) {\n",
              "        const element = document.querySelector('#df-ac73f3df-deb2-45e0-8c2d-9a5df5188950');\n",
              "        const dataTable =\n",
              "          await google.colab.kernel.invokeFunction('convertToInteractive',\n",
              "                                                    [key], {});\n",
              "        if (!dataTable) return;\n",
              "\n",
              "        const docLinkHtml = 'Like what you see? Visit the ' +\n",
              "          '<a target=\"_blank\" href=https://colab.research.google.com/notebooks/data_table.ipynb>data table notebook</a>'\n",
              "          + ' to learn more about interactive tables.';\n",
              "        element.innerHTML = '';\n",
              "        dataTable['output_type'] = 'display_data';\n",
              "        await google.colab.output.renderOutput(dataTable, element);\n",
              "        const docLink = document.createElement('div');\n",
              "        docLink.innerHTML = docLinkHtml;\n",
              "        element.appendChild(docLink);\n",
              "      }\n",
              "    </script>\n",
              "  </div>\n",
              "\n",
              "\n",
              "<div id=\"df-f2bf7b75-7a0b-4961-ad6c-4b5e2999926a\">\n",
              "  <button class=\"colab-df-quickchart\" onclick=\"quickchart('df-f2bf7b75-7a0b-4961-ad6c-4b5e2999926a')\"\n",
              "            title=\"Suggest charts\"\n",
              "            style=\"display:none;\">\n",
              "\n",
              "<svg xmlns=\"http://www.w3.org/2000/svg\" height=\"24px\"viewBox=\"0 0 24 24\"\n",
              "     width=\"24px\">\n",
              "    <g>\n",
              "        <path d=\"M19 3H5c-1.1 0-2 .9-2 2v14c0 1.1.9 2 2 2h14c1.1 0 2-.9 2-2V5c0-1.1-.9-2-2-2zM9 17H7v-7h2v7zm4 0h-2V7h2v10zm4 0h-2v-4h2v4z\"/>\n",
              "    </g>\n",
              "</svg>\n",
              "  </button>\n",
              "\n",
              "<style>\n",
              "  .colab-df-quickchart {\n",
              "      --bg-color: #E8F0FE;\n",
              "      --fill-color: #1967D2;\n",
              "      --hover-bg-color: #E2EBFA;\n",
              "      --hover-fill-color: #174EA6;\n",
              "      --disabled-fill-color: #AAA;\n",
              "      --disabled-bg-color: #DDD;\n",
              "  }\n",
              "\n",
              "  [theme=dark] .colab-df-quickchart {\n",
              "      --bg-color: #3B4455;\n",
              "      --fill-color: #D2E3FC;\n",
              "      --hover-bg-color: #434B5C;\n",
              "      --hover-fill-color: #FFFFFF;\n",
              "      --disabled-bg-color: #3B4455;\n",
              "      --disabled-fill-color: #666;\n",
              "  }\n",
              "\n",
              "  .colab-df-quickchart {\n",
              "    background-color: var(--bg-color);\n",
              "    border: none;\n",
              "    border-radius: 50%;\n",
              "    cursor: pointer;\n",
              "    display: none;\n",
              "    fill: var(--fill-color);\n",
              "    height: 32px;\n",
              "    padding: 0;\n",
              "    width: 32px;\n",
              "  }\n",
              "\n",
              "  .colab-df-quickchart:hover {\n",
              "    background-color: var(--hover-bg-color);\n",
              "    box-shadow: 0 1px 2px rgba(60, 64, 67, 0.3), 0 1px 3px 1px rgba(60, 64, 67, 0.15);\n",
              "    fill: var(--button-hover-fill-color);\n",
              "  }\n",
              "\n",
              "  .colab-df-quickchart-complete:disabled,\n",
              "  .colab-df-quickchart-complete:disabled:hover {\n",
              "    background-color: var(--disabled-bg-color);\n",
              "    fill: var(--disabled-fill-color);\n",
              "    box-shadow: none;\n",
              "  }\n",
              "\n",
              "  .colab-df-spinner {\n",
              "    border: 2px solid var(--fill-color);\n",
              "    border-color: transparent;\n",
              "    border-bottom-color: var(--fill-color);\n",
              "    animation:\n",
              "      spin 1s steps(1) infinite;\n",
              "  }\n",
              "\n",
              "  @keyframes spin {\n",
              "    0% {\n",
              "      border-color: transparent;\n",
              "      border-bottom-color: var(--fill-color);\n",
              "      border-left-color: var(--fill-color);\n",
              "    }\n",
              "    20% {\n",
              "      border-color: transparent;\n",
              "      border-left-color: var(--fill-color);\n",
              "      border-top-color: var(--fill-color);\n",
              "    }\n",
              "    30% {\n",
              "      border-color: transparent;\n",
              "      border-left-color: var(--fill-color);\n",
              "      border-top-color: var(--fill-color);\n",
              "      border-right-color: var(--fill-color);\n",
              "    }\n",
              "    40% {\n",
              "      border-color: transparent;\n",
              "      border-right-color: var(--fill-color);\n",
              "      border-top-color: var(--fill-color);\n",
              "    }\n",
              "    60% {\n",
              "      border-color: transparent;\n",
              "      border-right-color: var(--fill-color);\n",
              "    }\n",
              "    80% {\n",
              "      border-color: transparent;\n",
              "      border-right-color: var(--fill-color);\n",
              "      border-bottom-color: var(--fill-color);\n",
              "    }\n",
              "    90% {\n",
              "      border-color: transparent;\n",
              "      border-bottom-color: var(--fill-color);\n",
              "    }\n",
              "  }\n",
              "</style>\n",
              "\n",
              "  <script>\n",
              "    async function quickchart(key) {\n",
              "      const quickchartButtonEl =\n",
              "        document.querySelector('#' + key + ' button');\n",
              "      quickchartButtonEl.disabled = true;  // To prevent multiple clicks.\n",
              "      quickchartButtonEl.classList.add('colab-df-spinner');\n",
              "      try {\n",
              "        const charts = await google.colab.kernel.invokeFunction(\n",
              "            'suggestCharts', [key], {});\n",
              "      } catch (error) {\n",
              "        console.error('Error during call to suggestCharts:', error);\n",
              "      }\n",
              "      quickchartButtonEl.classList.remove('colab-df-spinner');\n",
              "      quickchartButtonEl.classList.add('colab-df-quickchart-complete');\n",
              "    }\n",
              "    (() => {\n",
              "      let quickchartButtonEl =\n",
              "        document.querySelector('#df-f2bf7b75-7a0b-4961-ad6c-4b5e2999926a button');\n",
              "      quickchartButtonEl.style.display =\n",
              "        google.colab.kernel.accessAllowed ? 'block' : 'none';\n",
              "    })();\n",
              "  </script>\n",
              "</div>\n",
              "\n",
              "    </div>\n",
              "  </div>\n"
            ]
          },
          "metadata": {},
          "execution_count": 198
        }
      ]
    },
    {
      "cell_type": "code",
      "source": [
        "sns.set(style='white')\n",
        "plt.figure(figsize=(10,6))\n",
        "\n",
        "sns.countplot(x='rating', data = df, order=df['rating'].value_counts().index,palette='viridis')\n",
        "plt.xticks(rotation=45)\n",
        "plt.title('Distribution of Ratings')\n",
        "plt.show()"
      ],
      "metadata": {
        "id": "vCdiA4zI2wrP",
        "colab": {
          "base_uri": "https://localhost:8080/",
          "height": 438
        },
        "outputId": "cdda9434-196d-4d7c-cd08-16a4c8950efa"
      },
      "execution_count": null,
      "outputs": [
        {
          "output_type": "display_data",
          "data": {
            "text/plain": [
              "<Figure size 1000x600 with 1 Axes>"
            ],
            "image/png": "[encoded data removed]"
          },
          "metadata": {}
        }
      ]
    },
    {
      "cell_type": "markdown",
      "source": [
        "We can see that around 6000 audios have 5 star rating. Very few audios have less ratings."
      ],
      "metadata": {
        "id": "4ye4aLGm1WxF"
      }
    },
    {
      "cell_type": "code",
      "source": [
        "sns.set(style='ticks')\n",
        "plt.figure(figsize=(10,6))\n",
        "\n",
        "sns.countplot(y='playback_used_encoded', data = df, palette='tab10')\n",
        "plt.title('Distribution of playback_used')\n",
        "plt.show()"
      ],
      "metadata": {
        "colab": {
          "base_uri": "https://localhost:8080/",
          "height": 443
        },
        "id": "RO60fpF2zi22",
        "outputId": "857dd9ff-237a-4eb5-8c99-3b2618f66319"
      },
      "execution_count": null,
      "outputs": [
        {
          "output_type": "display_data",
          "data": {
            "text/plain": [
              "<Figure size 1000x600 with 1 Axes>"
            ],
            "image/png": "[encoded data removed]"
          },
          "metadata": {}
        }
      ]
    },
    {
      "cell_type": "markdown",
      "source": [
        "The playback sound is not used in most of the audios."
      ],
      "metadata": {
        "id": "9lTxB1Zx1hie"
      }
    },
    {
      "cell_type": "code",
      "source": [
        "sns.set(style='white')\n",
        "plt.figure(figsize=(10,6))\n",
        "\n",
        "sns.countplot(x='bird_seen', data = df, order=df['bird_seen'].value_counts().index,palette='dark')\n",
        "plt.title('Distribution of Whether bird is seen or Not')\n",
        "plt.show()"
      ],
      "metadata": {
        "colab": {
          "base_uri": "https://localhost:8080/",
          "height": 425
        },
        "id": "pOcF_3bW0X1n",
        "outputId": "90f78cdb-0882-4480-a4ac-51b8420a53cb"
      },
      "execution_count": null,
      "outputs": [
        {
          "output_type": "display_data",
          "data": {
            "text/plain": [
              "<Figure size 1000x600 with 1 Axes>"
            ],
            "image/png": "[encoded data removed]"
          },
          "metadata": {}
        }
      ]
    },
    {
      "cell_type": "markdown",
      "source": [
        "Its surprising to see that around 4000 birds are not seen till now though we have their audios."
      ],
      "metadata": {
        "id": "UK_nnK5S2UWr"
      }
    },
    {
      "cell_type": "code",
      "source": [
        "sns.set(style='white')\n",
        "plt.figure(figsize=(20,8))\n",
        "total = df['country'].value_counts().sum()\n",
        "label=df.country.unique()\n",
        "values_count = df['country'].value_counts()\n",
        "plt.pie(values_count,labels=label) # Create pie chart\n",
        "\n",
        "plt.show() # Show chart\n"
      ],
      "metadata": {
        "colab": {
          "base_uri": "https://localhost:8080/",
          "height": 673
        },
        "id": "OW6wDXik4HmE",
        "outputId": "3a3bf3d4-4fab-433d-8851-60937868d5c0"
      },
      "execution_count": null,
      "outputs": [
        {
          "output_type": "display_data",
          "data": {
            "text/plain": [
              "<Figure size 2000x800 with 1 Axes>"
            ],
            "image/png": "[encoded data removed]"
          },
          "metadata": {}
        }
      ]
    },
    {
      "cell_type": "markdown",
      "source": [
        "Around 60% audios are of birds from US."
      ],
      "metadata": {
        "id": "3F_PrRAz8d34"
      }
    }
  ]
}