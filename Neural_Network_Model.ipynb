{
  "nbformat": 4,
  "nbformat_minor": 0,
  "metadata": {
    "colab": {
      "provenance": [],
      "mount_file_id": "1VaD_DUgj0I88IumEEvtWEZomjHTwD2I1",
      "authorship_tag": "ABX9TyNNXGczmIfmmK3RNHOtlanV",
      "include_colab_link": true
    },
    "kernelspec": {
      "name": "python3",
      "display_name": "Python 3"
    },
    "language_info": {
      "name": "python"
    }
  },
  "cells": [
    {
      "cell_type": "markdown",
      "metadata": {
        "id": "view-in-github",
        "colab_type": "text"
      },
      "source": [
        "<a href=\"https://colab.research.google.com/github/akankshabw/Chirp/blob/master/Neural_Network_Model.ipynb\" target=\"_parent\"><img src=\"https://colab.research.google.com/assets/colab-badge.svg\" alt=\"Open In Colab\"/></a>"
      ]
    },
    {
      "cell_type": "markdown",
      "source": [
        "***Exploratory Data Analysis***"
      ],
      "metadata": {
        "id": "jUycHc4Fq_11"
      }
    },
    {
      "cell_type": "code",
      "execution_count": null,
      "metadata": {
        "id": "N3MRvK1oelA5"
      },
      "outputs": [],
      "source": [
        "import IPython.display as ipd\n",
        "import librosa\n",
        "import librosa.display\n",
        "import pandas as pd\n",
        "import matplotlib.pyplot as plt\n",
        "import numpy as np\n",
        "from sklearn.model_selection import train_test_split\n",
        "%matplotlib inline"
      ]
    },
    {
      "cell_type": "code",
      "source": [
        "df = pd.read_csv(\"/content/UrbanSound8K.csv\")"
      ],
      "metadata": {
        "id": "SbhT2mZvjZ8_"
      },
      "execution_count": null,
      "outputs": []
    },
    {
      "cell_type": "code",
      "source": [
        "df.head(10)"
      ],
      "metadata": {
        "colab": {
          "base_uri": "https://localhost:8080/",
          "height": 504
        },
        "id": "GvC2l1ffjPpR",
        "outputId": "d2bafe52-da0a-4b56-c251-153864f5b126"
      },
      "execution_count": null,
      "outputs": [
        {
          "output_type": "execute_result",
          "data": {
            "text/plain": [
              "      slice_file_name    fsID      start        end  salience  fold  classID  \\\n",
              "0    100032-3-0-0.wav  100032   0.000000   0.317551         1     5        3   \n",
              "1  100263-2-0-117.wav  100263  58.500000  62.500000         1     5        2   \n",
              "2  100263-2-0-121.wav  100263  60.500000  64.500000         1     5        2   \n",
              "3  100263-2-0-126.wav  100263  63.000000  67.000000         1     5        2   \n",
              "4  100263-2-0-137.wav  100263  68.500000  72.500000         1     5        2   \n",
              "5  100263-2-0-143.wav  100263  71.500000  75.500000         1     5        2   \n",
              "6  100263-2-0-161.wav  100263  80.500000  84.500000         1     5        2   \n",
              "7    100263-2-0-3.wav  100263   1.500000   5.500000         1     5        2   \n",
              "8   100263-2-0-36.wav  100263  18.000000  22.000000         1     5        2   \n",
              "9    100648-1-0-0.wav  100648   4.823402   5.471927         2    10        1   \n",
              "\n",
              "              class  \n",
              "0          dog_bark  \n",
              "1  children_playing  \n",
              "2  children_playing  \n",
              "3  children_playing  \n",
              "4  children_playing  \n",
              "5  children_playing  \n",
              "6  children_playing  \n",
              "7  children_playing  \n",
              "8  children_playing  \n",
              "9          car_horn  "
            ],
            "text/html": [
              "\n",
              "  <div id=\"df-3bf650c2-2e64-4289-a9ed-be4c3b3178eb\" class=\"colab-df-container\">\n",
              "    <div>\n",
              "<style scoped>\n",
              "    .dataframe tbody tr th:only-of-type {\n",
              "        vertical-align: middle;\n",
              "    }\n",
              "\n",
              "    .dataframe tbody tr th {\n",
              "        vertical-align: top;\n",
              "    }\n",
              "\n",
              "    .dataframe thead th {\n",
              "        text-align: right;\n",
              "    }\n",
              "</style>\n",
              "<table border=\"1\" class=\"dataframe\">\n",
              "  <thead>\n",
              "    <tr style=\"text-align: right;\">\n",
              "      <th></th>\n",
              "      <th>slice_file_name</th>\n",
              "      <th>fsID</th>\n",
              "      <th>start</th>\n",
              "      <th>end</th>\n",
              "      <th>salience</th>\n",
              "      <th>fold</th>\n",
              "      <th>classID</th>\n",
              "      <th>class</th>\n",
              "    </tr>\n",
              "  </thead>\n",
              "  <tbody>\n",
              "    <tr>\n",
              "      <th>0</th>\n",
              "      <td>100032-3-0-0.wav</td>\n",
              "      <td>100032</td>\n",
              "      <td>0.000000</td>\n",
              "      <td>0.317551</td>\n",
              "      <td>1</td>\n",
              "      <td>5</td>\n",
              "      <td>3</td>\n",
              "      <td>dog_bark</td>\n",
              "    </tr>\n",
              "    <tr>\n",
              "      <th>1</th>\n",
              "      <td>100263-2-0-117.wav</td>\n",
              "      <td>100263</td>\n",
              "      <td>58.500000</td>\n",
              "      <td>62.500000</td>\n",
              "      <td>1</td>\n",
              "      <td>5</td>\n",
              "      <td>2</td>\n",
              "      <td>children_playing</td>\n",
              "    </tr>\n",
              "    <tr>\n",
              "      <th>2</th>\n",
              "      <td>100263-2-0-121.wav</td>\n",
              "      <td>100263</td>\n",
              "      <td>60.500000</td>\n",
              "      <td>64.500000</td>\n",
              "      <td>1</td>\n",
              "      <td>5</td>\n",
              "      <td>2</td>\n",
              "      <td>children_playing</td>\n",
              "    </tr>\n",
              "    <tr>\n",
              "      <th>3</th>\n",
              "      <td>100263-2-0-126.wav</td>\n",
              "      <td>100263</td>\n",
              "      <td>63.000000</td>\n",
              "      <td>67.000000</td>\n",
              "      <td>1</td>\n",
              "      <td>5</td>\n",
              "      <td>2</td>\n",
              "      <td>children_playing</td>\n",
              "    </tr>\n",
              "    <tr>\n",
              "      <th>4</th>\n",
              "      <td>100263-2-0-137.wav</td>\n",
              "      <td>100263</td>\n",
              "      <td>68.500000</td>\n",
              "      <td>72.500000</td>\n",
              "      <td>1</td>\n",
              "      <td>5</td>\n",
              "      <td>2</td>\n",
              "      <td>children_playing</td>\n",
              "    </tr>\n",
              "    <tr>\n",
              "      <th>5</th>\n",
              "      <td>100263-2-0-143.wav</td>\n",
              "      <td>100263</td>\n",
              "      <td>71.500000</td>\n",
              "      <td>75.500000</td>\n",
              "      <td>1</td>\n",
              "      <td>5</td>\n",
              "      <td>2</td>\n",
              "      <td>children_playing</td>\n",
              "    </tr>\n",
              "    <tr>\n",
              "      <th>6</th>\n",
              "      <td>100263-2-0-161.wav</td>\n",
              "      <td>100263</td>\n",
              "      <td>80.500000</td>\n",
              "      <td>84.500000</td>\n",
              "      <td>1</td>\n",
              "      <td>5</td>\n",
              "      <td>2</td>\n",
              "      <td>children_playing</td>\n",
              "    </tr>\n",
              "    <tr>\n",
              "      <th>7</th>\n",
              "      <td>100263-2-0-3.wav</td>\n",
              "      <td>100263</td>\n",
              "      <td>1.500000</td>\n",
              "      <td>5.500000</td>\n",
              "      <td>1</td>\n",
              "      <td>5</td>\n",
              "      <td>2</td>\n",
              "      <td>children_playing</td>\n",
              "    </tr>\n",
              "    <tr>\n",
              "      <th>8</th>\n",
              "      <td>100263-2-0-36.wav</td>\n",
              "      <td>100263</td>\n",
              "      <td>18.000000</td>\n",
              "      <td>22.000000</td>\n",
              "      <td>1</td>\n",
              "      <td>5</td>\n",
              "      <td>2</td>\n",
              "      <td>children_playing</td>\n",
              "    </tr>\n",
              "    <tr>\n",
              "      <th>9</th>\n",
              "      <td>100648-1-0-0.wav</td>\n",
              "      <td>100648</td>\n",
              "      <td>4.823402</td>\n",
              "      <td>5.471927</td>\n",
              "      <td>2</td>\n",
              "      <td>10</td>\n",
              "      <td>1</td>\n",
              "      <td>car_horn</td>\n",
              "    </tr>\n",
              "  </tbody>\n",
              "</table>\n",
              "</div>\n",
              "    <div class=\"colab-df-buttons\">\n",
              "\n",
              "  <div class=\"colab-df-container\">\n",
              "    <button class=\"colab-df-convert\" onclick=\"convertToInteractive('df-3bf650c2-2e64-4289-a9ed-be4c3b3178eb')\"\n",
              "            title=\"Convert this dataframe to an interactive table.\"\n",
              "            style=\"display:none;\">\n",
              "\n",
              "  <svg xmlns=\"http://www.w3.org/2000/svg\" height=\"24px\" viewBox=\"0 -960 960 960\">\n",
              "    <path d=\"M120-120v-720h720v720H120Zm60-500h600v-160H180v160Zm220 220h160v-160H400v160Zm0 220h160v-160H400v160ZM180-400h160v-160H180v160Zm440 0h160v-160H620v160ZM180-180h160v-160H180v160Zm440 0h160v-160H620v160Z\"/>\n",
              "  </svg>\n",
              "    </button>\n",
              "\n",
              "  <style>\n",
              "    .colab-df-container {\n",
              "      display:flex;\n",
              "      gap: 12px;\n",
              "    }\n",
              "\n",
              "    .colab-df-convert {\n",
              "      background-color: #E8F0FE;\n",
              "      border: none;\n",
              "      border-radius: 50%;\n",
              "      cursor: pointer;\n",
              "      display: none;\n",
              "      fill: #1967D2;\n",
              "      height: 32px;\n",
              "      padding: 0 0 0 0;\n",
              "      width: 32px;\n",
              "    }\n",
              "\n",
              "    .colab-df-convert:hover {\n",
              "      background-color: #E2EBFA;\n",
              "      box-shadow: 0px 1px 2px rgba(60, 64, 67, 0.3), 0px 1px 3px 1px rgba(60, 64, 67, 0.15);\n",
              "      fill: #174EA6;\n",
              "    }\n",
              "\n",
              "    .colab-df-buttons div {\n",
              "      margin-bottom: 4px;\n",
              "    }\n",
              "\n",
              "    [theme=dark] .colab-df-convert {\n",
              "      background-color: #3B4455;\n",
              "      fill: #D2E3FC;\n",
              "    }\n",
              "\n",
              "    [theme=dark] .colab-df-convert:hover {\n",
              "      background-color: #434B5C;\n",
              "      box-shadow: 0px 1px 3px 1px rgba(0, 0, 0, 0.15);\n",
              "      filter: drop-shadow(0px 1px 2px rgba(0, 0, 0, 0.3));\n",
              "      fill: #FFFFFF;\n",
              "    }\n",
              "  </style>\n",
              "\n",
              "    <script>\n",
              "      const buttonEl =\n",
              "        document.querySelector('#df-3bf650c2-2e64-4289-a9ed-be4c3b3178eb button.colab-df-convert');\n",
              "      buttonEl.style.display =\n",
              "        google.colab.kernel.accessAllowed ? 'block' : 'none';\n",
              "\n",
              "      async function convertToInteractive(key) {\n",
              "        const element = document.querySelector('#df-3bf650c2-2e64-4289-a9ed-be4c3b3178eb');\n",
              "        const dataTable =\n",
              "          await google.colab.kernel.invokeFunction('convertToInteractive',\n",
              "                                                    [key], {});\n",
              "        if (!dataTable) return;\n",
              "\n",
              "        const docLinkHtml = 'Like what you see? Visit the ' +\n",
              "          '<a target=\"_blank\" href=https://colab.research.google.com/notebooks/data_table.ipynb>data table notebook</a>'\n",
              "          + ' to learn more about interactive tables.';\n",
              "        element.innerHTML = '';\n",
              "        dataTable['output_type'] = 'display_data';\n",
              "        await google.colab.output.renderOutput(dataTable, element);\n",
              "        const docLink = document.createElement('div');\n",
              "        docLink.innerHTML = docLinkHtml;\n",
              "        element.appendChild(docLink);\n",
              "      }\n",
              "    </script>\n",
              "  </div>\n",
              "\n",
              "\n",
              "<div id=\"df-5ba14900-5c1b-48f5-a207-8e8499bf913b\">\n",
              "  <button class=\"colab-df-quickchart\" onclick=\"quickchart('df-5ba14900-5c1b-48f5-a207-8e8499bf913b')\"\n",
              "            title=\"Suggest charts\"\n",
              "            style=\"display:none;\">\n",
              "\n",
              "<svg xmlns=\"http://www.w3.org/2000/svg\" height=\"24px\"viewBox=\"0 0 24 24\"\n",
              "     width=\"24px\">\n",
              "    <g>\n",
              "        <path d=\"M19 3H5c-1.1 0-2 .9-2 2v14c0 1.1.9 2 2 2h14c1.1 0 2-.9 2-2V5c0-1.1-.9-2-2-2zM9 17H7v-7h2v7zm4 0h-2V7h2v10zm4 0h-2v-4h2v4z\"/>\n",
              "    </g>\n",
              "</svg>\n",
              "  </button>\n",
              "\n",
              "<style>\n",
              "  .colab-df-quickchart {\n",
              "      --bg-color: #E8F0FE;\n",
              "      --fill-color: #1967D2;\n",
              "      --hover-bg-color: #E2EBFA;\n",
              "      --hover-fill-color: #174EA6;\n",
              "      --disabled-fill-color: #AAA;\n",
              "      --disabled-bg-color: #DDD;\n",
              "  }\n",
              "\n",
              "  [theme=dark] .colab-df-quickchart {\n",
              "      --bg-color: #3B4455;\n",
              "      --fill-color: #D2E3FC;\n",
              "      --hover-bg-color: #434B5C;\n",
              "      --hover-fill-color: #FFFFFF;\n",
              "      --disabled-bg-color: #3B4455;\n",
              "      --disabled-fill-color: #666;\n",
              "  }\n",
              "\n",
              "  .colab-df-quickchart {\n",
              "    background-color: var(--bg-color);\n",
              "    border: none;\n",
              "    border-radius: 50%;\n",
              "    cursor: pointer;\n",
              "    display: none;\n",
              "    fill: var(--fill-color);\n",
              "    height: 32px;\n",
              "    padding: 0;\n",
              "    width: 32px;\n",
              "  }\n",
              "\n",
              "  .colab-df-quickchart:hover {\n",
              "    background-color: var(--hover-bg-color);\n",
              "    box-shadow: 0 1px 2px rgba(60, 64, 67, 0.3), 0 1px 3px 1px rgba(60, 64, 67, 0.15);\n",
              "    fill: var(--button-hover-fill-color);\n",
              "  }\n",
              "\n",
              "  .colab-df-quickchart-complete:disabled,\n",
              "  .colab-df-quickchart-complete:disabled:hover {\n",
              "    background-color: var(--disabled-bg-color);\n",
              "    fill: var(--disabled-fill-color);\n",
              "    box-shadow: none;\n",
              "  }\n",
              "\n",
              "  .colab-df-spinner {\n",
              "    border: 2px solid var(--fill-color);\n",
              "    border-color: transparent;\n",
              "    border-bottom-color: var(--fill-color);\n",
              "    animation:\n",
              "      spin 1s steps(1) infinite;\n",
              "  }\n",
              "\n",
              "  @keyframes spin {\n",
              "    0% {\n",
              "      border-color: transparent;\n",
              "      border-bottom-color: var(--fill-color);\n",
              "      border-left-color: var(--fill-color);\n",
              "    }\n",
              "    20% {\n",
              "      border-color: transparent;\n",
              "      border-left-color: var(--fill-color);\n",
              "      border-top-color: var(--fill-color);\n",
              "    }\n",
              "    30% {\n",
              "      border-color: transparent;\n",
              "      border-left-color: var(--fill-color);\n",
              "      border-top-color: var(--fill-color);\n",
              "      border-right-color: var(--fill-color);\n",
              "    }\n",
              "    40% {\n",
              "      border-color: transparent;\n",
              "      border-right-color: var(--fill-color);\n",
              "      border-top-color: var(--fill-color);\n",
              "    }\n",
              "    60% {\n",
              "      border-color: transparent;\n",
              "      border-right-color: var(--fill-color);\n",
              "    }\n",
              "    80% {\n",
              "      border-color: transparent;\n",
              "      border-right-color: var(--fill-color);\n",
              "      border-bottom-color: var(--fill-color);\n",
              "    }\n",
              "    90% {\n",
              "      border-color: transparent;\n",
              "      border-bottom-color: var(--fill-color);\n",
              "    }\n",
              "  }\n",
              "</style>\n",
              "\n",
              "  <script>\n",
              "    async function quickchart(key) {\n",
              "      const quickchartButtonEl =\n",
              "        document.querySelector('#' + key + ' button');\n",
              "      quickchartButtonEl.disabled = true;  // To prevent multiple clicks.\n",
              "      quickchartButtonEl.classList.add('colab-df-spinner');\n",
              "      try {\n",
              "        const charts = await google.colab.kernel.invokeFunction(\n",
              "            'suggestCharts', [key], {});\n",
              "      } catch (error) {\n",
              "        console.error('Error during call to suggestCharts:', error);\n",
              "      }\n",
              "      quickchartButtonEl.classList.remove('colab-df-spinner');\n",
              "      quickchartButtonEl.classList.add('colab-df-quickchart-complete');\n",
              "    }\n",
              "    (() => {\n",
              "      let quickchartButtonEl =\n",
              "        document.querySelector('#df-5ba14900-5c1b-48f5-a207-8e8499bf913b button');\n",
              "      quickchartButtonEl.style.display =\n",
              "        google.colab.kernel.accessAllowed ? 'block' : 'none';\n",
              "    })();\n",
              "  </script>\n",
              "</div>\n",
              "\n",
              "    </div>\n",
              "  </div>\n"
            ]
          },
          "metadata": {},
          "execution_count": 3
        }
      ]
    },
    {
      "cell_type": "code",
      "source": [
        "df['class'].value_counts()"
      ],
      "metadata": {
        "colab": {
          "base_uri": "https://localhost:8080/"
        },
        "id": "h3wbyTAWnZhW",
        "outputId": "696f5801-4b4d-4008-bece-93c3211f894f"
      },
      "execution_count": null,
      "outputs": [
        {
          "output_type": "execute_result",
          "data": {
            "text/plain": [
              "dog_bark            1000\n",
              "children_playing    1000\n",
              "air_conditioner     1000\n",
              "street_music        1000\n",
              "engine_idling       1000\n",
              "jackhammer          1000\n",
              "drilling            1000\n",
              "siren                929\n",
              "car_horn             429\n",
              "gun_shot             374\n",
              "Name: class, dtype: int64"
            ]
          },
          "metadata": {},
          "execution_count": 4
        }
      ]
    },
    {
      "cell_type": "code",
      "source": [
        "sample = '/content/107090-1-0-0.wav'\n",
        "data, sample_rate = librosa.load(sample)\n",
        "ipd.Audio(data,rate=sample_rate)"
      ],
      "metadata": {
        "colab": {
          "base_uri": "https://localhost:8080/",
          "height": 76
        },
        "id": "BrEztS_hnxb4",
        "outputId": "88f02f94-54c9-4819-ef0b-8a3cc366b886"
      },
      "execution_count": null,
      "outputs": [
        {
          "output_type": "execute_result",
          "data": {
            "text/plain": [
              "<IPython.lib.display.Audio object>"
            ],
            "text/html": [
              "\n",
              "                <audio  controls=\"controls\" >\n",
              "                    <source src=\"data:audio/wav;base64,UklGRlJnAABXQVZFZm10IBAAAAABAAEAIlYAAESsAAACABAAZGF0YS5nAABq/F//gQlOD+sP/QpNBzcFOwT2A3MBGwAVAR0BfQEOA2cE+AlkDT8MSAgqAz8BngGvAzQHdgo6DDkNGA7MDfYNyw+gD4sNTg1/DPQJDQkvCD0GZwaDB1QG6wPB/uj4avWI8sTyV/fe/YAFdQiMCj0LUwccA4j/f/xe+Bj2IPUz9s/3PPn0+tf7LPs6+zD7h/nM9uXyvPFR83/3j/1AAsgCcwOpAQr8Wvqm/P7/PwJSBb0IuQp9CxsIBwXJA74DyARqAuD+QPn88N3rL+n753Xqru3E8Yj3dvup/b39xPmr+JP4I/cp+Ar7cACUBmIMHQ/oD8EQJhBADloMSwnpBd8DCQcsD58YiiAMIu8e1RhAEYoMtAujDC4MjAofCnEH9QXBBEcB1v5N+172FPMB8DHs/uYf4WHcINvP3svkOe/1+OUBoAdAB1IDAv+C+7L4C/hw+GH4P/eO+fD7hf+hAuoB6f7n+kD4hPdy+Cn6bf26AbgEkQUGBOT+zvlc9rH0+/Ps9fz6ggGZCUgPdw/JCjIITAnQCM4IvAUpAYj8R/UW8ffuDu9R9Yj/3Qn2EqAYNRp4GIUUsQstBZoCQQOjBDkF3gbfA7YCP/8++1z5cfOs7dfrmesJ7LfxxPjLAU8KLQh/Aen+D/39+r35zffM+UX/SAOBCGUM3wefBI8DkANJBYAF3AQuBCcBq/iw8UHvyPX5/QkH7Q34D0cRCQr3/oP5IPYD9uv5LP1y/qL/awLiBC4Icwf0A1H9BPcS80H0f/v9AGEHAAyeCXoGbgD0+Hf1SPVz+6YClgnfEKMUBBTwEZANgArmBo0D0QSLAOf3Ru6R5Dnhr+NE5obrNPKS9+n+sQJnBuAIbAYVBb8C4QBFAM3/V/86AHoDdgMLA/QCbwL1AGT6H/St8836TQZBEgQaTx5xHUUYlBK1DiIQaxBuEQUUxBIlFOYXGhb1E0QQqAcLAwYEDQCi/Ab5bfHw78Xu9+8e9gf5PPxqACQBXgINAsz76/TK8fTvwO7k71jzffaC/ckEHAaEBD8Apfel8WfwwfDt9LH3wvzDAosHGgdSA5sASPxK+YT3AvgX/FEBzgaJDtURXBFvEVgPwQqsB3oDAvwO9Ezt+Oeo5fbnUu0o9kP+ewLbB6sNcgy1CrUHQgOAAkkBgf9LA7YJMA1FDesHWQHe+ejyl+0E6vfoAeuW7T/18f8jCmcRABE4EA8RwxDuDd0KrwktDWsT+BfuF4kUlw7ACKkEnQKoAS79Rvac7gHnuONY4p/igubM7EfzKfd8+Yj37PKi79/ttOvc7G/yGfsUArsF5gUgAgn+Wvev8sLrb+Tg5cDqPvEZ+An8lP6pACEBrAJYA/cDOASIBgMLRQ1jD8IO8gxpDNYOYxD3EYcTbRDQCbn/I/Xi7bboeOi16/3vzfV2+zcBvwRgBv4Cj/7t/NT9kP8QA/YHaQuKDOII9QRIAYL+gPvv9CLtSOje5ufri/YPAfoIWAzZDGcNNRG+FDMWFBbREQ8NDAriC3EPzQ/zD4IOHw1oC6kHlACA9uvrFOTY4vjla+xP8632F/ob/9YCJgHu+VLywO1p7HDucPTn+C3/QATVA9sAu/hB7pnnL+X74+bkZOih7erzgv3CCJIQIxSzFMIUUBg9GwcaQRmYGw0eyiAGJLolPScbKosqLSOfFeUEB/S958Tkzugs7ezvPvGI8uX2rPzlAHD/kvp/98T2vvo5AiIKZxESFqAWdw9eBCT6F/IJ76vrsefy5JHl2ezv900GsRMOGwQhCSQvJsMpOimrJIYacQ0QBXMCHwU0C6cO2w2XCd7/aPNA567bDtItzU3Re9lo41jtCfbi/YgCdAP4/4f7zfes9jP55P6pB5cQ6xXaF+oT8gtvAgD71/h29/jxturk5qrnuu/h+vgE5Qw1FaIbsyHTJ4worSLvFTwHrfit8YT1lv8aDA8XhhvAFH8E0u8Y3KvLUMNOw57JotJ/3LboyvNZ/EUAA/1d9q7xJvI6+J//6AcnDEIM6QmNA5b8NPmV9mPzze0j4tPXR9EJz4DWbeX/82QA6wzLHUswoUArScBDMDSOIvYUOQ+ED+kV5x+lJ74q7yNyFxsJE/q37E3iQ99f4pvoPu8Z+HAABAMaAg/8HfYk8uPwg/OF+NL8Mv2l+qb2Q/LE7rnvO/FP8aPv7Opi5gblwOe07hf5FQMlCx8UyBwqJyYytTmbPOk39C6ZJmMebBkrGdwZxRteHIQYhA5HAYrz2OZe3TrafdwW4M/jYueR6n3qBufU4krfntw14Nro2PQ0AwIQ9BUsFzYUpgtrBW7/SPjy7ijlB94j3DLiq+6C+3cFnglmDM0TBB19Jr0rQipeIdkV4Az+BuAE2QaMCBMK3whqAJDwyd1qzQvDQMC1xOrNN9dN4tbrj/LB94H6EPlN9b3w4+177qrz4P+dD9QdRibfJeUaJA07AXH33u4d5qXfi9/B5TzyhwSYFLcfqClrNLI/BUnTTB5IzzgRJssXfBNWF5EeuCeSLacv+Cs9H3IMcvcr5CPZ/dnB4oruS/roBiUSWBkjHAgUoQUl+NLuuu659Fr8dQQhCC4IpQTW/Vf4zPVU81Xqo9pMyNq6SLaxvWrQIeXL9WUB9gxyHMMqFzM8L9ge3At+/W73pfqgARcG5QdMCEgHuQRS/P7rMdjQyDjFyMpE1kXjle319Kv4kPvD/p//MP+i/84BEQdBDDoOUwvfBaABUP0i/Fz9x/vt9m7wf+gV5O7lge+LAoAWwyToLOAz8zuxRKVLzUp4Qjw0PSQzGkATiQyVB3ECBv6L+7b2uO9Y5YHXf89J0ITWh9715aLn/eQs4xzkhugS7NnuGfHg9Fj6TgKrCMIJRQrPCaIFMv1o9tvtaeRn25PUZNcf4lby9AUqEz0ZYRxjIAgp2TH0Ojo8tzL1JXIcxRdyGPQbZB72HX8Yng4YAsj06uYG3ATW69W32tXi+u7c+zgDrgU8BoIFDwMVApgFtwkGD7EVvhpOHKQb/xWJCWT4BOb117LK6Lzms1uz+roVzEDk1fibBOMMEBggJq02kkOgRLI3qSOhFJgSHRwCKVQxyjGULK0ijhcHCmL6b+g518bN+8th0lHgdfAQAMQLbxB0D/4IIQFz+fL0s/Ht7szu/u7F8JD0k/Xe85Dv9und4eLSlMEBsX6sMLfPzBTl1/iiCbIYZSp5PQ5N/00HQIss7RvRFgcapCBwJCsiOx02F88PGgTA8kbeks0UxOXA8sTMy2zS7dnt3g/j+Oi+7ujxAvSD+Pb7Q/2v/Uz9RP9oAuQC4ALdANX82Pdl7yLmIN+x3BXk5fXXCdcYHySqLgA6v0cTVONbd1nzTKc93TBnKzgpCSbDH20Xaw/sBmz/jPbP6ifeTdE6yGHGNsrxzx/W8tqJ34PiSOas7OvyOfuaA2oLVhEBEycTahIiDlII/wJ8AXj+C/QK6Efewduu5QX4sAgwEkkWkxkpHiknKDERNokx/iMiGCkTmBXlGr8b5RKkBEL2Gez06FPmaOR/4CfbFNdk2Z7kHvT0AQgHkgbjAej8B/x0AbUKyRSzHeYhCSNGIK8XSwi9+BXt/+Q+2j3NDcI2ugS8msd33BjwTfynBVIQnR2BKRAxETAkJmYavRNMFmQgQiz4MbQv7CbDGqMNBgB79C3pOt5B1uvUfdj54Y3x8wEiC/UKYgOo9ybwpO6N87L5y/yV/AL77fvJ/OH5+vJB6vvgaNXbxtq3hq5zrnW63NDi6FX7+AsHIPE040hQV5FXdUenMUog0BnoHowr1zNgMm4qpBtgC5/8Qe3z3FbKN7nFr5axxsLs2n7v9/mC+QbyHOgp40Xj3edG7t7yv/ZR+x4CUwd8BQL+pPVe7u7pMOgJ6pDsYO7v81r/tA+ZIGky90QhVIhfSmlWaoNcCEYWMLgfuRlIG5QathN8BoP4I+0w5XrgwtmhzlvC4bihs2a3jsXz1orlI+4x8Ffu7uzR8NL8hA0wHnUo9Si1JEIaKQt3/xj4tfXW9Dzxfu7k7B3sNO6+9Gv78P+bBRoN5hg7JYwtqC4XJDwUQAcL/xX+6gGZAfn4yOoZ3BDVINWr2C/ccNhR0HXJHMw621nzzQwMHZwhYRvrEQoLFwvdFSAlvzWAQvxFLEB4LjoVXvz16GPbKdB9xpW+vLqRvHzH69iS6R/3mwK5D5QbtyWULg8wsya5GJcOQQ0jFZcjhi9gM9stLyFeFfQJ8P8e9gHp/Nte1I/WGeWZ+/EQoR0PH9oU8gWx+o/1DfjgANgJGA/EEHwQ4AwrBJ/4DOrS2lDJgbUMqMSlsq0yws7eKvdDCOQWPiWaNKxDVFCWULpBKi4gIZYiUi5WPWFHAUmxP2cw6R72CgT48eUd03TA9bFQrqe2PMmX3mrrde9F60/kM97k21Dg6+eU8UH7UQLABd4B6/UN52bcC9dh1C7QasyzzBzRWNzS7rYC0BP/Jbg53kzdXLlnaWZRVzxAZCxJIjMh5STkI88bUQ0l/uPyKuxE577fL9e1yxC+VrbqtmPBdNE/373nwevb7GHtnvJ7/kEPISGgLWEysS6qIJgLwPfs6/DomOk66evnkOUN5EPpHPbtAQcLNBO4G44j/yt9NKY2/y9ZITwVyxEWFicaLxedDSD97usV4afdHN7T3AHWJ8oHwsnEZdO/6Pf7BAYHBGD9sPjx9p38PwuVH/s3EkwlU4NMSThuHPUBy+/n5abesdZ8zDDEHMOOz43mcfnyBf8P4BQeGbMgKSl+Kw4jMRUqCcMGkw8+HDAlDyS5GTEMHgCA+CPxSeqE4tLZHtaS3O/sFgEID50QlgjH/Dnxsuh26NLxxwPjF6smTyw8J+QYAQaV9EPmgdpQzoK/9Lb+tcm9atDt59r7VwiPE8IesCj7Lu4ydS+xIV8Q2AYmDMcciTKMQvNHlkEvM1wfKArk9pfnuN0U1hTSudPq2OvhneyV8cvypO9B6szkAeQQ6qz0gwK8ECobAh3OEy/+jedx2dbWzNn72VnWk9FbzELPouAb9zQNcSXDODZEJUyiTqFIxThiI2MSSg3OEb8c8CStJHcZcAcL9aDnTuGp3VLZfNGAyMHFp84W35nvh/jW9tzv/+vi7Nn2JAYBFZsh2ihzKbUh9hL0/A/p8uDB4jrpXu8a8n/vx+nP67L3SgbOFCIhASolL0szTTgWNwEsCx3SEJAO+BexIm0llx+UE6IFU/va9FbuzuVu2xbRGcwc0CPahOfa8pv2CfT87UHrpO8R/mYWGjKjSkJV1lAdPxEht//K5SzWUc9FzZjKPMi0xzzJbtBj4AryWf98CWwPpRPqGT8gjSDVF/gJFQDBBBQVxChmNVM3Ziw1F8cBeO2N3SLU1dXW3M7j5++g/MYHjBCmEc0LnAIl99vtrO1s9pEF3hTPHxQh/xjKC0j48ORc0rPDSrqYt0i9Wsc90ILa9uj/95oIbBrBKkkzcjU9My0rTR0xEBoJGQ2KG/Mv7kFbSu5GgzjzJHEPDPte6A7abc4syOvKv9RV5TT0D/kX+MHw9ehu5qLrDPhjCpAg8THSOv82zCRzCqDy0uIa26rXgNVO0TDMicd5yw7ZmevAAbEWUygDN+hAnUOnPE8nGA1f+mf0+PuSCdETsRVJDBH9r+wB3u/S4Mhlv5y0xKx7r6K8HNML6ur3B/ui9fDvsPJ1AcgYtjJQRjpNwkV0NBAerQcR+YXy4PGY9p755Pne9yfy2O979Wb/DAo2FmohYispMkYwoyJdDQD5Me+x8nD95wenEPQXuBqZGE4QoAQO9Srpw+WE5CflhOXY5Nbo2fEx+7sCsgM6AAoAyAqxIlA/xlUsXdtSyToaHRQBEehu0p3Ch7lwtmC3LrijuRfAcM4N3rztfv76Cr0UYR4mJDQgBRXGBKr6HgDgEOAifS4BL+MkaRN4AELwheHr2QnZed395R7xfvxlBmYOPBLTDRMANvAQ5LLo4f1XGdQzrz+zPTIx+xsJBWXub9efwyC5+bdOv33KqdPk3AvqZfxjEYQm+TTKOSk5TzD2HsILsPyM98b9xQ2eIlw0cj0OOeEoRxMw/m3rAdtt0MvKdMvS1LXhLe0C9Xf4gvaA73Hll94Q4xr2BxQ7NPlJREwePgwkYgs3/Dvx5+iG4QHZ4tEczoDNLtMK4N7yOQrLI849vVDRUyFJuTFTF5ACRfZV9nn+xQh1E8MaohaPCL3ysNu1yEG+LLu9uke8Dr66wcjLgNqj553wY/LK77zvV/sZEIooVD1QRAo+ASy6FTYDIfbf7afpV+mH50fkNOC32hbazuAr7Xz91hEVJJQy6TlrNMEiFAmU8nroE+1L+0EMohy6KKcnfh1KD2oAQvg79hb3EfnT+Af0le6E61vsw/Hi9x/5r/eI+eIFZx4tOgJQ1FfoTeI2zhjH/SjpEdiMzPDHDcbUxV/GwsXwyPHRteBI8VoEphewJassXSZiEIL0i96u2ErozwO2GhAmeyRwFbIB2e+J4+/dWt6F40frQPbR/0cBB/1H94D0e/F26pjiYd8a64cGDCpnSGBV2k3nNnoWdPaI3Q7LYMGOwRnHDtD615bbTeFw7RMBgBpVNElGfk6OSYg3jB/eCv3+uf9TD5YozEL7VZ1c6VH2OskghghA84Xozug67mH3Ufwq+qT06+637ubveutS4n7azuEu/D8iwkWIVdxMtTJYErL4wek63V3RFscBvsG7iMD4yf7ZIu8vBTAeYTjjTZFZPlcYRjEpEQtd8prjqObr9gkK8RuxI8IdKgzv9gjlldi20uzQjtLl1J3SCcwpx+rGgM8n3KLm8OvV72v4YwfRGw0u/zZvNSQpERW6A+r4uu/v5STe7dRQzW7J8siUzlzavevSARscjjRmRhxL3DxRIdsDI+x04ObmoPijCjQc0SRJH+kOwfhG51fhgelG95gAFgHh94HoVNyR2yHpDP1ACZkM7Q7GGSwuvESAU5xS3kALIj7/eOUX1ynOxsqcyCDCAbrYsjKx47jjyOTd0fWaEGMqdT1vQuQ0ehmS/ITpbujF+eYRsCPWK1soXhuJDScCp/sH+Sn8EAdCFZEfQRtdB+fudt473cPhCeIK3aPa+OV/AM8jCkFYSsM9VCGG/TbdLMeguauxyK9Zsq+2lLuXwSrLPNzy8i0NaifPOoJIFExVQ3Ay3B0xD7MN1hyVNxNS5F6SWa5FtSmUDf32+OYm4Qvn3/Gn+9f6/e0Z2lXKDcZ0yFvIx8RGxWbSPe5bET4ucjhWLsYXnPwU59PbsNB8xbO9wbwDvyjFmtJT5nz/RBxkPtBfZXYffx54QWC0PesbhwDL8tX6NA8iJd4zOjMyIQ8IFvFq36XTrtFG2CjiwesX6+LdrcmQu82+jc2Y2zziguGB5HD0Vg+AKxw8iTumKtARUwH//O37W/Y17IjeLNTd0CjUU93X6dL8exaCNsNPHl6BW9xCTiG7/4XnvOC67vQHxh/9MEM05CV8EMb7TuwL5kzrjPeSAQgEZvtv6UjYTtZB5Dv7fAv1D5wR5RWoIS80HkcDTpxC1CUXAdXjWtX50YPP1ciOwMS3mbH/s+i+LtBR55QDLSK6PKhLwEg+MmEQu+/Z2irZgemnAPoTbh85H/gUIwca+0Xzs+6N9QoHMBfGIDMa1AGB5t/VQNPM1+TazNiS1qfbDexzA5sYfSJfHbkKV+yp0tfIIMkbzMPO2s1jyh7Hvseo1HPorv7GF3kvFEPMUANVSUlvMb0YnAfgCKQfIj+2WOZin1nRQ8EpkQ729lHmPuRB8hwFNBO2Ebf8L9/UycnFw8pRzyTRH9Ai15rr1wcSIYUunCucFzn5VN5czSfB87t8vFO/L8ZPz3/ZQOrLAhQjWEaWY9N2mXx2cvpapTlqF0z9N/Ic/RwVQytLN6cyPh9KCdP2+eiZ4Wnl0PE4Ac0JTgQu8tzYpMmTzqnbgeIg3erNa8fV0nPtGA/kJ/wrxxtiASDreeDW2YXSu8uMx2HH3cmJzQXWPeXg/aIh40XcXhxpRV8uRVskxf+B5H/cPuuqB3gjtTPwMPwf5wpS+bLs3+Kl3BjcDd6j4vriBdu80kjSkd0o8MwAhAd/BFEAeQHHC60d8Cq1KQoYbP1y5mvaQtMYytO+e7TCsCqzvLowyeTeY/zZIeNG6mBsa+Zi+UqmKxsNEffG7UH0FgUGFUcgaCRxH3sWbA4cBsEB+AUUDxQZfh1qFpME3e2G3UDdX+hb9y4At/4d+l38uAg0GXEm/CT5DzDvKtXjyKLI2MynzLjJTMr2ztjWU+MY8D0BHRsBOuZSU2FCYKRNsjJZGX8JbgeyFDMmoDPTO5E73TCuHm0Lqvt+8yD6Cwo1FvQXIAzQ9jTe1tBj0xPeJejx50HigeFP6u75gQ7LIFcnnRtc/brYULr7pQCcd52ipgO1xMTu0jnjJPm5FXc5Klo2b+N332/0WF45mReD/IP0IwOpHBUzAT12NTcgYwiQ9mvs0uaP58/sYfE98wrwWuVu1zDQMtRy3JPecdjPzsvJadGj5VX+zRT/HNMU7wMV8bHgJ9HNwXS5B7qyvx3Iws+h2Rvr6gYSK55Om2hQdSduBVTOL9YKn++u6PL37xKBKk81gTBkI/EWGAvBAE/2SOzr5eLiUuC/3VvWv8pgyK/VQuu1+43+BPbG6AXkAu9NA/YWcB4SE9795O0q5OfceNS2yXHDj8WgyknVxeFU8SYKQClySPteZmrhZNNPDTS3GSoDSvVL9A39/wg6E7MW9BKkDSwJZwS0AH8CrAYyCl4KdQYq/b/uNua37E79nAvNDKb/wPHS7MPzmQVcFq8d5hUg/l/kdtGmwpW55rczvvHKqdjZ4MrjJOV47WIDHyCXPHpQnFUQSeAzah0BCyQD5gcqFVciMSsaKEga6AgP+jPz0PMw+Hv8MPxp97jvwuOj1mLRudbV3yvmT+Oq2njTutJF31X2BA6aGPoM7O7WzL2xZZ4HlsaZcagHvGDPBOFo8c0C4RUPLEFDTVp5blZ3ymkTUJozXxzoFsUgvDOyQTFD7zdJJyYaAxLZDRoJ0ASuA7gBbADF/1P5GPJq8iv40PyS+7XxKuRF3Pjf1O9JBesX9iDxG9AK6vX74crOu8DiutK/hcqQ1SXjkPDl/joS2CgrP2pT6V/wXcxJaS1SE5QB6f27Cfsa+CeMLvMo9ByKEm0I1vrY603f1dYu0b/OI88z0HvNA9JF4T/u7fVX9ITrkuRR5sPxYgUAGSEkVSLdEwL9suKjxjmuxqFpp4a3Hcsp4GfutfnOB74d/TX7TH1gb2dnX4xLOzIhF1gFxAJRCY8V8SNJK0krzSmCJcYeXhUXC+ICMfwl+MH1WfAC6Sbosu9M+pgAS/7I9c3qluQ66M31uAmiHD0jnxdv/pjfQ8DxqgmpL7kW0ujkw+027TTrmvCyAPMW7i7XQohIJj+1Kp4TDv/G9I/6JApdFyQfEx2eE6YP+g7rDuMNxQdG/SXzg+xz6bXjJt1M4WPtzPnB/z37dO4g457k8/JwCy4j0ypdHcP7NdVas56biZHNkjOjq7qm0/TnCvOQ+uoDcxMZKsZErVsyZd5ce0uHOYwshCcGK08yiDMqLxwmnhzxGTka3xcJEwkMOATc/s36C/lE+b749fqt/SX3m+a00m3Cnb3gx6zeV/j+DaYZVRT6/gLhs8IWp9aUJpK1n9i1586d57v4aQIxCGIO0Bj6KC45okJGQOAzACXzGRoadCOYMDM79jvdNxMxEiv2Ju0d6w9G/gnuUOPz38rgG+So6lL1w/2y+nzrgtWNxFW+q8O/05HrNgOaFBgbdRC0+KnWY6/ojgGAzYjZoVjCWuDX860C4BC/HyEvkj6WUb9ddl0mUMM4Fx9tC4QGYQueEyYXbRnXG40ftyWDJSEfixF8A0z6Efbr9nz4nP5sDAob9B8GFvsAVepR2f/UJ99F9BkPMyaZLe4iWgpX6OzHmq81qCy2Ac754jzuze2I7d30UAX/GpkwKUXcULZRn0gOPIovhidAKsIxfTQoMIQn2SC4IQ4l8SMmGz0KvPjh65vgyNga1OHTX94Y7TL1R/Gd4gTR3MX+ygDfIfh4Cw4TIw0d9rXY2rrymsaFp4P2kTeqgMMr1OLevelB+aUMIx8gNJdEWUu8SgFE5DelK6AlXCnPMMg01TGrJjQdTRtcH4QgCh56F90QfRGHFYcZmxgmFdsR0w3zBt31Gty+xSC55rvN0CbuAQddFOYUlwYl703TZLRWmmOOY5acq6vGgNw26TXxQPpkCV0YdyrYO4NCl0DFOZAukydyKPEwFD/ER3FH5TwfL1EinxR4Bk758eyu5OnlCut/8N70pfdA/F3/7/z28+fisMx0uUa0f8Wb51kJdB3sGvoB5N72ui+dVIrRhiuUSKt6xZHbqevM+YMKYSGmOQVTSWpLcnpqB1XzOOIiIBceGo4muS24LJgoiiVXJkMmLCAbGLcN7AMk/3H8AfoR+jP/lArnE/kMtfWY1B60SJ2MmrKtHdGD9jUP4RQpBW7ritHsvUG2u70OzT7an96k2wvZyt0b79gI2yQ9P9JSPFqWVndJyTbZKIIlTireMZEzSSqwHCQTDhO7FT4QJQOg8RzhqNt04a3rYvWJ/FsAWgPSA5f7leuo1zfJMcq/23/2MAs4EFMGdewNzt+zdZ/Kl12esK+mxObT89xu5r/x5gNsGWkr6T72T4hVD1IQRqsx+B59FSMXFB2eHBwVhgnlBJ0IJA6yDwIN8gmbBzoOeRhCHWocKRkKFQoQcget+NHgxsbMtsm5fNL99B4QPBkIEWL9puia1f7CRrUQr/i0R8TO1Grie+cl7Tv4KgjcGT8umUPBTeNMrER9OQ4w/S8yOupKP1m1WNpLcT4EMugifBKxBGv3au1P7T70vf8NCdUNtxGtESEMPgGY7DXRo7nPsLq7LNXR9OcDe/e+2S+1x5lvjTKQaaAis3bCuMzE0rTZJed8/pcb8zTOSppeoGoKbHJdW0KzJXMUbhIhGZQk9SpPJzYhJhWhDRgLVPqE72nltOKM8vX4GwLHCyMNggx6/lnrkdVvuqWw8bd60UT8MBUcG9QT6v5z7ireUtKR1grf6ec/73zrRONH3hHhDfEcASsUHivgQWJTIlTpSE83jifjH2QhaiVFKakoPCUPIvkfNRszBT/wNuMk23LkzPMdAO8KdxBZFIcYMxgRD6T21d5o1KnZR+1eBdsVExqpCgPrrskuqrmYd5mwrGjCC88Hz2rJqcgt0fLh8/X7BMQQ2SGjMBc8NTgnJH0MJPwQ+MEBmxBSGCcb0x1MIBwf4BdYE/ATDBrkI+gpkCziKygt7jPlOkU0Uxob8OfGR7IEuZ7TpfNvB4ALdwHK6snP0bVHobieY6rJur/R49l52NjOdcXxzL3fvvRkCcMd1C1gN3U6GDjiL10tzixiMco5iz97Pug0FCnoHUMTBQYf9n/s7+8d+QYD0wZKCrwSJhoGGkoMVvI90pO6E7mOz2DzHg1oFHEEN+XAwpKiJZcPoKa1tM7C4gTslu9N81cAUhWQJ6k1oT9gRyZNkFFHTd0/eyx4HCcVvhqFIkkqiS3uLF4rfR9BEVwE3/3S9avwBPn2BvYN4hdqGSQU2g8z/YzgqsJMsn60ackL7KgL5ho4GPEAPeVY0gTJocse1hbiWuw08pDyfvC47/3ywfnQCVIhFzT9PeRAvT1iNwIwpyV/G8sXwhi+G6Ug+yIzHxYUgwUk+oLyz+698d39RwguCjcOUBgXI0MsCijAE5L5LuKp2vDphQJzFpUbsQsz7vLM/Kyrl/2XqKOXs9nAGczx02XYrNvw4eLpkPNZBZYV9SAvJyIkZxaWCIP7zfPe9QD88wAXAMP6QvZv9lr9hgZWC60McgxEDDENTQ88E/8YeyDAIgcaFwZ+7Mfb8toe7XEHyRl1IWAdigd86rPM+LPuq4GuObkeyr7SRtGl0HDQHtoa6T39oxbSKVs4EUEORFpAMjufOEM6HDqzNT0rUxxzFSgWgxTEEYINBwb3BNcH/QqTDc4LQgw4FIEflCRGGdX/md3gyK7M9d4d9+8KZgrd86Pai70WopaXVpuDqWq9NsxJ1fvcZ+eI9rQMlhy5IuQrtzPIOXxCd0nTRdI3RCdgG8gY/BsgG20QnQRsAM3/YAOnBoIFdQSDBbgKIhMyF3MUFg/cCYj/Y+8H3T/NssiU0FToyQM+E7UVHwzY/PLpg9KWwHe5VrlYwWfJAM7I1UnbgeI78+cC0Az7FsgZiRrGIv4riC+HKH0dNBRhEHgSVBMLDWEIcwfUBLcBdPnn8UjyLPp3CbMYmCDAIukhbyO3J7skchyHD4j/xPowByYdSi2ILhMhZAph7vvSAsLhvjvCksid0tbcMeTq7ID3TQDSCM0OMhdJI+8qGi8jL4whWA8l/z73lv5rCm0Q7QrrAeX/3gWjEVod+iBrHZ4WbhEAEFoQuw0iCvgJ8gmaB7v/uvGI4h3d0uTX9e4GfA9pCdPyUdPTs0WfmZtup7S6cM7M2ubewuC/4VLmGPHn/8QRhR70JuAvpTd0PM84GzKSK8Ukuh3TEfMBNfql+mgAAw2oGE0fRyJWJDQiSh/2Ho4eCSLyI4geqBG8///tRuLB4k70zwx6HWMfRA1o7j7OUrTDqF2whL7Wy9fV+t1+6C72LwW7ExcdSh2gHEQcOx/oKXYyzDCKK4IiNhqTFuoORP8A7QnhrOM38XT/0wWX/y70kfHD+YQJNhijFhQNy//I8hbqHuXA4Y3f4uGU7QIBsQ6dFdMQyv394TrHvbisuI3BH8oX0gbcQuaC8oEC9hKKHjsmKCyDLOYoBSlrKgAn0BwvFHAOsgqmCLj+UvKG7OTtvPMe/v0EKgY/BqgIVw4gFzMdWhzMGJAUfhMkFNUPpQRO+2P41/8rENMd6yGHG3gImfDz2drGm7qFtQC9o8uN27XmAuiP5VHjsON76775bwXND/AYOhmLDzgAV/Vw8pL4yvw29ezmAN8j5mT6ixO6JTQs+SeHIYAd0CGjJzMoQySPHGYWORC7Cf7/zvZ58Uj06/8OC30QNwhc8T/UtLfrpRqlLbFRwWzQjdor3kDg8eJ+6V31gAV8E/UcxiKtKmQy4C80KNseixVxELAJHvo07rrr9/N3B4AdaS1rMH0qWiSmHTwc8iBMH1gaqBIQCoYCc/1l+S7zTfFn+HkIVxj5HfMSU/yt4z/T0c040BjUCtJd0/Xdqu//AxcTbBoNG6ca2B4jI60lBinZJ8wh5hrjFG0QGQbH85/fhdKy1EHiivT+CPAXeR59H84eCh6zHick+CWuIJsVCgkgAyACOwFc/c338PW5/QwM2hitGEgHHekay1y4p6/urxe1d7vzxDrWeenA+YUCYAThBM4GrQqWDngUBRjPEkQKXgT+AAz/kPcG52nYMNYr4Pz0jQ2XIZop+ChQJkMkvCWdKYQpwiXPIGIaexUDDzcJagJk/B36yf8QC4oVDxdfC2j6seGZyzS/b71KxNXPj90H6+32m/6gAh4DjAa/C0URQBalGKUVIAqZAOD96v1b/un1TePX0rHPDt0u+ZQZMjCoNf8tZiOlHGIf7iZuKJsgVRWbDrsOGhBSC8L9bfG+7gb4dggSFAoSHwD/46PH07bcr7et9rBBuBHDkdMJ54L3mAEYBKcF8QUNBEwGHA5sFAUV3BCRCVoANve37szjIt6y31PsBgK7G58y5D3nPZ805SpTKSIvaS/kKQYeGxBgCoUIdAXOAVT9T/zIBIcSnBuZGQkJGO/e1bHDIrv5tVm0ErhIwp3Rt+Ou8PDyofIy9gb6lf2lA5QO2hsWJB0lXyGWGIsHwvGi3EzQ5M+m3Wbyggq7HeQhxxy9FsUToBhSIrchLxc5BxP6PvVw9xH4HvST7VzrsfjODp4g3iF2EET0adkaymfG2sU+xePGIdG85koBLBlcIxUgORZjDAcG2wRkCw4TwRiaGsEXuxHBBZX0eOBe0ZLQMd4G+GoWcCu+MncyMi1MLC0z7TYIMuQiSg0H/LT2JvnF/Nv6Afk9/YQJ/h+lMxM61DCwF2f1x9cPxfm8O7zYv6zJLN3o9SAJ8A99C60AA/Wl7wTyNf4kDGQTmBeEFUsOUwXx9f7kVNoY3tDuBgKwFSIj/SWXJc4oKjGMQdJO3k+QRTIuyBkTEFkI3/0U8T7nRuUl8J8HWiAyKjIeCf9J2Oa6o6rIpiSr8LLnw7vdpvl2D10Y3hL6BSP6LPUf+mgH4RMiF+sSPgpNATn4qu204ujbu93Q6A77thCNIOAjMh7mF98Yth/wJRIkHRkFB9fzBuet3gvYQtIOz+/VUeiIAp0bMSZHHhMIU+0J2I3LxcVxxeDJ5NZw66oDDRuwJpol9x9JGtIXBR4KLTk990QwQk04rilKFCL6m+In0uPNnthH7E//Ggz0DnUM4wooD1EaKCE0IUsbpw6WAFH2W/DV6mTiE97F5bz6/hfwLGIw8CDnBZbro9os0oLPuNCj0ojcl/FKCuobYiDSGHoMCQGy+K/2rfyMBh4OsRDIDnUFXvEj1pK8Vq38qrG5VdLB6g/9xQMIBF0E9gtBGT8lzSkYJLMUbwU6/hb8fv1Y/oYCnQ6XI1lAWVdlW1lJMSYB/2fg8c/FyPLEhcfF0qfl1v0eErYYUA9O+/Tm3NqX3vzsP/xnCOkLWQklARzwodgmw5q2FrZyxPvbuPULC+IXGx7tJE0xsUHfTndPy0RwMNoWe/9u65XayM7by5LW1+9SDxkm0yhYFqv3i9ZvvHSuCqfSpFKrlL6W3U8ACBoPI64ayAqU/Fj3WQBPEu8mfzUlO9I6NjU1Kd8YgAl9AtMEeBBrHxopIypwIygbAxeiGzYnTi8HMCopqBbDABzu+97t0srJO8f31OrxORMjLKwvJx6W/7/fLsjSvHe3V7aevRnRUvFjFCoyb0JLROU74y4sKAos4ThnSPtP+EiNNBMWpfTR2LnEt7pdvbvKJdtZ6wD2lPg2+LH4wABwD38d7iXAKCwhLhPlAprv5NyuzV/JItRd7G0M9ScMMw8udR7DC1z9ovfg9tr2DvpYBHoTPSOGK9wnQhtVB3fzeua55FftIPsJBUgDivp56+fT1LoBp5SeZKapvm3c5vTsAJIAlfpx9ET1zvyWAhAErQROAuQAA/+H+5n5x/eq+rEG6BwDOMtJOUXZKycFrty/wEi0nLA2sC61LMPB13buowAKCWEHb/759ETzKP/9FIkt6D+pRA86qCGwAHLgz8jxuxu9s8ty5P4ACBn3KpA3Mz/iRu9RnFucYW5gZlI0OdQYjPdH3mvPt8yF1sXoawDVEOMOD/014enG+rcvtl+8HcM/zIzbsPFACpcbhh9eFSABneuU3W3aFeSI+w0WYSnMM9cwvSKQEZIDPP3i/ogG9hF7GSUa0RbQEz4SnhGRF8celyJxH6oPO/f53EzEhrVWtHS/i9g7+OMXGy+kNHYlnghn6ZbRxMZ0wo6/t7+dyMfdE/sOGZQu/zMuLM8fUhgpGgkj1i6JNVsy3CObDBTxptdix5PD7sk71jbkMu1A7mzrsuw48ukAYhdBLHw6CT7oNZEhiAYD6UTRX8TGwYDK7NzQ8tQGnBVnHKEbPBbwEH4PlBHCEyoVqBkrImcpsSwoKQsefQy/+RXq3eTi6cr0QQFYBTQBtvJE3gXOHMkp0tvksfkoDlMclSGoInohxB/tHjMfbB0VHDga/hiSFrYQQAjD/yP9/gDTDIchATkIRhdCeC1ID7DwX9t11LLU3tR+1HnW29yg5sDuZO/75ejXycwkzKzYIO6lBt4YVh5KFjsEbuy91uDHEMMqyAHVAuhb/A4QmiAPMCE8EkeYT59WMFtkVQFE8SUkAjrgNctCxH/J39eI6cz58gAR/TPvlNoLxZW6hr+e0NznFf1wDfEW/hpFHVkanBHCAyTwv97B2NDfn/BsBu8YKyLIHnwSmgYtAasCzQisEfIYuBrtF9QTCRFiEVsU5hkwHhYavA3y+vPio8mWs3Wnyaf8teTQvfGCDJ8Y/RJq/zvpA9Z2y1jK9coRyzPPktzj9BcSPysZOa45vjA4Jp8fuyA7KnE3P0AIP+oxvBpRAdDtfOjV6w7xM/Um97X3L/fn+PH9mgMYDckcSi3TOyg/ITINGBX3M9mkyKzCgMTvz/rlYQGSGU0oICljIFMS5AcvBcYKQRM+HAUm8y6+Ncw3KzJFIzoNc/Ua5Vnd9d5u55/wWvPm6xLd1s1px7XOkt8B89oBZwiKCFgGjwV0Bz4JCAn+BjUFmAatCQ8NmAwCBU737uv45DXnx/MBB64c7CbKIgoT5fy350LZ+tK50l7XLd50577ywvmS++f4YvNF7frqyPNTBW0X/CMgKF8j2RYLA0friNkV0QHSHt138WsJRRzNKGAuBzHYNjZCq07CWSxetlUUQgEn4wi86+bYc9G60mTbsuhp87z08+tK3SPNRcBXvlbIktnA7On9QwlvD30QoA0kCDv+GO9m3RbTPNdW6EwDiR1DK+IpkBztC9ID1Aj6EyYeJCXfKpUsuCnuJbEgeRvtGrMdBR21FwAL7fc05BzSxcS0vjrB2s6s5lgCsBjGHYkRZv1c6UjazNLozo3KjcpA05bmKgBeFhwjnybTI1kdKxbTE0MWpxzPJ0kwXS45H/EEeum12ZLaqOMP6S7mGeBA24XauOKx8O0AyRRWKh87MUAyN4kkUhCl/p7tNOAD0vbDmMEU0MTs5Aj/FxgWrwbK8jblZOFW487oHvJu/XUKTxTIFbwQJwe2+yryb+/s8Tr2rvoY/Qj63+9Y4k/Yptvs7ZMErBUaHU0bnhWJEK4NxgzyCVYHiQbqB3MNehPnGQQeZhg5DikEBfr18ln14wRsGP0kcyAxELP6k+P51hzU4db21+7Y1N6F52PwJ/fG+Jn0YvPK9Z0CjBSCIyctBCkrGigE0uve0vPA3rufwzDX7O+iCZEbeyMMKDkrMTBpNz4+a0N+Qvo5Ii0aH0MQDAML/QP7bfva/ucDOgQg/MPtpdkYyPjAyMeW2JPsxv2SCr4OEA07DIwK0wbb/Cnrutca0iXgUv30HoczsTNtIl0JWvRc7CTx0vlUA44JMwx/DgsPfQ/4EBAVyxkXGbMS/Ai5+bjqo+Cq2mjbAOLc7dL7bApuF2Ud6BZMBGDv59pDypW/p7fqtXfAftfm8ykOyCBfKLgnjiOEHF8VxRRMHfAqIzgAORopYAw97OzWMtMU3d3nee/e8KLuYO167gT1SAJNFpMv2UT/SwVEpS+5GrEN8geeAb32p+ex2hnc3+4nCJwY0ReKCdX3u+nA5QDpbOv47THz2PsWB7gOuxAnDDsDrvfL7svvu/jWBCYPyxAFBI7sW9WjyifUMezTBU4VhRQ4DGME0QGPBM0FigPVAVkCDQewDmcVjBkcGTkXuhTBEcwM5wfLCcsWJCVYKZQefQUL6jbX5tI319zct9614GHnaPGC/N0CcgYVCAAJpQ9AHw4yK0FOSPhBBC5VD8XqBsqDuszAvdZB8vQHURNYGY8fySgNNAU8Gz/UO8gzVSdHGEcH7vNt4aXWNtby2xvktOr68EvyC+w+32DPpMDduXbAxNHV57X3Gf5S/t3/ZAVKCyYJ2/lx487STthY82gYzjemRtZAiSkIDSv15+j+52zw7/u4B2sQlBHlEEsTPxlpIqwsly+NJQQTSv6N7KniA+DZ5Jvwv/66C3cWyh6OHl8T/wG37IHX3sPZtmS0T7kaxd7TUOQS9vAIrRnQIpgi+xctCtQHLxQjJqYznTDXHCr9Od0Vy8HHdc/A2FfeweBK5KnoMPElAnUW8Cq3PidMQEudPbworxXLBfr0yeSo1bbJEsgL1ejs8QN9DokKp/038Onnz+SP5j/p/Opn7oTydvn5AQMIFA36DqMJCgMuApgKKRmzKVQydypPFJH7Tu077pf7BgqOEYkRNhFGErcTpBODDSkFkwEGBqMOGhOQDycIKwI6/Sb8Tvof8obmLOAI5P7rPO535IHSB8D1tTO3J8AxyYjOPNGS1SzfOOyu+S8H0A48D48OiRWlJOY3kUpvULtC6SDu9U/PArvhu4HLUt4T7ZX7oQoqG8QrKjd5Pf5A9EAJPh41AiUvElAAjvRA8+z1N/cv9Hvw5PJD9Sf03uwv4GvXUtcE4dvyAwIBBnUDcwHlBvoQMxawEYUBYO6X5a3uVwWUIT867UZsRMsz6xm0AIzwR+oG7RHy3fU8+OH54v9HCogVXh8FJcgl4CLPHI0T7gvHBtACQARCCrMNJg2tC8sKcgqOCVsDs/NI3XvFF7ikuhDIZdje5H3sVfa2BbwYvSijLgIpjCBPH2EnOzf1QsxBqzIPGLT5weNZ2mfaH+EC6ivvYvHv9nIDURUpJ9E0rjiJNbYw4CpeIlIW5QQ161DUf8NQuB+18rdEv1/Hyc0M1JXY09U50TjMN8u80MvWHNvj2UvYXNy85dnxlflY+FL0MPh3BdkYTCsANXoxESHvCkf4Ae+/7p30cP3iB3wQ7BM2EfMKdQJk/VgAOwj3EQ4aTx9OIMsguyIuJE0h/RfhCykB0fth+EfxvejR3czTX89Z0UDYCuFw6a/vbvb9/v8LqBwaLC40ITQDMPIw2zZLP2RK7UbyKqgM6+P0sjSinKs9tsvHw9mC5r/5hwhZHnIusDRrMwwrdCLYGxgbExCO/MrttO737XLtYe3u5avht9wa2ffcOeKM59ns+fbOAnQJDQ1rDWcQ1BaFF2gPpAQb+wbxCeyI89sDAxbjJqM0pzUkKqsUgfyo5h3auNie4Dnn9uZ27bD5SwWoDpIXTRo8GrYbnhsNG18e7iCnH+AmKisuJgUb5AkA/tn7LfxY9v7ogc1juiWntKMRua/HkNTQ27Ln+/TUBugUlBUOGYcjKSGKF8IW+hcaGNIN2PzL4bzKXrzLt8a+o8sa3sjvZgKjF5sySEfAUqtSFU2LREFAaz0lMiQidg35+dLt7e347S7rRedE5s7mQug/7IDp6+LM5VPtM+7g6qHkFOJe51nzIwS+D7ESCwrn/lz+HwSxDi4bTiUOLOwrzyAwDaL4ruoH6HTwUf1aCLgLhAgHBDgEzgReB/0MvxAuE+oTeBe+F4cU0BErDrIGif6H9CXm4dZAytTDnMB1v7XAQMK/xKLMr9Vo27vhtO1/ABkW/S2DP7lFFUYmRt1Ckz8zQGo4GyXQCNDnvcjFtvawgLTgvtLR0eYs+l0PDR7gKRIxwzLSMNArHSGwFh8OdgaxASkAmAGBAY39nvBX4LXSL8w1zqzZRuj287X+cwrhEuUX1RmTGLUVow9ACoQDwf/v/Hj8zwLzCqERrRffGnsZyQ83+WreLsd3t3+yzbgBxS7Snt9c7H/48P8WBlELNA3ID4oP/w8+Eh0auyj/PEpPAFSkSWg1rSHcEFMBFPQQ58zauNUZ1g3dqOZT7XTx+fZhAwkRphrxHtUbSBZIEBEOaxAKEMISdBVKENgCQup4z4O4pauIrJ60IMLx0e/jZ/oUFNkrjjzpQJA+UTgsMVgqHB7cDooBZ/xi/XX+6/hP7rXiZNnm1yXar9oD2HbWCdbj1YDXZ9eE0wvUJNlc3qrm0Ozj8B/ywfZc/U8ECQvZEGAbGCY+KOMgtxRBBLT4pfTC9n/7zP0J/Fj+WgFPCAkQfRPdGe8fBCcDK+4sNShEIxIiTiMBJR8cWwxA9xHjOth+0QnLhcR1v2jANskJ1TniVeuM73L6bg0OIls1A0IAR6dJsk12UVRO10RnNVogFAg373XZm8pKwT3BCMoe1zvo2PgFBHUOihOZE7YTIg79BycDNAPRAJv9If74/soBxAJD++/ueOMR24zW0Nli49TslvrOCAsVxR52IcQdfRfXDrEJEQohCmAGIgIeAigNfhsbJxowYi8+J+IZzwV08wnjztGXyVnKR9Mz3b3ntPDO9Sn6g/5E/wYAzAHSA5MInxH1Hz8uJEKcTqdNV0MdMg8iThGh/0rxNuQ42/fXrth53Y3ired57yf3lvyuBS4Nxw8AEe4QmQ2CD2wVpRkVHjwdkxQvAxns5tXOxcm+XMBaxAvLENeQ6WsCpR3cL3E1/DPwLi0rGijVJEIftRa8E2sWDBhFFUkLyv028V3rLeue6P7fz9XYz4/Q3NZA3YvhK+Mc5YLppu1t8Rjy1e5W6jLqY/Ky//0Psx8MLOswdizhHiQPVwQj/bn5B/gf9vz0Dvem/R8GMgvxCZwE3wEWBRsMxBMsFpYS0g8CESMU0xOcC2v9RO8H5LjX186gxnS7d7ejv27RN+KQ8Dv5tv5iCiocUi+FPQJFvUNFP+0+eD7DOnE3ZjHQJiwX5QFq7SLaksvxxyzJ18542XzkqfEB/wQE4P+r88nmFuTp6TT0tPyp/Vz8GwASBwcKyQOt+CjtiOZ66GvwxfaQ++z+NgHfCJYOmA7WCkIEmv+oAHMB9wJeAcP6afdy9/X+LApZFFYaLxc1CiX2O+C3zN6/U7pQu/6/B8bF0dzhbPJ0/mX/RPhW8M3xNf9pFIUq6TtlSmNWT108Wg1OuznjI4sSRwibA5j8S/GI5VzgRuOq7vv6+gGgBA4HcwtzEWoTThAQCab+T/pF/CQC5wk0DSIEevUe41PTpMuxx3HIJ89/2gLpCP3HEv4lbDG0MqAqXx42FFoOLAy3DhEUMxroHe8aYRIxA2v0reyO51LmluXF4LDXmc0RylTK5Mpmz8jVwteu2k3hbeqr9Db6pPva/0oG9xOmJ385S0a0R8s+CjE3JkIeHhY1C2gA1/hY+JgB2g0tFpcVFA3A/lH0bfMs+pwF3xEsHX4jGCYAIpETLAKi84fo2t9b2hTXdtFVzY/NldDk117jX/B9/eAIZxS8If8u0jlrPbM8BTl6MpssaihcJtQiwhhPCgn33uOe1hbMksRmv+a9AcRu0lPkVvPL9znvOt56zmrLD9TJ4j7zsP+xB8EPoRRMEj4LXgIAAMIE+Q+pGwAfoB5OHmQiMyrrLuQsAiW1G5wXNhz2JagrxydSHdcVnRWkGAUdXB+lGz4UuwfK9ZLkjtKfxP68i7isuiK/R8aF00/jZvB49HHwR+le6h33NwyQJAw30EN5Sl1MP0eMOcEmoRLBA1r94vod+HDw6Odu5eXnyOq26LLkxt1L21Lj1e8n+MT2eO2C5vXnA+0D9BL3efZr9C3uz+af4DLas9Yh2R7h5u/oAnwUayWYM/M7JzveLsUbSQw0BjsLKxitInIpayk5I6YZvwpe+LDlutfc1HXYiNuR2qXWls+5zELPVdBF0lLUZtlV4yrykv7TAnUBVAOrDekfmTXxR3JP2kgqOYUmLxjWDP0A0/fE8UPxtvdgAcALvBHoDqYEYPW85L/a69Y+24LjkOoj8Hjz7fTW77rlftpa0NzJfMvt0NrVodl83XflRvSTBwMaUSjVMiI7wkJvTohXHVqxV55SOE86TptMPEgHQ4M4uikXG34KPPjJ5LfS4cmqy27VleES6xHvKuvR4H7UhcpfxjDJbNDW29zohPVu/9cE9gTkA0kG2AptEosaRh9VHiocYxuZHmsi8R6UFzYOTAmmCeoPyhdOGTUTYgfJAYgEfwt8EUgSzg1WBqf6V+xE3sHP5sNLvPm5er4XylPcUfDJAKAJ3wddAV3+5gGvC90Z8iVaLqI1aj2qQPQ5KCvGGWgLVgQ8BaEGAQQG/yL6CPlk+tr4sPPq6zPm/OVD56XnquXq3i/Vc86VzsTRgNaP2bzcvd+m3p7cmdzk4RzsP/n1BgATCRt8ItcsiTdhPSk2MiJJCvX5Q/W6+ZUBLAZ7CCgI+Qaq/z3yeOTX2bnXG96i5GbjodmQzGrHxMqb0OzSG9A+zmzViefc+4IKJRJXFxQjETZsSxFZT1xvVk9L0kFxO0U1wyiPGdkN6Qj3ChERNxX7E4sPzghU/9j1L+3H5zvlJeYF6h7u+fHj8iLvr+RK1L7Ch7XBsZO7CssZ10LdiuCo6Y34CQg2E5UVGhRVFeEcQygOMb4xVynZHsAd2iTUKGIoVSEeFMUDGPZh6incq9JNzy/SL90X6WPzfvoY+vnz0OhV1yzF5LoKtxy92snf1f3hKfD3+y8ErgzdEXAaRiWdMh8+8UH2Po04DTVEMYMrRiPwF5kNiQntCPAK3QtlB1X9c/Rf8mX5UwQ9C68LlwFf8oHjlNdpzo7GcL4vuFa5T8Sr10ruPwFFC5AOOhBPFAAb2yO3KsIsCzDwMp413DOEJjoWjghCASkFzg2PEmAR1Qj+/ib71ftQ/cz7XPZv7qDpsuuF8Ab1w/Zk9bLyn/Fi8TTy3Pal+mb8lvrM95/4lv6CCdIVvyFPK9U0sUA8Ta9UVFFJQeMqrxeaC+UH4AQcAJf8N/v+/OL8NfWb51jcXtgG3zLs0fUe9VHseOKg3cbdBt282L/PScl8zP/XGeUI79f1BPycB8IbeDOYRQ9QKVQpUfVHGDkhJxcW6gmFBiILLBKrFn8VqxFsDMoFOfyo7XziVdu42HLZGNov2/7bBN2S3UvYMMpqunyygLg7zDPn7fscBSYGhAeJDzkenyuvLv0r3ShtK0cxADTXL2ElJhsSGzElRS8nNP8uISFHDoX8mOy03hrXPNbw2CzdL+Cb4tLlZug16oXmTtt/yxO/TLzxwmrPLt2K55bwJvl+/Kz9Tf/UA1cQxSPXN4dC8z7JMNEiyBrcF+QXGhPjB6D8KPYS92X8hP+h/on+6wNxDQ0VIxU9Dcb+CfFO6PfhVNsL0FrEmMDDyJDbGPFgAcEIUwl/BwcJaw3fEkgYTB0VIowptTHDMtQpcBleCCn82vlG/YAE9wqPDMgImgCU98PyTvKN8Gvrv+GU1mDOTM3Y0QjadeBv4lHkyeqL9fACYg76EdkM5wOw/nL+WQQcC80QMBcoILorzDUINqsqZhiUBlD+0v0zAToBQP7W+8X8+P6b/Vb0A+h+3gfYD9rO4mTsC/Lg8AXord621/TUAdUd1s3Y4dyW4pLpWvUiAk0PbR8yMKVAq096XQBo4mfLXHBJEzNoISIZQRkoGicWNQ6YBQMCsAJhAAD50+1K5fffqd5j3gPaPNVF0kvTTtN+yuy5iamjpFaxr8tM6M37FQLvAFgE2Q6tGjkgaBuVEkgNfg9mFI0YpxuUHaklLjAzOQc9PzirLekiahp+D2oDwfcJ71npDei35+zmvOTR4Ezfpdyk1XDKSb9ZuurA3M733v/sWPjaAYsJKA16DJ4Jpgb4DGwdSDOLQ3NG+zyaL5InTySxIQoXWwQ+8LTkXubn7Vr4sgCJCPQSaxqzHcwYQA1sAvz5M/KV6H7cVtBDyh7Pydsf67T2rfyYAKwDAQlaDmoStBShFzYdTSUNLC0vjSyqIUcUxwXr+EnwZOzy7Ir1JwDHBUQDSfv288HvjOy650HhQ9gK0x/T2NlM44zqAO0q8dz5WAe2FYgayhh1GKAZexSJEA0QQhKRGRwfSyGMJc4ouiX9HC8RgAYxAVICLwGZ/z/9iPpM+2v6+/ZM733iJdUE0PHPpNfz5QjsKO2a6wTnI+Ig3MbXMNdb3F7hJeTs6Q7zvwFPE3ckiTN7QGtIC08dVPtO7EI8Mi8hdxafEB0MXwrrB7wCqv0h9wLwUuq35G3h6+Fw4lTj4eUR6cztF/Sc9CbqvtdlxKW4zrkrxS7X/eti+88CpQd7ERMbKx/SHfMYZRcIGWkXJA6uB78IxA8XHHojNiLdHEcV1Q8BDPgEmfzg73Lh/9gZ2CvcCuFU337Yl9Pf0CLO6MltyYrN5NWx4FzrfvQ//joIlw8EFbYUoA/tB/wC5QQ/EBMjwTImOgM4cy5lI+QXvwweAjb2Meyq5tDj4eXH7vX5dAmnGB8i8SLpHcUWmA+0C9gGGf5k857u7+8u9nj+0QOCBs4IHg2CEcgU4RZgGMMbFiHpJyIuAjKWMesuAilRHvQO7vtu7KvjZeMi6mHzWfoH/qz98fmF9F/sb+Au1kXOa8i7yQfO89Ly2TPjwvHpAiQPbhVIF+wVQxZEGWUZIBn3GEIZtB0EKP4vfi9yJ5wZ8wxLBHIBbf5l+Ozx+O7m8a/6bAR3CAUFOPzI8Brn9OKF4a3kxuue9TL+8gHn/rn35fPN9aL6ov7vAFP/yP4gBaMTmCdWO5hL7la0XP9bCVjzT21FlzocLT4eBhFSBe38D/lc9Q/xPut75qDgYNuL2a7YC9dz1wTaX9zD4O3kmOW24YzZBs6bxaLCdsfR0TLf9e/XAukRtxolHq8Z8BHVC3QHGQMc/sn4APiq/bsIfhTFHWofwxhLDn4Cgvly9DTwgO6g7+nvCfHA76Xsn+p56Nrmx+bd4nPcw9Yk1KPW7tzG5AbspvZlBQATmhuwHPQTNAomBjgH5g12F7IcpR5sH5objBKvBPby1eFH1IrL3chByqfQWN347rkBNxOjHygkiB9tFMYKSQVfAkX/oPn39EL0PPeP+/X9wv2Z/aH/MAIoBL8EQAN8ArEFZwqNEGYYTB8PIkIeNhIJAevvn+Kv2wnZ4dlp39zlRe2U8w7zGPFn7gbqiObY5UznN+ma6TPt2PdwBQcWiSZwMNkzdDN5MdYwHS7gKrUl5iCBIfMkrSuhL4crASJ2FIAD7vPG52be0tWBz2LN4M2P1N7ea+gG77Tt9OOs12fR4tHO10fh4ewe+hcFNQv5CbcBUfeZ7STnPeW06Cfyd/79DE4ctyxSO+NG9E/vUdFKbz7PMu8nLB3fEq8H1fv/8oHuUupK5tvjx+IS4S3f8OAZ5UvpretT7xr1uf9ODU4YMBwIFrIKCP1F8wDxpPTa+g8GuxWdJIkuLC4yJegYKw0QBQYA2/uJ+gD9/QFICb8PmxAGDkQJ0gLu/gn8fPlb98/07vJ98qjz//aH+xb9zfqK+BL3cfTX8evvre4a60bnMefT66j4UgsvHCgkECMWHMcScwy8DPIQhxUdHHkiICcPJpIbBgqq9ErgTdKEzb/PGNQt2T3h+eyU/BcKzRQ6GuIYoxYXFbgTQhAgCpcD4/9c/Sb8mPuO+Aj0IfNI9qn5A/vg+2v9nf4IAX4DNQW4CIoQUhbEFFcKVfdP4qzRIMqvyHHLMtJ03LvmpuuS63rkvdkV0ULM1szU0nPbKeXo70P9FQrGEpYYFBvRGwUaAhmkGDkXmxUyFWEW4xfWGRMauhbSDn4H5ANKAXX9ZPp79fbuxeoS6TDrFPIP/o4Idw1ZDHwF3f64/PT+7QT2C6oRlxjOH0QjgCMvHdEP2P4X7jPlf+YX8rUCARViJpg2QETJSY1Jc0IeN54spSTiGwwRpQRA96XtV+eD4oXci9Rdze3Jisoyz1vW3t1U42bp6PFm+gkEEg10FRMZTxV2C2D9iu+G5rHlueqz837/yQv2FEAYURX+C6L+5fDi57TkveXa7E33MwA1BR0FtQBI+kr0sPF488/2YPjo9hP11vb5+/IBMwUAASP4SvGX7djt+PCi8oPxDe+s7NPsOvI5/QcMWBkSIL4eLRb7CQgANf6aAfgEugdZCoYJKgXi/dbxd+Ou0w3G2b4BwFPHbdIE4GPx8AIUEaEbCSDaIfAiaCKUIOAdLRjEEi8Qqw7/DzURAg45CD0DtAAeAQoF4ApdD2sRTREGERUSAxbdGgkf5xzTEIcAne0U3CrS1NGw10ngO+p983H7qgFxA+wBgP0n+P32Y/p3AUAK4xG0F9sdGSTWKPcoHCUHIOQdCiCEIb4hKCANHFkYfhRuD7MHrPwp8ifrYOdm5J/hyduT027ODs8/1eHfiex49b/4U/fY8kHvkfDk9zADvw1iFF0bYiP4KA0oeh+LETcBrfRb73Tz1/+FDsccLypsNGc8ijwfNIkoqBxnFJcO8wjzAJD4M/F57MLoSeVc3vzSpMzkytvM0tV24wnuHPb+/a8EXQ0ZFnobRB7xHGwXTQ4qA6v4avJx9NX8ewnlFtYiIynyJwQiGRf+B6n4Z+w+5YjlX+pB8eL3c/pc+fX09u015nzg8d/34h7nJuyG8L/0gvk9/K3/oAFK/Zn3TfIl8WT2ZP/FCI0MiQyXC94MExM2HEgityXEJb0fFRaXCWYA4/zF/akBYwjtDMUM2gR/9PXgg85Fw0jB9cdZ04ff0um288X/Ww4wG1Yi9yE8Hb0Y/RYEGTgbBBysGuwYKxhVF7ITgArx/cTyHO1572v4kP8bAP/7V/eF9uj4z/3hAZX9DvLR4LzMRL9fuYC87Mey1tDlffIi+/X+JP5X+xj4bvYd+Kf8CwSUCT8MbQ2XEPoVURvHHQQa1hIxDXULNA2iEqMXdRvaHFwbERbWCt76l+qp3nvWOtbF2v3b79fi0sjR7NRN4CzwOP0/BzEKEQYt/3n65vwMB5wU2SD4KSQuSy2uJ64cgRDSBoX/0P2oAe0INhErGqsijCjMLPQsGieEHHwQxgf5Ae7/ZP+C+/TyUeh73yzamtco1CjQics5ygvQP93b69b3rv+QAkUDiQfFD0wWvRgGFHMJM/2M9NTyL/plCLYYiieKMmw2VTGSJF0SM/+98y3ytfctAJAEcQNX/pr54Pe7+Gn5Dvhw8ynxqvJL+QUGJhGAF3sZzRn2GCcXKhJEC6ICn/i48ZzwmvNj+boBPwkLDzET2BYSGgEcrBkQE7oIufxz9bv15/xVCGcS/BYaFDYJ6fjQ5qXZqNSk11HfoOhm8m77UQNPCmQSCRqnHhoeGBdlDO0Dqf+f/isAiQAW/tX7XvpV+Hv28vCf6VrkF+Sh7Pz2Uf/6AScBwf6L/FH9bvyE+c7youch2vjPds2X1GfjsvY9C9Yc/iWRJD0Zvwg9+iP0v/jFAVcLkw4fC+0DUP9UAIYFgQqBCIkB5vmY9a74nP9HBZgHCwTt/BX2QvF768zkrNoJzi3EHcEwxMbLjdTx2OfcNeMO7WH7TggzD+8NHgaq/aP4Gvt8BCASwSB9LTsz2S6DIs0SOQRG/EH84gDxB1ANVA8LEfsVGxzTIbgkbyJCGtgO9QL1+Cvzoe7C6WrlzOJH4sHiMePQ5OvkfOPU5T/rffPG/IsEJAoGDG8Ljwq4CY0JKQmQBSkACvvd91T6NgTrEY4eACesKWokwRf1Bgr3b+v35W7lgeWT41rfu9uX2zngb+cn75/y6vGU8bz0Hf7mCq4T5xU/E8ANoQn7CGoJnQe9AQD3S+6f7afy1f0cDZMZwh8wIach4SP0JzUpCCWVHJUSHwspCB8KqhF3GiwgrR9eGIIJ4fZ96a/jzudh9HkEZhEdG6MebBxMHvQh8SSbJA8feBa5D+MMXwyIC7IJrgYdBDIDUwCV+5zyDecG3nnb694N52/wRfeP+t/5ufag9Dr1RvUz8e/nD93a0v/OPdSS4db0JQptHhcsIS8XJjYUsQOZ+dP3Gf1lA2oGXwSt/5r85AHRDLAV0hd5FA4QIA9aFXYdtCMDJbQeWhY4DsAFAv649JfqY+Fn2wXbZN5t5BDtGvUo/IUEqw6mGk4lPivxKAwdXg4EBOv/tgPKDAEWWxtaGwYVQAlo/PPwCeur7En0E/46BWsH2wbtBPsErwQPAof8OvM468nmW+b45pzlrd9M2dLUpNEx0GrPPM+pzznSPdh44IbqgPV3/pcEuAZqBKIBF/9N/e385vms85Ltbupy6y7zAAEoEZEenSbdJxsguxHdAbH1S/HU9Lb70P93/BjzGesL6fjtQPWw+Df63vvKAYoM7hchIF0gTRl9ELYKcgcWBBz8ge7/3tvTddQA4AfwBf7VBdkIJw2KFJweFykBL9YtjSWZGX8N6wV7BLsGdwqnDPgJkAIW+IjrSuAL3HTgB+3V/fULdBJcEagOrAxJDkkQLQ5yCDsBmPuC+Mn5L/3D/rD+9vw0+HLyTO1d5+ThBuD+4mvtQvzQCc4RChT7EccNXgyvDE4NtQs3Bjz+evYb8ivz7/j+AOYKrxQAG7Ib1xSECSL+y/fK+Eb+ewWtCKsGs//I+mH7vv9OBZgGkgRdAJcBaQe2D4YYfhqxFSIKKfzC7tfi/9fWzG3CE7pnuXDAycpE1RLc8ODp58Xz9QITEB0YHxk7FbkSchJFEw8TihGgDjgMCQknBusD5/52+4r6Hf/CCd0WiyCSJv4npSeoKAwpeyYMHXAQqwPP+n32JvXC8jzsQ+Ql3RbZmNcf2G3Zttkh3EjgMeX062j05fxXA0cHlQifCZ0MsBB5FvsbnR2bHG4apRkbHDggjiGXIGodsRhIEQcIOP6Z9X3y9vIC8x/uTudm31rb8t5h6QzzdPV29Ezy0/WGANAOwxcaGLARLQlhBZgEAAZ/A4P7lfHD6yPvCPoHCAYSshTgEskUaRzrKB42oT9oQjg+SzdCLx8oLiLHG0oUEAtt/RHvk+Gy10nVXNj43hjqGfZfAYcKTw88FNQW5RhoG+sZJRLXBov6j/Pv8TXyT/Ns8KPrZObh4ozhKeLT4tPjxOaA6l3vRfPu80rwf+mo5ejnxeuc7vDuE+pB437eEOHv64P7rQk1EZgS4Q5ECeMBHfxU+OX4Bv7sBLkMlA/tDjIOyA/rFYcb4BtWGS0W/hXsGnMiPSrdLfQp5h9EED7+DO8/5JzaCdL7ygvGS8d+0GrfEu2+9Vf5fPyvBPMQuxzXI7AiQhzjFmsUuRaBG2gdTBrbEugHzvxK8r3nf+E74ebnifM7ARANCRXxGYMcth1ZHAcX5Atk+8zpM9yS1bvUI9So0hTOFcjdwxrE08oA05zZe9+f5pjuH/obB08QiBMZD7YHVAPEBfoNORYhGWgVMQ8rDG4PohgsJKwrBSyeJl4cmQ/uBH370/NI7wfrgelj6IPkaOLD4Obhweex7g30KfXQ9Bf2sPrZ//EDoQa0BPb+ovex8M7qzuVP4TnfGOGo5+rziQCTCKIKVAgKBqwIsRDsGjgkHScOI6MahRKcDJgJ/gcQBpYCS/pm78niYtmn1VLYGuAl7Ov63AeJEAcV9RgYHRoi1yQLIgUZuAw+AUb8qv7OBGgH7AKj+5D00fFJ9Wn5K/qw+qH9qQWtEc0cTx/vF5MINveF7ULu3/Qv/B8CIAFN/dz7Vf/ACqYX4yG+JF4gNBetDCoESf9F/jP9Y/7iAKMERgcgCYAKJgxeDuQQWRLXETkSWhP6FmYauBx4GlQSiwW89+TqJN+a1GfMhsg+yGvO9tvA7A/72gIXA7UBtAT7DOcXTyJZKI8oZSfSJQclNiYwJDEh0R7aGQEROgYp+m3wtO5388r82QZpDmYQ7g6GDSMMBArTBqMA8vap7B3l9+FB4Cfjvubp5d3hpdyB2/HdBeOG6f/vjPUT/FwFUA/SFZIUSwr6+67w8uwy8mj7LAXtCS8JXAmoDIUUBR8xJ8cmUR8/FK4GsPkX7zHmdOBS37Hg+OTJ55HnKOZg5aLo2O8Q+OX9ugGCBb8JDQ1tDxsQrQukBAb9I/P96u3jA96Y3j3lMfDe/aILSRbrG0kcjBqPGKUWexcwGk4bjRqGGCYWMRX9E48Saw9dCyEGQP1m8RXjPdgI1N7YleUV9Ij/zgWsB+UFtAPRAuYCCQIs/oP3AvIQ8Orv8e907UDnO+Dm20bcseAS5knqGu7s8bL1OPuRAfYECwOe/GDxMOeN4TffJOLK5rnpEevM7zb69wlYHHkrQDPsMsYqFB57EewGSQD+/OX9HgI2CGIOZRJ8EuEPFwxgCgMNohFTGMAdISCtH9AbAhSECe/8bu7J4sHYONEfznLQGti84kTwhPzoBVAKyg1xD3wQjhKNFq4eOyWtKRgo+SF3HJQZYxolHooecht1FKwIx/vD8MHrEe4f9rX/9QbiCRwILgIr+h7y1evG5E3ek9ph2SXb4t2134XhR+Fz3g3b49ir2VrdnuXM8OH+fA5sG14jbiSUHssVVg3iCfQLpQ8dE4QTgBJbECATqRvnJQ0xjzdvOCkytSZjFycGRff26v3huN073vjgs+VZ7AzzCPfO+Ln7wgBAB8QQuBmfHskfkhpIE98LagQ5/Wv2qvF17XDrTO7N88v6kQUlEUsa4B8fIrcghh2HGlEXlRQjESoMRwRJ/S74DPVz9zf72v0+/Qj4QO/n5pHjhuWH6xT0a/1XA90GTQhTCKMGaQSoAfT+kv4Y/wf/bv2n+gz2K/Dj6MDkQuMx5I3nI+uH6xzqj+vC77b2s/3X/pb3few14b7b2t2H5H3tLfTO9+f6Nf42BEIMdhXtHXgjjiQuIPgXRwzUART8wPlt+pj98f/p/aP6gvc09ej2wfoyAjwKkhJvGQIagBU9CxT/+/BF5FfaYNDyx87CvsEOx4/VVefz+e0KmhUjGSYZIBh5GPccoyOfKfstki0JKFUgZBhzFQwY8BwYIIMdRRQmCjsBYv6aAWoF1ghqB6IBcPuP9a3vuOnS4rPc+9hW153Y+du83bne6t3k2xbbPN0M4r/nGe1I8BPz6fWv+Cv9egTRCqUNrwvkBbP/Ovw9/2UHDA4qEcYSdxCvDowP3REsFwMcPx7kGqwQEAIb83/m0t2x2ujZ7Nhd2KXYKNrn3Qrkdepb8y397wemFWojBi4rM6EwVifhHFUSFwu0B5MFlAS3A/YBoQG7A6sJQRI8GzYhEiLnH3gbyhctFG4SjxBtCxQEqvt79JrxdfO6+BD+MwBO/d72APAj7ArvJfZqAFgIPAvdCUMGbgK5/kz7Nfhh9mn1aPhB/6cEtAW2ACH2Tev25efmeusB8D7xY+8h7Zbta+/E8wz4Vfp6+MPyjeuH5dTkNelo8kv8oQOKBk4Ipgy7FJ0e5ihZMfwzNzFUKYoeBBVtDgkNABCyFFoW8xOxDrAIUATaAS4ExQk0E3UcpiS3JxshkRTzBPL2JexO5DjeyNgD02fPvs6Q0zzeW+yE/NUI0BCIFS0XkRjFGnkdhCGkI4UhHRvREscLCwyeENAVlxh+ExUL5/+O99j0dvZk+/n/agH2//v41u3d4RbWF807yrHJicuH0RLXPt0m4dXj+eUf5xTph+wM76PxVvRA9yP7hgDwBxMQSRYoGYwZGRh6FvIV5he4GEEXMBRMEV8PdA+9Ev0X2h05IXEfBhpgEN0DBPdL7CHmAOMj4+PjweNb5OrkvOZ26oTuzvTi/PwFMxDlGhEkLyjdJJQdmRR+Cw0FUwFW/nD8HPtD9+HzlfNT+SUCBw5qGP8aqhrEFgMT4xCBDI0H/AEX/KT4uvc899r2T/fm9yf3yvbg98/4fvpH/PP9bQJ8ChYTVBfwFaQPWgYM/X71mvN599r/CAo/EI0P3gjFAL75DPYW9jT4e/na9tvvmudI4WjfmuF25a/pZukc5WPemti92KDdmuQe7kn4TP/UA8EHwQsOEB0V3BZiFEQR1wtHBWYA7voC+Ib3v/Yj9i71ZvJS7GTn4eTf5DXq/vKy+5AClAM1/qPziOci3x/c8d5Z4UHiVuEy3vfbet1o51L5Rw01G9ggiiBTHzAffyEIJfQnAygGJIIeNxp2GdIaqx7CIAwfKBjCDj4Fjf9M/i3/vQGEAcYBSQEN/u/56/Kx6JLhON7m3cjkie1E9JP5ifs+/Zj/lwN9CCEMpA3eDewLygnVCO4IqQsEELAVdBc4FdYQuAwqCZ4HrAXKANz7bvmH+xMB6gjWEUEYiBphGYoSqAjp/0T5+fRT9Ur3kPnm+z/9J//GAdcE7waBBm4EZAISA0YJPhJ+HKQjkyMuHaITEQq6BeoGYQiwCOAFf/649ovznPfIAJ0KshPvGLgbqBttGOwTkAyCA8f8ifi/91/6YPw9/YD9+ftc+ob6kvu1/BT8GPq/+ND66v69AzcIFwgPAyj6su8z5uLfbd4g4Pfkouma6djjjNus1K3T+Nli45frPO5n69flC+M85T3sRPSP+mT9av3e/Df8VP8DBIkIQA7sFGcZ7BusH0Ui9yPaJZclgiPkH50awhOxDUAIegT7AUsC2AXmByUI7gSX/qP2afGc7xjzMvomAgUGygMz/UvzLOw06Bvnsucg5tDhuN683f3gO+sX+3QJjhIDE/QNbgfrA30GOgt2Dy0QIA70CRcHFAaxByYKkQtxCqYGBQP//hL8P/3J/Yr+ef9d/dP7KvsI+Qj1nfCC6pDki+LH5cnoBe2/8c3z0fa19y732vjV+qb9df8hAE/+Afvp+uL8agIECGELIQvzCOYG/wMzA6YCRgBA/X36WvrS+qr9jgMxCO4I2wbXAjj73/Xi8hnyIvG374ru7+238O7zMvli+435V/V/70XtPPGf+kAE0AqnDBwK1QSgANb+Uf94AFT/F/uk94T1+/Np+GsAcAj2D/IVFhlYGSkYPxXNEiQQHgyuCHsG3wbdB4QK6Ax7DKoNLA95EcoUQxe9GMAYkBcTF18XTBjXGRkZ3hXpDfgCe/iO8TLw6/GO9oz6Xvta+Sv2PPQX9E33IvxT/ZL6nfhd9lP1SviP/b0BswJ8AZ/8Evg+9oX3XPzZAvgI1A1iEGER3BOsFioZyRuFHZIfrSB+H3AdJRiqD4sGlf1d9pLzGfRj9ir3yPJ+6+bj8t/E4snpvPKH+pr9Lfxe+Zn2efbg+Cb5Dvid9P7wofEA9Uf9eAh8EoQaOxweGTsUgxHCEjEVGRc8FLcO+wiZBRUFdwbFCOAGqwHg/Sr8G/uY/c/+NP5P/rL8rfmz+K35mfmv967wM+Uj2CzNk8n0zuHYteOM603v5/Dt8oP49/6wBLAGTwOl/en4rPmw/qkHNg6jD1sM+gMS/I33KPa798T8NgJ+B+UMBRBmDswMlQiHAm0AngB3AG0AHgBW/vb7WPjD9vz3C/qd/YIBAgTOA+D9xvYh8k/06vv2BJQMZg6zDC4J+QjvCusMawykBSz8UPJz68rqb/Fi+7IEWAxPDXQJEAWiApQCOwPBBRIHXAazBY4E9ARZBj8GXwXZAzEDAAWiB4MKUA06DpELKAohDY8QrxOMFMoObwQY9y7pKeCk20ncrt5H4YriveFn48bmXO399aT73fvB93jyt+5n8fX3bP+cBEMEAADn+a/1XPPF9Rr8SATODOESnRUsFk4XyxqPHuAhHiJJIP4cdxmMGBwTBgxzAuz4UfVN9ZP3+fsQ/eL6Rvi88NbpWeez6C7uqfX5+RL7Vfu3+YP5ovzj/Yb7fPUv78XtSvFx+ywGiwwLDsoK0ARHAEcAoAMLCpMP8BHwEIILAATW/Lr4VvYg9Sr09/LM8pjze/Xw9jb4tfhE+cb6of/ZBRcLjAp7AjH3muoq3y3ZCtpM4M3qEPYUAJAI1RE7G0QjkCX6Ic8bbxMqD8USqBkSHwEgghqgDbr/cPWd76nvRvRL/DwE5wpwEAAU1RSFFD0VuRf+GRgcWB2jGjIXvhPDD90MYgtZDHUP2BJtFXAUtw8gClkD2ftD9hD2tvha/SoCAAR2BPMEFgT0A9UC0P1Z93fvzum/6i7zD/74BckFOP9m9dPsy+ks7QbzDPiP+wD7Mflg9nXy1e3q6mrpKejR6fHtVfOm+WD/3wJQBUsG3QV6BoQHUwjqBs0Cnfut8aTojeE238Th4OS45lrmZ+ZF6oXxOfmO/av8T/gS9oP29vqkAqUKIQ9GDEUFH/pV8Dfsee129Or/EAwOFlkcEB+FHsIbARq+F60UEBPAEeMREBTeEm8OagjMAmX/Sf9Z/4n/zf1X+l/2B/MA85z0cPlR/9oCTwR/A74AjAD2AIcDBQRFAD/5ZvM+8Vv0+v4NDKQXwhxJGloT7gtmBVkFwQhJDtQTHxa3EsIM0wQU/Hv27vE37srrpOsd7GjuafAn8YvwsvCs8SP1zfn/+hX6ufX+72fqjOZ85x/r8+9U8xH0vvPR9Lb4hQCVBwMLUQnVAgT9SPlO+ZX8TADrAZD/9fbc6z7jp+Aw4u7lueno7dvzwPiP/aMC1gYGC2MPSBEdEW8QUA8TDrUNhguWCfYIbgn5C08PzA9CDnsMhghSBVUEMwWDB1oL+w9BElYSMBDJC+cIfwV4AD/4gfAM6k/oqe2a9fj9ygDT/pv5k/Rz8Y/wrPO6+mkEgg3AE1UWLhW0EsgRUhHpDnQMcAlABwEI/ApxDkkRmxEJD18NJws7CuMHogJG/JXypee73anXB9gt3A7g/eAw4BLht+Ni6nz0HvwiAdIDawTOB/cNkRQHGrccZxt+FWoOuQZ5Ak0D4Qc7ETQcfiQQKM4o6SYcJqYlUiT7IX0goh6TG0EZKRRoD9sIqgKL/yr9mf3O/zwBhgBC/QP5m/Vu9xv9KAEPAub+4/va+7D+XARsCvwL6gqsB0ECNgDpAvAH4Q5KFIATrg32AgH4eO7X6IPoT+uk8J/1mffu9ubz8O8i7Tjpz+QG4W/dHNpj2tPcrt/N42DoRe2Z8Uj24vkc+l33SPGv697o3Ofj6fbsnu6W8LnyNvar+5IAkwQ8Bl0FvQKIAuUEhwklDxUSMxHtCsUA+/SJ6R3ipeBh5N3paO+B9C/4avtr/dQARQQeBtwGRQVoAh4AZ//N/3L/1Pye+Y738vir/gQHWg6bEHUOfQpMBY4B3QElBMIG+gZ0BFYAKf3g/CD9fvxi+Un1VPQK9lv62QELCL4LoQqXBK78Mfj59Cj0OPhc/rsGeA5bFdwaBRzAGb0XshRREH0MWglyBboDzgIxAz8FEQlIC40LnwsHCdMEMf6j9c/sPebX4ZXjO+mc7drwSe/764zrd+vo7EPusPDk8gL0vfZJ+hf/HwXSCRILwAaC/U/z6ey47WTyHPt8A6gJ6A6XEpcVIxeUGCEYBRfQEnALPQW5/439Uv7E/f/6uvkQ+CP5+fr/+r/57vUS86Xx3PRP+3sCugWgAkT+Y/2M/i0ClQckCKoGMQNPAFsAbQSgDO0Vlx4EIRcdExWiC6QDxwAPAm8FCggfCmEJUgdrBHoBmP45/Hn6Jvcp9WLxCvAl8VH1y/qjAd8GuQmmCusIsQbCAWX9BPqq93f40/pc/QoAKAFMA/kEVQY5CKIIeAjEBg4FbAYCCCYNmRS1Gq0dSBr9ErcIIP5L9Y3wl++V8HDylvMw9cP3eft7AW8Ibg8OFIETKA85CgEIowlrDFEOOQ8PEQcTJBQVFW4W0BebFVgSTw8CDI0L8Qw9Dq8NNQxoCacFIgLF/nr7+Pb29FL29PlX/VsCtgcSCogKDgjfAOf65fe59oH6qPxG/V39Mfsc+b731PY192L3/Pm8/IH8WvvN9/r0affI++3+tQP9BmQIUwcaA738WfXH7TfojuVA5Qnorus47QvseOnu5GzjSuZa6yHvLfBt7gDsf+wy8pD5z/9AAmn+Rfa57FXnxeXG6GvtiPLB+g==\" type=\"audio/wav\" />\n",
              "                    Your browser does not support the audio element.\n",
              "                </audio>\n",
              "              "
            ]
          },
          "metadata": {},
          "execution_count": 30
        }
      ]
    },
    {
      "cell_type": "code",
      "source": [
        "print(data)"
      ],
      "metadata": {
        "colab": {
          "base_uri": "https://localhost:8080/"
        },
        "id": "zYzTliZvqhzZ",
        "outputId": "ec39e126-e7ef-4bf6-8f9e-e554a70a04f2"
      },
      "execution_count": null,
      "outputs": [
        {
          "output_type": "stream",
          "name": "stdout",
          "text": [
            "[-0.00038127 -0.00053788 -0.00033227 ... -0.00080032 -0.0008806\n",
            "  0.        ]\n"
          ]
        }
      ]
    },
    {
      "cell_type": "code",
      "source": [
        "sample_rate\n"
      ],
      "metadata": {
        "colab": {
          "base_uri": "https://localhost:8080/"
        },
        "id": "827trQ-3o50G",
        "outputId": "6830e08a-115d-439f-c885-690a1827ef21"
      },
      "execution_count": null,
      "outputs": [
        {
          "output_type": "execute_result",
          "data": {
            "text/plain": [
              "22050"
            ]
          },
          "metadata": {},
          "execution_count": 26
        }
      ]
    },
    {
      "cell_type": "code",
      "source": [
        "#Original audio with 1 channel\n",
        "plt.figure(figsize=(10,5))\n",
        "plt.plot(data)\n",
        "plt.title('Waveform')\n",
        "plt.xlabel('Sample')\n",
        "plt.ylabel('Amplitude')\n",
        "plt.show()"
      ],
      "metadata": {
        "colab": {
          "base_uri": "https://localhost:8080/",
          "height": 362
        },
        "id": "EpGkO9eoptE4",
        "outputId": "86274918-0ef3-4e23-f30b-0867ef939219"
      },
      "execution_count": null,
      "outputs": [
        {
          "output_type": "display_data",
          "data": {
            "text/plain": [
              "<Figure size 1000x500 with 1 Axes>"
            ],
            "image/png": "[encoded data removed]"
          },
          "metadata": {}
        }
      ]
    },
    {
      "cell_type": "code",
      "source": [
        "from scipy.io import wavfile as wav\n",
        "wave_sample_rate, wave_audio = wav.read(sample)"
      ],
      "metadata": {
        "id": "xabWachgqBKO"
      },
      "execution_count": null,
      "outputs": []
    },
    {
      "cell_type": "code",
      "source": [
        "wave_sample_rate"
      ],
      "metadata": {
        "colab": {
          "base_uri": "https://localhost:8080/"
        },
        "id": "_b8LbGYXqGu5",
        "outputId": "18fcff87-cd4c-4b8c-ebcc-46abe371ee00"
      },
      "execution_count": null,
      "outputs": [
        {
          "output_type": "execute_result",
          "data": {
            "text/plain": [
              "96000"
            ]
          },
          "metadata": {},
          "execution_count": 10
        }
      ]
    },
    {
      "cell_type": "code",
      "source": [
        "wave_audio"
      ],
      "metadata": {
        "colab": {
          "base_uri": "https://localhost:8080/"
        },
        "id": "ofnuhHdrqgH8",
        "outputId": "48bf3bcc-f738-49f5-b87d-8ce2ee7ed36d"
      },
      "execution_count": null,
      "outputs": [
        {
          "output_type": "execute_result",
          "data": {
            "text/plain": [
              "array([[ -539,  -334],\n",
              "       [ -309,  -114],\n",
              "       [   -5,    86],\n",
              "       ...,\n",
              "       [-1396,  -505],\n",
              "       [-1095,  -295],\n",
              "       [ -765,  -254]], dtype=int16)"
            ]
          },
          "metadata": {},
          "execution_count": 33
        }
      ]
    },
    {
      "cell_type": "code",
      "source": [
        "plt.figure(figsize=(14,5))\n",
        "\n",
        "plt.plot(wave_audio)\n",
        "plt.show()"
      ],
      "metadata": {
        "id": "TtTJuI5prMKn",
        "colab": {
          "base_uri": "https://localhost:8080/",
          "height": 247
        },
        "outputId": "4c699dbf-34a6-4ecc-9260-93b16b6bab85"
      },
      "execution_count": null,
      "outputs": [
        {
          "output_type": "display_data",
          "data": {
            "text/plain": [
              "<Figure size 1400x500 with 1 Axes>"
            ],
            "image/png": "[encoded data removed]"
          },
          "metadata": {}
        }
      ]
    },
    {
      "cell_type": "code",
      "source": [
        "mfcc1 = librosa.feature.mfcc(y=data,sr=sample_rate,n_mfcc = 40)\n",
        "print(mfcc1.shape)"
      ],
      "metadata": {
        "colab": {
          "base_uri": "https://localhost:8080/"
        },
        "id": "ml0UY6-VtgSD",
        "outputId": "52f328d5-f2d9-4a65-c096-455b46912b10"
      },
      "execution_count": null,
      "outputs": [
        {
          "output_type": "stream",
          "name": "stdout",
          "text": [
            "(40, 26)\n"
          ]
        }
      ]
    },
    {
      "cell_type": "code",
      "source": [
        "mfcc1"
      ],
      "metadata": {
        "id": "GkrEJvRwuHG4",
        "colab": {
          "base_uri": "https://localhost:8080/"
        },
        "outputId": "447d959e-ae7b-43d8-e9ae-ccd96496691b"
      },
      "execution_count": null,
      "outputs": [
        {
          "output_type": "execute_result",
          "data": {
            "text/plain": [
              "array([[-255.52809  , -213.84082  , -201.8358   , ..., -232.81085  ,\n",
              "        -235.87973  , -238.64888  ],\n",
              "       [ 129.9325   ,  137.8114   ,  150.75156  , ...,  161.75137  ,\n",
              "         157.34143  ,  157.79185  ],\n",
              "       [ -35.77058  ,  -42.39814  ,  -53.70134  , ...,  -41.081207 ,\n",
              "         -40.868607 ,  -40.659706 ],\n",
              "       ...,\n",
              "       [ -14.046196 ,  -12.122574 ,  -11.910574 , ...,  -10.19981  ,\n",
              "          -9.424987 ,  -10.688988 ],\n",
              "       [  -0.6772259,   -0.8806406,   -1.3551481, ...,    4.954156 ,\n",
              "           3.720821 ,    4.4117126],\n",
              "       [  13.789928 ,   12.092784 ,    9.51317  , ...,   15.400882 ,\n",
              "          13.964902 ,   18.523417 ]], dtype=float32)"
            ]
          },
          "metadata": {},
          "execution_count": 39
        }
      ]
    },
    {
      "cell_type": "markdown",
      "source": [
        "***Data Pre-Processing***"
      ],
      "metadata": {
        "id": "ip33OJp1zrBd"
      }
    },
    {
      "cell_type": "code",
      "source": [
        "def features_extractor(file):\n",
        "  audio, sample_rate = librosa.load(file)\n",
        "  mfccs = librosa.feature.mfcc(y=audio, sr=sample_rate,n_mfcc= 40);\n",
        "  mfccs_scaled_features = np.mean(mfccs.T, axis=0)\n",
        "\n",
        "  return mfccs_scaled_features"
      ],
      "metadata": {
        "id": "8FzA5ZEO8tOW"
      },
      "execution_count": null,
      "outputs": []
    },
    {
      "cell_type": "code",
      "source": [
        "metadata = pd.read_csv('/content/UrbanSound8K.csv')\n",
        "\n",
        "\n",
        "extracted_features = []\n",
        "for index, row in metadata.iterrows():\n",
        "  if(row['fold']==8):\n",
        "    file_path = row['slice_file_name']\n",
        "    label = row['class']\n",
        "    data = features_extractor(file_path)\n",
        "    extracted_features.append([data,label])\n",
        "\n",
        "extracted_features"
      ],
      "metadata": {
        "id": "6AdFIHI7ED4j"
      },
      "execution_count": null,
      "outputs": []
    },
    {
      "cell_type": "code",
      "source": [
        "new_df = pd.DataFrame(extracted_features,columns=['feature','class'])\n",
        "new_df.head()"
      ],
      "metadata": {
        "colab": {
          "base_uri": "https://localhost:8080/",
          "height": 206
        },
        "id": "qEO8hD-GvAS2",
        "outputId": "145a95b0-fd88-41e8-9df9-285901cfc5a4"
      },
      "execution_count": null,
      "outputs": [
        {
          "output_type": "execute_result",
          "data": {
            "text/plain": [
              "                                             feature          class\n",
              "0  [-435.79456, 57.867905, -3.187295, -19.904032,...       dog_bark\n",
              "1  [-383.38492, 79.30943, -16.650095, -37.682148,...       dog_bark\n",
              "2  [-389.08447, 100.16446, -14.591199, -39.996204...       dog_bark\n",
              "3  [-103.22346, 97.88686, -51.579346, 13.494537, ...  engine_idling\n",
              "4  [-98.08874, 92.564644, -43.509945, 12.335749, ...  engine_idling"
            ],
            "text/html": [
              "\n",
              "  <div id=\"df-8cce2e74-0d7f-484b-9977-f3c188cbc7e4\" class=\"colab-df-container\">\n",
              "    <div>\n",
              "<style scoped>\n",
              "    .dataframe tbody tr th:only-of-type {\n",
              "        vertical-align: middle;\n",
              "    }\n",
              "\n",
              "    .dataframe tbody tr th {\n",
              "        vertical-align: top;\n",
              "    }\n",
              "\n",
              "    .dataframe thead th {\n",
              "        text-align: right;\n",
              "    }\n",
              "</style>\n",
              "<table border=\"1\" class=\"dataframe\">\n",
              "  <thead>\n",
              "    <tr style=\"text-align: right;\">\n",
              "      <th></th>\n",
              "      <th>feature</th>\n",
              "      <th>class</th>\n",
              "    </tr>\n",
              "  </thead>\n",
              "  <tbody>\n",
              "    <tr>\n",
              "      <th>0</th>\n",
              "      <td>[-435.79456, 57.867905, -3.187295, -19.904032,...</td>\n",
              "      <td>dog_bark</td>\n",
              "    </tr>\n",
              "    <tr>\n",
              "      <th>1</th>\n",
              "      <td>[-383.38492, 79.30943, -16.650095, -37.682148,...</td>\n",
              "      <td>dog_bark</td>\n",
              "    </tr>\n",
              "    <tr>\n",
              "      <th>2</th>\n",
              "      <td>[-389.08447, 100.16446, -14.591199, -39.996204...</td>\n",
              "      <td>dog_bark</td>\n",
              "    </tr>\n",
              "    <tr>\n",
              "      <th>3</th>\n",
              "      <td>[-103.22346, 97.88686, -51.579346, 13.494537, ...</td>\n",
              "      <td>engine_idling</td>\n",
              "    </tr>\n",
              "    <tr>\n",
              "      <th>4</th>\n",
              "      <td>[-98.08874, 92.564644, -43.509945, 12.335749, ...</td>\n",
              "      <td>engine_idling</td>\n",
              "    </tr>\n",
              "  </tbody>\n",
              "</table>\n",
              "</div>\n",
              "    <div class=\"colab-df-buttons\">\n",
              "\n",
              "  <div class=\"colab-df-container\">\n",
              "    <button class=\"colab-df-convert\" onclick=\"convertToInteractive('df-8cce2e74-0d7f-484b-9977-f3c188cbc7e4')\"\n",
              "            title=\"Convert this dataframe to an interactive table.\"\n",
              "            style=\"display:none;\">\n",
              "\n",
              "  <svg xmlns=\"http://www.w3.org/2000/svg\" height=\"24px\" viewBox=\"0 -960 960 960\">\n",
              "    <path d=\"M120-120v-720h720v720H120Zm60-500h600v-160H180v160Zm220 220h160v-160H400v160Zm0 220h160v-160H400v160ZM180-400h160v-160H180v160Zm440 0h160v-160H620v160ZM180-180h160v-160H180v160Zm440 0h160v-160H620v160Z\"/>\n",
              "  </svg>\n",
              "    </button>\n",
              "\n",
              "  <style>\n",
              "    .colab-df-container {\n",
              "      display:flex;\n",
              "      gap: 12px;\n",
              "    }\n",
              "\n",
              "    .colab-df-convert {\n",
              "      background-color: #E8F0FE;\n",
              "      border: none;\n",
              "      border-radius: 50%;\n",
              "      cursor: pointer;\n",
              "      display: none;\n",
              "      fill: #1967D2;\n",
              "      height: 32px;\n",
              "      padding: 0 0 0 0;\n",
              "      width: 32px;\n",
              "    }\n",
              "\n",
              "    .colab-df-convert:hover {\n",
              "      background-color: #E2EBFA;\n",
              "      box-shadow: 0px 1px 2px rgba(60, 64, 67, 0.3), 0px 1px 3px 1px rgba(60, 64, 67, 0.15);\n",
              "      fill: #174EA6;\n",
              "    }\n",
              "\n",
              "    .colab-df-buttons div {\n",
              "      margin-bottom: 4px;\n",
              "    }\n",
              "\n",
              "    [theme=dark] .colab-df-convert {\n",
              "      background-color: #3B4455;\n",
              "      fill: #D2E3FC;\n",
              "    }\n",
              "\n",
              "    [theme=dark] .colab-df-convert:hover {\n",
              "      background-color: #434B5C;\n",
              "      box-shadow: 0px 1px 3px 1px rgba(0, 0, 0, 0.15);\n",
              "      filter: drop-shadow(0px 1px 2px rgba(0, 0, 0, 0.3));\n",
              "      fill: #FFFFFF;\n",
              "    }\n",
              "  </style>\n",
              "\n",
              "    <script>\n",
              "      const buttonEl =\n",
              "        document.querySelector('#df-8cce2e74-0d7f-484b-9977-f3c188cbc7e4 button.colab-df-convert');\n",
              "      buttonEl.style.display =\n",
              "        google.colab.kernel.accessAllowed ? 'block' : 'none';\n",
              "\n",
              "      async function convertToInteractive(key) {\n",
              "        const element = document.querySelector('#df-8cce2e74-0d7f-484b-9977-f3c188cbc7e4');\n",
              "        const dataTable =\n",
              "          await google.colab.kernel.invokeFunction('convertToInteractive',\n",
              "                                                    [key], {});\n",
              "        if (!dataTable) return;\n",
              "\n",
              "        const docLinkHtml = 'Like what you see? Visit the ' +\n",
              "          '<a target=\"_blank\" href=https://colab.research.google.com/notebooks/data_table.ipynb>data table notebook</a>'\n",
              "          + ' to learn more about interactive tables.';\n",
              "        element.innerHTML = '';\n",
              "        dataTable['output_type'] = 'display_data';\n",
              "        await google.colab.output.renderOutput(dataTable, element);\n",
              "        const docLink = document.createElement('div');\n",
              "        docLink.innerHTML = docLinkHtml;\n",
              "        element.appendChild(docLink);\n",
              "      }\n",
              "    </script>\n",
              "  </div>\n",
              "\n",
              "\n",
              "<div id=\"df-4640c6b4-bd35-4698-aeb5-b471530450e2\">\n",
              "  <button class=\"colab-df-quickchart\" onclick=\"quickchart('df-4640c6b4-bd35-4698-aeb5-b471530450e2')\"\n",
              "            title=\"Suggest charts\"\n",
              "            style=\"display:none;\">\n",
              "\n",
              "<svg xmlns=\"http://www.w3.org/2000/svg\" height=\"24px\"viewBox=\"0 0 24 24\"\n",
              "     width=\"24px\">\n",
              "    <g>\n",
              "        <path d=\"M19 3H5c-1.1 0-2 .9-2 2v14c0 1.1.9 2 2 2h14c1.1 0 2-.9 2-2V5c0-1.1-.9-2-2-2zM9 17H7v-7h2v7zm4 0h-2V7h2v10zm4 0h-2v-4h2v4z\"/>\n",
              "    </g>\n",
              "</svg>\n",
              "  </button>\n",
              "\n",
              "<style>\n",
              "  .colab-df-quickchart {\n",
              "      --bg-color: #E8F0FE;\n",
              "      --fill-color: #1967D2;\n",
              "      --hover-bg-color: #E2EBFA;\n",
              "      --hover-fill-color: #174EA6;\n",
              "      --disabled-fill-color: #AAA;\n",
              "      --disabled-bg-color: #DDD;\n",
              "  }\n",
              "\n",
              "  [theme=dark] .colab-df-quickchart {\n",
              "      --bg-color: #3B4455;\n",
              "      --fill-color: #D2E3FC;\n",
              "      --hover-bg-color: #434B5C;\n",
              "      --hover-fill-color: #FFFFFF;\n",
              "      --disabled-bg-color: #3B4455;\n",
              "      --disabled-fill-color: #666;\n",
              "  }\n",
              "\n",
              "  .colab-df-quickchart {\n",
              "    background-color: var(--bg-color);\n",
              "    border: none;\n",
              "    border-radius: 50%;\n",
              "    cursor: pointer;\n",
              "    display: none;\n",
              "    fill: var(--fill-color);\n",
              "    height: 32px;\n",
              "    padding: 0;\n",
              "    width: 32px;\n",
              "  }\n",
              "\n",
              "  .colab-df-quickchart:hover {\n",
              "    background-color: var(--hover-bg-color);\n",
              "    box-shadow: 0 1px 2px rgba(60, 64, 67, 0.3), 0 1px 3px 1px rgba(60, 64, 67, 0.15);\n",
              "    fill: var(--button-hover-fill-color);\n",
              "  }\n",
              "\n",
              "  .colab-df-quickchart-complete:disabled,\n",
              "  .colab-df-quickchart-complete:disabled:hover {\n",
              "    background-color: var(--disabled-bg-color);\n",
              "    fill: var(--disabled-fill-color);\n",
              "    box-shadow: none;\n",
              "  }\n",
              "\n",
              "  .colab-df-spinner {\n",
              "    border: 2px solid var(--fill-color);\n",
              "    border-color: transparent;\n",
              "    border-bottom-color: var(--fill-color);\n",
              "    animation:\n",
              "      spin 1s steps(1) infinite;\n",
              "  }\n",
              "\n",
              "  @keyframes spin {\n",
              "    0% {\n",
              "      border-color: transparent;\n",
              "      border-bottom-color: var(--fill-color);\n",
              "      border-left-color: var(--fill-color);\n",
              "    }\n",
              "    20% {\n",
              "      border-color: transparent;\n",
              "      border-left-color: var(--fill-color);\n",
              "      border-top-color: var(--fill-color);\n",
              "    }\n",
              "    30% {\n",
              "      border-color: transparent;\n",
              "      border-left-color: var(--fill-color);\n",
              "      border-top-color: var(--fill-color);\n",
              "      border-right-color: var(--fill-color);\n",
              "    }\n",
              "    40% {\n",
              "      border-color: transparent;\n",
              "      border-right-color: var(--fill-color);\n",
              "      border-top-color: var(--fill-color);\n",
              "    }\n",
              "    60% {\n",
              "      border-color: transparent;\n",
              "      border-right-color: var(--fill-color);\n",
              "    }\n",
              "    80% {\n",
              "      border-color: transparent;\n",
              "      border-right-color: var(--fill-color);\n",
              "      border-bottom-color: var(--fill-color);\n",
              "    }\n",
              "    90% {\n",
              "      border-color: transparent;\n",
              "      border-bottom-color: var(--fill-color);\n",
              "    }\n",
              "  }\n",
              "</style>\n",
              "\n",
              "  <script>\n",
              "    async function quickchart(key) {\n",
              "      const quickchartButtonEl =\n",
              "        document.querySelector('#' + key + ' button');\n",
              "      quickchartButtonEl.disabled = true;  // To prevent multiple clicks.\n",
              "      quickchartButtonEl.classList.add('colab-df-spinner');\n",
              "      try {\n",
              "        const charts = await google.colab.kernel.invokeFunction(\n",
              "            'suggestCharts', [key], {});\n",
              "      } catch (error) {\n",
              "        console.error('Error during call to suggestCharts:', error);\n",
              "      }\n",
              "      quickchartButtonEl.classList.remove('colab-df-spinner');\n",
              "      quickchartButtonEl.classList.add('colab-df-quickchart-complete');\n",
              "    }\n",
              "    (() => {\n",
              "      let quickchartButtonEl =\n",
              "        document.querySelector('#df-4640c6b4-bd35-4698-aeb5-b471530450e2 button');\n",
              "      quickchartButtonEl.style.display =\n",
              "        google.colab.kernel.accessAllowed ? 'block' : 'none';\n",
              "    })();\n",
              "  </script>\n",
              "</div>\n",
              "\n",
              "    </div>\n",
              "  </div>\n"
            ]
          },
          "metadata": {},
          "execution_count": 5
        }
      ]
    },
    {
      "cell_type": "code",
      "source": [
        "#Splitting the dataset into independent and dependent dataset\n",
        "X = np.array(new_df['feature'].tolist())\n",
        "y = np.array(new_df['class'].tolist())"
      ],
      "metadata": {
        "id": "26zvAAvoxs2s"
      },
      "execution_count": null,
      "outputs": []
    },
    {
      "cell_type": "code",
      "source": [
        "X.shape"
      ],
      "metadata": {
        "colab": {
          "base_uri": "https://localhost:8080/"
        },
        "id": "yP5rtLFdyCWP",
        "outputId": "59726d36-981f-4812-803d-2ad6b5582d57"
      },
      "execution_count": null,
      "outputs": [
        {
          "output_type": "execute_result",
          "data": {
            "text/plain": [
              "(806, 40)"
            ]
          },
          "metadata": {},
          "execution_count": 38
        }
      ]
    },
    {
      "cell_type": "code",
      "source": [
        "#Label Encoding\n",
        "from tensorflow.keras.utils import to_categorical\n",
        "from sklearn.preprocessing import LabelEncoder\n",
        "labelencoder = LabelEncoder()\n",
        "y=to_categorical(labelencoder.fit_transform(y))"
      ],
      "metadata": {
        "id": "-KLCuugsyPgV"
      },
      "execution_count": null,
      "outputs": []
    },
    {
      "cell_type": "code",
      "source": [
        "y.shape"
      ],
      "metadata": {
        "colab": {
          "base_uri": "https://localhost:8080/"
        },
        "id": "yCjtQRKF1RaQ",
        "outputId": "c5af2528-f118-4c9e-fa5b-60bca8afe185"
      },
      "execution_count": null,
      "outputs": [
        {
          "output_type": "execute_result",
          "data": {
            "text/plain": [
              "(806, 10)"
            ]
          },
          "metadata": {},
          "execution_count": 39
        }
      ]
    },
    {
      "cell_type": "code",
      "source": [
        "#Train Test split\n",
        "X_train,X_test,y_train,y_test = train_test_split(X,y,test_size = 0.2,random_state=0)"
      ],
      "metadata": {
        "id": "H9UfKK3GyZBK"
      },
      "execution_count": null,
      "outputs": []
    },
    {
      "cell_type": "code",
      "source": [
        "X_train.shape"
      ],
      "metadata": {
        "colab": {
          "base_uri": "https://localhost:8080/"
        },
        "id": "XkpWP-hGzQ0A",
        "outputId": "3868b7f8-0e45-4c3e-eb2e-16441892a5f6"
      },
      "execution_count": null,
      "outputs": [
        {
          "output_type": "execute_result",
          "data": {
            "text/plain": [
              "(644, 40)"
            ]
          },
          "metadata": {},
          "execution_count": 65
        }
      ]
    },
    {
      "cell_type": "code",
      "source": [
        "X_test.shape"
      ],
      "metadata": {
        "colab": {
          "base_uri": "https://localhost:8080/"
        },
        "id": "k8LVWr0SzTG4",
        "outputId": "fe5a3434-4377-46a6-e56c-c7ec7eb767a5"
      },
      "execution_count": null,
      "outputs": [
        {
          "output_type": "execute_result",
          "data": {
            "text/plain": [
              "(162, 40)"
            ]
          },
          "metadata": {},
          "execution_count": 66
        }
      ]
    },
    {
      "cell_type": "code",
      "source": [
        "y_train.shape"
      ],
      "metadata": {
        "colab": {
          "base_uri": "https://localhost:8080/"
        },
        "id": "SlDOOM1XzVzl",
        "outputId": "b2d94805-3757-47ae-ac81-de66df5431b5"
      },
      "execution_count": null,
      "outputs": [
        {
          "output_type": "execute_result",
          "data": {
            "text/plain": [
              "(644, 10)"
            ]
          },
          "metadata": {},
          "execution_count": 68
        }
      ]
    },
    {
      "cell_type": "code",
      "source": [
        "y_test.shape"
      ],
      "metadata": {
        "colab": {
          "base_uri": "https://localhost:8080/"
        },
        "id": "MmOZhyvOzYwo",
        "outputId": "92af98ad-0912-4b45-eca3-a973fc62972c"
      },
      "execution_count": null,
      "outputs": [
        {
          "output_type": "execute_result",
          "data": {
            "text/plain": [
              "(162, 10)"
            ]
          },
          "metadata": {},
          "execution_count": 69
        }
      ]
    },
    {
      "cell_type": "markdown",
      "source": [
        "***Building the Model***"
      ],
      "metadata": {
        "id": "wCoH0Glq29S3"
      }
    },
    {
      "cell_type": "code",
      "source": [
        "import tensorflow as tf\n",
        "print(tf.__version__)"
      ],
      "metadata": {
        "colab": {
          "base_uri": "https://localhost:8080/"
        },
        "id": "aKHascB_zdZe",
        "outputId": "0e2f8774-45d2-4cdd-a66e-95c9b3dd64c4"
      },
      "execution_count": null,
      "outputs": [
        {
          "output_type": "stream",
          "name": "stdout",
          "text": [
            "2.15.0\n"
          ]
        }
      ]
    },
    {
      "cell_type": "code",
      "source": [
        "from tensorflow.keras.models import Sequential\n",
        "from tensorflow.keras.layers import Dense,Dropout,Activation,Flatten\n",
        "from tensorflow.keras.optimizers import Adam\n",
        "from sklearn import metrics"
      ],
      "metadata": {
        "id": "CElhzc373Jy0"
      },
      "execution_count": null,
      "outputs": []
    },
    {
      "cell_type": "code",
      "source": [
        "num_labels = y.shape[1]"
      ],
      "metadata": {
        "id": "A6jRzeNS3peX"
      },
      "execution_count": null,
      "outputs": []
    },
    {
      "cell_type": "code",
      "source": [
        "model = Sequential()\n",
        "\n",
        "#first layer\n",
        "model.add(Dense(100,input_shape=(40,)))\n",
        "model.add(Activation('relu'))\n",
        "model.add(Dropout(0.5))\n",
        "\n",
        "#Second layer\n",
        "model.add(Dense(200))\n",
        "model.add(Activation('relu'))\n",
        "model.add(Dropout(0.5))\n",
        "\n",
        "#Third layer\n",
        "model.add(Dense(100))\n",
        "model.add(Activation('relu'))\n",
        "model.add(Dropout(0.5))\n",
        "\n",
        "#Final layer\n",
        "model.add(Dense(num_labels))\n",
        "model.add(Activation('softmax'))"
      ],
      "metadata": {
        "id": "L698AFoe3vTE"
      },
      "execution_count": null,
      "outputs": []
    },
    {
      "cell_type": "code",
      "source": [
        "model.summary()"
      ],
      "metadata": {
        "id": "k8PYMPJ74hsp"
      },
      "execution_count": null,
      "outputs": []
    },
    {
      "cell_type": "code",
      "source": [
        "model.compile(loss='categorical_crossentropy',metrics=['accuracy'],optimizer='Adam')"
      ],
      "metadata": {
        "id": "LcO2t-Cz4kIS"
      },
      "execution_count": null,
      "outputs": []
    },
    {
      "cell_type": "code",
      "source": [
        "#Training the model\n",
        "from tensorflow.keras.callbacks import ModelCheckpoint\n",
        "from datetime import datetime\n",
        "\n",
        "num_epochs = 100\n",
        "num_batch_size = 32\n",
        "\n",
        "checkpointer = ModelCheckpoint(filepath='saved_model.hdf5',verbose=1,save_best_only=True)\n",
        "\n",
        "start = datetime.now()\n",
        "\n",
        "model.fit(X_train,y_train,batch_size=num_batch_size,epochs=num_epochs,validation_data=(X_test,y_test),callbacks=[checkpointer])\n",
        "\n",
        "duration = datetime.now()-start\n",
        "print('Training time =', duration)"
      ],
      "metadata": {
        "id": "BWXzrnVV46H9"
      },
      "execution_count": null,
      "outputs": []
    },
    {
      "cell_type": "code",
      "source": [
        "test_accuracy=model.evaluate(X_test,y_test,verbose=0)\n",
        "print(test_accuracy[1])"
      ],
      "metadata": {
        "colab": {
          "base_uri": "https://localhost:8080/"
        },
        "id": "JiORKKqZwyyk",
        "outputId": "868ce7ce-0659-4892-d3d2-ece39cf1ae40"
      },
      "execution_count": null,
      "outputs": [
        {
          "output_type": "stream",
          "name": "stdout",
          "text": [
            "0.9074074029922485\n"
          ]
        }
      ]
    },
    {
      "cell_type": "code",
      "source": [
        "#Check the prediction for a random audio\n",
        "file =\"/content/104817-4-0-11.wav\"\n",
        "x,sr1 = librosa.load(file)\n",
        "ipd.Audio(x,rate=sr1)"
      ],
      "metadata": {
        "id": "EV1vZAmvzXk_"
      },
      "execution_count": null,
      "outputs": []
    },
    {
      "cell_type": "code",
      "source": [
        "file =\"/content/104817-4-0-11.wav\"\n",
        "prediction_feature = features_extractor(file)\n",
        "prediction_feature = prediction_feature.reshape(1,-1)\n",
        "predicted_probabilities = model.predict(prediction_feature)\n",
        "predicted_class_label = np.argmax(predicted_probabilities)\n",
        "predicted_class_label = np.array([predicted_class_label])\n",
        "prediction_class = labelencoder.inverse_transform(predicted_class_label)\n",
        "print(\"Predicted class:\", prediction_class[0])"
      ],
      "metadata": {
        "colab": {
          "base_uri": "https://localhost:8080/"
        },
        "id": "aABsCLdexTxU",
        "outputId": "b7a95712-ca52-498d-f235-0aa478ae90f8"
      },
      "execution_count": null,
      "outputs": [
        {
          "output_type": "stream",
          "name": "stdout",
          "text": [
            "1/1 [==============================] - 0s 31ms/step\n",
            "Predicted class: drilling\n"
          ]
        }
      ]
    },
    {
      "cell_type": "code",
      "source": [],
      "metadata": {
        "id": "LGguc3GLzUgF"
      },
      "execution_count": null,
      "outputs": []
    }
  ]
}