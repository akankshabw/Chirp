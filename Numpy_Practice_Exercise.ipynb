{
  "nbformat": 4,
  "nbformat_minor": 0,
  "metadata": {
    "colab": {
      "provenance": [],
      "collapsed_sections": [
        "FLCCQQWewQMO",
        "oO5gw_3awNAC",
        "x4GjKI9sw-rK",
        "b3t7n_rExqYz",
        "uUFmB7et1ezJ",
        "4-lwm_mrag6f"
      ]
    },
    "kernelspec": {
      "name": "python3",
      "display_name": "Python 3"
    }
  },
  "cells": [
    {
      "cell_type": "markdown",
      "source": [
        "<h1> ML.AI Week 1 Numpy Practice Notebook</h1>"
      ],
      "metadata": {
        "id": "ndFfgi7ewjBm"
      }
    },
    {
      "cell_type": "markdown",
      "source": [
        "## Importing Libraries"
      ],
      "metadata": {
        "id": "FLCCQQWewQMO"
      }
    },
    {
      "cell_type": "code",
      "metadata": {
        "id": "ipBx5KY2wWr3"
      },
      "source": [
        "# Import NumPy\n",
        "import numpy as np"
      ],
      "execution_count": null,
      "outputs": []
    },
    {
      "cell_type": "markdown",
      "source": [
        "# Basics"
      ],
      "metadata": {
        "id": "i-M87Y3Ywgza"
      }
    },
    {
      "cell_type": "markdown",
      "source": [
        "## Create NumPy Array"
      ],
      "metadata": {
        "id": "oO5gw_3awNAC"
      }
    },
    {
      "cell_type": "code",
      "metadata": {
        "id": "xCRUIOP8wywQ",
        "colab": {
          "base_uri": "https://localhost:8080/"
        },
        "outputId": "673c99cd-4b86-4874-b90e-ed04f474efb9"
      },
      "source": [
        "my_list = [0,1,2,3,4,5,6,7,8,9]\n",
        "\n",
        "# Create NumPy array from my_list\n",
        "nparr = np.array(my_list)\n",
        "print(nparr)"
      ],
      "execution_count": null,
      "outputs": [
        {
          "output_type": "stream",
          "name": "stdout",
          "text": [
            "[0 1 2 3 4 5 6 7 8 9]\n"
          ]
        }
      ]
    },
    {
      "cell_type": "code",
      "metadata": {
        "id": "XyVPJpzyw35U",
        "colab": {
          "base_uri": "https://localhost:8080/"
        },
        "outputId": "00444fe5-ce5e-47ac-83b2-2c8158415c28"
      },
      "source": [
        "# Create NumPy array with numbers from 0 to 9 using arange method\n",
        "nparr = np.arange(0, 51)\n",
        "print(nparr)"
      ],
      "execution_count": null,
      "outputs": [
        {
          "output_type": "stream",
          "name": "stdout",
          "text": [
            "[ 0  1  2  3  4  5  6  7  8  9 10 11 12 13 14 15 16 17 18 19 20 21 22 23\n",
            " 24 25 26 27 28 29 30 31 32 33 34 35 36 37 38 39 40 41 42 43 44 45 46 47\n",
            " 48 49 50]\n"
          ]
        }
      ]
    },
    {
      "cell_type": "markdown",
      "metadata": {
        "id": "x4GjKI9sw-rK"
      },
      "source": [
        "## Universal Functions (ufunc)\n",
        "\n",
        "Arithmetic operations we can perform with numpy arrays:\n",
        "\n",
        "https://docs.scipy.org/doc/scipy/reference/tutorial/basic.html\n",
        "\n",
        "https://numpy.org/doc/stable/reference/ufuncs.html"
      ]
    },
    {
      "cell_type": "code",
      "metadata": {
        "id": "RH2l-nsTw_dd",
        "colab": {
          "base_uri": "https://localhost:8080/"
        },
        "outputId": "d5417c48-fb88-4ce9-9a37-63c1820cb9df"
      },
      "source": [
        "# ADDING ARRAYS\n",
        "nparr_added = nparr + nparr\n",
        "print(nparr_added)"
      ],
      "execution_count": null,
      "outputs": [
        {
          "output_type": "stream",
          "name": "stdout",
          "text": [
            "[0 0]\n"
          ]
        }
      ]
    },
    {
      "cell_type": "code",
      "metadata": {
        "id": "6M2qhDDOxCKR",
        "colab": {
          "base_uri": "https://localhost:8080/"
        },
        "outputId": "0340cd0e-d679-4ad6-8acb-41a67b465747"
      },
      "source": [
        "# SUBTRACTING ARRAYS\n",
        "nparr_sub= nparr - nparr\n",
        "print(nparr_sub)\n",
        "print(nparr)"
      ],
      "execution_count": null,
      "outputs": [
        {
          "output_type": "stream",
          "name": "stdout",
          "text": [
            "[0 0]\n",
            "[0 0]\n"
          ]
        }
      ]
    },
    {
      "cell_type": "code",
      "metadata": {
        "id": "6Q7ui5l5xFFd",
        "colab": {
          "base_uri": "https://localhost:8080/"
        },
        "outputId": "cff86e26-9ee9-4151-d245-2838edcab3bc"
      },
      "source": [
        "# MULTIPLICATING OR DIVIDING ARRAYS\n",
        "print(nparr)\n",
        "nparr_mult = nparr * nparr\n",
        "print(nparr_mult)\n",
        "# Note: division zero by zero yields no error, but nan (absence of an object, equal to null)\n",
        "print(nparr)\n",
        "nparr_div = nparr / nparr\n",
        "print(nparr_div)\n",
        "nparr = np.array([0,0])\n",
        "nparr_div= nparr / nparr\n",
        "print(nparr_div)"
      ],
      "execution_count": null,
      "outputs": [
        {
          "output_type": "stream",
          "name": "stdout",
          "text": [
            "[ 0  1  2  3  4  5  6  7  8  9 10 11 12 13 14 15 16 17 18 19 20 21 22 23\n",
            " 24 25 26 27 28 29 30 31 32 33 34 35 36 37 38 39 40 41 42 43 44 45 46 47\n",
            " 48 49 50]\n",
            "[   0    1    4    9   16   25   36   49   64   81  100  121  144  169\n",
            "  196  225  256  289  324  361  400  441  484  529  576  625  676  729\n",
            "  784  841  900  961 1024 1089 1156 1225 1296 1369 1444 1521 1600 1681\n",
            " 1764 1849 1936 2025 2116 2209 2304 2401 2500]\n",
            "[ 0  1  2  3  4  5  6  7  8  9 10 11 12 13 14 15 16 17 18 19 20 21 22 23\n",
            " 24 25 26 27 28 29 30 31 32 33 34 35 36 37 38 39 40 41 42 43 44 45 46 47\n",
            " 48 49 50]\n",
            "[nan  1.  1.  1.  1.  1.  1.  1.  1.  1.  1.  1.  1.  1.  1.  1.  1.  1.\n",
            "  1.  1.  1.  1.  1.  1.  1.  1.  1.  1.  1.  1.  1.  1.  1.  1.  1.  1.\n",
            "  1.  1.  1.  1.  1.  1.  1.  1.  1.  1.  1.  1.  1.  1.  1.]\n",
            "[nan nan]\n"
          ]
        },
        {
          "output_type": "stream",
          "name": "stderr",
          "text": [
            "<ipython-input-17-d4bd9214f0f2>:7: RuntimeWarning: invalid value encountered in divide\n",
            "  nparr_div = nparr / nparr\n",
            "<ipython-input-17-d4bd9214f0f2>:10: RuntimeWarning: invalid value encountered in divide\n",
            "  nparr_div= nparr / nparr\n"
          ]
        }
      ]
    },
    {
      "cell_type": "code",
      "metadata": {
        "id": "8y8KOYJgxHfw",
        "colab": {
          "base_uri": "https://localhost:8080/"
        },
        "outputId": "8317560e-9c16-4f28-ad9a-80bb7cf7e082"
      },
      "source": [
        "# MULTIPLY BY A SCALARS\n",
        "nparr_esc = nparr * 10\n",
        "print(nparr_esc)"
      ],
      "execution_count": null,
      "outputs": [
        {
          "output_type": "stream",
          "name": "stdout",
          "text": [
            "[ 0 10 20 30 40 50 60 70 80 90]\n"
          ]
        }
      ]
    },
    {
      "cell_type": "code",
      "metadata": {
        "id": "eFU9MjmsxOtS"
      },
      "source": [
        "# ONE DIVIDED BY ZERO\n",
        "# inf signifies infinity for one divided by zero at the very first element\n",
        "nparr_one_div = 1/nparr\n",
        "print(nparr_one_div)"
      ],
      "execution_count": null,
      "outputs": []
    },
    {
      "cell_type": "code",
      "metadata": {
        "id": "q01cuOPgxRGY",
        "colab": {
          "base_uri": "https://localhost:8080/"
        },
        "outputId": "7b824f5a-3f04-419f-a8dc-fefc420e83a3"
      },
      "source": [
        "# EXPONENT - ARRAYS - Squaring everything - Two options\n",
        "np_arr_exp1 = nparr ** 3\n",
        "print(np_arr_exp1)\n",
        "np_arr_exp2 = np.square(nparr)\n",
        "print(np_arr_exp2)"
      ],
      "execution_count": null,
      "outputs": [
        {
          "output_type": "stream",
          "name": "stdout",
          "text": [
            "[  0   1   8  27  64 125 216 343 512 729]\n",
            "[ 0  1  4  9 16 25 36 49 64 81]\n"
          ]
        }
      ]
    },
    {
      "cell_type": "code",
      "metadata": {
        "id": "G6PuQ1CgxT4B",
        "colab": {
          "base_uri": "https://localhost:8080/"
        },
        "outputId": "8de7db49-0912-47ce-d042-ba56cfe1e4fc"
      },
      "source": [
        "# SQUARE ROOT\n",
        "nparr_sr = np.sqrt(nparr)\n",
        "print(nparr_sr)"
      ],
      "execution_count": null,
      "outputs": [
        {
          "output_type": "stream",
          "name": "stdout",
          "text": [
            "[0.         1.         1.41421356 1.73205081 2.         2.23606798\n",
            " 2.44948974 2.64575131 2.82842712 3.        ]\n"
          ]
        }
      ]
    },
    {
      "cell_type": "code",
      "metadata": {
        "id": "R_G7nQ9dxX3d",
        "colab": {
          "base_uri": "https://localhost:8080/"
        },
        "outputId": "3cc119cb-8a56-4b51-e51d-2218548283ac"
      },
      "source": [
        "# EXPONENTIAL WITH ARRAYS\n",
        "np_arr_exp3 = np.exp(nparr)\n",
        "print(np_arr_exp3)"
      ],
      "execution_count": null,
      "outputs": [
        {
          "output_type": "stream",
          "name": "stdout",
          "text": [
            "[1.00000000e+00 2.71828183e+00 7.38905610e+00 2.00855369e+01\n",
            " 5.45981500e+01 1.48413159e+02 4.03428793e+02 1.09663316e+03\n",
            " 2.98095799e+03 8.10308393e+03]\n"
          ]
        }
      ]
    },
    {
      "cell_type": "code",
      "metadata": {
        "id": "QD-uBWKPxZv4",
        "colab": {
          "base_uri": "https://localhost:8080/"
        },
        "outputId": "eab7721d-984e-40d7-dd47-49a7803c8ca4"
      },
      "source": [
        "# MAX & MIN\n",
        "nparr_max = np.max(nparr)\n",
        "print(nparr_max)\n",
        "print(nparr)\n",
        "nparr_min = np.min(nparr)\n",
        "print(nparr_min)"
      ],
      "execution_count": null,
      "outputs": [
        {
          "output_type": "stream",
          "name": "stdout",
          "text": [
            "9\n",
            "[0 1 2 3 4 5 6 7 8 9]\n",
            "0\n"
          ]
        }
      ]
    },
    {
      "cell_type": "code",
      "metadata": {
        "id": "TRsuqrGnxb7r",
        "colab": {
          "base_uri": "https://localhost:8080/"
        },
        "outputId": "317f28c8-af44-4993-a3ec-69f30b6a2929"
      },
      "source": [
        "# TRIGONOMETRIC FUNCTIONS - Passing every element into sine function\n",
        "nparr_sin = np.cos(nparr)\n",
        "print(nparr_sin)"
      ],
      "execution_count": null,
      "outputs": [
        {
          "output_type": "stream",
          "name": "stdout",
          "text": [
            "[ 1.          0.54030231 -0.41614684 -0.9899925  -0.65364362  0.28366219\n",
            "  0.96017029  0.75390225 -0.14550003 -0.91113026]\n"
          ]
        }
      ]
    },
    {
      "cell_type": "code",
      "metadata": {
        "id": "lUE7rfEfxeYH",
        "colab": {
          "base_uri": "https://localhost:8080/"
        },
        "outputId": "d0cad805-6d3c-4add-e203-fad00ed124fd"
      },
      "source": [
        "# LOGARITHMIC - Note:  the very first one is minus infinity\n",
        "nparr_log = np.log(nparr)\n",
        "print(nparr_log)"
      ],
      "execution_count": null,
      "outputs": [
        {
          "output_type": "stream",
          "name": "stdout",
          "text": [
            "[      -inf 0.         0.69314718 1.09861229 1.38629436 1.60943791\n",
            " 1.79175947 1.94591015 2.07944154 2.19722458]\n"
          ]
        },
        {
          "output_type": "stream",
          "name": "stderr",
          "text": [
            "<ipython-input-31-95468e9a734b>:2: RuntimeWarning: divide by zero encountered in log\n",
            "  nparr_log = np.log(nparr)\n"
          ]
        }
      ]
    },
    {
      "cell_type": "markdown",
      "metadata": {
        "id": "b3t7n_rExqYz"
      },
      "source": [
        "# NUMPY PRACTICE EXERCISES"
      ]
    },
    {
      "cell_type": "markdown",
      "metadata": {
        "id": "kM4gRRsvx25_"
      },
      "source": [
        "## 1 . Creates an array of the integers from 10 to 50"
      ]
    },
    {
      "cell_type": "code",
      "metadata": {
        "id": "0Svcsjnrx4xR",
        "colab": {
          "base_uri": "https://localhost:8080/"
        },
        "outputId": "858807dd-1649-4980-cbaf-ba9ed1e38f68"
      },
      "source": [
        "nparr = np.arange(10,51)\n",
        "print(nparr)"
      ],
      "execution_count": null,
      "outputs": [
        {
          "output_type": "stream",
          "name": "stdout",
          "text": [
            "[10 11 12 13 14 15 16 17 18 19 20 21 22 23 24 25 26 27 28 29 30 31 32 33\n",
            " 34 35 36 37 38 39 40 41 42 43 44 45 46 47 48 49 50]\n"
          ]
        }
      ]
    },
    {
      "cell_type": "markdown",
      "metadata": {
        "id": "waLqx2TbyAcb"
      },
      "source": [
        "## 2 . Create an array of the even integers from 10 to 50"
      ]
    },
    {
      "cell_type": "code",
      "metadata": {
        "id": "SMc68WdEx67L",
        "colab": {
          "base_uri": "https://localhost:8080/"
        },
        "outputId": "d73931d6-d75e-4091-8d25-988679f79ed1"
      },
      "source": [
        "nparr = np.arange(10,51,2)\n",
        "print(nparr)"
      ],
      "execution_count": null,
      "outputs": [
        {
          "output_type": "stream",
          "name": "stdout",
          "text": [
            "[10 12 14 16 18 20 22 24 26 28 30 32 34 36 38 40 42 44 46 48 50]\n"
          ]
        }
      ]
    },
    {
      "cell_type": "markdown",
      "metadata": {
        "id": "aIzm88u1yGpE"
      },
      "source": [
        "\n",
        "\n",
        "## 3. Creates a 3x3 matrix with values ranging from 1 to 9"
      ]
    },
    {
      "cell_type": "code",
      "metadata": {
        "id": "EI9KtMn4yId-",
        "colab": {
          "base_uri": "https://localhost:8080/"
        },
        "outputId": "e533dec7-4c94-4e04-9e2b-df501bb38889"
      },
      "source": [
        "nparr = np.arange(1,10)\n",
        "nparr = nparr.reshape(3,3)\n",
        "print(nparr)"
      ],
      "execution_count": null,
      "outputs": [
        {
          "output_type": "stream",
          "name": "stdout",
          "text": [
            "[[1 2 3]\n",
            " [4 5 6]\n",
            " [7 8 9]]\n"
          ]
        }
      ]
    },
    {
      "cell_type": "markdown",
      "metadata": {
        "id": "eOvyPzP7yNHs"
      },
      "source": [
        "## 4. Use NumPy to generate a random number between 0 and 1"
      ]
    },
    {
      "cell_type": "code",
      "metadata": {
        "id": "bEKJCls2yOaC",
        "colab": {
          "base_uri": "https://localhost:8080/"
        },
        "outputId": "974c33da-163d-4db5-dc3a-878f1ce1d330"
      },
      "source": [
        "from numpy import random\n",
        "val = random.rand(1)\n",
        "print(val)"
      ],
      "execution_count": null,
      "outputs": [
        {
          "output_type": "stream",
          "name": "stdout",
          "text": [
            "[0.09142824]\n"
          ]
        }
      ]
    },
    {
      "cell_type": "markdown",
      "metadata": {
        "id": "NCxHKGsIybmd"
      },
      "source": [
        "\n",
        "\n",
        "## 5. Use NumPy to generate 25 random numbers sampled from a standard normal distribution"
      ]
    },
    {
      "cell_type": "code",
      "metadata": {
        "id": "8uajaz4oyd01",
        "colab": {
          "base_uri": "https://localhost:8080/"
        },
        "outputId": "11758104-5c6b-4407-a037-955fab85716b"
      },
      "source": [
        "from numpy import random\n",
        "print(random.normal(size=(25)))"
      ],
      "execution_count": null,
      "outputs": [
        {
          "output_type": "stream",
          "name": "stdout",
          "text": [
            "[ 1.1260535  -0.27080625  0.28454552 -0.33151699 -0.68422436 -0.1696326\n",
            " -1.13919201 -0.23704796 -0.30358356  1.55602463  0.66563066 -0.34878835\n",
            "  0.29121297  1.64913114 -2.29937302 -0.1315787   0.41863831  0.03635769\n",
            "  0.27046827 -0.65533892 -0.37848151  0.02701093  1.37311812  0.52216257\n",
            " -0.00274096]\n"
          ]
        }
      ]
    },
    {
      "cell_type": "markdown",
      "metadata": {
        "id": "RddxbwyayiVs"
      },
      "source": [
        "## 6. Create a matrix of 100 items spaced equally at 0.01 steps ranged fro 0.01 to 1"
      ]
    },
    {
      "cell_type": "code",
      "metadata": {
        "id": "FzOdZXwRyjsO",
        "colab": {
          "base_uri": "https://localhost:8080/"
        },
        "outputId": "431604a8-74be-4286-b086-e622fc3a131d"
      },
      "source": [
        "nparr = np.arange(0.01,1.01,0.01)\n",
        "nparr = nparr.reshape(10,10)\n",
        "print(nparr)"
      ],
      "execution_count": null,
      "outputs": [
        {
          "output_type": "stream",
          "name": "stdout",
          "text": [
            "[[0.01 0.02 0.03 0.04 0.05 0.06 0.07 0.08 0.09 0.1 ]\n",
            " [0.11 0.12 0.13 0.14 0.15 0.16 0.17 0.18 0.19 0.2 ]\n",
            " [0.21 0.22 0.23 0.24 0.25 0.26 0.27 0.28 0.29 0.3 ]\n",
            " [0.31 0.32 0.33 0.34 0.35 0.36 0.37 0.38 0.39 0.4 ]\n",
            " [0.41 0.42 0.43 0.44 0.45 0.46 0.47 0.48 0.49 0.5 ]\n",
            " [0.51 0.52 0.53 0.54 0.55 0.56 0.57 0.58 0.59 0.6 ]\n",
            " [0.61 0.62 0.63 0.64 0.65 0.66 0.67 0.68 0.69 0.7 ]\n",
            " [0.71 0.72 0.73 0.74 0.75 0.76 0.77 0.78 0.79 0.8 ]\n",
            " [0.81 0.82 0.83 0.84 0.85 0.86 0.87 0.88 0.89 0.9 ]\n",
            " [0.91 0.92 0.93 0.94 0.95 0.96 0.97 0.98 0.99 1.  ]]\n"
          ]
        }
      ]
    },
    {
      "cell_type": "code",
      "metadata": {
        "id": "yJxrHMO0ylZj",
        "colab": {
          "base_uri": "https://localhost:8080/"
        },
        "outputId": "033ef309-d627-48ed-87db-8ecba02e3891"
      },
      "source": [
        "# Returning the exact same result as above\n",
        "nparr = np.arange(0.01,1.01,0.01)\n",
        "nparr = nparr.reshape(10,10)\n",
        "print(nparr)"
      ],
      "execution_count": null,
      "outputs": [
        {
          "output_type": "stream",
          "name": "stdout",
          "text": [
            "[[0.01 0.02 0.03 0.04 0.05 0.06 0.07 0.08 0.09 0.1 ]\n",
            " [0.11 0.12 0.13 0.14 0.15 0.16 0.17 0.18 0.19 0.2 ]\n",
            " [0.21 0.22 0.23 0.24 0.25 0.26 0.27 0.28 0.29 0.3 ]\n",
            " [0.31 0.32 0.33 0.34 0.35 0.36 0.37 0.38 0.39 0.4 ]\n",
            " [0.41 0.42 0.43 0.44 0.45 0.46 0.47 0.48 0.49 0.5 ]\n",
            " [0.51 0.52 0.53 0.54 0.55 0.56 0.57 0.58 0.59 0.6 ]\n",
            " [0.61 0.62 0.63 0.64 0.65 0.66 0.67 0.68 0.69 0.7 ]\n",
            " [0.71 0.72 0.73 0.74 0.75 0.76 0.77 0.78 0.79 0.8 ]\n",
            " [0.81 0.82 0.83 0.84 0.85 0.86 0.87 0.88 0.89 0.9 ]\n",
            " [0.91 0.92 0.93 0.94 0.95 0.96 0.97 0.98 0.99 1.  ]]\n"
          ]
        }
      ]
    },
    {
      "cell_type": "markdown",
      "metadata": {
        "id": "tQVoOsaAyp1X"
      },
      "source": [
        "## 7. Create an array of 20 linearly spaced points between 0 and 1"
      ]
    },
    {
      "cell_type": "code",
      "metadata": {
        "id": "4MtcWJA4yrGl",
        "colab": {
          "base_uri": "https://localhost:8080/"
        },
        "outputId": "718aa0c9-dc78-4cfa-81df-d71f93ae388e"
      },
      "source": [
        "nparr = np.linspace(0,1,20)\n",
        "print(nparr)"
      ],
      "execution_count": null,
      "outputs": [
        {
          "output_type": "stream",
          "name": "stdout",
          "text": [
            "[0.         0.05263158 0.10526316 0.15789474 0.21052632 0.26315789\n",
            " 0.31578947 0.36842105 0.42105263 0.47368421 0.52631579 0.57894737\n",
            " 0.63157895 0.68421053 0.73684211 0.78947368 0.84210526 0.89473684\n",
            " 0.94736842 1.        ]\n"
          ]
        }
      ]
    },
    {
      "cell_type": "markdown",
      "metadata": {
        "id": "ROMflFPMyxX8"
      },
      "source": [
        "# INDEXING & SLICING NOTATION in PYTHON\n",
        "\n",
        "## What does indexing mean in Python?\n",
        "An index refers to a position within an ordered list.\n",
        "\n",
        "## And what about Slicing?\n",
        "Slicing in python means taking elements from one given index to another given index. We pass slice instead of an index like this: [[start:end]]. We can also define the step, like this: [[start:end:step]].\n"
      ]
    },
    {
      "cell_type": "markdown",
      "metadata": {
        "id": "GI3tgye0y4Q_"
      },
      "source": [
        "\n",
        "## Two-Dimensional Array: arr_2_d\n",
        "\n",
        "There are 2 general formats for GRABBING ELEMENTS from a 2-d array (matrix):\n",
        "\n",
        "1. DOUBLE BRACKET FORMAT   \n",
        "\n",
        "      mat[row][column]\n",
        "\n",
        "2. SINGLE BRACKET FORMAT   \n",
        "\n",
        "      mat[row,column]\n",
        "      \n",
        "      w/ comma, this is least prone to error!"
      ]
    },
    {
      "cell_type": "markdown",
      "metadata": {
        "id": "uAaaiIVIzGNW"
      },
      "source": [
        "## Indexing & Slicing Notation (mnemonic):\n",
        "\n",
        "[ row : Column ]\n",
        "\n",
        "### Indexing:\n",
        "\n",
        "[ **Grab just the** ] , [ **and just the** ]\n",
        "\n",
        "### Slicing: (bni)\n",
        "\n",
        "[**Grab all from the : up to the** ] , [ **and all from the : up to the** ]\n",
        "\n",
        "[ **but not including (bni)** ]: [ **but not including (bni)**]"
      ]
    },
    {
      "cell_type": "markdown",
      "metadata": {
        "id": "erYYymH9zfFK"
      },
      "source": [
        "PRACTICING EXERCISES:\n",
        "\n",
        "(for Indexing & Slicing in Python & NumPy)"
      ]
    },
    {
      "cell_type": "code",
      "metadata": {
        "id": "93KjIoWVysto",
        "colab": {
          "base_uri": "https://localhost:8080/"
        },
        "outputId": "e5475076-ecf8-4ddf-de95-4b2e8ffaf3c8"
      },
      "source": [
        "# Use this 2-Dimensional Array for this exercises\n",
        "nparr = np.arange(1,26)\n",
        "nparr = nparr.reshape(5,5)\n",
        "print(nparr)"
      ],
      "execution_count": null,
      "outputs": [
        {
          "output_type": "stream",
          "name": "stdout",
          "text": [
            "[[ 1  2  3  4  5]\n",
            " [ 6  7  8  9 10]\n",
            " [11 12 13 14 15]\n",
            " [16 17 18 19 20]\n",
            " [21 22 23 24 25]]\n"
          ]
        }
      ]
    },
    {
      "cell_type": "markdown",
      "metadata": {
        "id": "0SIFJUaTztCI"
      },
      "source": [
        "### 8. Grab element 20  of the arr_2_d array"
      ]
    },
    {
      "cell_type": "code",
      "metadata": {
        "id": "VGcspB0SztmQ",
        "colab": {
          "base_uri": "https://localhost:8080/"
        },
        "outputId": "57768cbe-828c-4817-8e68-4fefd0248023"
      },
      "source": [
        "\n",
        "# That is to say:\n",
        "# for row: **Grab just the** forth row,\n",
        "#          it rescues just one element in the forth row:), and\n",
        "# for column: **and just the** fifth column.\n",
        "#             It rescues just one element in fifth column, again:)\n",
        "print(nparr[3][4])"
      ],
      "execution_count": null,
      "outputs": [
        {
          "output_type": "stream",
          "name": "stdout",
          "text": [
            "20\n"
          ]
        }
      ]
    },
    {
      "cell_type": "markdown",
      "metadata": {
        "id": "mU7f5am2z0jZ"
      },
      "source": [
        "### 9. Grab items 2, 7, 12 of the arr_2_d array"
      ]
    },
    {
      "cell_type": "code",
      "metadata": {
        "id": "g3QBOE6vz2uR",
        "colab": {
          "base_uri": "https://localhost:8080/"
        },
        "outputId": "d7e9bbdf-cd3e-4aaf-800a-c504664dc854"
      },
      "source": [
        "\n",
        "# That is to say:\n",
        "#\n",
        "# for row: **Grab all from the** begining,\n",
        "#          **up to the** forth row (but not including),\n",
        "#          it rescues 3 rows in a row,\n",
        "#\n",
        "# for column: **and all from the** second\n",
        "#             **up to the** 3ª Column (bni).\n",
        "#             It rescues just one column, the second one:)\n",
        "new = nparr[0:3,1:2]\n",
        "print(new)"
      ],
      "execution_count": null,
      "outputs": [
        {
          "output_type": "stream",
          "name": "stdout",
          "text": [
            "[[ 2]\n",
            " [ 7]\n",
            " [12]]\n"
          ]
        }
      ]
    },
    {
      "cell_type": "markdown",
      "metadata": {
        "id": "AtAhD17G0nH9"
      },
      "source": [
        "### 10. Grab the last row of the arr_2_d array"
      ]
    },
    {
      "cell_type": "code",
      "metadata": {
        "id": "yHEr1Vthz5Fh",
        "colab": {
          "base_uri": "https://localhost:8080/"
        },
        "outputId": "268462af-c9be-451b-e30c-d667407610c3"
      },
      "source": [
        "\n",
        "# That is to say:\n",
        "#\n",
        "# for row: **Grab just the** fifth row,\n",
        "#          it rescues just the last row:),\n",
        "#\n",
        "# for column: **and all from the** beginning **up to the** end of\n",
        "#             the columns(:). It rescues all the columns:)\n",
        "print(nparr[4,])"
      ],
      "execution_count": null,
      "outputs": [
        {
          "output_type": "stream",
          "name": "stdout",
          "text": [
            "[21 22 23 24 25]\n"
          ]
        }
      ]
    },
    {
      "cell_type": "markdown",
      "metadata": {
        "id": "V4QJvxly01mZ"
      },
      "source": [
        "### 11. Get the sum of all the values, column values and row values in arr_2_d array"
      ]
    },
    {
      "cell_type": "code",
      "metadata": {
        "id": "r4C7rdUn02Lx",
        "colab": {
          "base_uri": "https://localhost:8080/"
        },
        "outputId": "30b30ba7-3000-4195-f4b6-04dade04fa9c"
      },
      "source": [
        "# Using NumPy and pass array as parameter\n",
        "sum = np.sum(nparr)\n",
        "print(sum)\n",
        "# OR\n",
        "# Use the method of the object array itself directly\n",
        "sum_new=0\n",
        "for i in range(5):\n",
        " sum_new += np.sum(nparr[i,])\n",
        "print(sum_new)"
      ],
      "execution_count": null,
      "outputs": [
        {
          "output_type": "stream",
          "name": "stdout",
          "text": [
            "325\n",
            "325\n"
          ]
        }
      ]
    },
    {
      "cell_type": "code",
      "metadata": {
        "id": "j_UbfWuO038O",
        "colab": {
          "base_uri": "https://localhost:8080/"
        },
        "outputId": "5e2151f7-7293-452d-82f4-462ce54752f1"
      },
      "source": [
        "\n",
        "# axis=0 -> row -> so the result is placed in a row\n",
        "# (then it is a columns' sum)\n",
        "sum_array = np.sum(nparr,axis=0)\n",
        "print(sum_array)\n",
        "# axis=1 -> columns -> so the result is placed in a column\n",
        "# (then it is a row's sum:)\n",
        "sum_array = np.sum(nparr, axis = 1)\n",
        "print(sum_array)\n",
        "# axis=0 -> row -> so the result is placed in a row\n",
        "# (then it is a columns' sum)\n",
        "\n",
        "# axis=1 -> columns -> so the result is placed in a column\n",
        "# (then it is a row's sum:)"
      ],
      "execution_count": null,
      "outputs": [
        {
          "output_type": "stream",
          "name": "stdout",
          "text": [
            "[55 60 65 70 75]\n",
            "[ 15  40  65  90 115]\n"
          ]
        }
      ]
    },
    {
      "cell_type": "markdown",
      "metadata": {
        "id": "rfxf2izz1FGw"
      },
      "source": [
        "### 12. Get the standard diviation of the values in arr_2_d array"
      ]
    },
    {
      "cell_type": "code",
      "metadata": {
        "id": "om6NxGEH1F8k",
        "colab": {
          "base_uri": "https://localhost:8080/"
        },
        "outputId": "c37eac2a-2bdc-4980-d99d-b8d583582c74"
      },
      "source": [
        "std_dev = np.std(nparr)\n",
        "print(std_dev)"
      ],
      "execution_count": null,
      "outputs": [
        {
          "output_type": "stream",
          "name": "stdout",
          "text": [
            "7.211102550927978\n"
          ]
        }
      ]
    },
    {
      "cell_type": "code",
      "source": [
        "# Returning the exact same result as above\n",
        "print(std_dev)"
      ],
      "metadata": {
        "id": "bnICQsGXYbm7",
        "colab": {
          "base_uri": "https://localhost:8080/"
        },
        "outputId": "4c09a9cf-9043-46df-ca77-2629341872ae"
      },
      "execution_count": null,
      "outputs": [
        {
          "output_type": "stream",
          "name": "stdout",
          "text": [
            "7.211102550927978\n"
          ]
        }
      ]
    },
    {
      "cell_type": "markdown",
      "metadata": {
        "id": "uUFmB7et1ezJ"
      },
      "source": [
        "# CONDITIONAL SELECTION"
      ]
    },
    {
      "cell_type": "markdown",
      "metadata": {
        "id": "-W_rKpYA1kJr"
      },
      "source": [
        "### SUMMARY\n",
        "\n",
        "1. Get an array and perform a comparison operator on it; it will return a boolean array;\n",
        "2. Use that boolean array to index a conditional selection."
      ]
    },
    {
      "cell_type": "code",
      "metadata": {
        "id": "MvAI1M7F1kpU",
        "colab": {
          "base_uri": "https://localhost:8080/"
        },
        "outputId": "cc1fb3b5-cce6-4f2a-f4b0-eec9b844ab77"
      },
      "source": [
        "# Given that Array to test Conditional Selection\n",
        "arr = np.arange(1,11)\n",
        "print(arr)"
      ],
      "execution_count": null,
      "outputs": [
        {
          "output_type": "stream",
          "name": "stdout",
          "text": [
            "[ 1  2  3  4  5  6  7  8  9 10]\n"
          ]
        }
      ]
    },
    {
      "cell_type": "code",
      "metadata": {
        "id": "qmfpQJae1oLy",
        "colab": {
          "base_uri": "https://localhost:8080/"
        },
        "outputId": "d1a4f4ac-bbcb-40e0-8b7f-422fdde3d6ed"
      },
      "source": [
        "# Perform the comparison and grab the result (booleans array)\n",
        "bool_arr = arr < 5\n",
        "print(bool_arr)"
      ],
      "execution_count": null,
      "outputs": [
        {
          "output_type": "stream",
          "name": "stdout",
          "text": [
            "[ True  True  True  True False False False False False False]\n"
          ]
        }
      ]
    },
    {
      "cell_type": "code",
      "metadata": {
        "id": "orkXjA9z1qoh",
        "colab": {
          "base_uri": "https://localhost:8080/"
        },
        "outputId": "f9dd8f7b-8d4b-4617-c2a9-728d771b4e2e"
      },
      "source": [
        "# I can now use that booleans array to actualy index or **conditionally select** elements\n",
        "#  from the original array (arr); then only return instances where boolean array is true.\n",
        "result_arr = arr[bool_arr]\n",
        "print(result_arr)"
      ],
      "execution_count": null,
      "outputs": [
        {
          "output_type": "stream",
          "name": "stdout",
          "text": [
            "[1 2 3 4]\n"
          ]
        }
      ]
    },
    {
      "cell_type": "markdown",
      "metadata": {
        "id": "ZgZP1kSz1vOa"
      },
      "source": [
        "### In Just One line of code. Just Awesome!"
      ]
    },
    {
      "cell_type": "code",
      "metadata": {
        "id": "-4Qg1Wbq1vlC",
        "colab": {
          "base_uri": "https://localhost:8080/"
        },
        "outputId": "ba01f27f-b38c-49bd-84d1-1b7bffc03ebd"
      },
      "source": [
        "# Returning the same result as above\n",
        "result_arr = arr[arr<5]\n",
        "print(result_arr)"
      ],
      "execution_count": null,
      "outputs": [
        {
          "output_type": "stream",
          "name": "stdout",
          "text": [
            "[1 2 3 4]\n"
          ]
        }
      ]
    },
    {
      "cell_type": "markdown",
      "metadata": {
        "id": "cTfCIaC5177t"
      },
      "source": [
        "### Notes:\n",
        "\n",
        "Getting an array and using a comparison operator on it will actually return a boolean array (meaning an array of all boolean values).\n",
        "\n",
        "Then we can use that boolean array to actually index or conditionally select elements from the original array where this happened to true.\n",
        "\n",
        "So only return instances where that boolean array is true, and more commonly, instead of sorting of splitting this up into 2 steps, we would actually do this all in one step (see code above).\n",
        "\n",
        "We would say, an array, and in brackets, instead of the array, we would pass in the conditional statement (arr[arr<5]), and that would return the same answer as the 2-step method and this is the sort of syntax notation we're going to be using all the time as far as conditional selection is an issue.\n",
        "\n",
        "It's kind of weird to pass the variable itself as a parameter to the indexer brackets, but that's how it works!\n",
        "\n",
        "THIS IS THE SORT OF SYNTAX NOTATION YOU WOULD GET USED SPECIALLY WHEN WE MOVE ON TO PANDAS!"
      ]
    },
    {
      "cell_type": "markdown",
      "source": [
        "## Advanced Questions"
      ],
      "metadata": {
        "id": "9M5JG6S1ZL0e"
      }
    },
    {
      "cell_type": "markdown",
      "source": [
        "### 13. Declare a 8x8 matrix and fill it with a checkerboard (or chess) pattern."
      ],
      "metadata": {
        "id": "11amIBueZOZY"
      }
    },
    {
      "cell_type": "code",
      "source": [
        "nparr = np.zeros((8,8))\n",
        "nparr[0::2,0::2]=1\n",
        "nparr[1::2,1::2]=1\n",
        "print(nparr)"
      ],
      "metadata": {
        "colab": {
          "base_uri": "https://localhost:8080/"
        },
        "id": "IXWwpL1mQGVS",
        "outputId": "953d9f12-5aef-49c8-a539-e9ce190197d4"
      },
      "execution_count": null,
      "outputs": [
        {
          "output_type": "stream",
          "name": "stdout",
          "text": [
            "[[1. 0. 1. 0. 1. 0. 1. 0.]\n",
            " [0. 1. 0. 1. 0. 1. 0. 1.]\n",
            " [1. 0. 1. 0. 1. 0. 1. 0.]\n",
            " [0. 1. 0. 1. 0. 1. 0. 1.]\n",
            " [1. 0. 1. 0. 1. 0. 1. 0.]\n",
            " [0. 1. 0. 1. 0. 1. 0. 1.]\n",
            " [1. 0. 1. 0. 1. 0. 1. 0.]\n",
            " [0. 1. 0. 1. 0. 1. 0. 1.]]\n"
          ]
        }
      ]
    },
    {
      "cell_type": "code",
      "source": [],
      "metadata": {
        "id": "LjR0lnK_ZNXr"
      },
      "execution_count": null,
      "outputs": []
    },
    {
      "cell_type": "markdown",
      "source": [
        "### 14. Declare a 10x10 array with random values and find the minimum and maximum values."
      ],
      "metadata": {
        "id": "tmNGX1c6ZRxx"
      }
    },
    {
      "cell_type": "code",
      "source": [
        "from numpy import random\n",
        "nparr = random.rand(10,10)\n",
        "print(nparr)\n",
        "print(np.max(nparr))\n",
        "print(np.min(nparr))"
      ],
      "metadata": {
        "id": "Fx9enDeLZXYl",
        "colab": {
          "base_uri": "https://localhost:8080/"
        },
        "outputId": "265b6f95-804a-424c-b7de-7d23612f210e"
      },
      "execution_count": null,
      "outputs": [
        {
          "output_type": "stream",
          "name": "stdout",
          "text": [
            "[[0.40348374 0.29029367 0.58921702 0.25276794 0.29352319 0.86138697\n",
            "  0.7026914  0.01807794 0.96583287 0.608491  ]\n",
            " [0.70824611 0.89897911 0.47057379 0.96620465 0.9193518  0.0534231\n",
            "  0.75183729 0.31910394 0.35322751 0.43383599]\n",
            " [0.82663935 0.23146584 0.71549738 0.90604862 0.34437741 0.71024151\n",
            "  0.96351512 0.47970859 0.49825096 0.11445125]\n",
            " [0.13385899 0.50701224 0.08899741 0.1848924  0.87489358 0.25657862\n",
            "  0.73985943 0.69837365 0.06679745 0.07246309]\n",
            " [0.7306497  0.64013354 0.75376385 0.32056042 0.6423436  0.24493138\n",
            "  0.44808999 0.9811896  0.53112859 0.05658607]\n",
            " [0.46407479 0.87892936 0.56963351 0.66760297 0.03109978 0.23695396\n",
            "  0.37065272 0.14141125 0.048648   0.32344093]\n",
            " [0.18305494 0.90396116 0.24968087 0.98990593 0.19911532 0.13072763\n",
            "  0.23716571 0.15062038 0.75589528 0.64815993]\n",
            " [0.13160383 0.91903689 0.4650374  0.9453576  0.35229985 0.38204356\n",
            "  0.28895201 0.87123811 0.95684364 0.53781247]\n",
            " [0.44938871 0.86786776 0.26200278 0.55983173 0.75399628 0.48358481\n",
            "  0.06200054 0.82305203 0.27895829 0.18493554]\n",
            " [0.08002173 0.61512887 0.1379797  0.85216015 0.07877015 0.5365321\n",
            "  0.48242545 0.2032352  0.25630543 0.56953224]]\n",
            "0.9899059330048962\n",
            "0.018077941595883162\n"
          ]
        }
      ]
    },
    {
      "cell_type": "markdown",
      "source": [
        "### 15. Create a random 10x2 matrix. Considering each pair represents an (x,y) co-ordinate in 2-D, obtain a matrix which contains (r,theta) in polar co-ordinate system.\n",
        "\n"
      ],
      "metadata": {
        "id": "4kHMCyp0ZZAJ"
      }
    },
    {
      "cell_type": "code",
      "source": [
        "from numpy import random\n",
        "nparr = random.rand(10,2)\n",
        "print(nparr)\n",
        "pol_coord = np.zeros((10,2))\n",
        "pol_coord[:,0:1] = np.sqrt((nparr[:,0:1]**2 + nparr[:,1:2]**2))\n",
        "pol_coord[:,1:2] = np.tan(nparr[:,1:2]/nparr[:,0:1])\n",
        "print(pol_coord)\n"
      ],
      "metadata": {
        "id": "KjuZwDO_ZaEU",
        "colab": {
          "base_uri": "https://localhost:8080/"
        },
        "outputId": "e2aa4be1-59eb-488c-d83d-07c16cfc5244"
      },
      "execution_count": null,
      "outputs": [
        {
          "output_type": "stream",
          "name": "stdout",
          "text": [
            "[[0.91204202 0.45719373]\n",
            " [0.85922023 0.44003455]\n",
            " [0.59086869 0.62236824]\n",
            " [0.50123388 0.47737385]\n",
            " [0.90312013 0.2306337 ]\n",
            " [0.58148514 0.5060084 ]\n",
            " [0.05486354 0.1741429 ]\n",
            " [0.16096135 0.26624667]\n",
            " [0.65704162 0.44237307]\n",
            " [0.14873667 0.78528277]]\n",
            "[[  1.02021897   0.54797324]\n",
            " [  0.9653444    0.5621617 ]\n",
            " [  0.85817716   1.75676489]\n",
            " [  0.69218581   1.4054919 ]\n",
            " [  0.932104     0.26107458]\n",
            " [  0.77082389   1.18580611]\n",
            " [  0.18258083   0.03252855]\n",
            " [  0.31112031 -11.97604621]\n",
            " [  0.79208435   0.79760707]\n",
            " [  0.79924441  -1.56946438]]\n"
          ]
        }
      ]
    },
    {
      "cell_type": "markdown",
      "source": [
        "### 16. Multiply a 5x3 matrix by a 3x2 matrix (real matrix product)"
      ],
      "metadata": {
        "id": "D9zS4ibLZj56"
      }
    },
    {
      "cell_type": "code",
      "source": [
        "from numpy import random\n",
        "arr1 = random.rand(5,3)\n",
        "arr2 =random.rand(3,2)\n",
        "print(arr1)\n",
        "print(arr2)\n",
        "print(np.dot(arr1,arr2))"
      ],
      "metadata": {
        "id": "YGprtzjBZmf0",
        "colab": {
          "base_uri": "https://localhost:8080/"
        },
        "outputId": "cfce10e9-6d5b-4c54-dbac-7f6f08c57a2e"
      },
      "execution_count": null,
      "outputs": [
        {
          "output_type": "stream",
          "name": "stdout",
          "text": [
            "[[0.53403184 0.07417929 0.15161029]\n",
            " [0.0395619  0.94443948 0.57026724]\n",
            " [0.63437053 0.23694948 0.22598336]\n",
            " [0.87483803 0.81869486 0.93498856]\n",
            " [0.74413751 0.60842489 0.82114516]]\n",
            "[[0.06164853 0.97633893]\n",
            " [0.61541081 0.45255349]\n",
            " [0.07610021 0.43361571]]\n",
            "[[0.09011059 0.62070677]\n",
            " [0.62705465 0.71331204]\n",
            " [0.20212666 0.82458289]\n",
            " [0.62891897 1.63006736]\n",
            " [0.48279556 1.35793666]]\n"
          ]
        }
      ]
    },
    {
      "cell_type": "markdown",
      "source": [
        "## Broadcasting"
      ],
      "metadata": {
        "id": "aQF05wGvZv0I"
      }
    },
    {
      "cell_type": "markdown",
      "source": [
        "Numpy use a powerful idea called broadcasting. The best thing is that it is also simple to use. Example, we will execute the following in the cell below.\n",
        "```\n",
        "x = np.arange(4)\n",
        "print(x)\n",
        "y = x + 3\n",
        "print(y)\n",
        "```\n",
        "Did you notice how 3 got added to every element of x! This is refered to as broadcasting. The concept extends when you wish to add a vector to every row (or column) of a matrix."
      ],
      "metadata": {
        "id": "aGfbP1-oZqzq"
      }
    },
    {
      "cell_type": "code",
      "source": [
        "x = np.arange(4)\n",
        "print(x)\n",
        "y = x + 3\n",
        "print(y)"
      ],
      "metadata": {
        "id": "ZeC8lOWsZrI7",
        "colab": {
          "base_uri": "https://localhost:8080/"
        },
        "outputId": "272c1c0a-6cd1-40ba-e064-1f16889e2550"
      },
      "execution_count": null,
      "outputs": [
        {
          "output_type": "stream",
          "name": "stdout",
          "text": [
            "[0 1 2 3]\n",
            "[3 4 5 6]\n"
          ]
        }
      ]
    },
    {
      "cell_type": "markdown",
      "source": [
        "Can we demonstrate a computational time benefit of broadcasting? For this we will need to measure time. No worries, let's welcome the timeit package."
      ],
      "metadata": {
        "id": "em_C30voZ7H0"
      }
    },
    {
      "cell_type": "code",
      "source": [
        "# importing the required module\n",
        "import timeit\n",
        "\n",
        "# code snippet to be executed only once\n",
        "test_setup = \"import numpy as np\"\n",
        "\n",
        "# code snippet to be executed only once\n",
        "test_code_1 = '''\n",
        "def example_function():\n",
        "    return np.arange(1000)\n",
        "'''\n",
        "num_runs = 1000\n",
        "time_elapsed = timeit.timeit(setup=test_setup, stmt = test_code_1, number=num_runs)\n",
        "print('Time taken: ' + str(time_elapsed/num_runs))"
      ],
      "metadata": {
        "id": "yG3VVQ2VZ7cQ",
        "colab": {
          "base_uri": "https://localhost:8080/"
        },
        "outputId": "78dbb23e-f093-4457-e443-85b102b1574d"
      },
      "execution_count": null,
      "outputs": [
        {
          "output_type": "stream",
          "name": "stdout",
          "text": [
            "Time taken: 1.8600400017021456e-07\n"
          ]
        }
      ]
    },
    {
      "cell_type": "markdown",
      "source": [
        "A bottlenecks in code is loops, this holds especially for python code. Compared to languages like C/C++ , Python loops are relatively slower. One reason for this is the dynamically typed nature of Python.\n",
        "\n",
        "Python interpreter first goes line-by-line through the code, compiles the code into bytecode, which is then executed to run the program. Let's consider the code contains a section where it has to loop over a list. Being dynamically typed, Python has no idea what type of objects are present in the list (whether it's an integer, a string or a float). Further, this information is basically stored in every object itself, and Python can not know this in advance before actually going through the list. Hence, at each iteration python has to perform a bunch of checks every iteration like determining the type of variable, resolving it's scope, checking for any invalid operations etc.\n",
        "\n",
        "Contrasting this with C, arrays are allowed to be consisting of only one data type, which the compiler knows well ahead of time. This opens up possibility of many optimizations which are not possible in Python. For this reason, loops in python are often much slower than in C, and nested loops is where things can really get slow."
      ],
      "metadata": {
        "id": "CZDIakVraF0R"
      }
    },
    {
      "cell_type": "markdown",
      "source": [
        "### 17. In the below cell, define two random vectors x and y, each of size (1000x1). Do an elementwise multiplication of these vectors to get a new vector z. Try two approaches for this: (a) writing a function which uses a loop, (b) writing a function which the \"star\" numpy operator. Print the time for approach (a) and (b)."
      ],
      "metadata": {
        "id": "iQMahDMIaQgF"
      }
    },
    {
      "cell_type": "code",
      "source": [
        "import timeit\n",
        "from numpy import random\n",
        "test_setup = \"import numpy as np\"\n",
        "x = random.rand(1000,1)\n",
        "y = random.rand(1000,1)\n",
        "z = np.zeros((1000,1))\n",
        "def function1():\n",
        "  for i in range(1000):\n",
        "    z[i]=x[i]*y[i]\n",
        "  return z\n",
        "\n",
        "start = timeit.default_timer()\n",
        "function1()\n",
        "end = timeit.default_timer()\n",
        "time1 = end- start\n",
        "print(time1)\n",
        "\n",
        "\n",
        "z = np.zeros((1000,1))\n",
        "def function():\n",
        "  z=x*y\n",
        "  return z\n",
        "start = timeit.default_timer()\n",
        "function()\n",
        "end = timeit.default_timer()\n",
        "time2 = end- start\n",
        "print(time2)\n"
      ],
      "metadata": {
        "id": "MKbaayVzaE8x",
        "colab": {
          "base_uri": "https://localhost:8080/"
        },
        "outputId": "68bd0dff-fc56-46e8-f6ce-cc8118cb7867"
      },
      "execution_count": null,
      "outputs": [
        {
          "output_type": "stream",
          "name": "stdout",
          "text": [
            "0.0026655219999156543\n",
            "9.952999971574172e-05\n"
          ]
        }
      ]
    },
    {
      "cell_type": "markdown",
      "source": [
        "# Bonus Question"
      ],
      "metadata": {
        "id": "4-lwm_mrag6f"
      }
    },
    {
      "cell_type": "markdown",
      "source": [
        "### 18. Create a 2-D grid between (-10,10) in x-axis and (-10,10) in y-axis, with step size of .01. Generate a 2-D gaussian function on this grid, with mean = (0,0), and co-variance being an identity matrix. Plot the 2-D Gaussian using plot3D() function."
      ],
      "metadata": {
        "id": "LtYkO8mSaSr2"
      }
    },
    {
      "cell_type": "code",
      "source": [],
      "metadata": {
        "id": "i4p24HCMafpd"
      },
      "execution_count": null,
      "outputs": []
    }
  ]
}